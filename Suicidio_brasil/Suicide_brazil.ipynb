{
 "cells": [
  {
   "cell_type": "markdown",
   "id": "f2cbc14e",
   "metadata": {},
   "source": [
    "# Série histórica de suicídios no Brasil entre 2010 e 2019\n",
    "\n",
    "\"Diversos dados sobre suicídios foram reunidos em uma série histórica baseando-se nos dados provenientes do DATASUS. Mais especificamente, a base de dados do Sistema de Informação sobre Mortalidade (SIM) foi utilizada para extração de dados a partir do pacote PySUS.\n",
    "\n",
    "Para selecionar apenas os casos de suicídio, a variável CAUSABAS ou CAUSABAS_O (ambas retratando causa básica da morte) deveriam possuir valores da Classificação Internacional de Doenças (CID) entre X600 e X850. Essa faixa de casos do CID englobaria lesões autoprovocadas.\"\n",
    "\n",
    "FONTE: <a href=\"https://www.kaggle.com/psicodata/dados-de-suicidios-entre-2010-e-2019\">PsicoData</a>\n",
    "\n",
    "\n",
    "### Variáveis\n",
    "* <b>DTOBITO:</b> data do óbito.\n",
    "* <b>DTNASC:</b> data de nascimento.\n",
    "* <b>SEXO:</b> sexo. 1 : Masculino, 2 : Feminino.\n",
    "* <b>RACACOR:</b> raça. 1 : Branca, 2 : Preta, 3 : Amarela, 4 : Parda, 5 : Indígena.\n",
    "* <b>ESTCIV:</b> estado civil. 1 : Solteiro, 2 : Casado, 3 : Viúvo, 4 : Separado judicialmente, 5 : União consensual.\n",
    "* <b>ESC:</b> escolaridade. 1 : Nenhuma, 2: 1 a 3 anos, 3 : 4 a 7 anos, 4 : 8 a 11 anos, 5 : 12 e mais, 8 : De 9 a 11 anos.\n",
    "* <b>OCUP:</b> ocupação. Para óbitos a partir de 2006, segue-se a tabela CBO2002.\n",
    "* <b>CODMUNRES:</b> município de residência do falecido (codificado).\n",
    "* <b>LOCOCOR:</b> Local de ocorrência do óbito. 1 : Hospital, 2 : Outro estabelecimento de saúde, 3 : Domicílio, 4 : Via pública, 5 :</b> Outros, 9 : NA.\n",
    "* <b>ASSISTMED:</b> Assistência médica. 1 : Sim, 2 : Não, 9 : NA.\n",
    "* <b>CAUSABAS:</b> Causa básica do óbito. Código CID-10.\n",
    "* <b>CAUSABAS_O:</b> Causa básica do óbito. Código CID-10."
   ]
  },
  {
   "cell_type": "code",
   "execution_count": 50,
   "id": "5c16798a",
   "metadata": {},
   "outputs": [],
   "source": [
    "import pandas as pd\n",
    "\n",
    "\n",
    "import plotly.express as px\n",
    "\n",
    "import matplotlib.pyplot as plt\n",
    "import matplotlib.dates\n",
    "\n",
    "import json\n",
    "\n",
    "from wordcloud import WordCloud, STOPWORDS\n",
    "from PIL import Image\n",
    "\n",
    "import numpy as np"
   ]
  },
  {
   "cell_type": "code",
   "execution_count": 51,
   "id": "78b0cc44",
   "metadata": {},
   "outputs": [
    {
     "name": "stderr",
     "output_type": "stream",
     "text": [
      "/home/felipe/miniconda3/envs/estudos/lib/python3.9/site-packages/IPython/core/interactiveshell.py:3441: DtypeWarning:\n",
      "\n",
      "Columns (9) have mixed types.Specify dtype option on import or set low_memory=False.\n",
      "\n"
     ]
    }
   ],
   "source": [
    "df = pd.read_csv(\"suicidios_2010_a_2019.csv\")"
   ]
  },
  {
   "cell_type": "code",
   "execution_count": 52,
   "id": "f8863fa9",
   "metadata": {},
   "outputs": [],
   "source": [
    "df.drop('Unnamed: 0', axis=1, inplace=True) #retirando coluna unnmamed"
   ]
  },
  {
   "cell_type": "code",
   "execution_count": 53,
   "id": "1f5d4c71",
   "metadata": {},
   "outputs": [
    {
     "data": {
      "text/html": [
       "<div>\n",
       "<style scoped>\n",
       "    .dataframe tbody tr th:only-of-type {\n",
       "        vertical-align: middle;\n",
       "    }\n",
       "\n",
       "    .dataframe tbody tr th {\n",
       "        vertical-align: top;\n",
       "    }\n",
       "\n",
       "    .dataframe thead th {\n",
       "        text-align: right;\n",
       "    }\n",
       "</style>\n",
       "<table border=\"1\" class=\"dataframe\">\n",
       "  <thead>\n",
       "    <tr style=\"text-align: right;\">\n",
       "      <th></th>\n",
       "      <th>estado</th>\n",
       "      <th>ano</th>\n",
       "      <th>mes</th>\n",
       "      <th>DTOBITO</th>\n",
       "      <th>DTNASC</th>\n",
       "      <th>SEXO</th>\n",
       "      <th>RACACOR</th>\n",
       "      <th>ASSISTMED</th>\n",
       "      <th>ESCMAE</th>\n",
       "      <th>ESTCIV</th>\n",
       "      <th>ESC</th>\n",
       "      <th>OCUP</th>\n",
       "      <th>CODMUNRES</th>\n",
       "      <th>CAUSABAS</th>\n",
       "      <th>CAUSABAS_O</th>\n",
       "      <th>LOCOCOR</th>\n",
       "      <th>CIRURGIA</th>\n",
       "    </tr>\n",
       "  </thead>\n",
       "  <tbody>\n",
       "    <tr>\n",
       "      <th>0</th>\n",
       "      <td>AC</td>\n",
       "      <td>2010</td>\n",
       "      <td>1</td>\n",
       "      <td>2010-01-31</td>\n",
       "      <td>1999-11-09</td>\n",
       "      <td>Masculino</td>\n",
       "      <td>Parda</td>\n",
       "      <td>NaN</td>\n",
       "      <td>NaN</td>\n",
       "      <td>Solteiro/a</td>\n",
       "      <td>1 a 3 anos</td>\n",
       "      <td>ESTUDANTE</td>\n",
       "      <td>Tarauacá</td>\n",
       "      <td>X780</td>\n",
       "      <td>X780</td>\n",
       "      <td>Via pública</td>\n",
       "      <td>Não</td>\n",
       "    </tr>\n",
       "    <tr>\n",
       "      <th>1</th>\n",
       "      <td>AC</td>\n",
       "      <td>2010</td>\n",
       "      <td>2</td>\n",
       "      <td>2010-02-07</td>\n",
       "      <td>1985-09-23</td>\n",
       "      <td>Masculino</td>\n",
       "      <td>Parda</td>\n",
       "      <td>NaN</td>\n",
       "      <td>NaN</td>\n",
       "      <td>Solteiro/a</td>\n",
       "      <td>1 a 3 anos</td>\n",
       "      <td>ESTUDANTE</td>\n",
       "      <td>Tarauacá</td>\n",
       "      <td>X780</td>\n",
       "      <td>X780</td>\n",
       "      <td>Hospital</td>\n",
       "      <td>Não</td>\n",
       "    </tr>\n",
       "    <tr>\n",
       "      <th>2</th>\n",
       "      <td>AC</td>\n",
       "      <td>2010</td>\n",
       "      <td>2</td>\n",
       "      <td>2010-02-19</td>\n",
       "      <td>1995-08-06</td>\n",
       "      <td>Masculino</td>\n",
       "      <td>Parda</td>\n",
       "      <td>NaN</td>\n",
       "      <td>NaN</td>\n",
       "      <td>Solteiro/a</td>\n",
       "      <td>1 a 3 anos</td>\n",
       "      <td>ESTUDANTE</td>\n",
       "      <td>Tarauacá</td>\n",
       "      <td>X780</td>\n",
       "      <td>X780</td>\n",
       "      <td>Hospital</td>\n",
       "      <td>Não</td>\n",
       "    </tr>\n",
       "    <tr>\n",
       "      <th>3</th>\n",
       "      <td>AC</td>\n",
       "      <td>2010</td>\n",
       "      <td>4</td>\n",
       "      <td>2010-04-20</td>\n",
       "      <td>1983-12-25</td>\n",
       "      <td>Feminino</td>\n",
       "      <td>Parda</td>\n",
       "      <td>NaN</td>\n",
       "      <td>NaN</td>\n",
       "      <td>Casado/a</td>\n",
       "      <td>1 a 3 anos</td>\n",
       "      <td>DONA DE CASA</td>\n",
       "      <td>Tarauacá</td>\n",
       "      <td>X780</td>\n",
       "      <td>X780</td>\n",
       "      <td>Domicílio</td>\n",
       "      <td>Não</td>\n",
       "    </tr>\n",
       "    <tr>\n",
       "      <th>4</th>\n",
       "      <td>AC</td>\n",
       "      <td>2010</td>\n",
       "      <td>7</td>\n",
       "      <td>2010-07-24</td>\n",
       "      <td>1982-05-13</td>\n",
       "      <td>Masculino</td>\n",
       "      <td>Parda</td>\n",
       "      <td>NaN</td>\n",
       "      <td>NaN</td>\n",
       "      <td>Casado/a</td>\n",
       "      <td>NaN</td>\n",
       "      <td>DONA DE CASA</td>\n",
       "      <td>Tarauacá</td>\n",
       "      <td>X720</td>\n",
       "      <td>X720</td>\n",
       "      <td>Domicílio</td>\n",
       "      <td>Não</td>\n",
       "    </tr>\n",
       "  </tbody>\n",
       "</table>\n",
       "</div>"
      ],
      "text/plain": [
       "  estado   ano  mes     DTOBITO      DTNASC       SEXO RACACOR ASSISTMED  \\\n",
       "0     AC  2010    1  2010-01-31  1999-11-09  Masculino   Parda       NaN   \n",
       "1     AC  2010    2  2010-02-07  1985-09-23  Masculino   Parda       NaN   \n",
       "2     AC  2010    2  2010-02-19  1995-08-06  Masculino   Parda       NaN   \n",
       "3     AC  2010    4  2010-04-20  1983-12-25   Feminino   Parda       NaN   \n",
       "4     AC  2010    7  2010-07-24  1982-05-13  Masculino   Parda       NaN   \n",
       "\n",
       "  ESCMAE      ESTCIV         ESC          OCUP CODMUNRES CAUSABAS CAUSABAS_O  \\\n",
       "0    NaN  Solteiro/a  1 a 3 anos     ESTUDANTE  Tarauacá     X780       X780   \n",
       "1    NaN  Solteiro/a  1 a 3 anos     ESTUDANTE  Tarauacá     X780       X780   \n",
       "2    NaN  Solteiro/a  1 a 3 anos     ESTUDANTE  Tarauacá     X780       X780   \n",
       "3    NaN    Casado/a  1 a 3 anos  DONA DE CASA  Tarauacá     X780       X780   \n",
       "4    NaN    Casado/a         NaN  DONA DE CASA  Tarauacá     X720       X720   \n",
       "\n",
       "       LOCOCOR CIRURGIA  \n",
       "0  Via pública      Não  \n",
       "1     Hospital      Não  \n",
       "2     Hospital      Não  \n",
       "3    Domicílio      Não  \n",
       "4    Domicílio      Não  "
      ]
     },
     "execution_count": 53,
     "metadata": {},
     "output_type": "execute_result"
    }
   ],
   "source": [
    "df.head()"
   ]
  },
  {
   "cell_type": "code",
   "execution_count": 54,
   "id": "31099e4b",
   "metadata": {},
   "outputs": [
    {
     "data": {
      "text/plain": [
       "(112491, 17)"
      ]
     },
     "execution_count": 54,
     "metadata": {},
     "output_type": "execute_result"
    }
   ],
   "source": [
    "df.shape"
   ]
  },
  {
   "cell_type": "code",
   "execution_count": 55,
   "id": "52457ee3",
   "metadata": {},
   "outputs": [
    {
     "data": {
      "text/plain": [
       "Index(['estado', 'ano', 'mes', 'DTOBITO', 'DTNASC', 'SEXO', 'RACACOR',\n",
       "       'ASSISTMED', 'ESCMAE', 'ESTCIV', 'ESC', 'OCUP', 'CODMUNRES', 'CAUSABAS',\n",
       "       'CAUSABAS_O', 'LOCOCOR', 'CIRURGIA'],\n",
       "      dtype='object')"
      ]
     },
     "execution_count": 55,
     "metadata": {},
     "output_type": "execute_result"
    }
   ],
   "source": [
    "df.columns"
   ]
  },
  {
   "cell_type": "code",
   "execution_count": 56,
   "id": "8ee8a641",
   "metadata": {},
   "outputs": [
    {
     "data": {
      "text/plain": [
       "estado        object\n",
       "ano            int64\n",
       "mes            int64\n",
       "DTOBITO       object\n",
       "DTNASC        object\n",
       "SEXO          object\n",
       "RACACOR       object\n",
       "ASSISTMED     object\n",
       "ESCMAE        object\n",
       "ESTCIV        object\n",
       "ESC           object\n",
       "OCUP          object\n",
       "CODMUNRES     object\n",
       "CAUSABAS      object\n",
       "CAUSABAS_O    object\n",
       "LOCOCOR       object\n",
       "CIRURGIA      object\n",
       "dtype: object"
      ]
     },
     "execution_count": 56,
     "metadata": {},
     "output_type": "execute_result"
    }
   ],
   "source": [
    "df.dtypes"
   ]
  },
  {
   "cell_type": "code",
   "execution_count": 57,
   "id": "a6342060",
   "metadata": {},
   "outputs": [
    {
     "data": {
      "text/plain": [
       "estado             0\n",
       "ano                0\n",
       "mes                0\n",
       "DTOBITO            0\n",
       "DTNASC         10858\n",
       "SEXO              22\n",
       "RACACOR         3171\n",
       "ASSISTMED      41804\n",
       "ESCMAE        112476\n",
       "ESTCIV          8700\n",
       "ESC            28164\n",
       "OCUP           52217\n",
       "CODMUNRES          0\n",
       "CAUSABAS           0\n",
       "CAUSABAS_O       287\n",
       "LOCOCOR          460\n",
       "CIRURGIA      103942\n",
       "dtype: int64"
      ]
     },
     "execution_count": 57,
     "metadata": {},
     "output_type": "execute_result"
    }
   ],
   "source": [
    "df.isnull().sum()"
   ]
  },
  {
   "cell_type": "code",
   "execution_count": 58,
   "id": "37e396c0",
   "metadata": {},
   "outputs": [],
   "source": [
    "df.drop([\"CIRURGIA\",'ESCMAE' ], axis=1, inplace=True)"
   ]
  },
  {
   "cell_type": "code",
   "execution_count": 59,
   "id": "fc663e8b",
   "metadata": {},
   "outputs": [
    {
     "data": {
      "text/html": [
       "<div>\n",
       "<style scoped>\n",
       "    .dataframe tbody tr th:only-of-type {\n",
       "        vertical-align: middle;\n",
       "    }\n",
       "\n",
       "    .dataframe tbody tr th {\n",
       "        vertical-align: top;\n",
       "    }\n",
       "\n",
       "    .dataframe thead th {\n",
       "        text-align: right;\n",
       "    }\n",
       "</style>\n",
       "<table border=\"1\" class=\"dataframe\">\n",
       "  <thead>\n",
       "    <tr style=\"text-align: right;\">\n",
       "      <th></th>\n",
       "      <th>estado</th>\n",
       "      <th>ano</th>\n",
       "      <th>mes</th>\n",
       "      <th>DTOBITO</th>\n",
       "      <th>DTNASC</th>\n",
       "      <th>SEXO</th>\n",
       "      <th>RACACOR</th>\n",
       "      <th>ASSISTMED</th>\n",
       "      <th>ESTCIV</th>\n",
       "      <th>ESC</th>\n",
       "      <th>OCUP</th>\n",
       "      <th>CODMUNRES</th>\n",
       "      <th>CAUSABAS</th>\n",
       "      <th>CAUSABAS_O</th>\n",
       "      <th>LOCOCOR</th>\n",
       "    </tr>\n",
       "  </thead>\n",
       "  <tbody>\n",
       "    <tr>\n",
       "      <th>0</th>\n",
       "      <td>AC</td>\n",
       "      <td>2010</td>\n",
       "      <td>1</td>\n",
       "      <td>2010-01-31</td>\n",
       "      <td>1999-11-09</td>\n",
       "      <td>Masculino</td>\n",
       "      <td>Parda</td>\n",
       "      <td>n)inf</td>\n",
       "      <td>Solteiro/a</td>\n",
       "      <td>1 a 3 anos</td>\n",
       "      <td>ESTUDANTE</td>\n",
       "      <td>Tarauacá</td>\n",
       "      <td>X780</td>\n",
       "      <td>X780</td>\n",
       "      <td>Via pública</td>\n",
       "    </tr>\n",
       "    <tr>\n",
       "      <th>1</th>\n",
       "      <td>AC</td>\n",
       "      <td>2010</td>\n",
       "      <td>2</td>\n",
       "      <td>2010-02-07</td>\n",
       "      <td>1985-09-23</td>\n",
       "      <td>Masculino</td>\n",
       "      <td>Parda</td>\n",
       "      <td>n)inf</td>\n",
       "      <td>Solteiro/a</td>\n",
       "      <td>1 a 3 anos</td>\n",
       "      <td>ESTUDANTE</td>\n",
       "      <td>Tarauacá</td>\n",
       "      <td>X780</td>\n",
       "      <td>X780</td>\n",
       "      <td>Hospital</td>\n",
       "    </tr>\n",
       "    <tr>\n",
       "      <th>2</th>\n",
       "      <td>AC</td>\n",
       "      <td>2010</td>\n",
       "      <td>2</td>\n",
       "      <td>2010-02-19</td>\n",
       "      <td>1995-08-06</td>\n",
       "      <td>Masculino</td>\n",
       "      <td>Parda</td>\n",
       "      <td>n)inf</td>\n",
       "      <td>Solteiro/a</td>\n",
       "      <td>1 a 3 anos</td>\n",
       "      <td>ESTUDANTE</td>\n",
       "      <td>Tarauacá</td>\n",
       "      <td>X780</td>\n",
       "      <td>X780</td>\n",
       "      <td>Hospital</td>\n",
       "    </tr>\n",
       "    <tr>\n",
       "      <th>3</th>\n",
       "      <td>AC</td>\n",
       "      <td>2010</td>\n",
       "      <td>4</td>\n",
       "      <td>2010-04-20</td>\n",
       "      <td>1983-12-25</td>\n",
       "      <td>Feminino</td>\n",
       "      <td>Parda</td>\n",
       "      <td>n)inf</td>\n",
       "      <td>Casado/a</td>\n",
       "      <td>1 a 3 anos</td>\n",
       "      <td>DONA DE CASA</td>\n",
       "      <td>Tarauacá</td>\n",
       "      <td>X780</td>\n",
       "      <td>X780</td>\n",
       "      <td>Domicílio</td>\n",
       "    </tr>\n",
       "    <tr>\n",
       "      <th>4</th>\n",
       "      <td>AC</td>\n",
       "      <td>2010</td>\n",
       "      <td>7</td>\n",
       "      <td>2010-07-24</td>\n",
       "      <td>1982-05-13</td>\n",
       "      <td>Masculino</td>\n",
       "      <td>Parda</td>\n",
       "      <td>n)inf</td>\n",
       "      <td>Casado/a</td>\n",
       "      <td>n)inf</td>\n",
       "      <td>DONA DE CASA</td>\n",
       "      <td>Tarauacá</td>\n",
       "      <td>X720</td>\n",
       "      <td>X720</td>\n",
       "      <td>Domicílio</td>\n",
       "    </tr>\n",
       "    <tr>\n",
       "      <th>...</th>\n",
       "      <td>...</td>\n",
       "      <td>...</td>\n",
       "      <td>...</td>\n",
       "      <td>...</td>\n",
       "      <td>...</td>\n",
       "      <td>...</td>\n",
       "      <td>...</td>\n",
       "      <td>...</td>\n",
       "      <td>...</td>\n",
       "      <td>...</td>\n",
       "      <td>...</td>\n",
       "      <td>...</td>\n",
       "      <td>...</td>\n",
       "      <td>...</td>\n",
       "      <td>...</td>\n",
       "    </tr>\n",
       "    <tr>\n",
       "      <th>112486</th>\n",
       "      <td>TO</td>\n",
       "      <td>2019</td>\n",
       "      <td>9</td>\n",
       "      <td>2019-09-14</td>\n",
       "      <td>1991-08-10</td>\n",
       "      <td>Feminino</td>\n",
       "      <td>Parda</td>\n",
       "      <td>Sim</td>\n",
       "      <td>Solteiro/a</td>\n",
       "      <td>4 a 7 anos</td>\n",
       "      <td>COZINHEIRO GERAL</td>\n",
       "      <td>Colinas do Tocantins</td>\n",
       "      <td>X700</td>\n",
       "      <td>X700</td>\n",
       "      <td>Outros</td>\n",
       "    </tr>\n",
       "    <tr>\n",
       "      <th>112487</th>\n",
       "      <td>TO</td>\n",
       "      <td>2019</td>\n",
       "      <td>9</td>\n",
       "      <td>2019-09-26</td>\n",
       "      <td>1967-02-17</td>\n",
       "      <td>Feminino</td>\n",
       "      <td>Parda</td>\n",
       "      <td>n)inf</td>\n",
       "      <td>Solteiro/a</td>\n",
       "      <td>4 a 7 anos</td>\n",
       "      <td>DONA DE CASA</td>\n",
       "      <td>Santa fé do Araguaia</td>\n",
       "      <td>X700</td>\n",
       "      <td>X700</td>\n",
       "      <td>Domicílio</td>\n",
       "    </tr>\n",
       "    <tr>\n",
       "      <th>112488</th>\n",
       "      <td>TO</td>\n",
       "      <td>2019</td>\n",
       "      <td>8</td>\n",
       "      <td>2019-08-07</td>\n",
       "      <td>1977-07-20</td>\n",
       "      <td>Masculino</td>\n",
       "      <td>Branca</td>\n",
       "      <td>Não</td>\n",
       "      <td>Casado/a</td>\n",
       "      <td>8 a 11 anos</td>\n",
       "      <td>COPEIRO</td>\n",
       "      <td>Araguaína</td>\n",
       "      <td>X700</td>\n",
       "      <td>X700</td>\n",
       "      <td>Domicílio</td>\n",
       "    </tr>\n",
       "    <tr>\n",
       "      <th>112489</th>\n",
       "      <td>TO</td>\n",
       "      <td>2019</td>\n",
       "      <td>10</td>\n",
       "      <td>2019-10-04</td>\n",
       "      <td>1978-05-03</td>\n",
       "      <td>Masculino</td>\n",
       "      <td>Parda</td>\n",
       "      <td>Sim</td>\n",
       "      <td>Casado/a</td>\n",
       "      <td>n)inf</td>\n",
       "      <td>n)inf</td>\n",
       "      <td>Divinópolis do Tocantins</td>\n",
       "      <td>X729</td>\n",
       "      <td>X729</td>\n",
       "      <td>Hospital</td>\n",
       "    </tr>\n",
       "    <tr>\n",
       "      <th>112490</th>\n",
       "      <td>TO</td>\n",
       "      <td>2019</td>\n",
       "      <td>9</td>\n",
       "      <td>2019-09-27</td>\n",
       "      <td>1975-06-12</td>\n",
       "      <td>Masculino</td>\n",
       "      <td>Parda</td>\n",
       "      <td>Sim</td>\n",
       "      <td>Solteiro/a</td>\n",
       "      <td>1 a 3 anos</td>\n",
       "      <td>IGNORADA</td>\n",
       "      <td>Augustinópolis</td>\n",
       "      <td>X700</td>\n",
       "      <td>X700</td>\n",
       "      <td>Domicílio</td>\n",
       "    </tr>\n",
       "  </tbody>\n",
       "</table>\n",
       "<p>112491 rows × 15 columns</p>\n",
       "</div>"
      ],
      "text/plain": [
       "       estado   ano  mes     DTOBITO      DTNASC       SEXO RACACOR ASSISTMED  \\\n",
       "0          AC  2010    1  2010-01-31  1999-11-09  Masculino   Parda     n)inf   \n",
       "1          AC  2010    2  2010-02-07  1985-09-23  Masculino   Parda     n)inf   \n",
       "2          AC  2010    2  2010-02-19  1995-08-06  Masculino   Parda     n)inf   \n",
       "3          AC  2010    4  2010-04-20  1983-12-25   Feminino   Parda     n)inf   \n",
       "4          AC  2010    7  2010-07-24  1982-05-13  Masculino   Parda     n)inf   \n",
       "...       ...   ...  ...         ...         ...        ...     ...       ...   \n",
       "112486     TO  2019    9  2019-09-14  1991-08-10   Feminino   Parda       Sim   \n",
       "112487     TO  2019    9  2019-09-26  1967-02-17   Feminino   Parda     n)inf   \n",
       "112488     TO  2019    8  2019-08-07  1977-07-20  Masculino  Branca       Não   \n",
       "112489     TO  2019   10  2019-10-04  1978-05-03  Masculino   Parda       Sim   \n",
       "112490     TO  2019    9  2019-09-27  1975-06-12  Masculino   Parda       Sim   \n",
       "\n",
       "            ESTCIV          ESC              OCUP                 CODMUNRES  \\\n",
       "0       Solteiro/a   1 a 3 anos         ESTUDANTE                  Tarauacá   \n",
       "1       Solteiro/a   1 a 3 anos         ESTUDANTE                  Tarauacá   \n",
       "2       Solteiro/a   1 a 3 anos         ESTUDANTE                  Tarauacá   \n",
       "3         Casado/a   1 a 3 anos      DONA DE CASA                  Tarauacá   \n",
       "4         Casado/a        n)inf      DONA DE CASA                  Tarauacá   \n",
       "...            ...          ...               ...                       ...   \n",
       "112486  Solteiro/a   4 a 7 anos  COZINHEIRO GERAL      Colinas do Tocantins   \n",
       "112487  Solteiro/a   4 a 7 anos      DONA DE CASA      Santa fé do Araguaia   \n",
       "112488    Casado/a  8 a 11 anos           COPEIRO                 Araguaína   \n",
       "112489    Casado/a        n)inf             n)inf  Divinópolis do Tocantins   \n",
       "112490  Solteiro/a   1 a 3 anos          IGNORADA            Augustinópolis   \n",
       "\n",
       "       CAUSABAS CAUSABAS_O      LOCOCOR  \n",
       "0          X780       X780  Via pública  \n",
       "1          X780       X780     Hospital  \n",
       "2          X780       X780     Hospital  \n",
       "3          X780       X780    Domicílio  \n",
       "4          X720       X720    Domicílio  \n",
       "...         ...        ...          ...  \n",
       "112486     X700       X700       Outros  \n",
       "112487     X700       X700    Domicílio  \n",
       "112488     X700       X700    Domicílio  \n",
       "112489     X729       X729     Hospital  \n",
       "112490     X700       X700    Domicílio  \n",
       "\n",
       "[112491 rows x 15 columns]"
      ]
     },
     "execution_count": 59,
     "metadata": {},
     "output_type": "execute_result"
    }
   ],
   "source": [
    "df.fillna(\"n)inf\")"
   ]
  },
  {
   "cell_type": "code",
   "execution_count": 60,
   "id": "15edb5d2",
   "metadata": {},
   "outputs": [
    {
     "data": {
      "text/html": [
       "<div>\n",
       "<style scoped>\n",
       "    .dataframe tbody tr th:only-of-type {\n",
       "        vertical-align: middle;\n",
       "    }\n",
       "\n",
       "    .dataframe tbody tr th {\n",
       "        vertical-align: top;\n",
       "    }\n",
       "\n",
       "    .dataframe thead th {\n",
       "        text-align: right;\n",
       "    }\n",
       "</style>\n",
       "<table border=\"1\" class=\"dataframe\">\n",
       "  <thead>\n",
       "    <tr style=\"text-align: right;\">\n",
       "      <th></th>\n",
       "      <th>estado</th>\n",
       "      <th>ano</th>\n",
       "      <th>mes</th>\n",
       "      <th>DTOBITO</th>\n",
       "      <th>DTNASC</th>\n",
       "      <th>SEXO</th>\n",
       "      <th>RACACOR</th>\n",
       "      <th>ASSISTMED</th>\n",
       "      <th>ESTCIV</th>\n",
       "      <th>ESC</th>\n",
       "      <th>OCUP</th>\n",
       "      <th>CODMUNRES</th>\n",
       "      <th>CAUSABAS</th>\n",
       "      <th>CAUSABAS_O</th>\n",
       "      <th>LOCOCOR</th>\n",
       "    </tr>\n",
       "  </thead>\n",
       "  <tbody>\n",
       "    <tr>\n",
       "      <th>0</th>\n",
       "      <td>AC</td>\n",
       "      <td>2010</td>\n",
       "      <td>1</td>\n",
       "      <td>2010-01-31</td>\n",
       "      <td>1999-11-09</td>\n",
       "      <td>Masculino</td>\n",
       "      <td>Parda</td>\n",
       "      <td>NaN</td>\n",
       "      <td>Solteiro/a</td>\n",
       "      <td>1 a 3 anos</td>\n",
       "      <td>ESTUDANTE</td>\n",
       "      <td>Tarauacá</td>\n",
       "      <td>X780</td>\n",
       "      <td>X780</td>\n",
       "      <td>Via pública</td>\n",
       "    </tr>\n",
       "    <tr>\n",
       "      <th>1</th>\n",
       "      <td>AC</td>\n",
       "      <td>2010</td>\n",
       "      <td>2</td>\n",
       "      <td>2010-02-07</td>\n",
       "      <td>1985-09-23</td>\n",
       "      <td>Masculino</td>\n",
       "      <td>Parda</td>\n",
       "      <td>NaN</td>\n",
       "      <td>Solteiro/a</td>\n",
       "      <td>1 a 3 anos</td>\n",
       "      <td>ESTUDANTE</td>\n",
       "      <td>Tarauacá</td>\n",
       "      <td>X780</td>\n",
       "      <td>X780</td>\n",
       "      <td>Hospital</td>\n",
       "    </tr>\n",
       "    <tr>\n",
       "      <th>2</th>\n",
       "      <td>AC</td>\n",
       "      <td>2010</td>\n",
       "      <td>2</td>\n",
       "      <td>2010-02-19</td>\n",
       "      <td>1995-08-06</td>\n",
       "      <td>Masculino</td>\n",
       "      <td>Parda</td>\n",
       "      <td>NaN</td>\n",
       "      <td>Solteiro/a</td>\n",
       "      <td>1 a 3 anos</td>\n",
       "      <td>ESTUDANTE</td>\n",
       "      <td>Tarauacá</td>\n",
       "      <td>X780</td>\n",
       "      <td>X780</td>\n",
       "      <td>Hospital</td>\n",
       "    </tr>\n",
       "    <tr>\n",
       "      <th>3</th>\n",
       "      <td>AC</td>\n",
       "      <td>2010</td>\n",
       "      <td>4</td>\n",
       "      <td>2010-04-20</td>\n",
       "      <td>1983-12-25</td>\n",
       "      <td>Feminino</td>\n",
       "      <td>Parda</td>\n",
       "      <td>NaN</td>\n",
       "      <td>Casado/a</td>\n",
       "      <td>1 a 3 anos</td>\n",
       "      <td>DONA DE CASA</td>\n",
       "      <td>Tarauacá</td>\n",
       "      <td>X780</td>\n",
       "      <td>X780</td>\n",
       "      <td>Domicílio</td>\n",
       "    </tr>\n",
       "    <tr>\n",
       "      <th>4</th>\n",
       "      <td>AC</td>\n",
       "      <td>2010</td>\n",
       "      <td>7</td>\n",
       "      <td>2010-07-24</td>\n",
       "      <td>1982-05-13</td>\n",
       "      <td>Masculino</td>\n",
       "      <td>Parda</td>\n",
       "      <td>NaN</td>\n",
       "      <td>Casado/a</td>\n",
       "      <td>NaN</td>\n",
       "      <td>DONA DE CASA</td>\n",
       "      <td>Tarauacá</td>\n",
       "      <td>X720</td>\n",
       "      <td>X720</td>\n",
       "      <td>Domicílio</td>\n",
       "    </tr>\n",
       "  </tbody>\n",
       "</table>\n",
       "</div>"
      ],
      "text/plain": [
       "  estado   ano  mes     DTOBITO      DTNASC       SEXO RACACOR ASSISTMED  \\\n",
       "0     AC  2010    1  2010-01-31  1999-11-09  Masculino   Parda       NaN   \n",
       "1     AC  2010    2  2010-02-07  1985-09-23  Masculino   Parda       NaN   \n",
       "2     AC  2010    2  2010-02-19  1995-08-06  Masculino   Parda       NaN   \n",
       "3     AC  2010    4  2010-04-20  1983-12-25   Feminino   Parda       NaN   \n",
       "4     AC  2010    7  2010-07-24  1982-05-13  Masculino   Parda       NaN   \n",
       "\n",
       "       ESTCIV         ESC          OCUP CODMUNRES CAUSABAS CAUSABAS_O  \\\n",
       "0  Solteiro/a  1 a 3 anos     ESTUDANTE  Tarauacá     X780       X780   \n",
       "1  Solteiro/a  1 a 3 anos     ESTUDANTE  Tarauacá     X780       X780   \n",
       "2  Solteiro/a  1 a 3 anos     ESTUDANTE  Tarauacá     X780       X780   \n",
       "3    Casado/a  1 a 3 anos  DONA DE CASA  Tarauacá     X780       X780   \n",
       "4    Casado/a         NaN  DONA DE CASA  Tarauacá     X720       X720   \n",
       "\n",
       "       LOCOCOR  \n",
       "0  Via pública  \n",
       "1     Hospital  \n",
       "2     Hospital  \n",
       "3    Domicílio  \n",
       "4    Domicílio  "
      ]
     },
     "execution_count": 60,
     "metadata": {},
     "output_type": "execute_result"
    }
   ],
   "source": [
    "df.head()"
   ]
  },
  {
   "cell_type": "markdown",
   "id": "02983874",
   "metadata": {},
   "source": [
    "# Transformando datas"
   ]
  },
  {
   "cell_type": "code",
   "execution_count": 61,
   "id": "4b2dd680",
   "metadata": {},
   "outputs": [],
   "source": [
    "df['DTOBITO'] = pd.to_datetime( df['DTOBITO'] ,format=\"%Y/%m/%d\")\n",
    "df['DTNASC']=  pd.to_datetime( df['DTNASC'] ,format=\"%Y/%m/%d\",errors = 'coerce')\n",
    "df['ano_mes'] =df['DTOBITO'].dt.strftime('%Y-%m')"
   ]
  },
  {
   "cell_type": "code",
   "execution_count": 62,
   "id": "c598c0c8",
   "metadata": {},
   "outputs": [
    {
     "data": {
      "text/html": [
       "<div>\n",
       "<style scoped>\n",
       "    .dataframe tbody tr th:only-of-type {\n",
       "        vertical-align: middle;\n",
       "    }\n",
       "\n",
       "    .dataframe tbody tr th {\n",
       "        vertical-align: top;\n",
       "    }\n",
       "\n",
       "    .dataframe thead th {\n",
       "        text-align: right;\n",
       "    }\n",
       "</style>\n",
       "<table border=\"1\" class=\"dataframe\">\n",
       "  <thead>\n",
       "    <tr style=\"text-align: right;\">\n",
       "      <th></th>\n",
       "      <th>estado</th>\n",
       "      <th>ano</th>\n",
       "      <th>mes</th>\n",
       "      <th>DTOBITO</th>\n",
       "      <th>DTNASC</th>\n",
       "      <th>SEXO</th>\n",
       "      <th>RACACOR</th>\n",
       "      <th>ASSISTMED</th>\n",
       "      <th>ESTCIV</th>\n",
       "      <th>ESC</th>\n",
       "      <th>OCUP</th>\n",
       "      <th>CODMUNRES</th>\n",
       "      <th>CAUSABAS</th>\n",
       "      <th>CAUSABAS_O</th>\n",
       "      <th>LOCOCOR</th>\n",
       "      <th>ano_mes</th>\n",
       "    </tr>\n",
       "  </thead>\n",
       "  <tbody>\n",
       "    <tr>\n",
       "      <th>0</th>\n",
       "      <td>AC</td>\n",
       "      <td>2010</td>\n",
       "      <td>1</td>\n",
       "      <td>2010-01-31</td>\n",
       "      <td>1999-11-09</td>\n",
       "      <td>Masculino</td>\n",
       "      <td>Parda</td>\n",
       "      <td>NaN</td>\n",
       "      <td>Solteiro/a</td>\n",
       "      <td>1 a 3 anos</td>\n",
       "      <td>ESTUDANTE</td>\n",
       "      <td>Tarauacá</td>\n",
       "      <td>X780</td>\n",
       "      <td>X780</td>\n",
       "      <td>Via pública</td>\n",
       "      <td>2010-01</td>\n",
       "    </tr>\n",
       "    <tr>\n",
       "      <th>1</th>\n",
       "      <td>AC</td>\n",
       "      <td>2010</td>\n",
       "      <td>2</td>\n",
       "      <td>2010-02-07</td>\n",
       "      <td>1985-09-23</td>\n",
       "      <td>Masculino</td>\n",
       "      <td>Parda</td>\n",
       "      <td>NaN</td>\n",
       "      <td>Solteiro/a</td>\n",
       "      <td>1 a 3 anos</td>\n",
       "      <td>ESTUDANTE</td>\n",
       "      <td>Tarauacá</td>\n",
       "      <td>X780</td>\n",
       "      <td>X780</td>\n",
       "      <td>Hospital</td>\n",
       "      <td>2010-02</td>\n",
       "    </tr>\n",
       "    <tr>\n",
       "      <th>2</th>\n",
       "      <td>AC</td>\n",
       "      <td>2010</td>\n",
       "      <td>2</td>\n",
       "      <td>2010-02-19</td>\n",
       "      <td>1995-08-06</td>\n",
       "      <td>Masculino</td>\n",
       "      <td>Parda</td>\n",
       "      <td>NaN</td>\n",
       "      <td>Solteiro/a</td>\n",
       "      <td>1 a 3 anos</td>\n",
       "      <td>ESTUDANTE</td>\n",
       "      <td>Tarauacá</td>\n",
       "      <td>X780</td>\n",
       "      <td>X780</td>\n",
       "      <td>Hospital</td>\n",
       "      <td>2010-02</td>\n",
       "    </tr>\n",
       "    <tr>\n",
       "      <th>3</th>\n",
       "      <td>AC</td>\n",
       "      <td>2010</td>\n",
       "      <td>4</td>\n",
       "      <td>2010-04-20</td>\n",
       "      <td>1983-12-25</td>\n",
       "      <td>Feminino</td>\n",
       "      <td>Parda</td>\n",
       "      <td>NaN</td>\n",
       "      <td>Casado/a</td>\n",
       "      <td>1 a 3 anos</td>\n",
       "      <td>DONA DE CASA</td>\n",
       "      <td>Tarauacá</td>\n",
       "      <td>X780</td>\n",
       "      <td>X780</td>\n",
       "      <td>Domicílio</td>\n",
       "      <td>2010-04</td>\n",
       "    </tr>\n",
       "    <tr>\n",
       "      <th>4</th>\n",
       "      <td>AC</td>\n",
       "      <td>2010</td>\n",
       "      <td>7</td>\n",
       "      <td>2010-07-24</td>\n",
       "      <td>1982-05-13</td>\n",
       "      <td>Masculino</td>\n",
       "      <td>Parda</td>\n",
       "      <td>NaN</td>\n",
       "      <td>Casado/a</td>\n",
       "      <td>NaN</td>\n",
       "      <td>DONA DE CASA</td>\n",
       "      <td>Tarauacá</td>\n",
       "      <td>X720</td>\n",
       "      <td>X720</td>\n",
       "      <td>Domicílio</td>\n",
       "      <td>2010-07</td>\n",
       "    </tr>\n",
       "  </tbody>\n",
       "</table>\n",
       "</div>"
      ],
      "text/plain": [
       "  estado   ano  mes    DTOBITO     DTNASC       SEXO RACACOR ASSISTMED  \\\n",
       "0     AC  2010    1 2010-01-31 1999-11-09  Masculino   Parda       NaN   \n",
       "1     AC  2010    2 2010-02-07 1985-09-23  Masculino   Parda       NaN   \n",
       "2     AC  2010    2 2010-02-19 1995-08-06  Masculino   Parda       NaN   \n",
       "3     AC  2010    4 2010-04-20 1983-12-25   Feminino   Parda       NaN   \n",
       "4     AC  2010    7 2010-07-24 1982-05-13  Masculino   Parda       NaN   \n",
       "\n",
       "       ESTCIV         ESC          OCUP CODMUNRES CAUSABAS CAUSABAS_O  \\\n",
       "0  Solteiro/a  1 a 3 anos     ESTUDANTE  Tarauacá     X780       X780   \n",
       "1  Solteiro/a  1 a 3 anos     ESTUDANTE  Tarauacá     X780       X780   \n",
       "2  Solteiro/a  1 a 3 anos     ESTUDANTE  Tarauacá     X780       X780   \n",
       "3    Casado/a  1 a 3 anos  DONA DE CASA  Tarauacá     X780       X780   \n",
       "4    Casado/a         NaN  DONA DE CASA  Tarauacá     X720       X720   \n",
       "\n",
       "       LOCOCOR  ano_mes  \n",
       "0  Via pública  2010-01  \n",
       "1     Hospital  2010-02  \n",
       "2     Hospital  2010-02  \n",
       "3    Domicílio  2010-04  \n",
       "4    Domicílio  2010-07  "
      ]
     },
     "execution_count": 62,
     "metadata": {},
     "output_type": "execute_result"
    }
   ],
   "source": [
    "df.head()"
   ]
  },
  {
   "cell_type": "code",
   "execution_count": 63,
   "id": "017ea05f",
   "metadata": {},
   "outputs": [
    {
     "data": {
      "text/plain": [
       "estado            0\n",
       "ano               0\n",
       "mes               0\n",
       "DTOBITO           0\n",
       "DTNASC        11742\n",
       "SEXO             22\n",
       "RACACOR        3171\n",
       "ASSISTMED     41804\n",
       "ESTCIV         8700\n",
       "ESC           28164\n",
       "OCUP          52217\n",
       "CODMUNRES         0\n",
       "CAUSABAS          0\n",
       "CAUSABAS_O      287\n",
       "LOCOCOR         460\n",
       "ano_mes           0\n",
       "dtype: int64"
      ]
     },
     "execution_count": 63,
     "metadata": {},
     "output_type": "execute_result"
    }
   ],
   "source": [
    "df.isnull().sum()"
   ]
  },
  {
   "cell_type": "code",
   "execution_count": 64,
   "id": "048030b3",
   "metadata": {},
   "outputs": [
    {
     "data": {
      "text/plain": [
       "estado                object\n",
       "ano                    int64\n",
       "mes                    int64\n",
       "DTOBITO       datetime64[ns]\n",
       "DTNASC        datetime64[ns]\n",
       "SEXO                  object\n",
       "RACACOR               object\n",
       "ASSISTMED             object\n",
       "ESTCIV                object\n",
       "ESC                   object\n",
       "OCUP                  object\n",
       "CODMUNRES             object\n",
       "CAUSABAS              object\n",
       "CAUSABAS_O            object\n",
       "LOCOCOR               object\n",
       "ano_mes               object\n",
       "dtype: object"
      ]
     },
     "execution_count": 64,
     "metadata": {},
     "output_type": "execute_result"
    }
   ],
   "source": [
    "df.dtypes"
   ]
  },
  {
   "cell_type": "markdown",
   "id": "8cf5b8e8",
   "metadata": {},
   "source": [
    "# Analisando os dados "
   ]
  },
  {
   "cell_type": "markdown",
   "id": "e0379393",
   "metadata": {},
   "source": [
    "## Número suicídios no Brasil durante o período de 2010 a 2019"
   ]
  },
  {
   "cell_type": "code",
   "execution_count": 65,
   "id": "5ea961b0",
   "metadata": {},
   "outputs": [],
   "source": [
    "df_data = df.groupby('ano_mes').agg('size').reset_index()"
   ]
  },
  {
   "cell_type": "code",
   "execution_count": 66,
   "id": "39b141c0",
   "metadata": {},
   "outputs": [],
   "source": [
    "df_data.columns = ['ano_mes', 'size']"
   ]
  },
  {
   "cell_type": "code",
   "execution_count": 67,
   "id": "3de3a83d",
   "metadata": {
    "scrolled": false
   },
   "outputs": [
    {
     "data": {
      "application/vnd.plotly.v1+json": {
       "config": {
        "plotlyServerURL": "https://plot.ly"
       },
       "data": [
        {
         "hovertemplate": "ano_mes=%{x}<br>size=%{y}<extra></extra>",
         "legendgroup": "",
         "line": {
          "color": "#ffd700",
          "dash": "solid"
         },
         "marker": {
          "symbol": "circle"
         },
         "mode": "lines",
         "name": "",
         "orientation": "v",
         "showlegend": false,
         "type": "scatter",
         "x": [
          "2010-01",
          "2010-02",
          "2010-03",
          "2010-04",
          "2010-05",
          "2010-06",
          "2010-07",
          "2010-08",
          "2010-09",
          "2010-10",
          "2010-11",
          "2010-12",
          "2011-01",
          "2011-02",
          "2011-03",
          "2011-04",
          "2011-05",
          "2011-06",
          "2011-07",
          "2011-08",
          "2011-09",
          "2011-10",
          "2011-11",
          "2011-12",
          "2012-01",
          "2012-02",
          "2012-03",
          "2012-04",
          "2012-05",
          "2012-06",
          "2012-07",
          "2012-08",
          "2012-09",
          "2012-10",
          "2012-11",
          "2012-12",
          "2013-01",
          "2013-02",
          "2013-03",
          "2013-04",
          "2013-05",
          "2013-06",
          "2013-07",
          "2013-08",
          "2013-09",
          "2013-10",
          "2013-11",
          "2013-12",
          "2014-01",
          "2014-02",
          "2014-03",
          "2014-04",
          "2014-05",
          "2014-06",
          "2014-07",
          "2014-08",
          "2014-09",
          "2014-10",
          "2014-11",
          "2014-12",
          "2015-01",
          "2015-02",
          "2015-03",
          "2015-04",
          "2015-05",
          "2015-06",
          "2015-07",
          "2015-08",
          "2015-09",
          "2015-10",
          "2015-11",
          "2015-12",
          "2016-01",
          "2016-02",
          "2016-03",
          "2016-04",
          "2016-05",
          "2016-06",
          "2016-07",
          "2016-08",
          "2016-09",
          "2016-10",
          "2016-11",
          "2016-12",
          "2017-01",
          "2017-02",
          "2017-03",
          "2017-04",
          "2017-05",
          "2017-06",
          "2017-07",
          "2017-08",
          "2017-09",
          "2017-10",
          "2017-11",
          "2017-12",
          "2018-01",
          "2018-02",
          "2018-03",
          "2018-04",
          "2018-05",
          "2018-06",
          "2018-07",
          "2018-08",
          "2018-09",
          "2018-10",
          "2018-11",
          "2018-12",
          "2019-01",
          "2019-02",
          "2019-03",
          "2019-04",
          "2019-05",
          "2019-06",
          "2019-07",
          "2019-08",
          "2019-09",
          "2019-10",
          "2019-11",
          "2019-12"
         ],
         "xaxis": "x",
         "y": [
          851,
          726,
          803,
          757,
          810,
          702,
          747,
          791,
          772,
          860,
          796,
          861,
          817,
          759,
          848,
          845,
          831,
          757,
          807,
          838,
          820,
          825,
          801,
          934,
          882,
          914,
          841,
          856,
          803,
          770,
          846,
          826,
          897,
          894,
          878,
          959,
          925,
          882,
          938,
          854,
          895,
          830,
          802,
          857,
          905,
          910,
          841,
          940,
          931,
          882,
          958,
          900,
          826,
          805,
          755,
          939,
          920,
          903,
          916,
          948,
          1051,
          855,
          948,
          935,
          904,
          869,
          856,
          917,
          902,
          995,
          925,
          1054,
          942,
          930,
          929,
          920,
          930,
          881,
          928,
          912,
          964,
          1049,
          1017,
          1053,
          1060,
          967,
          1058,
          923,
          1034,
          934,
          940,
          1072,
          1141,
          1213,
          1065,
          1114,
          1082,
          958,
          1134,
          1072,
          1046,
          974,
          1029,
          1040,
          1086,
          1095,
          1095,
          1153,
          1118,
          1032,
          1225,
          1124,
          1149,
          1057,
          1089,
          1107,
          1176,
          1136,
          1152,
          1189
         ],
         "yaxis": "y"
        }
       ],
       "layout": {
        "legend": {
         "tracegroupgap": 0
        },
        "template": {
         "data": {
          "bar": [
           {
            "error_x": {
             "color": "#2a3f5f"
            },
            "error_y": {
             "color": "#2a3f5f"
            },
            "marker": {
             "line": {
              "color": "#E5ECF6",
              "width": 0.5
             },
             "pattern": {
              "fillmode": "overlay",
              "size": 10,
              "solidity": 0.2
             }
            },
            "type": "bar"
           }
          ],
          "barpolar": [
           {
            "marker": {
             "line": {
              "color": "#E5ECF6",
              "width": 0.5
             },
             "pattern": {
              "fillmode": "overlay",
              "size": 10,
              "solidity": 0.2
             }
            },
            "type": "barpolar"
           }
          ],
          "carpet": [
           {
            "aaxis": {
             "endlinecolor": "#2a3f5f",
             "gridcolor": "white",
             "linecolor": "white",
             "minorgridcolor": "white",
             "startlinecolor": "#2a3f5f"
            },
            "baxis": {
             "endlinecolor": "#2a3f5f",
             "gridcolor": "white",
             "linecolor": "white",
             "minorgridcolor": "white",
             "startlinecolor": "#2a3f5f"
            },
            "type": "carpet"
           }
          ],
          "choropleth": [
           {
            "colorbar": {
             "outlinewidth": 0,
             "ticks": ""
            },
            "type": "choropleth"
           }
          ],
          "contour": [
           {
            "colorbar": {
             "outlinewidth": 0,
             "ticks": ""
            },
            "colorscale": [
             [
              0,
              "#0d0887"
             ],
             [
              0.1111111111111111,
              "#46039f"
             ],
             [
              0.2222222222222222,
              "#7201a8"
             ],
             [
              0.3333333333333333,
              "#9c179e"
             ],
             [
              0.4444444444444444,
              "#bd3786"
             ],
             [
              0.5555555555555556,
              "#d8576b"
             ],
             [
              0.6666666666666666,
              "#ed7953"
             ],
             [
              0.7777777777777778,
              "#fb9f3a"
             ],
             [
              0.8888888888888888,
              "#fdca26"
             ],
             [
              1,
              "#f0f921"
             ]
            ],
            "type": "contour"
           }
          ],
          "contourcarpet": [
           {
            "colorbar": {
             "outlinewidth": 0,
             "ticks": ""
            },
            "type": "contourcarpet"
           }
          ],
          "heatmap": [
           {
            "colorbar": {
             "outlinewidth": 0,
             "ticks": ""
            },
            "colorscale": [
             [
              0,
              "#0d0887"
             ],
             [
              0.1111111111111111,
              "#46039f"
             ],
             [
              0.2222222222222222,
              "#7201a8"
             ],
             [
              0.3333333333333333,
              "#9c179e"
             ],
             [
              0.4444444444444444,
              "#bd3786"
             ],
             [
              0.5555555555555556,
              "#d8576b"
             ],
             [
              0.6666666666666666,
              "#ed7953"
             ],
             [
              0.7777777777777778,
              "#fb9f3a"
             ],
             [
              0.8888888888888888,
              "#fdca26"
             ],
             [
              1,
              "#f0f921"
             ]
            ],
            "type": "heatmap"
           }
          ],
          "heatmapgl": [
           {
            "colorbar": {
             "outlinewidth": 0,
             "ticks": ""
            },
            "colorscale": [
             [
              0,
              "#0d0887"
             ],
             [
              0.1111111111111111,
              "#46039f"
             ],
             [
              0.2222222222222222,
              "#7201a8"
             ],
             [
              0.3333333333333333,
              "#9c179e"
             ],
             [
              0.4444444444444444,
              "#bd3786"
             ],
             [
              0.5555555555555556,
              "#d8576b"
             ],
             [
              0.6666666666666666,
              "#ed7953"
             ],
             [
              0.7777777777777778,
              "#fb9f3a"
             ],
             [
              0.8888888888888888,
              "#fdca26"
             ],
             [
              1,
              "#f0f921"
             ]
            ],
            "type": "heatmapgl"
           }
          ],
          "histogram": [
           {
            "marker": {
             "pattern": {
              "fillmode": "overlay",
              "size": 10,
              "solidity": 0.2
             }
            },
            "type": "histogram"
           }
          ],
          "histogram2d": [
           {
            "colorbar": {
             "outlinewidth": 0,
             "ticks": ""
            },
            "colorscale": [
             [
              0,
              "#0d0887"
             ],
             [
              0.1111111111111111,
              "#46039f"
             ],
             [
              0.2222222222222222,
              "#7201a8"
             ],
             [
              0.3333333333333333,
              "#9c179e"
             ],
             [
              0.4444444444444444,
              "#bd3786"
             ],
             [
              0.5555555555555556,
              "#d8576b"
             ],
             [
              0.6666666666666666,
              "#ed7953"
             ],
             [
              0.7777777777777778,
              "#fb9f3a"
             ],
             [
              0.8888888888888888,
              "#fdca26"
             ],
             [
              1,
              "#f0f921"
             ]
            ],
            "type": "histogram2d"
           }
          ],
          "histogram2dcontour": [
           {
            "colorbar": {
             "outlinewidth": 0,
             "ticks": ""
            },
            "colorscale": [
             [
              0,
              "#0d0887"
             ],
             [
              0.1111111111111111,
              "#46039f"
             ],
             [
              0.2222222222222222,
              "#7201a8"
             ],
             [
              0.3333333333333333,
              "#9c179e"
             ],
             [
              0.4444444444444444,
              "#bd3786"
             ],
             [
              0.5555555555555556,
              "#d8576b"
             ],
             [
              0.6666666666666666,
              "#ed7953"
             ],
             [
              0.7777777777777778,
              "#fb9f3a"
             ],
             [
              0.8888888888888888,
              "#fdca26"
             ],
             [
              1,
              "#f0f921"
             ]
            ],
            "type": "histogram2dcontour"
           }
          ],
          "mesh3d": [
           {
            "colorbar": {
             "outlinewidth": 0,
             "ticks": ""
            },
            "type": "mesh3d"
           }
          ],
          "parcoords": [
           {
            "line": {
             "colorbar": {
              "outlinewidth": 0,
              "ticks": ""
             }
            },
            "type": "parcoords"
           }
          ],
          "pie": [
           {
            "automargin": true,
            "type": "pie"
           }
          ],
          "scatter": [
           {
            "marker": {
             "colorbar": {
              "outlinewidth": 0,
              "ticks": ""
             }
            },
            "type": "scatter"
           }
          ],
          "scatter3d": [
           {
            "line": {
             "colorbar": {
              "outlinewidth": 0,
              "ticks": ""
             }
            },
            "marker": {
             "colorbar": {
              "outlinewidth": 0,
              "ticks": ""
             }
            },
            "type": "scatter3d"
           }
          ],
          "scattercarpet": [
           {
            "marker": {
             "colorbar": {
              "outlinewidth": 0,
              "ticks": ""
             }
            },
            "type": "scattercarpet"
           }
          ],
          "scattergeo": [
           {
            "marker": {
             "colorbar": {
              "outlinewidth": 0,
              "ticks": ""
             }
            },
            "type": "scattergeo"
           }
          ],
          "scattergl": [
           {
            "marker": {
             "colorbar": {
              "outlinewidth": 0,
              "ticks": ""
             }
            },
            "type": "scattergl"
           }
          ],
          "scattermapbox": [
           {
            "marker": {
             "colorbar": {
              "outlinewidth": 0,
              "ticks": ""
             }
            },
            "type": "scattermapbox"
           }
          ],
          "scatterpolar": [
           {
            "marker": {
             "colorbar": {
              "outlinewidth": 0,
              "ticks": ""
             }
            },
            "type": "scatterpolar"
           }
          ],
          "scatterpolargl": [
           {
            "marker": {
             "colorbar": {
              "outlinewidth": 0,
              "ticks": ""
             }
            },
            "type": "scatterpolargl"
           }
          ],
          "scatterternary": [
           {
            "marker": {
             "colorbar": {
              "outlinewidth": 0,
              "ticks": ""
             }
            },
            "type": "scatterternary"
           }
          ],
          "surface": [
           {
            "colorbar": {
             "outlinewidth": 0,
             "ticks": ""
            },
            "colorscale": [
             [
              0,
              "#0d0887"
             ],
             [
              0.1111111111111111,
              "#46039f"
             ],
             [
              0.2222222222222222,
              "#7201a8"
             ],
             [
              0.3333333333333333,
              "#9c179e"
             ],
             [
              0.4444444444444444,
              "#bd3786"
             ],
             [
              0.5555555555555556,
              "#d8576b"
             ],
             [
              0.6666666666666666,
              "#ed7953"
             ],
             [
              0.7777777777777778,
              "#fb9f3a"
             ],
             [
              0.8888888888888888,
              "#fdca26"
             ],
             [
              1,
              "#f0f921"
             ]
            ],
            "type": "surface"
           }
          ],
          "table": [
           {
            "cells": {
             "fill": {
              "color": "#EBF0F8"
             },
             "line": {
              "color": "white"
             }
            },
            "header": {
             "fill": {
              "color": "#C8D4E3"
             },
             "line": {
              "color": "white"
             }
            },
            "type": "table"
           }
          ]
         },
         "layout": {
          "annotationdefaults": {
           "arrowcolor": "#2a3f5f",
           "arrowhead": 0,
           "arrowwidth": 1
          },
          "autotypenumbers": "strict",
          "coloraxis": {
           "colorbar": {
            "outlinewidth": 0,
            "ticks": ""
           }
          },
          "colorscale": {
           "diverging": [
            [
             0,
             "#8e0152"
            ],
            [
             0.1,
             "#c51b7d"
            ],
            [
             0.2,
             "#de77ae"
            ],
            [
             0.3,
             "#f1b6da"
            ],
            [
             0.4,
             "#fde0ef"
            ],
            [
             0.5,
             "#f7f7f7"
            ],
            [
             0.6,
             "#e6f5d0"
            ],
            [
             0.7,
             "#b8e186"
            ],
            [
             0.8,
             "#7fbc41"
            ],
            [
             0.9,
             "#4d9221"
            ],
            [
             1,
             "#276419"
            ]
           ],
           "sequential": [
            [
             0,
             "#0d0887"
            ],
            [
             0.1111111111111111,
             "#46039f"
            ],
            [
             0.2222222222222222,
             "#7201a8"
            ],
            [
             0.3333333333333333,
             "#9c179e"
            ],
            [
             0.4444444444444444,
             "#bd3786"
            ],
            [
             0.5555555555555556,
             "#d8576b"
            ],
            [
             0.6666666666666666,
             "#ed7953"
            ],
            [
             0.7777777777777778,
             "#fb9f3a"
            ],
            [
             0.8888888888888888,
             "#fdca26"
            ],
            [
             1,
             "#f0f921"
            ]
           ],
           "sequentialminus": [
            [
             0,
             "#0d0887"
            ],
            [
             0.1111111111111111,
             "#46039f"
            ],
            [
             0.2222222222222222,
             "#7201a8"
            ],
            [
             0.3333333333333333,
             "#9c179e"
            ],
            [
             0.4444444444444444,
             "#bd3786"
            ],
            [
             0.5555555555555556,
             "#d8576b"
            ],
            [
             0.6666666666666666,
             "#ed7953"
            ],
            [
             0.7777777777777778,
             "#fb9f3a"
            ],
            [
             0.8888888888888888,
             "#fdca26"
            ],
            [
             1,
             "#f0f921"
            ]
           ]
          },
          "colorway": [
           "#636efa",
           "#EF553B",
           "#00cc96",
           "#ab63fa",
           "#FFA15A",
           "#19d3f3",
           "#FF6692",
           "#B6E880",
           "#FF97FF",
           "#FECB52"
          ],
          "font": {
           "color": "#2a3f5f"
          },
          "geo": {
           "bgcolor": "white",
           "lakecolor": "white",
           "landcolor": "#E5ECF6",
           "showlakes": true,
           "showland": true,
           "subunitcolor": "white"
          },
          "hoverlabel": {
           "align": "left"
          },
          "hovermode": "closest",
          "mapbox": {
           "style": "light"
          },
          "paper_bgcolor": "white",
          "plot_bgcolor": "#E5ECF6",
          "polar": {
           "angularaxis": {
            "gridcolor": "white",
            "linecolor": "white",
            "ticks": ""
           },
           "bgcolor": "#E5ECF6",
           "radialaxis": {
            "gridcolor": "white",
            "linecolor": "white",
            "ticks": ""
           }
          },
          "scene": {
           "xaxis": {
            "backgroundcolor": "#E5ECF6",
            "gridcolor": "white",
            "gridwidth": 2,
            "linecolor": "white",
            "showbackground": true,
            "ticks": "",
            "zerolinecolor": "white"
           },
           "yaxis": {
            "backgroundcolor": "#E5ECF6",
            "gridcolor": "white",
            "gridwidth": 2,
            "linecolor": "white",
            "showbackground": true,
            "ticks": "",
            "zerolinecolor": "white"
           },
           "zaxis": {
            "backgroundcolor": "#E5ECF6",
            "gridcolor": "white",
            "gridwidth": 2,
            "linecolor": "white",
            "showbackground": true,
            "ticks": "",
            "zerolinecolor": "white"
           }
          },
          "shapedefaults": {
           "line": {
            "color": "#2a3f5f"
           }
          },
          "ternary": {
           "aaxis": {
            "gridcolor": "white",
            "linecolor": "white",
            "ticks": ""
           },
           "baxis": {
            "gridcolor": "white",
            "linecolor": "white",
            "ticks": ""
           },
           "bgcolor": "#E5ECF6",
           "caxis": {
            "gridcolor": "white",
            "linecolor": "white",
            "ticks": ""
           }
          },
          "title": {
           "x": 0.05
          },
          "xaxis": {
           "automargin": true,
           "gridcolor": "white",
           "linecolor": "white",
           "ticks": "",
           "title": {
            "standoff": 15
           },
           "zerolinecolor": "white",
           "zerolinewidth": 2
          },
          "yaxis": {
           "automargin": true,
           "gridcolor": "white",
           "linecolor": "white",
           "ticks": "",
           "title": {
            "standoff": 15
           },
           "zerolinecolor": "white",
           "zerolinewidth": 2
          }
         }
        },
        "title": {
         "text": "Número suicídios no Brasil durante o período de 2010 a 2019"
        },
        "xaxis": {
         "anchor": "y",
         "domain": [
          0,
          1
         ],
         "title": {
          "text": "ano_mes"
         }
        },
        "yaxis": {
         "anchor": "x",
         "domain": [
          0,
          1
         ],
         "title": {
          "text": "size"
         }
        }
       }
      },
      "text/html": [
       "<div>                            <div id=\"9a08e1e6-c3f0-4fdc-80ba-5e51d62e0588\" class=\"plotly-graph-div\" style=\"height:525px; width:100%;\"></div>            <script type=\"text/javascript\">                require([\"plotly\"], function(Plotly) {                    window.PLOTLYENV=window.PLOTLYENV || {};                                    if (document.getElementById(\"9a08e1e6-c3f0-4fdc-80ba-5e51d62e0588\")) {                    Plotly.newPlot(                        \"9a08e1e6-c3f0-4fdc-80ba-5e51d62e0588\",                        [{\"hovertemplate\":\"ano_mes=%{x}<br>size=%{y}<extra></extra>\",\"legendgroup\":\"\",\"line\":{\"color\":\"#ffd700\",\"dash\":\"solid\"},\"marker\":{\"symbol\":\"circle\"},\"mode\":\"lines\",\"name\":\"\",\"orientation\":\"v\",\"showlegend\":false,\"type\":\"scatter\",\"x\":[\"2010-01\",\"2010-02\",\"2010-03\",\"2010-04\",\"2010-05\",\"2010-06\",\"2010-07\",\"2010-08\",\"2010-09\",\"2010-10\",\"2010-11\",\"2010-12\",\"2011-01\",\"2011-02\",\"2011-03\",\"2011-04\",\"2011-05\",\"2011-06\",\"2011-07\",\"2011-08\",\"2011-09\",\"2011-10\",\"2011-11\",\"2011-12\",\"2012-01\",\"2012-02\",\"2012-03\",\"2012-04\",\"2012-05\",\"2012-06\",\"2012-07\",\"2012-08\",\"2012-09\",\"2012-10\",\"2012-11\",\"2012-12\",\"2013-01\",\"2013-02\",\"2013-03\",\"2013-04\",\"2013-05\",\"2013-06\",\"2013-07\",\"2013-08\",\"2013-09\",\"2013-10\",\"2013-11\",\"2013-12\",\"2014-01\",\"2014-02\",\"2014-03\",\"2014-04\",\"2014-05\",\"2014-06\",\"2014-07\",\"2014-08\",\"2014-09\",\"2014-10\",\"2014-11\",\"2014-12\",\"2015-01\",\"2015-02\",\"2015-03\",\"2015-04\",\"2015-05\",\"2015-06\",\"2015-07\",\"2015-08\",\"2015-09\",\"2015-10\",\"2015-11\",\"2015-12\",\"2016-01\",\"2016-02\",\"2016-03\",\"2016-04\",\"2016-05\",\"2016-06\",\"2016-07\",\"2016-08\",\"2016-09\",\"2016-10\",\"2016-11\",\"2016-12\",\"2017-01\",\"2017-02\",\"2017-03\",\"2017-04\",\"2017-05\",\"2017-06\",\"2017-07\",\"2017-08\",\"2017-09\",\"2017-10\",\"2017-11\",\"2017-12\",\"2018-01\",\"2018-02\",\"2018-03\",\"2018-04\",\"2018-05\",\"2018-06\",\"2018-07\",\"2018-08\",\"2018-09\",\"2018-10\",\"2018-11\",\"2018-12\",\"2019-01\",\"2019-02\",\"2019-03\",\"2019-04\",\"2019-05\",\"2019-06\",\"2019-07\",\"2019-08\",\"2019-09\",\"2019-10\",\"2019-11\",\"2019-12\"],\"xaxis\":\"x\",\"y\":[851,726,803,757,810,702,747,791,772,860,796,861,817,759,848,845,831,757,807,838,820,825,801,934,882,914,841,856,803,770,846,826,897,894,878,959,925,882,938,854,895,830,802,857,905,910,841,940,931,882,958,900,826,805,755,939,920,903,916,948,1051,855,948,935,904,869,856,917,902,995,925,1054,942,930,929,920,930,881,928,912,964,1049,1017,1053,1060,967,1058,923,1034,934,940,1072,1141,1213,1065,1114,1082,958,1134,1072,1046,974,1029,1040,1086,1095,1095,1153,1118,1032,1225,1124,1149,1057,1089,1107,1176,1136,1152,1189],\"yaxis\":\"y\"}],                        {\"legend\":{\"tracegroupgap\":0},\"template\":{\"data\":{\"bar\":[{\"error_x\":{\"color\":\"#2a3f5f\"},\"error_y\":{\"color\":\"#2a3f5f\"},\"marker\":{\"line\":{\"color\":\"#E5ECF6\",\"width\":0.5},\"pattern\":{\"fillmode\":\"overlay\",\"size\":10,\"solidity\":0.2}},\"type\":\"bar\"}],\"barpolar\":[{\"marker\":{\"line\":{\"color\":\"#E5ECF6\",\"width\":0.5},\"pattern\":{\"fillmode\":\"overlay\",\"size\":10,\"solidity\":0.2}},\"type\":\"barpolar\"}],\"carpet\":[{\"aaxis\":{\"endlinecolor\":\"#2a3f5f\",\"gridcolor\":\"white\",\"linecolor\":\"white\",\"minorgridcolor\":\"white\",\"startlinecolor\":\"#2a3f5f\"},\"baxis\":{\"endlinecolor\":\"#2a3f5f\",\"gridcolor\":\"white\",\"linecolor\":\"white\",\"minorgridcolor\":\"white\",\"startlinecolor\":\"#2a3f5f\"},\"type\":\"carpet\"}],\"choropleth\":[{\"colorbar\":{\"outlinewidth\":0,\"ticks\":\"\"},\"type\":\"choropleth\"}],\"contour\":[{\"colorbar\":{\"outlinewidth\":0,\"ticks\":\"\"},\"colorscale\":[[0.0,\"#0d0887\"],[0.1111111111111111,\"#46039f\"],[0.2222222222222222,\"#7201a8\"],[0.3333333333333333,\"#9c179e\"],[0.4444444444444444,\"#bd3786\"],[0.5555555555555556,\"#d8576b\"],[0.6666666666666666,\"#ed7953\"],[0.7777777777777778,\"#fb9f3a\"],[0.8888888888888888,\"#fdca26\"],[1.0,\"#f0f921\"]],\"type\":\"contour\"}],\"contourcarpet\":[{\"colorbar\":{\"outlinewidth\":0,\"ticks\":\"\"},\"type\":\"contourcarpet\"}],\"heatmap\":[{\"colorbar\":{\"outlinewidth\":0,\"ticks\":\"\"},\"colorscale\":[[0.0,\"#0d0887\"],[0.1111111111111111,\"#46039f\"],[0.2222222222222222,\"#7201a8\"],[0.3333333333333333,\"#9c179e\"],[0.4444444444444444,\"#bd3786\"],[0.5555555555555556,\"#d8576b\"],[0.6666666666666666,\"#ed7953\"],[0.7777777777777778,\"#fb9f3a\"],[0.8888888888888888,\"#fdca26\"],[1.0,\"#f0f921\"]],\"type\":\"heatmap\"}],\"heatmapgl\":[{\"colorbar\":{\"outlinewidth\":0,\"ticks\":\"\"},\"colorscale\":[[0.0,\"#0d0887\"],[0.1111111111111111,\"#46039f\"],[0.2222222222222222,\"#7201a8\"],[0.3333333333333333,\"#9c179e\"],[0.4444444444444444,\"#bd3786\"],[0.5555555555555556,\"#d8576b\"],[0.6666666666666666,\"#ed7953\"],[0.7777777777777778,\"#fb9f3a\"],[0.8888888888888888,\"#fdca26\"],[1.0,\"#f0f921\"]],\"type\":\"heatmapgl\"}],\"histogram\":[{\"marker\":{\"pattern\":{\"fillmode\":\"overlay\",\"size\":10,\"solidity\":0.2}},\"type\":\"histogram\"}],\"histogram2d\":[{\"colorbar\":{\"outlinewidth\":0,\"ticks\":\"\"},\"colorscale\":[[0.0,\"#0d0887\"],[0.1111111111111111,\"#46039f\"],[0.2222222222222222,\"#7201a8\"],[0.3333333333333333,\"#9c179e\"],[0.4444444444444444,\"#bd3786\"],[0.5555555555555556,\"#d8576b\"],[0.6666666666666666,\"#ed7953\"],[0.7777777777777778,\"#fb9f3a\"],[0.8888888888888888,\"#fdca26\"],[1.0,\"#f0f921\"]],\"type\":\"histogram2d\"}],\"histogram2dcontour\":[{\"colorbar\":{\"outlinewidth\":0,\"ticks\":\"\"},\"colorscale\":[[0.0,\"#0d0887\"],[0.1111111111111111,\"#46039f\"],[0.2222222222222222,\"#7201a8\"],[0.3333333333333333,\"#9c179e\"],[0.4444444444444444,\"#bd3786\"],[0.5555555555555556,\"#d8576b\"],[0.6666666666666666,\"#ed7953\"],[0.7777777777777778,\"#fb9f3a\"],[0.8888888888888888,\"#fdca26\"],[1.0,\"#f0f921\"]],\"type\":\"histogram2dcontour\"}],\"mesh3d\":[{\"colorbar\":{\"outlinewidth\":0,\"ticks\":\"\"},\"type\":\"mesh3d\"}],\"parcoords\":[{\"line\":{\"colorbar\":{\"outlinewidth\":0,\"ticks\":\"\"}},\"type\":\"parcoords\"}],\"pie\":[{\"automargin\":true,\"type\":\"pie\"}],\"scatter\":[{\"marker\":{\"colorbar\":{\"outlinewidth\":0,\"ticks\":\"\"}},\"type\":\"scatter\"}],\"scatter3d\":[{\"line\":{\"colorbar\":{\"outlinewidth\":0,\"ticks\":\"\"}},\"marker\":{\"colorbar\":{\"outlinewidth\":0,\"ticks\":\"\"}},\"type\":\"scatter3d\"}],\"scattercarpet\":[{\"marker\":{\"colorbar\":{\"outlinewidth\":0,\"ticks\":\"\"}},\"type\":\"scattercarpet\"}],\"scattergeo\":[{\"marker\":{\"colorbar\":{\"outlinewidth\":0,\"ticks\":\"\"}},\"type\":\"scattergeo\"}],\"scattergl\":[{\"marker\":{\"colorbar\":{\"outlinewidth\":0,\"ticks\":\"\"}},\"type\":\"scattergl\"}],\"scattermapbox\":[{\"marker\":{\"colorbar\":{\"outlinewidth\":0,\"ticks\":\"\"}},\"type\":\"scattermapbox\"}],\"scatterpolar\":[{\"marker\":{\"colorbar\":{\"outlinewidth\":0,\"ticks\":\"\"}},\"type\":\"scatterpolar\"}],\"scatterpolargl\":[{\"marker\":{\"colorbar\":{\"outlinewidth\":0,\"ticks\":\"\"}},\"type\":\"scatterpolargl\"}],\"scatterternary\":[{\"marker\":{\"colorbar\":{\"outlinewidth\":0,\"ticks\":\"\"}},\"type\":\"scatterternary\"}],\"surface\":[{\"colorbar\":{\"outlinewidth\":0,\"ticks\":\"\"},\"colorscale\":[[0.0,\"#0d0887\"],[0.1111111111111111,\"#46039f\"],[0.2222222222222222,\"#7201a8\"],[0.3333333333333333,\"#9c179e\"],[0.4444444444444444,\"#bd3786\"],[0.5555555555555556,\"#d8576b\"],[0.6666666666666666,\"#ed7953\"],[0.7777777777777778,\"#fb9f3a\"],[0.8888888888888888,\"#fdca26\"],[1.0,\"#f0f921\"]],\"type\":\"surface\"}],\"table\":[{\"cells\":{\"fill\":{\"color\":\"#EBF0F8\"},\"line\":{\"color\":\"white\"}},\"header\":{\"fill\":{\"color\":\"#C8D4E3\"},\"line\":{\"color\":\"white\"}},\"type\":\"table\"}]},\"layout\":{\"annotationdefaults\":{\"arrowcolor\":\"#2a3f5f\",\"arrowhead\":0,\"arrowwidth\":1},\"autotypenumbers\":\"strict\",\"coloraxis\":{\"colorbar\":{\"outlinewidth\":0,\"ticks\":\"\"}},\"colorscale\":{\"diverging\":[[0,\"#8e0152\"],[0.1,\"#c51b7d\"],[0.2,\"#de77ae\"],[0.3,\"#f1b6da\"],[0.4,\"#fde0ef\"],[0.5,\"#f7f7f7\"],[0.6,\"#e6f5d0\"],[0.7,\"#b8e186\"],[0.8,\"#7fbc41\"],[0.9,\"#4d9221\"],[1,\"#276419\"]],\"sequential\":[[0.0,\"#0d0887\"],[0.1111111111111111,\"#46039f\"],[0.2222222222222222,\"#7201a8\"],[0.3333333333333333,\"#9c179e\"],[0.4444444444444444,\"#bd3786\"],[0.5555555555555556,\"#d8576b\"],[0.6666666666666666,\"#ed7953\"],[0.7777777777777778,\"#fb9f3a\"],[0.8888888888888888,\"#fdca26\"],[1.0,\"#f0f921\"]],\"sequentialminus\":[[0.0,\"#0d0887\"],[0.1111111111111111,\"#46039f\"],[0.2222222222222222,\"#7201a8\"],[0.3333333333333333,\"#9c179e\"],[0.4444444444444444,\"#bd3786\"],[0.5555555555555556,\"#d8576b\"],[0.6666666666666666,\"#ed7953\"],[0.7777777777777778,\"#fb9f3a\"],[0.8888888888888888,\"#fdca26\"],[1.0,\"#f0f921\"]]},\"colorway\":[\"#636efa\",\"#EF553B\",\"#00cc96\",\"#ab63fa\",\"#FFA15A\",\"#19d3f3\",\"#FF6692\",\"#B6E880\",\"#FF97FF\",\"#FECB52\"],\"font\":{\"color\":\"#2a3f5f\"},\"geo\":{\"bgcolor\":\"white\",\"lakecolor\":\"white\",\"landcolor\":\"#E5ECF6\",\"showlakes\":true,\"showland\":true,\"subunitcolor\":\"white\"},\"hoverlabel\":{\"align\":\"left\"},\"hovermode\":\"closest\",\"mapbox\":{\"style\":\"light\"},\"paper_bgcolor\":\"white\",\"plot_bgcolor\":\"#E5ECF6\",\"polar\":{\"angularaxis\":{\"gridcolor\":\"white\",\"linecolor\":\"white\",\"ticks\":\"\"},\"bgcolor\":\"#E5ECF6\",\"radialaxis\":{\"gridcolor\":\"white\",\"linecolor\":\"white\",\"ticks\":\"\"}},\"scene\":{\"xaxis\":{\"backgroundcolor\":\"#E5ECF6\",\"gridcolor\":\"white\",\"gridwidth\":2,\"linecolor\":\"white\",\"showbackground\":true,\"ticks\":\"\",\"zerolinecolor\":\"white\"},\"yaxis\":{\"backgroundcolor\":\"#E5ECF6\",\"gridcolor\":\"white\",\"gridwidth\":2,\"linecolor\":\"white\",\"showbackground\":true,\"ticks\":\"\",\"zerolinecolor\":\"white\"},\"zaxis\":{\"backgroundcolor\":\"#E5ECF6\",\"gridcolor\":\"white\",\"gridwidth\":2,\"linecolor\":\"white\",\"showbackground\":true,\"ticks\":\"\",\"zerolinecolor\":\"white\"}},\"shapedefaults\":{\"line\":{\"color\":\"#2a3f5f\"}},\"ternary\":{\"aaxis\":{\"gridcolor\":\"white\",\"linecolor\":\"white\",\"ticks\":\"\"},\"baxis\":{\"gridcolor\":\"white\",\"linecolor\":\"white\",\"ticks\":\"\"},\"bgcolor\":\"#E5ECF6\",\"caxis\":{\"gridcolor\":\"white\",\"linecolor\":\"white\",\"ticks\":\"\"}},\"title\":{\"x\":0.05},\"xaxis\":{\"automargin\":true,\"gridcolor\":\"white\",\"linecolor\":\"white\",\"ticks\":\"\",\"title\":{\"standoff\":15},\"zerolinecolor\":\"white\",\"zerolinewidth\":2},\"yaxis\":{\"automargin\":true,\"gridcolor\":\"white\",\"linecolor\":\"white\",\"ticks\":\"\",\"title\":{\"standoff\":15},\"zerolinecolor\":\"white\",\"zerolinewidth\":2}}},\"title\":{\"text\":\"N\\u00famero suic\\u00eddios no Brasil durante o per\\u00edodo de 2010 a 2019\"},\"xaxis\":{\"anchor\":\"y\",\"domain\":[0.0,1.0],\"title\":{\"text\":\"ano_mes\"}},\"yaxis\":{\"anchor\":\"x\",\"domain\":[0.0,1.0],\"title\":{\"text\":\"size\"}}},                        {\"responsive\": true}                    ).then(function(){\n",
       "                            \n",
       "var gd = document.getElementById('9a08e1e6-c3f0-4fdc-80ba-5e51d62e0588');\n",
       "var x = new MutationObserver(function (mutations, observer) {{\n",
       "        var display = window.getComputedStyle(gd).display;\n",
       "        if (!display || display === 'none') {{\n",
       "            console.log([gd, 'removed!']);\n",
       "            Plotly.purge(gd);\n",
       "            observer.disconnect();\n",
       "        }}\n",
       "}});\n",
       "\n",
       "// Listen for the removal of the full notebook cells\n",
       "var notebookContainer = gd.closest('#notebook-container');\n",
       "if (notebookContainer) {{\n",
       "    x.observe(notebookContainer, {childList: true});\n",
       "}}\n",
       "\n",
       "// Listen for the clearing of the current output cell\n",
       "var outputEl = gd.closest('.output');\n",
       "if (outputEl) {{\n",
       "    x.observe(outputEl, {childList: true});\n",
       "}}\n",
       "\n",
       "                        })                };                });            </script>        </div>"
      ]
     },
     "metadata": {},
     "output_type": "display_data"
    }
   ],
   "source": [
    "fig = px.line(df_data, \n",
    "              x=df_data['ano_mes'], \n",
    "              y=df_data['size'], \n",
    "              title='Número suicídios no Brasil durante o período de 2010 a 2019',\n",
    "              labels=dict(y=\"Número de casos\"),\n",
    "              color_discrete_sequence=['#ffd700'],\n",
    "              )\n",
    "fig.show()"
   ]
  },
  {
   "cell_type": "markdown",
   "id": "796b1310",
   "metadata": {},
   "source": [
    "# Número de suicídio por Estado durante o período de 2010 a 2019"
   ]
  },
  {
   "cell_type": "code",
   "execution_count": 68,
   "id": "64a36de0",
   "metadata": {},
   "outputs": [],
   "source": [
    "df_estado = df.groupby('estado').agg('size').reset_index()"
   ]
  },
  {
   "cell_type": "code",
   "execution_count": 69,
   "id": "54af8b9c",
   "metadata": {},
   "outputs": [],
   "source": [
    "df_estado.columns = ['estado', 'size']"
   ]
  },
  {
   "cell_type": "code",
   "execution_count": 70,
   "id": "0836e13f",
   "metadata": {},
   "outputs": [],
   "source": [
    "geojson = json.load(open('brasil_estados.json'))"
   ]
  },
  {
   "cell_type": "markdown",
   "id": "515a6370",
   "metadata": {},
   "source": [
    "fig = px.choropleth(\n",
    "     df_estado,\n",
    "     locations = 'estado', \n",
    "     geojson = geojson, \n",
    "     color = 'size',\n",
    "     title = \"Número de suícidios por estado durante o período de 2010 a 2019\",\n",
    "     color_continuous_scale=\"reds\",\n",
    "     center =  {\"lat\":-22.9034 ,\"lon\":   -43.1917},\n",
    ")\n",
    "fig.update_geos(fitbounds=\"locations\", visible=False)\n",
    "\n",
    "fig.update_layout(margin={\"r\":0,\"t\":30,\"l\":30,\"b\":30})\n",
    "fig.show()"
   ]
  },
  {
   "cell_type": "markdown",
   "id": "a821203d",
   "metadata": {},
   "source": [
    "# Cidades com maior número de suicídio por estado no período de 2010 a 2019"
   ]
  },
  {
   "cell_type": "code",
   "execution_count": 71,
   "id": "5d97bbcb",
   "metadata": {},
   "outputs": [],
   "source": [
    "df_cit = df.groupby(['estado','CODMUNRES']).agg(['size'])"
   ]
  },
  {
   "cell_type": "code",
   "execution_count": 72,
   "id": "0b750cfe",
   "metadata": {},
   "outputs": [],
   "source": [
    "df_cit = df_cit['DTOBITO'].sort_values('size', ascending=False).sort_index(level=[0], sort_remaining=False)"
   ]
  },
  {
   "cell_type": "code",
   "execution_count": 73,
   "id": "fb7060d9",
   "metadata": {},
   "outputs": [],
   "source": [
    "cit_aux=[]\n",
    "val_aux=[]\n",
    "for i in df_cit.index.get_level_values('estado').unique():\n",
    "    cit_aux.append(df_cit.loc[i].index[0]+','+i)\n",
    "    val_aux.append(df_cit.loc[i]['size'].max())\n",
    "data = {'cidade/estado': cit_aux , 'quantidade':val_aux}\n",
    "df_cit = pd.DataFrame(data=data)"
   ]
  },
  {
   "cell_type": "code",
   "execution_count": 74,
   "id": "1d269602",
   "metadata": {},
   "outputs": [
    {
     "data": {
      "text/html": [
       "<div>\n",
       "<style scoped>\n",
       "    .dataframe tbody tr th:only-of-type {\n",
       "        vertical-align: middle;\n",
       "    }\n",
       "\n",
       "    .dataframe tbody tr th {\n",
       "        vertical-align: top;\n",
       "    }\n",
       "\n",
       "    .dataframe thead th {\n",
       "        text-align: right;\n",
       "    }\n",
       "</style>\n",
       "<table border=\"1\" class=\"dataframe\">\n",
       "  <thead>\n",
       "    <tr style=\"text-align: right;\">\n",
       "      <th></th>\n",
       "      <th>cidade/estado</th>\n",
       "      <th>quantidade</th>\n",
       "    </tr>\n",
       "  </thead>\n",
       "  <tbody>\n",
       "    <tr>\n",
       "      <th>0</th>\n",
       "      <td>Rio Branco,AC</td>\n",
       "      <td>231</td>\n",
       "    </tr>\n",
       "    <tr>\n",
       "      <th>1</th>\n",
       "      <td>Maceió,AL</td>\n",
       "      <td>317</td>\n",
       "    </tr>\n",
       "    <tr>\n",
       "      <th>2</th>\n",
       "      <td>Manaus,AM</td>\n",
       "      <td>1005</td>\n",
       "    </tr>\n",
       "    <tr>\n",
       "      <th>3</th>\n",
       "      <td>Macapá,AP</td>\n",
       "      <td>279</td>\n",
       "    </tr>\n",
       "    <tr>\n",
       "      <th>4</th>\n",
       "      <td>Salvador,BA</td>\n",
       "      <td>683</td>\n",
       "    </tr>\n",
       "    <tr>\n",
       "      <th>5</th>\n",
       "      <td>Fortaleza,CE</td>\n",
       "      <td>1374</td>\n",
       "    </tr>\n",
       "    <tr>\n",
       "      <th>6</th>\n",
       "      <td>Brasília,DF</td>\n",
       "      <td>1490</td>\n",
       "    </tr>\n",
       "    <tr>\n",
       "      <th>7</th>\n",
       "      <td>Serra,ES</td>\n",
       "      <td>198</td>\n",
       "    </tr>\n",
       "    <tr>\n",
       "      <th>8</th>\n",
       "      <td>Goiânia,GO</td>\n",
       "      <td>886</td>\n",
       "    </tr>\n",
       "    <tr>\n",
       "      <th>9</th>\n",
       "      <td>São Luís,MA</td>\n",
       "      <td>374</td>\n",
       "    </tr>\n",
       "    <tr>\n",
       "      <th>10</th>\n",
       "      <td>Belo Horizonte,MG</td>\n",
       "      <td>1420</td>\n",
       "    </tr>\n",
       "    <tr>\n",
       "      <th>11</th>\n",
       "      <td>Campo Grande,MS</td>\n",
       "      <td>569</td>\n",
       "    </tr>\n",
       "    <tr>\n",
       "      <th>12</th>\n",
       "      <td>Cuiabá,MT</td>\n",
       "      <td>292</td>\n",
       "    </tr>\n",
       "    <tr>\n",
       "      <th>13</th>\n",
       "      <td>Belém,PA</td>\n",
       "      <td>412</td>\n",
       "    </tr>\n",
       "    <tr>\n",
       "      <th>14</th>\n",
       "      <td>João Pessoa,PB</td>\n",
       "      <td>280</td>\n",
       "    </tr>\n",
       "    <tr>\n",
       "      <th>15</th>\n",
       "      <td>Recife,PE</td>\n",
       "      <td>526</td>\n",
       "    </tr>\n",
       "    <tr>\n",
       "      <th>16</th>\n",
       "      <td>Teresina,PI</td>\n",
       "      <td>652</td>\n",
       "    </tr>\n",
       "    <tr>\n",
       "      <th>17</th>\n",
       "      <td>Curitiba,PR</td>\n",
       "      <td>888</td>\n",
       "    </tr>\n",
       "    <tr>\n",
       "      <th>18</th>\n",
       "      <td>Rio de Janeiro,RJ</td>\n",
       "      <td>2147</td>\n",
       "    </tr>\n",
       "    <tr>\n",
       "      <th>19</th>\n",
       "      <td>Natal,RN</td>\n",
       "      <td>273</td>\n",
       "    </tr>\n",
       "    <tr>\n",
       "      <th>20</th>\n",
       "      <td>Porto Velho,RO</td>\n",
       "      <td>333</td>\n",
       "    </tr>\n",
       "    <tr>\n",
       "      <th>21</th>\n",
       "      <td>Boa Vista,RR</td>\n",
       "      <td>228</td>\n",
       "    </tr>\n",
       "    <tr>\n",
       "      <th>22</th>\n",
       "      <td>Porto Alegre,RS</td>\n",
       "      <td>1011</td>\n",
       "    </tr>\n",
       "    <tr>\n",
       "      <th>23</th>\n",
       "      <td>Joinville,SC</td>\n",
       "      <td>387</td>\n",
       "    </tr>\n",
       "    <tr>\n",
       "      <th>24</th>\n",
       "      <td>Aracaju,SE</td>\n",
       "      <td>314</td>\n",
       "    </tr>\n",
       "    <tr>\n",
       "      <th>25</th>\n",
       "      <td>São Paulo,SP</td>\n",
       "      <td>4490</td>\n",
       "    </tr>\n",
       "    <tr>\n",
       "      <th>26</th>\n",
       "      <td>Palmas,TO</td>\n",
       "      <td>138</td>\n",
       "    </tr>\n",
       "  </tbody>\n",
       "</table>\n",
       "</div>"
      ],
      "text/plain": [
       "        cidade/estado  quantidade\n",
       "0       Rio Branco,AC         231\n",
       "1           Maceió,AL         317\n",
       "2           Manaus,AM        1005\n",
       "3           Macapá,AP         279\n",
       "4         Salvador,BA         683\n",
       "5        Fortaleza,CE        1374\n",
       "6         Brasília,DF        1490\n",
       "7            Serra,ES         198\n",
       "8          Goiânia,GO         886\n",
       "9         São Luís,MA         374\n",
       "10  Belo Horizonte,MG        1420\n",
       "11    Campo Grande,MS         569\n",
       "12          Cuiabá,MT         292\n",
       "13           Belém,PA         412\n",
       "14     João Pessoa,PB         280\n",
       "15          Recife,PE         526\n",
       "16        Teresina,PI         652\n",
       "17        Curitiba,PR         888\n",
       "18  Rio de Janeiro,RJ        2147\n",
       "19           Natal,RN         273\n",
       "20     Porto Velho,RO         333\n",
       "21       Boa Vista,RR         228\n",
       "22    Porto Alegre,RS        1011\n",
       "23       Joinville,SC         387\n",
       "24         Aracaju,SE         314\n",
       "25       São Paulo,SP        4490\n",
       "26          Palmas,TO         138"
      ]
     },
     "execution_count": 74,
     "metadata": {},
     "output_type": "execute_result"
    }
   ],
   "source": [
    "df_cit"
   ]
  },
  {
   "cell_type": "code",
   "execution_count": 75,
   "id": "08b54b91",
   "metadata": {},
   "outputs": [
    {
     "data": {
      "application/vnd.plotly.v1+json": {
       "config": {
        "plotlyServerURL": "https://plot.ly"
       },
       "data": [
        {
         "alignmentgroup": "True",
         "hovertemplate": "quantidade=%{x}<br>cidade/estado=%{y}<extra></extra>",
         "legendgroup": "",
         "marker": {
          "color": "#ffd700",
          "pattern": {
           "shape": ""
          }
         },
         "name": "",
         "offsetgroup": "",
         "orientation": "h",
         "showlegend": false,
         "textposition": "auto",
         "type": "bar",
         "x": [
          231,
          317,
          1005,
          279,
          683,
          1374,
          1490,
          198,
          886,
          374,
          1420,
          569,
          292,
          412,
          280,
          526,
          652,
          888,
          2147,
          273,
          333,
          228,
          1011,
          387,
          314,
          4490,
          138
         ],
         "xaxis": "x",
         "y": [
          "Rio Branco,AC",
          "Maceió,AL",
          "Manaus,AM",
          "Macapá,AP",
          "Salvador,BA",
          "Fortaleza,CE",
          "Brasília,DF",
          "Serra,ES",
          "Goiânia,GO",
          "São Luís,MA",
          "Belo Horizonte,MG",
          "Campo Grande,MS",
          "Cuiabá,MT",
          "Belém,PA",
          "João Pessoa,PB",
          "Recife,PE",
          "Teresina,PI",
          "Curitiba,PR",
          "Rio de Janeiro,RJ",
          "Natal,RN",
          "Porto Velho,RO",
          "Boa Vista,RR",
          "Porto Alegre,RS",
          "Joinville,SC",
          "Aracaju,SE",
          "São Paulo,SP",
          "Palmas,TO"
         ],
         "yaxis": "y"
        }
       ],
       "layout": {
        "barmode": "relative",
        "height": 800,
        "legend": {
         "tracegroupgap": 0
        },
        "template": {
         "data": {
          "bar": [
           {
            "error_x": {
             "color": "#2a3f5f"
            },
            "error_y": {
             "color": "#2a3f5f"
            },
            "marker": {
             "line": {
              "color": "#E5ECF6",
              "width": 0.5
             },
             "pattern": {
              "fillmode": "overlay",
              "size": 10,
              "solidity": 0.2
             }
            },
            "type": "bar"
           }
          ],
          "barpolar": [
           {
            "marker": {
             "line": {
              "color": "#E5ECF6",
              "width": 0.5
             },
             "pattern": {
              "fillmode": "overlay",
              "size": 10,
              "solidity": 0.2
             }
            },
            "type": "barpolar"
           }
          ],
          "carpet": [
           {
            "aaxis": {
             "endlinecolor": "#2a3f5f",
             "gridcolor": "white",
             "linecolor": "white",
             "minorgridcolor": "white",
             "startlinecolor": "#2a3f5f"
            },
            "baxis": {
             "endlinecolor": "#2a3f5f",
             "gridcolor": "white",
             "linecolor": "white",
             "minorgridcolor": "white",
             "startlinecolor": "#2a3f5f"
            },
            "type": "carpet"
           }
          ],
          "choropleth": [
           {
            "colorbar": {
             "outlinewidth": 0,
             "ticks": ""
            },
            "type": "choropleth"
           }
          ],
          "contour": [
           {
            "colorbar": {
             "outlinewidth": 0,
             "ticks": ""
            },
            "colorscale": [
             [
              0,
              "#0d0887"
             ],
             [
              0.1111111111111111,
              "#46039f"
             ],
             [
              0.2222222222222222,
              "#7201a8"
             ],
             [
              0.3333333333333333,
              "#9c179e"
             ],
             [
              0.4444444444444444,
              "#bd3786"
             ],
             [
              0.5555555555555556,
              "#d8576b"
             ],
             [
              0.6666666666666666,
              "#ed7953"
             ],
             [
              0.7777777777777778,
              "#fb9f3a"
             ],
             [
              0.8888888888888888,
              "#fdca26"
             ],
             [
              1,
              "#f0f921"
             ]
            ],
            "type": "contour"
           }
          ],
          "contourcarpet": [
           {
            "colorbar": {
             "outlinewidth": 0,
             "ticks": ""
            },
            "type": "contourcarpet"
           }
          ],
          "heatmap": [
           {
            "colorbar": {
             "outlinewidth": 0,
             "ticks": ""
            },
            "colorscale": [
             [
              0,
              "#0d0887"
             ],
             [
              0.1111111111111111,
              "#46039f"
             ],
             [
              0.2222222222222222,
              "#7201a8"
             ],
             [
              0.3333333333333333,
              "#9c179e"
             ],
             [
              0.4444444444444444,
              "#bd3786"
             ],
             [
              0.5555555555555556,
              "#d8576b"
             ],
             [
              0.6666666666666666,
              "#ed7953"
             ],
             [
              0.7777777777777778,
              "#fb9f3a"
             ],
             [
              0.8888888888888888,
              "#fdca26"
             ],
             [
              1,
              "#f0f921"
             ]
            ],
            "type": "heatmap"
           }
          ],
          "heatmapgl": [
           {
            "colorbar": {
             "outlinewidth": 0,
             "ticks": ""
            },
            "colorscale": [
             [
              0,
              "#0d0887"
             ],
             [
              0.1111111111111111,
              "#46039f"
             ],
             [
              0.2222222222222222,
              "#7201a8"
             ],
             [
              0.3333333333333333,
              "#9c179e"
             ],
             [
              0.4444444444444444,
              "#bd3786"
             ],
             [
              0.5555555555555556,
              "#d8576b"
             ],
             [
              0.6666666666666666,
              "#ed7953"
             ],
             [
              0.7777777777777778,
              "#fb9f3a"
             ],
             [
              0.8888888888888888,
              "#fdca26"
             ],
             [
              1,
              "#f0f921"
             ]
            ],
            "type": "heatmapgl"
           }
          ],
          "histogram": [
           {
            "marker": {
             "pattern": {
              "fillmode": "overlay",
              "size": 10,
              "solidity": 0.2
             }
            },
            "type": "histogram"
           }
          ],
          "histogram2d": [
           {
            "colorbar": {
             "outlinewidth": 0,
             "ticks": ""
            },
            "colorscale": [
             [
              0,
              "#0d0887"
             ],
             [
              0.1111111111111111,
              "#46039f"
             ],
             [
              0.2222222222222222,
              "#7201a8"
             ],
             [
              0.3333333333333333,
              "#9c179e"
             ],
             [
              0.4444444444444444,
              "#bd3786"
             ],
             [
              0.5555555555555556,
              "#d8576b"
             ],
             [
              0.6666666666666666,
              "#ed7953"
             ],
             [
              0.7777777777777778,
              "#fb9f3a"
             ],
             [
              0.8888888888888888,
              "#fdca26"
             ],
             [
              1,
              "#f0f921"
             ]
            ],
            "type": "histogram2d"
           }
          ],
          "histogram2dcontour": [
           {
            "colorbar": {
             "outlinewidth": 0,
             "ticks": ""
            },
            "colorscale": [
             [
              0,
              "#0d0887"
             ],
             [
              0.1111111111111111,
              "#46039f"
             ],
             [
              0.2222222222222222,
              "#7201a8"
             ],
             [
              0.3333333333333333,
              "#9c179e"
             ],
             [
              0.4444444444444444,
              "#bd3786"
             ],
             [
              0.5555555555555556,
              "#d8576b"
             ],
             [
              0.6666666666666666,
              "#ed7953"
             ],
             [
              0.7777777777777778,
              "#fb9f3a"
             ],
             [
              0.8888888888888888,
              "#fdca26"
             ],
             [
              1,
              "#f0f921"
             ]
            ],
            "type": "histogram2dcontour"
           }
          ],
          "mesh3d": [
           {
            "colorbar": {
             "outlinewidth": 0,
             "ticks": ""
            },
            "type": "mesh3d"
           }
          ],
          "parcoords": [
           {
            "line": {
             "colorbar": {
              "outlinewidth": 0,
              "ticks": ""
             }
            },
            "type": "parcoords"
           }
          ],
          "pie": [
           {
            "automargin": true,
            "type": "pie"
           }
          ],
          "scatter": [
           {
            "marker": {
             "colorbar": {
              "outlinewidth": 0,
              "ticks": ""
             }
            },
            "type": "scatter"
           }
          ],
          "scatter3d": [
           {
            "line": {
             "colorbar": {
              "outlinewidth": 0,
              "ticks": ""
             }
            },
            "marker": {
             "colorbar": {
              "outlinewidth": 0,
              "ticks": ""
             }
            },
            "type": "scatter3d"
           }
          ],
          "scattercarpet": [
           {
            "marker": {
             "colorbar": {
              "outlinewidth": 0,
              "ticks": ""
             }
            },
            "type": "scattercarpet"
           }
          ],
          "scattergeo": [
           {
            "marker": {
             "colorbar": {
              "outlinewidth": 0,
              "ticks": ""
             }
            },
            "type": "scattergeo"
           }
          ],
          "scattergl": [
           {
            "marker": {
             "colorbar": {
              "outlinewidth": 0,
              "ticks": ""
             }
            },
            "type": "scattergl"
           }
          ],
          "scattermapbox": [
           {
            "marker": {
             "colorbar": {
              "outlinewidth": 0,
              "ticks": ""
             }
            },
            "type": "scattermapbox"
           }
          ],
          "scatterpolar": [
           {
            "marker": {
             "colorbar": {
              "outlinewidth": 0,
              "ticks": ""
             }
            },
            "type": "scatterpolar"
           }
          ],
          "scatterpolargl": [
           {
            "marker": {
             "colorbar": {
              "outlinewidth": 0,
              "ticks": ""
             }
            },
            "type": "scatterpolargl"
           }
          ],
          "scatterternary": [
           {
            "marker": {
             "colorbar": {
              "outlinewidth": 0,
              "ticks": ""
             }
            },
            "type": "scatterternary"
           }
          ],
          "surface": [
           {
            "colorbar": {
             "outlinewidth": 0,
             "ticks": ""
            },
            "colorscale": [
             [
              0,
              "#0d0887"
             ],
             [
              0.1111111111111111,
              "#46039f"
             ],
             [
              0.2222222222222222,
              "#7201a8"
             ],
             [
              0.3333333333333333,
              "#9c179e"
             ],
             [
              0.4444444444444444,
              "#bd3786"
             ],
             [
              0.5555555555555556,
              "#d8576b"
             ],
             [
              0.6666666666666666,
              "#ed7953"
             ],
             [
              0.7777777777777778,
              "#fb9f3a"
             ],
             [
              0.8888888888888888,
              "#fdca26"
             ],
             [
              1,
              "#f0f921"
             ]
            ],
            "type": "surface"
           }
          ],
          "table": [
           {
            "cells": {
             "fill": {
              "color": "#EBF0F8"
             },
             "line": {
              "color": "white"
             }
            },
            "header": {
             "fill": {
              "color": "#C8D4E3"
             },
             "line": {
              "color": "white"
             }
            },
            "type": "table"
           }
          ]
         },
         "layout": {
          "annotationdefaults": {
           "arrowcolor": "#2a3f5f",
           "arrowhead": 0,
           "arrowwidth": 1
          },
          "autotypenumbers": "strict",
          "coloraxis": {
           "colorbar": {
            "outlinewidth": 0,
            "ticks": ""
           }
          },
          "colorscale": {
           "diverging": [
            [
             0,
             "#8e0152"
            ],
            [
             0.1,
             "#c51b7d"
            ],
            [
             0.2,
             "#de77ae"
            ],
            [
             0.3,
             "#f1b6da"
            ],
            [
             0.4,
             "#fde0ef"
            ],
            [
             0.5,
             "#f7f7f7"
            ],
            [
             0.6,
             "#e6f5d0"
            ],
            [
             0.7,
             "#b8e186"
            ],
            [
             0.8,
             "#7fbc41"
            ],
            [
             0.9,
             "#4d9221"
            ],
            [
             1,
             "#276419"
            ]
           ],
           "sequential": [
            [
             0,
             "#0d0887"
            ],
            [
             0.1111111111111111,
             "#46039f"
            ],
            [
             0.2222222222222222,
             "#7201a8"
            ],
            [
             0.3333333333333333,
             "#9c179e"
            ],
            [
             0.4444444444444444,
             "#bd3786"
            ],
            [
             0.5555555555555556,
             "#d8576b"
            ],
            [
             0.6666666666666666,
             "#ed7953"
            ],
            [
             0.7777777777777778,
             "#fb9f3a"
            ],
            [
             0.8888888888888888,
             "#fdca26"
            ],
            [
             1,
             "#f0f921"
            ]
           ],
           "sequentialminus": [
            [
             0,
             "#0d0887"
            ],
            [
             0.1111111111111111,
             "#46039f"
            ],
            [
             0.2222222222222222,
             "#7201a8"
            ],
            [
             0.3333333333333333,
             "#9c179e"
            ],
            [
             0.4444444444444444,
             "#bd3786"
            ],
            [
             0.5555555555555556,
             "#d8576b"
            ],
            [
             0.6666666666666666,
             "#ed7953"
            ],
            [
             0.7777777777777778,
             "#fb9f3a"
            ],
            [
             0.8888888888888888,
             "#fdca26"
            ],
            [
             1,
             "#f0f921"
            ]
           ]
          },
          "colorway": [
           "#636efa",
           "#EF553B",
           "#00cc96",
           "#ab63fa",
           "#FFA15A",
           "#19d3f3",
           "#FF6692",
           "#B6E880",
           "#FF97FF",
           "#FECB52"
          ],
          "font": {
           "color": "#2a3f5f"
          },
          "geo": {
           "bgcolor": "white",
           "lakecolor": "white",
           "landcolor": "#E5ECF6",
           "showlakes": true,
           "showland": true,
           "subunitcolor": "white"
          },
          "hoverlabel": {
           "align": "left"
          },
          "hovermode": "closest",
          "mapbox": {
           "style": "light"
          },
          "paper_bgcolor": "white",
          "plot_bgcolor": "#E5ECF6",
          "polar": {
           "angularaxis": {
            "gridcolor": "white",
            "linecolor": "white",
            "ticks": ""
           },
           "bgcolor": "#E5ECF6",
           "radialaxis": {
            "gridcolor": "white",
            "linecolor": "white",
            "ticks": ""
           }
          },
          "scene": {
           "xaxis": {
            "backgroundcolor": "#E5ECF6",
            "gridcolor": "white",
            "gridwidth": 2,
            "linecolor": "white",
            "showbackground": true,
            "ticks": "",
            "zerolinecolor": "white"
           },
           "yaxis": {
            "backgroundcolor": "#E5ECF6",
            "gridcolor": "white",
            "gridwidth": 2,
            "linecolor": "white",
            "showbackground": true,
            "ticks": "",
            "zerolinecolor": "white"
           },
           "zaxis": {
            "backgroundcolor": "#E5ECF6",
            "gridcolor": "white",
            "gridwidth": 2,
            "linecolor": "white",
            "showbackground": true,
            "ticks": "",
            "zerolinecolor": "white"
           }
          },
          "shapedefaults": {
           "line": {
            "color": "#2a3f5f"
           }
          },
          "ternary": {
           "aaxis": {
            "gridcolor": "white",
            "linecolor": "white",
            "ticks": ""
           },
           "baxis": {
            "gridcolor": "white",
            "linecolor": "white",
            "ticks": ""
           },
           "bgcolor": "#E5ECF6",
           "caxis": {
            "gridcolor": "white",
            "linecolor": "white",
            "ticks": ""
           }
          },
          "title": {
           "x": 0.05
          },
          "xaxis": {
           "automargin": true,
           "gridcolor": "white",
           "linecolor": "white",
           "ticks": "",
           "title": {
            "standoff": 15
           },
           "zerolinecolor": "white",
           "zerolinewidth": 2
          },
          "yaxis": {
           "automargin": true,
           "gridcolor": "white",
           "linecolor": "white",
           "ticks": "",
           "title": {
            "standoff": 15
           },
           "zerolinecolor": "white",
           "zerolinewidth": 2
          }
         }
        },
        "title": {
         "text": "Cidades com maior número de suicídio por estado no período de 2010 a 2019"
        },
        "xaxis": {
         "anchor": "y",
         "domain": [
          0,
          1
         ],
         "title": {
          "text": "quantidade"
         }
        },
        "yaxis": {
         "anchor": "x",
         "domain": [
          0,
          1
         ],
         "title": {
          "text": "cidade/estado"
         }
        }
       }
      },
      "text/html": [
       "<div>                            <div id=\"2a37c2ac-f009-4a8d-ac7b-0e66df292cb4\" class=\"plotly-graph-div\" style=\"height:800px; width:100%;\"></div>            <script type=\"text/javascript\">                require([\"plotly\"], function(Plotly) {                    window.PLOTLYENV=window.PLOTLYENV || {};                                    if (document.getElementById(\"2a37c2ac-f009-4a8d-ac7b-0e66df292cb4\")) {                    Plotly.newPlot(                        \"2a37c2ac-f009-4a8d-ac7b-0e66df292cb4\",                        [{\"alignmentgroup\":\"True\",\"hovertemplate\":\"quantidade=%{x}<br>cidade/estado=%{y}<extra></extra>\",\"legendgroup\":\"\",\"marker\":{\"color\":\"#ffd700\",\"pattern\":{\"shape\":\"\"}},\"name\":\"\",\"offsetgroup\":\"\",\"orientation\":\"h\",\"showlegend\":false,\"textposition\":\"auto\",\"type\":\"bar\",\"x\":[231,317,1005,279,683,1374,1490,198,886,374,1420,569,292,412,280,526,652,888,2147,273,333,228,1011,387,314,4490,138],\"xaxis\":\"x\",\"y\":[\"Rio Branco,AC\",\"Macei\\u00f3,AL\",\"Manaus,AM\",\"Macap\\u00e1,AP\",\"Salvador,BA\",\"Fortaleza,CE\",\"Bras\\u00edlia,DF\",\"Serra,ES\",\"Goi\\u00e2nia,GO\",\"S\\u00e3o Lu\\u00eds,MA\",\"Belo Horizonte,MG\",\"Campo Grande,MS\",\"Cuiab\\u00e1,MT\",\"Bel\\u00e9m,PA\",\"Jo\\u00e3o Pessoa,PB\",\"Recife,PE\",\"Teresina,PI\",\"Curitiba,PR\",\"Rio de Janeiro,RJ\",\"Natal,RN\",\"Porto Velho,RO\",\"Boa Vista,RR\",\"Porto Alegre,RS\",\"Joinville,SC\",\"Aracaju,SE\",\"S\\u00e3o Paulo,SP\",\"Palmas,TO\"],\"yaxis\":\"y\"}],                        {\"barmode\":\"relative\",\"height\":800,\"legend\":{\"tracegroupgap\":0},\"template\":{\"data\":{\"bar\":[{\"error_x\":{\"color\":\"#2a3f5f\"},\"error_y\":{\"color\":\"#2a3f5f\"},\"marker\":{\"line\":{\"color\":\"#E5ECF6\",\"width\":0.5},\"pattern\":{\"fillmode\":\"overlay\",\"size\":10,\"solidity\":0.2}},\"type\":\"bar\"}],\"barpolar\":[{\"marker\":{\"line\":{\"color\":\"#E5ECF6\",\"width\":0.5},\"pattern\":{\"fillmode\":\"overlay\",\"size\":10,\"solidity\":0.2}},\"type\":\"barpolar\"}],\"carpet\":[{\"aaxis\":{\"endlinecolor\":\"#2a3f5f\",\"gridcolor\":\"white\",\"linecolor\":\"white\",\"minorgridcolor\":\"white\",\"startlinecolor\":\"#2a3f5f\"},\"baxis\":{\"endlinecolor\":\"#2a3f5f\",\"gridcolor\":\"white\",\"linecolor\":\"white\",\"minorgridcolor\":\"white\",\"startlinecolor\":\"#2a3f5f\"},\"type\":\"carpet\"}],\"choropleth\":[{\"colorbar\":{\"outlinewidth\":0,\"ticks\":\"\"},\"type\":\"choropleth\"}],\"contour\":[{\"colorbar\":{\"outlinewidth\":0,\"ticks\":\"\"},\"colorscale\":[[0.0,\"#0d0887\"],[0.1111111111111111,\"#46039f\"],[0.2222222222222222,\"#7201a8\"],[0.3333333333333333,\"#9c179e\"],[0.4444444444444444,\"#bd3786\"],[0.5555555555555556,\"#d8576b\"],[0.6666666666666666,\"#ed7953\"],[0.7777777777777778,\"#fb9f3a\"],[0.8888888888888888,\"#fdca26\"],[1.0,\"#f0f921\"]],\"type\":\"contour\"}],\"contourcarpet\":[{\"colorbar\":{\"outlinewidth\":0,\"ticks\":\"\"},\"type\":\"contourcarpet\"}],\"heatmap\":[{\"colorbar\":{\"outlinewidth\":0,\"ticks\":\"\"},\"colorscale\":[[0.0,\"#0d0887\"],[0.1111111111111111,\"#46039f\"],[0.2222222222222222,\"#7201a8\"],[0.3333333333333333,\"#9c179e\"],[0.4444444444444444,\"#bd3786\"],[0.5555555555555556,\"#d8576b\"],[0.6666666666666666,\"#ed7953\"],[0.7777777777777778,\"#fb9f3a\"],[0.8888888888888888,\"#fdca26\"],[1.0,\"#f0f921\"]],\"type\":\"heatmap\"}],\"heatmapgl\":[{\"colorbar\":{\"outlinewidth\":0,\"ticks\":\"\"},\"colorscale\":[[0.0,\"#0d0887\"],[0.1111111111111111,\"#46039f\"],[0.2222222222222222,\"#7201a8\"],[0.3333333333333333,\"#9c179e\"],[0.4444444444444444,\"#bd3786\"],[0.5555555555555556,\"#d8576b\"],[0.6666666666666666,\"#ed7953\"],[0.7777777777777778,\"#fb9f3a\"],[0.8888888888888888,\"#fdca26\"],[1.0,\"#f0f921\"]],\"type\":\"heatmapgl\"}],\"histogram\":[{\"marker\":{\"pattern\":{\"fillmode\":\"overlay\",\"size\":10,\"solidity\":0.2}},\"type\":\"histogram\"}],\"histogram2d\":[{\"colorbar\":{\"outlinewidth\":0,\"ticks\":\"\"},\"colorscale\":[[0.0,\"#0d0887\"],[0.1111111111111111,\"#46039f\"],[0.2222222222222222,\"#7201a8\"],[0.3333333333333333,\"#9c179e\"],[0.4444444444444444,\"#bd3786\"],[0.5555555555555556,\"#d8576b\"],[0.6666666666666666,\"#ed7953\"],[0.7777777777777778,\"#fb9f3a\"],[0.8888888888888888,\"#fdca26\"],[1.0,\"#f0f921\"]],\"type\":\"histogram2d\"}],\"histogram2dcontour\":[{\"colorbar\":{\"outlinewidth\":0,\"ticks\":\"\"},\"colorscale\":[[0.0,\"#0d0887\"],[0.1111111111111111,\"#46039f\"],[0.2222222222222222,\"#7201a8\"],[0.3333333333333333,\"#9c179e\"],[0.4444444444444444,\"#bd3786\"],[0.5555555555555556,\"#d8576b\"],[0.6666666666666666,\"#ed7953\"],[0.7777777777777778,\"#fb9f3a\"],[0.8888888888888888,\"#fdca26\"],[1.0,\"#f0f921\"]],\"type\":\"histogram2dcontour\"}],\"mesh3d\":[{\"colorbar\":{\"outlinewidth\":0,\"ticks\":\"\"},\"type\":\"mesh3d\"}],\"parcoords\":[{\"line\":{\"colorbar\":{\"outlinewidth\":0,\"ticks\":\"\"}},\"type\":\"parcoords\"}],\"pie\":[{\"automargin\":true,\"type\":\"pie\"}],\"scatter\":[{\"marker\":{\"colorbar\":{\"outlinewidth\":0,\"ticks\":\"\"}},\"type\":\"scatter\"}],\"scatter3d\":[{\"line\":{\"colorbar\":{\"outlinewidth\":0,\"ticks\":\"\"}},\"marker\":{\"colorbar\":{\"outlinewidth\":0,\"ticks\":\"\"}},\"type\":\"scatter3d\"}],\"scattercarpet\":[{\"marker\":{\"colorbar\":{\"outlinewidth\":0,\"ticks\":\"\"}},\"type\":\"scattercarpet\"}],\"scattergeo\":[{\"marker\":{\"colorbar\":{\"outlinewidth\":0,\"ticks\":\"\"}},\"type\":\"scattergeo\"}],\"scattergl\":[{\"marker\":{\"colorbar\":{\"outlinewidth\":0,\"ticks\":\"\"}},\"type\":\"scattergl\"}],\"scattermapbox\":[{\"marker\":{\"colorbar\":{\"outlinewidth\":0,\"ticks\":\"\"}},\"type\":\"scattermapbox\"}],\"scatterpolar\":[{\"marker\":{\"colorbar\":{\"outlinewidth\":0,\"ticks\":\"\"}},\"type\":\"scatterpolar\"}],\"scatterpolargl\":[{\"marker\":{\"colorbar\":{\"outlinewidth\":0,\"ticks\":\"\"}},\"type\":\"scatterpolargl\"}],\"scatterternary\":[{\"marker\":{\"colorbar\":{\"outlinewidth\":0,\"ticks\":\"\"}},\"type\":\"scatterternary\"}],\"surface\":[{\"colorbar\":{\"outlinewidth\":0,\"ticks\":\"\"},\"colorscale\":[[0.0,\"#0d0887\"],[0.1111111111111111,\"#46039f\"],[0.2222222222222222,\"#7201a8\"],[0.3333333333333333,\"#9c179e\"],[0.4444444444444444,\"#bd3786\"],[0.5555555555555556,\"#d8576b\"],[0.6666666666666666,\"#ed7953\"],[0.7777777777777778,\"#fb9f3a\"],[0.8888888888888888,\"#fdca26\"],[1.0,\"#f0f921\"]],\"type\":\"surface\"}],\"table\":[{\"cells\":{\"fill\":{\"color\":\"#EBF0F8\"},\"line\":{\"color\":\"white\"}},\"header\":{\"fill\":{\"color\":\"#C8D4E3\"},\"line\":{\"color\":\"white\"}},\"type\":\"table\"}]},\"layout\":{\"annotationdefaults\":{\"arrowcolor\":\"#2a3f5f\",\"arrowhead\":0,\"arrowwidth\":1},\"autotypenumbers\":\"strict\",\"coloraxis\":{\"colorbar\":{\"outlinewidth\":0,\"ticks\":\"\"}},\"colorscale\":{\"diverging\":[[0,\"#8e0152\"],[0.1,\"#c51b7d\"],[0.2,\"#de77ae\"],[0.3,\"#f1b6da\"],[0.4,\"#fde0ef\"],[0.5,\"#f7f7f7\"],[0.6,\"#e6f5d0\"],[0.7,\"#b8e186\"],[0.8,\"#7fbc41\"],[0.9,\"#4d9221\"],[1,\"#276419\"]],\"sequential\":[[0.0,\"#0d0887\"],[0.1111111111111111,\"#46039f\"],[0.2222222222222222,\"#7201a8\"],[0.3333333333333333,\"#9c179e\"],[0.4444444444444444,\"#bd3786\"],[0.5555555555555556,\"#d8576b\"],[0.6666666666666666,\"#ed7953\"],[0.7777777777777778,\"#fb9f3a\"],[0.8888888888888888,\"#fdca26\"],[1.0,\"#f0f921\"]],\"sequentialminus\":[[0.0,\"#0d0887\"],[0.1111111111111111,\"#46039f\"],[0.2222222222222222,\"#7201a8\"],[0.3333333333333333,\"#9c179e\"],[0.4444444444444444,\"#bd3786\"],[0.5555555555555556,\"#d8576b\"],[0.6666666666666666,\"#ed7953\"],[0.7777777777777778,\"#fb9f3a\"],[0.8888888888888888,\"#fdca26\"],[1.0,\"#f0f921\"]]},\"colorway\":[\"#636efa\",\"#EF553B\",\"#00cc96\",\"#ab63fa\",\"#FFA15A\",\"#19d3f3\",\"#FF6692\",\"#B6E880\",\"#FF97FF\",\"#FECB52\"],\"font\":{\"color\":\"#2a3f5f\"},\"geo\":{\"bgcolor\":\"white\",\"lakecolor\":\"white\",\"landcolor\":\"#E5ECF6\",\"showlakes\":true,\"showland\":true,\"subunitcolor\":\"white\"},\"hoverlabel\":{\"align\":\"left\"},\"hovermode\":\"closest\",\"mapbox\":{\"style\":\"light\"},\"paper_bgcolor\":\"white\",\"plot_bgcolor\":\"#E5ECF6\",\"polar\":{\"angularaxis\":{\"gridcolor\":\"white\",\"linecolor\":\"white\",\"ticks\":\"\"},\"bgcolor\":\"#E5ECF6\",\"radialaxis\":{\"gridcolor\":\"white\",\"linecolor\":\"white\",\"ticks\":\"\"}},\"scene\":{\"xaxis\":{\"backgroundcolor\":\"#E5ECF6\",\"gridcolor\":\"white\",\"gridwidth\":2,\"linecolor\":\"white\",\"showbackground\":true,\"ticks\":\"\",\"zerolinecolor\":\"white\"},\"yaxis\":{\"backgroundcolor\":\"#E5ECF6\",\"gridcolor\":\"white\",\"gridwidth\":2,\"linecolor\":\"white\",\"showbackground\":true,\"ticks\":\"\",\"zerolinecolor\":\"white\"},\"zaxis\":{\"backgroundcolor\":\"#E5ECF6\",\"gridcolor\":\"white\",\"gridwidth\":2,\"linecolor\":\"white\",\"showbackground\":true,\"ticks\":\"\",\"zerolinecolor\":\"white\"}},\"shapedefaults\":{\"line\":{\"color\":\"#2a3f5f\"}},\"ternary\":{\"aaxis\":{\"gridcolor\":\"white\",\"linecolor\":\"white\",\"ticks\":\"\"},\"baxis\":{\"gridcolor\":\"white\",\"linecolor\":\"white\",\"ticks\":\"\"},\"bgcolor\":\"#E5ECF6\",\"caxis\":{\"gridcolor\":\"white\",\"linecolor\":\"white\",\"ticks\":\"\"}},\"title\":{\"x\":0.05},\"xaxis\":{\"automargin\":true,\"gridcolor\":\"white\",\"linecolor\":\"white\",\"ticks\":\"\",\"title\":{\"standoff\":15},\"zerolinecolor\":\"white\",\"zerolinewidth\":2},\"yaxis\":{\"automargin\":true,\"gridcolor\":\"white\",\"linecolor\":\"white\",\"ticks\":\"\",\"title\":{\"standoff\":15},\"zerolinecolor\":\"white\",\"zerolinewidth\":2}}},\"title\":{\"text\":\"Cidades com maior n\\u00famero de suic\\u00eddio por estado no per\\u00edodo de 2010 a 2019\"},\"xaxis\":{\"anchor\":\"y\",\"domain\":[0.0,1.0],\"title\":{\"text\":\"quantidade\"}},\"yaxis\":{\"anchor\":\"x\",\"domain\":[0.0,1.0],\"title\":{\"text\":\"cidade/estado\"}}},                        {\"responsive\": true}                    ).then(function(){\n",
       "                            \n",
       "var gd = document.getElementById('2a37c2ac-f009-4a8d-ac7b-0e66df292cb4');\n",
       "var x = new MutationObserver(function (mutations, observer) {{\n",
       "        var display = window.getComputedStyle(gd).display;\n",
       "        if (!display || display === 'none') {{\n",
       "            console.log([gd, 'removed!']);\n",
       "            Plotly.purge(gd);\n",
       "            observer.disconnect();\n",
       "        }}\n",
       "}});\n",
       "\n",
       "// Listen for the removal of the full notebook cells\n",
       "var notebookContainer = gd.closest('#notebook-container');\n",
       "if (notebookContainer) {{\n",
       "    x.observe(notebookContainer, {childList: true});\n",
       "}}\n",
       "\n",
       "// Listen for the clearing of the current output cell\n",
       "var outputEl = gd.closest('.output');\n",
       "if (outputEl) {{\n",
       "    x.observe(outputEl, {childList: true});\n",
       "}}\n",
       "\n",
       "                        })                };                });            </script>        </div>"
      ]
     },
     "metadata": {},
     "output_type": "display_data"
    }
   ],
   "source": [
    "fig = px.bar(df_cit, y=\"cidade/estado\", x=\"quantidade\",\n",
    "             title='Cidades com maior número de suicídio por estado no período de 2010 a 2019',\n",
    "             height=800,\n",
    "            color_discrete_sequence=['#ffd700'])\n",
    "fig.show()"
   ]
  },
  {
   "cell_type": "markdown",
   "id": "54f45902",
   "metadata": {},
   "source": [
    "## Número de suicídio por sexo"
   ]
  },
  {
   "cell_type": "code",
   "execution_count": 76,
   "id": "a95b1895",
   "metadata": {},
   "outputs": [],
   "source": [
    "df_sex = df.groupby(['ano','SEXO']).agg('size').reset_index()"
   ]
  },
  {
   "cell_type": "code",
   "execution_count": 77,
   "id": "4757685a",
   "metadata": {},
   "outputs": [],
   "source": [
    "df_sex.columns = ['ano','SEXO', 'size']"
   ]
  },
  {
   "cell_type": "code",
   "execution_count": 78,
   "id": "1a19e0c1",
   "metadata": {},
   "outputs": [
    {
     "data": {
      "application/vnd.plotly.v1+json": {
       "config": {
        "plotlyServerURL": "https://plot.ly"
       },
       "data": [
        {
         "alignmentgroup": "True",
         "hovertemplate": "SEXO=%{x}<br>ano=2010<br>size=%{y}<extra></extra>",
         "ids": [
          "Feminino"
         ],
         "legendgroup": "Feminino",
         "marker": {
          "color": "#66a182",
          "pattern": {
           "shape": ""
          }
         },
         "name": "Feminino",
         "offsetgroup": "Feminino",
         "orientation": "v",
         "showlegend": true,
         "textposition": "auto",
         "type": "bar",
         "x": [
          "Feminino"
         ],
         "xaxis": "x",
         "y": [
          2084
         ],
         "yaxis": "y"
        },
        {
         "alignmentgroup": "True",
         "hovertemplate": "SEXO=%{x}<br>ano=2010<br>size=%{y}<extra></extra>",
         "ids": [
          "Masculino"
         ],
         "legendgroup": "Masculino",
         "marker": {
          "color": "#ffd700",
          "pattern": {
           "shape": ""
          }
         },
         "name": "Masculino",
         "offsetgroup": "Masculino",
         "orientation": "v",
         "showlegend": true,
         "textposition": "auto",
         "type": "bar",
         "x": [
          "Masculino"
         ],
         "xaxis": "x",
         "y": [
          7392
         ],
         "yaxis": "y"
        }
       ],
       "frames": [
        {
         "data": [
          {
           "alignmentgroup": "True",
           "hovertemplate": "SEXO=%{x}<br>ano=2010<br>size=%{y}<extra></extra>",
           "ids": [
            "Feminino"
           ],
           "legendgroup": "Feminino",
           "marker": {
            "color": "#66a182",
            "pattern": {
             "shape": ""
            }
           },
           "name": "Feminino",
           "offsetgroup": "Feminino",
           "orientation": "v",
           "showlegend": true,
           "textposition": "auto",
           "type": "bar",
           "x": [
            "Feminino"
           ],
           "xaxis": "x",
           "y": [
            2084
           ],
           "yaxis": "y"
          },
          {
           "alignmentgroup": "True",
           "hovertemplate": "SEXO=%{x}<br>ano=2010<br>size=%{y}<extra></extra>",
           "ids": [
            "Masculino"
           ],
           "legendgroup": "Masculino",
           "marker": {
            "color": "#ffd700",
            "pattern": {
             "shape": ""
            }
           },
           "name": "Masculino",
           "offsetgroup": "Masculino",
           "orientation": "v",
           "showlegend": true,
           "textposition": "auto",
           "type": "bar",
           "x": [
            "Masculino"
           ],
           "xaxis": "x",
           "y": [
            7392
           ],
           "yaxis": "y"
          }
         ],
         "name": "2010"
        },
        {
         "data": [
          {
           "alignmentgroup": "True",
           "hovertemplate": "SEXO=%{x}<br>ano=2011<br>size=%{y}<extra></extra>",
           "ids": [
            "Feminino"
           ],
           "legendgroup": "Feminino",
           "marker": {
            "color": "#66a182",
            "pattern": {
             "shape": ""
            }
           },
           "name": "Feminino",
           "offsetgroup": "Feminino",
           "orientation": "v",
           "showlegend": true,
           "textposition": "auto",
           "type": "bar",
           "x": [
            "Feminino"
           ],
           "xaxis": "x",
           "y": [
            2101
           ],
           "yaxis": "y"
          },
          {
           "alignmentgroup": "True",
           "hovertemplate": "SEXO=%{x}<br>ano=2011<br>size=%{y}<extra></extra>",
           "ids": [
            "Masculino"
           ],
           "legendgroup": "Masculino",
           "marker": {
            "color": "#ffd700",
            "pattern": {
             "shape": ""
            }
           },
           "name": "Masculino",
           "offsetgroup": "Masculino",
           "orientation": "v",
           "showlegend": true,
           "textposition": "auto",
           "type": "bar",
           "x": [
            "Masculino"
           ],
           "xaxis": "x",
           "y": [
            7780
           ],
           "yaxis": "y"
          }
         ],
         "name": "2011"
        },
        {
         "data": [
          {
           "alignmentgroup": "True",
           "hovertemplate": "SEXO=%{x}<br>ano=2012<br>size=%{y}<extra></extra>",
           "ids": [
            "Feminino"
           ],
           "legendgroup": "Feminino",
           "marker": {
            "color": "#66a182",
            "pattern": {
             "shape": ""
            }
           },
           "name": "Feminino",
           "offsetgroup": "Feminino",
           "orientation": "v",
           "showlegend": true,
           "textposition": "auto",
           "type": "bar",
           "x": [
            "Feminino"
           ],
           "xaxis": "x",
           "y": [
            2273
           ],
           "yaxis": "y"
          },
          {
           "alignmentgroup": "True",
           "hovertemplate": "SEXO=%{x}<br>ano=2012<br>size=%{y}<extra></extra>",
           "ids": [
            "Masculino"
           ],
           "legendgroup": "Masculino",
           "marker": {
            "color": "#ffd700",
            "pattern": {
             "shape": ""
            }
           },
           "name": "Masculino",
           "offsetgroup": "Masculino",
           "orientation": "v",
           "showlegend": true,
           "textposition": "auto",
           "type": "bar",
           "x": [
            "Masculino"
           ],
           "xaxis": "x",
           "y": [
            8090
           ],
           "yaxis": "y"
          }
         ],
         "name": "2012"
        },
        {
         "data": [
          {
           "alignmentgroup": "True",
           "hovertemplate": "SEXO=%{x}<br>ano=2013<br>size=%{y}<extra></extra>",
           "ids": [
            "Feminino"
           ],
           "legendgroup": "Feminino",
           "marker": {
            "color": "#66a182",
            "pattern": {
             "shape": ""
            }
           },
           "name": "Feminino",
           "offsetgroup": "Feminino",
           "orientation": "v",
           "showlegend": true,
           "textposition": "auto",
           "type": "bar",
           "x": [
            "Feminino"
           ],
           "xaxis": "x",
           "y": [
            2235
           ],
           "yaxis": "y"
          },
          {
           "alignmentgroup": "True",
           "hovertemplate": "SEXO=%{x}<br>ano=2013<br>size=%{y}<extra></extra>",
           "ids": [
            "Masculino"
           ],
           "legendgroup": "Masculino",
           "marker": {
            "color": "#ffd700",
            "pattern": {
             "shape": ""
            }
           },
           "name": "Masculino",
           "offsetgroup": "Masculino",
           "orientation": "v",
           "showlegend": true,
           "textposition": "auto",
           "type": "bar",
           "x": [
            "Masculino"
           ],
           "xaxis": "x",
           "y": [
            8343
           ],
           "yaxis": "y"
          }
         ],
         "name": "2013"
        },
        {
         "data": [
          {
           "alignmentgroup": "True",
           "hovertemplate": "SEXO=%{x}<br>ano=2014<br>size=%{y}<extra></extra>",
           "ids": [
            "Feminino"
           ],
           "legendgroup": "Feminino",
           "marker": {
            "color": "#66a182",
            "pattern": {
             "shape": ""
            }
           },
           "name": "Feminino",
           "offsetgroup": "Feminino",
           "orientation": "v",
           "showlegend": true,
           "textposition": "auto",
           "type": "bar",
           "x": [
            "Feminino"
           ],
           "xaxis": "x",
           "y": [
            2244
           ],
           "yaxis": "y"
          },
          {
           "alignmentgroup": "True",
           "hovertemplate": "SEXO=%{x}<br>ano=2014<br>size=%{y}<extra></extra>",
           "ids": [
            "Masculino"
           ],
           "legendgroup": "Masculino",
           "marker": {
            "color": "#ffd700",
            "pattern": {
             "shape": ""
            }
           },
           "name": "Masculino",
           "offsetgroup": "Masculino",
           "orientation": "v",
           "showlegend": true,
           "textposition": "auto",
           "type": "bar",
           "x": [
            "Masculino"
           ],
           "xaxis": "x",
           "y": [
            8438
           ],
           "yaxis": "y"
          }
         ],
         "name": "2014"
        },
        {
         "data": [
          {
           "alignmentgroup": "True",
           "hovertemplate": "SEXO=%{x}<br>ano=2015<br>size=%{y}<extra></extra>",
           "ids": [
            "Feminino"
           ],
           "legendgroup": "Feminino",
           "marker": {
            "color": "#66a182",
            "pattern": {
             "shape": ""
            }
           },
           "name": "Feminino",
           "offsetgroup": "Feminino",
           "orientation": "v",
           "showlegend": true,
           "textposition": "auto",
           "type": "bar",
           "x": [
            "Feminino"
           ],
           "xaxis": "x",
           "y": [
            2405
           ],
           "yaxis": "y"
          },
          {
           "alignmentgroup": "True",
           "hovertemplate": "SEXO=%{x}<br>ano=2015<br>size=%{y}<extra></extra>",
           "ids": [
            "Masculino"
           ],
           "legendgroup": "Masculino",
           "marker": {
            "color": "#ffd700",
            "pattern": {
             "shape": ""
            }
           },
           "name": "Masculino",
           "offsetgroup": "Masculino",
           "orientation": "v",
           "showlegend": true,
           "textposition": "auto",
           "type": "bar",
           "x": [
            "Masculino"
           ],
           "xaxis": "x",
           "y": [
            8804
           ],
           "yaxis": "y"
          }
         ],
         "name": "2015"
        },
        {
         "data": [
          {
           "alignmentgroup": "True",
           "hovertemplate": "SEXO=%{x}<br>ano=2016<br>size=%{y}<extra></extra>",
           "ids": [
            "Feminino"
           ],
           "legendgroup": "Feminino",
           "marker": {
            "color": "#66a182",
            "pattern": {
             "shape": ""
            }
           },
           "name": "Feminino",
           "offsetgroup": "Feminino",
           "orientation": "v",
           "showlegend": true,
           "textposition": "auto",
           "type": "bar",
           "x": [
            "Feminino"
           ],
           "xaxis": "x",
           "y": [
            2386
           ],
           "yaxis": "y"
          },
          {
           "alignmentgroup": "True",
           "hovertemplate": "SEXO=%{x}<br>ano=2016<br>size=%{y}<extra></extra>",
           "ids": [
            "Masculino"
           ],
           "legendgroup": "Masculino",
           "marker": {
            "color": "#ffd700",
            "pattern": {
             "shape": ""
            }
           },
           "name": "Masculino",
           "offsetgroup": "Masculino",
           "orientation": "v",
           "showlegend": true,
           "textposition": "auto",
           "type": "bar",
           "x": [
            "Masculino"
           ],
           "xaxis": "x",
           "y": [
            9067
           ],
           "yaxis": "y"
          }
         ],
         "name": "2016"
        },
        {
         "data": [
          {
           "alignmentgroup": "True",
           "hovertemplate": "SEXO=%{x}<br>ano=2017<br>size=%{y}<extra></extra>",
           "ids": [
            "Feminino"
           ],
           "legendgroup": "Feminino",
           "marker": {
            "color": "#66a182",
            "pattern": {
             "shape": ""
            }
           },
           "name": "Feminino",
           "offsetgroup": "Feminino",
           "orientation": "v",
           "showlegend": true,
           "textposition": "auto",
           "type": "bar",
           "x": [
            "Feminino"
           ],
           "xaxis": "x",
           "y": [
            2676
           ],
           "yaxis": "y"
          },
          {
           "alignmentgroup": "True",
           "hovertemplate": "SEXO=%{x}<br>ano=2017<br>size=%{y}<extra></extra>",
           "ids": [
            "Masculino"
           ],
           "legendgroup": "Masculino",
           "marker": {
            "color": "#ffd700",
            "pattern": {
             "shape": ""
            }
           },
           "name": "Masculino",
           "offsetgroup": "Masculino",
           "orientation": "v",
           "showlegend": true,
           "textposition": "auto",
           "type": "bar",
           "x": [
            "Masculino"
           ],
           "xaxis": "x",
           "y": [
            9840
           ],
           "yaxis": "y"
          }
         ],
         "name": "2017"
        },
        {
         "data": [
          {
           "alignmentgroup": "True",
           "hovertemplate": "SEXO=%{x}<br>ano=2018<br>size=%{y}<extra></extra>",
           "ids": [
            "Feminino"
           ],
           "legendgroup": "Feminino",
           "marker": {
            "color": "#66a182",
            "pattern": {
             "shape": ""
            }
           },
           "name": "Feminino",
           "offsetgroup": "Feminino",
           "orientation": "v",
           "showlegend": true,
           "textposition": "auto",
           "type": "bar",
           "x": [
            "Feminino"
           ],
           "xaxis": "x",
           "y": [
            2739
           ],
           "yaxis": "y"
          },
          {
           "alignmentgroup": "True",
           "hovertemplate": "SEXO=%{x}<br>ano=2018<br>size=%{y}<extra></extra>",
           "ids": [
            "Masculino"
           ],
           "legendgroup": "Masculino",
           "marker": {
            "color": "#ffd700",
            "pattern": {
             "shape": ""
            }
           },
           "name": "Masculino",
           "offsetgroup": "Masculino",
           "orientation": "v",
           "showlegend": true,
           "textposition": "auto",
           "type": "bar",
           "x": [
            "Masculino"
           ],
           "xaxis": "x",
           "y": [
            10020
           ],
           "yaxis": "y"
          }
         ],
         "name": "2018"
        },
        {
         "data": [
          {
           "alignmentgroup": "True",
           "hovertemplate": "SEXO=%{x}<br>ano=2019<br>size=%{y}<extra></extra>",
           "ids": [
            "Feminino"
           ],
           "legendgroup": "Feminino",
           "marker": {
            "color": "#66a182",
            "pattern": {
             "shape": ""
            }
           },
           "name": "Feminino",
           "offsetgroup": "Feminino",
           "orientation": "v",
           "showlegend": true,
           "textposition": "auto",
           "type": "bar",
           "x": [
            "Feminino"
           ],
           "xaxis": "x",
           "y": [
            2932
           ],
           "yaxis": "y"
          },
          {
           "alignmentgroup": "True",
           "hovertemplate": "SEXO=%{x}<br>ano=2019<br>size=%{y}<extra></extra>",
           "ids": [
            "Masculino"
           ],
           "legendgroup": "Masculino",
           "marker": {
            "color": "#ffd700",
            "pattern": {
             "shape": ""
            }
           },
           "name": "Masculino",
           "offsetgroup": "Masculino",
           "orientation": "v",
           "showlegend": true,
           "textposition": "auto",
           "type": "bar",
           "x": [
            "Masculino"
           ],
           "xaxis": "x",
           "y": [
            10620
           ],
           "yaxis": "y"
          }
         ],
         "name": "2019"
        }
       ],
       "layout": {
        "barmode": "relative",
        "legend": {
         "title": {
          "text": "SEXO"
         },
         "tracegroupgap": 0
        },
        "sliders": [
         {
          "active": 0,
          "currentvalue": {
           "prefix": "ano="
          },
          "len": 0.9,
          "pad": {
           "b": 10,
           "t": 60
          },
          "steps": [
           {
            "args": [
             [
              "2010"
             ],
             {
              "frame": {
               "duration": 0,
               "redraw": true
              },
              "fromcurrent": true,
              "mode": "immediate",
              "transition": {
               "duration": 0,
               "easing": "linear"
              }
             }
            ],
            "label": "2010",
            "method": "animate"
           },
           {
            "args": [
             [
              "2011"
             ],
             {
              "frame": {
               "duration": 0,
               "redraw": true
              },
              "fromcurrent": true,
              "mode": "immediate",
              "transition": {
               "duration": 0,
               "easing": "linear"
              }
             }
            ],
            "label": "2011",
            "method": "animate"
           },
           {
            "args": [
             [
              "2012"
             ],
             {
              "frame": {
               "duration": 0,
               "redraw": true
              },
              "fromcurrent": true,
              "mode": "immediate",
              "transition": {
               "duration": 0,
               "easing": "linear"
              }
             }
            ],
            "label": "2012",
            "method": "animate"
           },
           {
            "args": [
             [
              "2013"
             ],
             {
              "frame": {
               "duration": 0,
               "redraw": true
              },
              "fromcurrent": true,
              "mode": "immediate",
              "transition": {
               "duration": 0,
               "easing": "linear"
              }
             }
            ],
            "label": "2013",
            "method": "animate"
           },
           {
            "args": [
             [
              "2014"
             ],
             {
              "frame": {
               "duration": 0,
               "redraw": true
              },
              "fromcurrent": true,
              "mode": "immediate",
              "transition": {
               "duration": 0,
               "easing": "linear"
              }
             }
            ],
            "label": "2014",
            "method": "animate"
           },
           {
            "args": [
             [
              "2015"
             ],
             {
              "frame": {
               "duration": 0,
               "redraw": true
              },
              "fromcurrent": true,
              "mode": "immediate",
              "transition": {
               "duration": 0,
               "easing": "linear"
              }
             }
            ],
            "label": "2015",
            "method": "animate"
           },
           {
            "args": [
             [
              "2016"
             ],
             {
              "frame": {
               "duration": 0,
               "redraw": true
              },
              "fromcurrent": true,
              "mode": "immediate",
              "transition": {
               "duration": 0,
               "easing": "linear"
              }
             }
            ],
            "label": "2016",
            "method": "animate"
           },
           {
            "args": [
             [
              "2017"
             ],
             {
              "frame": {
               "duration": 0,
               "redraw": true
              },
              "fromcurrent": true,
              "mode": "immediate",
              "transition": {
               "duration": 0,
               "easing": "linear"
              }
             }
            ],
            "label": "2017",
            "method": "animate"
           },
           {
            "args": [
             [
              "2018"
             ],
             {
              "frame": {
               "duration": 0,
               "redraw": true
              },
              "fromcurrent": true,
              "mode": "immediate",
              "transition": {
               "duration": 0,
               "easing": "linear"
              }
             }
            ],
            "label": "2018",
            "method": "animate"
           },
           {
            "args": [
             [
              "2019"
             ],
             {
              "frame": {
               "duration": 0,
               "redraw": true
              },
              "fromcurrent": true,
              "mode": "immediate",
              "transition": {
               "duration": 0,
               "easing": "linear"
              }
             }
            ],
            "label": "2019",
            "method": "animate"
           }
          ],
          "x": 0.1,
          "xanchor": "left",
          "y": 0,
          "yanchor": "top"
         }
        ],
        "template": {
         "data": {
          "bar": [
           {
            "error_x": {
             "color": "#2a3f5f"
            },
            "error_y": {
             "color": "#2a3f5f"
            },
            "marker": {
             "line": {
              "color": "#E5ECF6",
              "width": 0.5
             },
             "pattern": {
              "fillmode": "overlay",
              "size": 10,
              "solidity": 0.2
             }
            },
            "type": "bar"
           }
          ],
          "barpolar": [
           {
            "marker": {
             "line": {
              "color": "#E5ECF6",
              "width": 0.5
             },
             "pattern": {
              "fillmode": "overlay",
              "size": 10,
              "solidity": 0.2
             }
            },
            "type": "barpolar"
           }
          ],
          "carpet": [
           {
            "aaxis": {
             "endlinecolor": "#2a3f5f",
             "gridcolor": "white",
             "linecolor": "white",
             "minorgridcolor": "white",
             "startlinecolor": "#2a3f5f"
            },
            "baxis": {
             "endlinecolor": "#2a3f5f",
             "gridcolor": "white",
             "linecolor": "white",
             "minorgridcolor": "white",
             "startlinecolor": "#2a3f5f"
            },
            "type": "carpet"
           }
          ],
          "choropleth": [
           {
            "colorbar": {
             "outlinewidth": 0,
             "ticks": ""
            },
            "type": "choropleth"
           }
          ],
          "contour": [
           {
            "colorbar": {
             "outlinewidth": 0,
             "ticks": ""
            },
            "colorscale": [
             [
              0,
              "#0d0887"
             ],
             [
              0.1111111111111111,
              "#46039f"
             ],
             [
              0.2222222222222222,
              "#7201a8"
             ],
             [
              0.3333333333333333,
              "#9c179e"
             ],
             [
              0.4444444444444444,
              "#bd3786"
             ],
             [
              0.5555555555555556,
              "#d8576b"
             ],
             [
              0.6666666666666666,
              "#ed7953"
             ],
             [
              0.7777777777777778,
              "#fb9f3a"
             ],
             [
              0.8888888888888888,
              "#fdca26"
             ],
             [
              1,
              "#f0f921"
             ]
            ],
            "type": "contour"
           }
          ],
          "contourcarpet": [
           {
            "colorbar": {
             "outlinewidth": 0,
             "ticks": ""
            },
            "type": "contourcarpet"
           }
          ],
          "heatmap": [
           {
            "colorbar": {
             "outlinewidth": 0,
             "ticks": ""
            },
            "colorscale": [
             [
              0,
              "#0d0887"
             ],
             [
              0.1111111111111111,
              "#46039f"
             ],
             [
              0.2222222222222222,
              "#7201a8"
             ],
             [
              0.3333333333333333,
              "#9c179e"
             ],
             [
              0.4444444444444444,
              "#bd3786"
             ],
             [
              0.5555555555555556,
              "#d8576b"
             ],
             [
              0.6666666666666666,
              "#ed7953"
             ],
             [
              0.7777777777777778,
              "#fb9f3a"
             ],
             [
              0.8888888888888888,
              "#fdca26"
             ],
             [
              1,
              "#f0f921"
             ]
            ],
            "type": "heatmap"
           }
          ],
          "heatmapgl": [
           {
            "colorbar": {
             "outlinewidth": 0,
             "ticks": ""
            },
            "colorscale": [
             [
              0,
              "#0d0887"
             ],
             [
              0.1111111111111111,
              "#46039f"
             ],
             [
              0.2222222222222222,
              "#7201a8"
             ],
             [
              0.3333333333333333,
              "#9c179e"
             ],
             [
              0.4444444444444444,
              "#bd3786"
             ],
             [
              0.5555555555555556,
              "#d8576b"
             ],
             [
              0.6666666666666666,
              "#ed7953"
             ],
             [
              0.7777777777777778,
              "#fb9f3a"
             ],
             [
              0.8888888888888888,
              "#fdca26"
             ],
             [
              1,
              "#f0f921"
             ]
            ],
            "type": "heatmapgl"
           }
          ],
          "histogram": [
           {
            "marker": {
             "pattern": {
              "fillmode": "overlay",
              "size": 10,
              "solidity": 0.2
             }
            },
            "type": "histogram"
           }
          ],
          "histogram2d": [
           {
            "colorbar": {
             "outlinewidth": 0,
             "ticks": ""
            },
            "colorscale": [
             [
              0,
              "#0d0887"
             ],
             [
              0.1111111111111111,
              "#46039f"
             ],
             [
              0.2222222222222222,
              "#7201a8"
             ],
             [
              0.3333333333333333,
              "#9c179e"
             ],
             [
              0.4444444444444444,
              "#bd3786"
             ],
             [
              0.5555555555555556,
              "#d8576b"
             ],
             [
              0.6666666666666666,
              "#ed7953"
             ],
             [
              0.7777777777777778,
              "#fb9f3a"
             ],
             [
              0.8888888888888888,
              "#fdca26"
             ],
             [
              1,
              "#f0f921"
             ]
            ],
            "type": "histogram2d"
           }
          ],
          "histogram2dcontour": [
           {
            "colorbar": {
             "outlinewidth": 0,
             "ticks": ""
            },
            "colorscale": [
             [
              0,
              "#0d0887"
             ],
             [
              0.1111111111111111,
              "#46039f"
             ],
             [
              0.2222222222222222,
              "#7201a8"
             ],
             [
              0.3333333333333333,
              "#9c179e"
             ],
             [
              0.4444444444444444,
              "#bd3786"
             ],
             [
              0.5555555555555556,
              "#d8576b"
             ],
             [
              0.6666666666666666,
              "#ed7953"
             ],
             [
              0.7777777777777778,
              "#fb9f3a"
             ],
             [
              0.8888888888888888,
              "#fdca26"
             ],
             [
              1,
              "#f0f921"
             ]
            ],
            "type": "histogram2dcontour"
           }
          ],
          "mesh3d": [
           {
            "colorbar": {
             "outlinewidth": 0,
             "ticks": ""
            },
            "type": "mesh3d"
           }
          ],
          "parcoords": [
           {
            "line": {
             "colorbar": {
              "outlinewidth": 0,
              "ticks": ""
             }
            },
            "type": "parcoords"
           }
          ],
          "pie": [
           {
            "automargin": true,
            "type": "pie"
           }
          ],
          "scatter": [
           {
            "marker": {
             "colorbar": {
              "outlinewidth": 0,
              "ticks": ""
             }
            },
            "type": "scatter"
           }
          ],
          "scatter3d": [
           {
            "line": {
             "colorbar": {
              "outlinewidth": 0,
              "ticks": ""
             }
            },
            "marker": {
             "colorbar": {
              "outlinewidth": 0,
              "ticks": ""
             }
            },
            "type": "scatter3d"
           }
          ],
          "scattercarpet": [
           {
            "marker": {
             "colorbar": {
              "outlinewidth": 0,
              "ticks": ""
             }
            },
            "type": "scattercarpet"
           }
          ],
          "scattergeo": [
           {
            "marker": {
             "colorbar": {
              "outlinewidth": 0,
              "ticks": ""
             }
            },
            "type": "scattergeo"
           }
          ],
          "scattergl": [
           {
            "marker": {
             "colorbar": {
              "outlinewidth": 0,
              "ticks": ""
             }
            },
            "type": "scattergl"
           }
          ],
          "scattermapbox": [
           {
            "marker": {
             "colorbar": {
              "outlinewidth": 0,
              "ticks": ""
             }
            },
            "type": "scattermapbox"
           }
          ],
          "scatterpolar": [
           {
            "marker": {
             "colorbar": {
              "outlinewidth": 0,
              "ticks": ""
             }
            },
            "type": "scatterpolar"
           }
          ],
          "scatterpolargl": [
           {
            "marker": {
             "colorbar": {
              "outlinewidth": 0,
              "ticks": ""
             }
            },
            "type": "scatterpolargl"
           }
          ],
          "scatterternary": [
           {
            "marker": {
             "colorbar": {
              "outlinewidth": 0,
              "ticks": ""
             }
            },
            "type": "scatterternary"
           }
          ],
          "surface": [
           {
            "colorbar": {
             "outlinewidth": 0,
             "ticks": ""
            },
            "colorscale": [
             [
              0,
              "#0d0887"
             ],
             [
              0.1111111111111111,
              "#46039f"
             ],
             [
              0.2222222222222222,
              "#7201a8"
             ],
             [
              0.3333333333333333,
              "#9c179e"
             ],
             [
              0.4444444444444444,
              "#bd3786"
             ],
             [
              0.5555555555555556,
              "#d8576b"
             ],
             [
              0.6666666666666666,
              "#ed7953"
             ],
             [
              0.7777777777777778,
              "#fb9f3a"
             ],
             [
              0.8888888888888888,
              "#fdca26"
             ],
             [
              1,
              "#f0f921"
             ]
            ],
            "type": "surface"
           }
          ],
          "table": [
           {
            "cells": {
             "fill": {
              "color": "#EBF0F8"
             },
             "line": {
              "color": "white"
             }
            },
            "header": {
             "fill": {
              "color": "#C8D4E3"
             },
             "line": {
              "color": "white"
             }
            },
            "type": "table"
           }
          ]
         },
         "layout": {
          "annotationdefaults": {
           "arrowcolor": "#2a3f5f",
           "arrowhead": 0,
           "arrowwidth": 1
          },
          "autotypenumbers": "strict",
          "coloraxis": {
           "colorbar": {
            "outlinewidth": 0,
            "ticks": ""
           }
          },
          "colorscale": {
           "diverging": [
            [
             0,
             "#8e0152"
            ],
            [
             0.1,
             "#c51b7d"
            ],
            [
             0.2,
             "#de77ae"
            ],
            [
             0.3,
             "#f1b6da"
            ],
            [
             0.4,
             "#fde0ef"
            ],
            [
             0.5,
             "#f7f7f7"
            ],
            [
             0.6,
             "#e6f5d0"
            ],
            [
             0.7,
             "#b8e186"
            ],
            [
             0.8,
             "#7fbc41"
            ],
            [
             0.9,
             "#4d9221"
            ],
            [
             1,
             "#276419"
            ]
           ],
           "sequential": [
            [
             0,
             "#0d0887"
            ],
            [
             0.1111111111111111,
             "#46039f"
            ],
            [
             0.2222222222222222,
             "#7201a8"
            ],
            [
             0.3333333333333333,
             "#9c179e"
            ],
            [
             0.4444444444444444,
             "#bd3786"
            ],
            [
             0.5555555555555556,
             "#d8576b"
            ],
            [
             0.6666666666666666,
             "#ed7953"
            ],
            [
             0.7777777777777778,
             "#fb9f3a"
            ],
            [
             0.8888888888888888,
             "#fdca26"
            ],
            [
             1,
             "#f0f921"
            ]
           ],
           "sequentialminus": [
            [
             0,
             "#0d0887"
            ],
            [
             0.1111111111111111,
             "#46039f"
            ],
            [
             0.2222222222222222,
             "#7201a8"
            ],
            [
             0.3333333333333333,
             "#9c179e"
            ],
            [
             0.4444444444444444,
             "#bd3786"
            ],
            [
             0.5555555555555556,
             "#d8576b"
            ],
            [
             0.6666666666666666,
             "#ed7953"
            ],
            [
             0.7777777777777778,
             "#fb9f3a"
            ],
            [
             0.8888888888888888,
             "#fdca26"
            ],
            [
             1,
             "#f0f921"
            ]
           ]
          },
          "colorway": [
           "#636efa",
           "#EF553B",
           "#00cc96",
           "#ab63fa",
           "#FFA15A",
           "#19d3f3",
           "#FF6692",
           "#B6E880",
           "#FF97FF",
           "#FECB52"
          ],
          "font": {
           "color": "#2a3f5f"
          },
          "geo": {
           "bgcolor": "white",
           "lakecolor": "white",
           "landcolor": "#E5ECF6",
           "showlakes": true,
           "showland": true,
           "subunitcolor": "white"
          },
          "hoverlabel": {
           "align": "left"
          },
          "hovermode": "closest",
          "mapbox": {
           "style": "light"
          },
          "paper_bgcolor": "white",
          "plot_bgcolor": "#E5ECF6",
          "polar": {
           "angularaxis": {
            "gridcolor": "white",
            "linecolor": "white",
            "ticks": ""
           },
           "bgcolor": "#E5ECF6",
           "radialaxis": {
            "gridcolor": "white",
            "linecolor": "white",
            "ticks": ""
           }
          },
          "scene": {
           "xaxis": {
            "backgroundcolor": "#E5ECF6",
            "gridcolor": "white",
            "gridwidth": 2,
            "linecolor": "white",
            "showbackground": true,
            "ticks": "",
            "zerolinecolor": "white"
           },
           "yaxis": {
            "backgroundcolor": "#E5ECF6",
            "gridcolor": "white",
            "gridwidth": 2,
            "linecolor": "white",
            "showbackground": true,
            "ticks": "",
            "zerolinecolor": "white"
           },
           "zaxis": {
            "backgroundcolor": "#E5ECF6",
            "gridcolor": "white",
            "gridwidth": 2,
            "linecolor": "white",
            "showbackground": true,
            "ticks": "",
            "zerolinecolor": "white"
           }
          },
          "shapedefaults": {
           "line": {
            "color": "#2a3f5f"
           }
          },
          "ternary": {
           "aaxis": {
            "gridcolor": "white",
            "linecolor": "white",
            "ticks": ""
           },
           "baxis": {
            "gridcolor": "white",
            "linecolor": "white",
            "ticks": ""
           },
           "bgcolor": "#E5ECF6",
           "caxis": {
            "gridcolor": "white",
            "linecolor": "white",
            "ticks": ""
           }
          },
          "title": {
           "x": 0.05
          },
          "xaxis": {
           "automargin": true,
           "gridcolor": "white",
           "linecolor": "white",
           "ticks": "",
           "title": {
            "standoff": 15
           },
           "zerolinecolor": "white",
           "zerolinewidth": 2
          },
          "yaxis": {
           "automargin": true,
           "gridcolor": "white",
           "linecolor": "white",
           "ticks": "",
           "title": {
            "standoff": 15
           },
           "zerolinecolor": "white",
           "zerolinewidth": 2
          }
         }
        },
        "title": {
         "text": "Número suicídios por sexo no Brasil durante o período de 2010 a 2019"
        },
        "updatemenus": [
         {
          "buttons": [
           {
            "args": [
             null,
             {
              "frame": {
               "duration": 500,
               "redraw": true
              },
              "fromcurrent": true,
              "mode": "immediate",
              "transition": {
               "duration": 500,
               "easing": "linear"
              }
             }
            ],
            "label": "&#9654;",
            "method": "animate"
           },
           {
            "args": [
             [
              null
             ],
             {
              "frame": {
               "duration": 0,
               "redraw": true
              },
              "fromcurrent": true,
              "mode": "immediate",
              "transition": {
               "duration": 0,
               "easing": "linear"
              }
             }
            ],
            "label": "&#9724;",
            "method": "animate"
           }
          ],
          "direction": "left",
          "pad": {
           "r": 10,
           "t": 70
          },
          "showactive": false,
          "type": "buttons",
          "x": 0.1,
          "xanchor": "right",
          "y": 0,
          "yanchor": "top"
         }
        ],
        "xaxis": {
         "anchor": "y",
         "categoryarray": [
          "Feminino",
          "Masculino"
         ],
         "categoryorder": "array",
         "domain": [
          0,
          1
         ],
         "title": {
          "text": "SEXO"
         }
        },
        "yaxis": {
         "anchor": "x",
         "domain": [
          0,
          1
         ],
         "range": [
          0,
          14000
         ],
         "title": {
          "text": "size"
         }
        }
       }
      },
      "text/html": [
       "<div>                            <div id=\"9e8b256a-1c92-46f9-96b9-03fd99051fad\" class=\"plotly-graph-div\" style=\"height:525px; width:100%;\"></div>            <script type=\"text/javascript\">                require([\"plotly\"], function(Plotly) {                    window.PLOTLYENV=window.PLOTLYENV || {};                                    if (document.getElementById(\"9e8b256a-1c92-46f9-96b9-03fd99051fad\")) {                    Plotly.newPlot(                        \"9e8b256a-1c92-46f9-96b9-03fd99051fad\",                        [{\"alignmentgroup\":\"True\",\"hovertemplate\":\"SEXO=%{x}<br>ano=2010<br>size=%{y}<extra></extra>\",\"ids\":[\"Feminino\"],\"legendgroup\":\"Feminino\",\"marker\":{\"color\":\"#66a182\",\"pattern\":{\"shape\":\"\"}},\"name\":\"Feminino\",\"offsetgroup\":\"Feminino\",\"orientation\":\"v\",\"showlegend\":true,\"textposition\":\"auto\",\"type\":\"bar\",\"x\":[\"Feminino\"],\"xaxis\":\"x\",\"y\":[2084],\"yaxis\":\"y\"},{\"alignmentgroup\":\"True\",\"hovertemplate\":\"SEXO=%{x}<br>ano=2010<br>size=%{y}<extra></extra>\",\"ids\":[\"Masculino\"],\"legendgroup\":\"Masculino\",\"marker\":{\"color\":\"#ffd700\",\"pattern\":{\"shape\":\"\"}},\"name\":\"Masculino\",\"offsetgroup\":\"Masculino\",\"orientation\":\"v\",\"showlegend\":true,\"textposition\":\"auto\",\"type\":\"bar\",\"x\":[\"Masculino\"],\"xaxis\":\"x\",\"y\":[7392],\"yaxis\":\"y\"}],                        {\"barmode\":\"relative\",\"legend\":{\"title\":{\"text\":\"SEXO\"},\"tracegroupgap\":0},\"sliders\":[{\"active\":0,\"currentvalue\":{\"prefix\":\"ano=\"},\"len\":0.9,\"pad\":{\"b\":10,\"t\":60},\"steps\":[{\"args\":[[\"2010\"],{\"frame\":{\"duration\":0,\"redraw\":true},\"fromcurrent\":true,\"mode\":\"immediate\",\"transition\":{\"duration\":0,\"easing\":\"linear\"}}],\"label\":\"2010\",\"method\":\"animate\"},{\"args\":[[\"2011\"],{\"frame\":{\"duration\":0,\"redraw\":true},\"fromcurrent\":true,\"mode\":\"immediate\",\"transition\":{\"duration\":0,\"easing\":\"linear\"}}],\"label\":\"2011\",\"method\":\"animate\"},{\"args\":[[\"2012\"],{\"frame\":{\"duration\":0,\"redraw\":true},\"fromcurrent\":true,\"mode\":\"immediate\",\"transition\":{\"duration\":0,\"easing\":\"linear\"}}],\"label\":\"2012\",\"method\":\"animate\"},{\"args\":[[\"2013\"],{\"frame\":{\"duration\":0,\"redraw\":true},\"fromcurrent\":true,\"mode\":\"immediate\",\"transition\":{\"duration\":0,\"easing\":\"linear\"}}],\"label\":\"2013\",\"method\":\"animate\"},{\"args\":[[\"2014\"],{\"frame\":{\"duration\":0,\"redraw\":true},\"fromcurrent\":true,\"mode\":\"immediate\",\"transition\":{\"duration\":0,\"easing\":\"linear\"}}],\"label\":\"2014\",\"method\":\"animate\"},{\"args\":[[\"2015\"],{\"frame\":{\"duration\":0,\"redraw\":true},\"fromcurrent\":true,\"mode\":\"immediate\",\"transition\":{\"duration\":0,\"easing\":\"linear\"}}],\"label\":\"2015\",\"method\":\"animate\"},{\"args\":[[\"2016\"],{\"frame\":{\"duration\":0,\"redraw\":true},\"fromcurrent\":true,\"mode\":\"immediate\",\"transition\":{\"duration\":0,\"easing\":\"linear\"}}],\"label\":\"2016\",\"method\":\"animate\"},{\"args\":[[\"2017\"],{\"frame\":{\"duration\":0,\"redraw\":true},\"fromcurrent\":true,\"mode\":\"immediate\",\"transition\":{\"duration\":0,\"easing\":\"linear\"}}],\"label\":\"2017\",\"method\":\"animate\"},{\"args\":[[\"2018\"],{\"frame\":{\"duration\":0,\"redraw\":true},\"fromcurrent\":true,\"mode\":\"immediate\",\"transition\":{\"duration\":0,\"easing\":\"linear\"}}],\"label\":\"2018\",\"method\":\"animate\"},{\"args\":[[\"2019\"],{\"frame\":{\"duration\":0,\"redraw\":true},\"fromcurrent\":true,\"mode\":\"immediate\",\"transition\":{\"duration\":0,\"easing\":\"linear\"}}],\"label\":\"2019\",\"method\":\"animate\"}],\"x\":0.1,\"xanchor\":\"left\",\"y\":0,\"yanchor\":\"top\"}],\"template\":{\"data\":{\"bar\":[{\"error_x\":{\"color\":\"#2a3f5f\"},\"error_y\":{\"color\":\"#2a3f5f\"},\"marker\":{\"line\":{\"color\":\"#E5ECF6\",\"width\":0.5},\"pattern\":{\"fillmode\":\"overlay\",\"size\":10,\"solidity\":0.2}},\"type\":\"bar\"}],\"barpolar\":[{\"marker\":{\"line\":{\"color\":\"#E5ECF6\",\"width\":0.5},\"pattern\":{\"fillmode\":\"overlay\",\"size\":10,\"solidity\":0.2}},\"type\":\"barpolar\"}],\"carpet\":[{\"aaxis\":{\"endlinecolor\":\"#2a3f5f\",\"gridcolor\":\"white\",\"linecolor\":\"white\",\"minorgridcolor\":\"white\",\"startlinecolor\":\"#2a3f5f\"},\"baxis\":{\"endlinecolor\":\"#2a3f5f\",\"gridcolor\":\"white\",\"linecolor\":\"white\",\"minorgridcolor\":\"white\",\"startlinecolor\":\"#2a3f5f\"},\"type\":\"carpet\"}],\"choropleth\":[{\"colorbar\":{\"outlinewidth\":0,\"ticks\":\"\"},\"type\":\"choropleth\"}],\"contour\":[{\"colorbar\":{\"outlinewidth\":0,\"ticks\":\"\"},\"colorscale\":[[0.0,\"#0d0887\"],[0.1111111111111111,\"#46039f\"],[0.2222222222222222,\"#7201a8\"],[0.3333333333333333,\"#9c179e\"],[0.4444444444444444,\"#bd3786\"],[0.5555555555555556,\"#d8576b\"],[0.6666666666666666,\"#ed7953\"],[0.7777777777777778,\"#fb9f3a\"],[0.8888888888888888,\"#fdca26\"],[1.0,\"#f0f921\"]],\"type\":\"contour\"}],\"contourcarpet\":[{\"colorbar\":{\"outlinewidth\":0,\"ticks\":\"\"},\"type\":\"contourcarpet\"}],\"heatmap\":[{\"colorbar\":{\"outlinewidth\":0,\"ticks\":\"\"},\"colorscale\":[[0.0,\"#0d0887\"],[0.1111111111111111,\"#46039f\"],[0.2222222222222222,\"#7201a8\"],[0.3333333333333333,\"#9c179e\"],[0.4444444444444444,\"#bd3786\"],[0.5555555555555556,\"#d8576b\"],[0.6666666666666666,\"#ed7953\"],[0.7777777777777778,\"#fb9f3a\"],[0.8888888888888888,\"#fdca26\"],[1.0,\"#f0f921\"]],\"type\":\"heatmap\"}],\"heatmapgl\":[{\"colorbar\":{\"outlinewidth\":0,\"ticks\":\"\"},\"colorscale\":[[0.0,\"#0d0887\"],[0.1111111111111111,\"#46039f\"],[0.2222222222222222,\"#7201a8\"],[0.3333333333333333,\"#9c179e\"],[0.4444444444444444,\"#bd3786\"],[0.5555555555555556,\"#d8576b\"],[0.6666666666666666,\"#ed7953\"],[0.7777777777777778,\"#fb9f3a\"],[0.8888888888888888,\"#fdca26\"],[1.0,\"#f0f921\"]],\"type\":\"heatmapgl\"}],\"histogram\":[{\"marker\":{\"pattern\":{\"fillmode\":\"overlay\",\"size\":10,\"solidity\":0.2}},\"type\":\"histogram\"}],\"histogram2d\":[{\"colorbar\":{\"outlinewidth\":0,\"ticks\":\"\"},\"colorscale\":[[0.0,\"#0d0887\"],[0.1111111111111111,\"#46039f\"],[0.2222222222222222,\"#7201a8\"],[0.3333333333333333,\"#9c179e\"],[0.4444444444444444,\"#bd3786\"],[0.5555555555555556,\"#d8576b\"],[0.6666666666666666,\"#ed7953\"],[0.7777777777777778,\"#fb9f3a\"],[0.8888888888888888,\"#fdca26\"],[1.0,\"#f0f921\"]],\"type\":\"histogram2d\"}],\"histogram2dcontour\":[{\"colorbar\":{\"outlinewidth\":0,\"ticks\":\"\"},\"colorscale\":[[0.0,\"#0d0887\"],[0.1111111111111111,\"#46039f\"],[0.2222222222222222,\"#7201a8\"],[0.3333333333333333,\"#9c179e\"],[0.4444444444444444,\"#bd3786\"],[0.5555555555555556,\"#d8576b\"],[0.6666666666666666,\"#ed7953\"],[0.7777777777777778,\"#fb9f3a\"],[0.8888888888888888,\"#fdca26\"],[1.0,\"#f0f921\"]],\"type\":\"histogram2dcontour\"}],\"mesh3d\":[{\"colorbar\":{\"outlinewidth\":0,\"ticks\":\"\"},\"type\":\"mesh3d\"}],\"parcoords\":[{\"line\":{\"colorbar\":{\"outlinewidth\":0,\"ticks\":\"\"}},\"type\":\"parcoords\"}],\"pie\":[{\"automargin\":true,\"type\":\"pie\"}],\"scatter\":[{\"marker\":{\"colorbar\":{\"outlinewidth\":0,\"ticks\":\"\"}},\"type\":\"scatter\"}],\"scatter3d\":[{\"line\":{\"colorbar\":{\"outlinewidth\":0,\"ticks\":\"\"}},\"marker\":{\"colorbar\":{\"outlinewidth\":0,\"ticks\":\"\"}},\"type\":\"scatter3d\"}],\"scattercarpet\":[{\"marker\":{\"colorbar\":{\"outlinewidth\":0,\"ticks\":\"\"}},\"type\":\"scattercarpet\"}],\"scattergeo\":[{\"marker\":{\"colorbar\":{\"outlinewidth\":0,\"ticks\":\"\"}},\"type\":\"scattergeo\"}],\"scattergl\":[{\"marker\":{\"colorbar\":{\"outlinewidth\":0,\"ticks\":\"\"}},\"type\":\"scattergl\"}],\"scattermapbox\":[{\"marker\":{\"colorbar\":{\"outlinewidth\":0,\"ticks\":\"\"}},\"type\":\"scattermapbox\"}],\"scatterpolar\":[{\"marker\":{\"colorbar\":{\"outlinewidth\":0,\"ticks\":\"\"}},\"type\":\"scatterpolar\"}],\"scatterpolargl\":[{\"marker\":{\"colorbar\":{\"outlinewidth\":0,\"ticks\":\"\"}},\"type\":\"scatterpolargl\"}],\"scatterternary\":[{\"marker\":{\"colorbar\":{\"outlinewidth\":0,\"ticks\":\"\"}},\"type\":\"scatterternary\"}],\"surface\":[{\"colorbar\":{\"outlinewidth\":0,\"ticks\":\"\"},\"colorscale\":[[0.0,\"#0d0887\"],[0.1111111111111111,\"#46039f\"],[0.2222222222222222,\"#7201a8\"],[0.3333333333333333,\"#9c179e\"],[0.4444444444444444,\"#bd3786\"],[0.5555555555555556,\"#d8576b\"],[0.6666666666666666,\"#ed7953\"],[0.7777777777777778,\"#fb9f3a\"],[0.8888888888888888,\"#fdca26\"],[1.0,\"#f0f921\"]],\"type\":\"surface\"}],\"table\":[{\"cells\":{\"fill\":{\"color\":\"#EBF0F8\"},\"line\":{\"color\":\"white\"}},\"header\":{\"fill\":{\"color\":\"#C8D4E3\"},\"line\":{\"color\":\"white\"}},\"type\":\"table\"}]},\"layout\":{\"annotationdefaults\":{\"arrowcolor\":\"#2a3f5f\",\"arrowhead\":0,\"arrowwidth\":1},\"autotypenumbers\":\"strict\",\"coloraxis\":{\"colorbar\":{\"outlinewidth\":0,\"ticks\":\"\"}},\"colorscale\":{\"diverging\":[[0,\"#8e0152\"],[0.1,\"#c51b7d\"],[0.2,\"#de77ae\"],[0.3,\"#f1b6da\"],[0.4,\"#fde0ef\"],[0.5,\"#f7f7f7\"],[0.6,\"#e6f5d0\"],[0.7,\"#b8e186\"],[0.8,\"#7fbc41\"],[0.9,\"#4d9221\"],[1,\"#276419\"]],\"sequential\":[[0.0,\"#0d0887\"],[0.1111111111111111,\"#46039f\"],[0.2222222222222222,\"#7201a8\"],[0.3333333333333333,\"#9c179e\"],[0.4444444444444444,\"#bd3786\"],[0.5555555555555556,\"#d8576b\"],[0.6666666666666666,\"#ed7953\"],[0.7777777777777778,\"#fb9f3a\"],[0.8888888888888888,\"#fdca26\"],[1.0,\"#f0f921\"]],\"sequentialminus\":[[0.0,\"#0d0887\"],[0.1111111111111111,\"#46039f\"],[0.2222222222222222,\"#7201a8\"],[0.3333333333333333,\"#9c179e\"],[0.4444444444444444,\"#bd3786\"],[0.5555555555555556,\"#d8576b\"],[0.6666666666666666,\"#ed7953\"],[0.7777777777777778,\"#fb9f3a\"],[0.8888888888888888,\"#fdca26\"],[1.0,\"#f0f921\"]]},\"colorway\":[\"#636efa\",\"#EF553B\",\"#00cc96\",\"#ab63fa\",\"#FFA15A\",\"#19d3f3\",\"#FF6692\",\"#B6E880\",\"#FF97FF\",\"#FECB52\"],\"font\":{\"color\":\"#2a3f5f\"},\"geo\":{\"bgcolor\":\"white\",\"lakecolor\":\"white\",\"landcolor\":\"#E5ECF6\",\"showlakes\":true,\"showland\":true,\"subunitcolor\":\"white\"},\"hoverlabel\":{\"align\":\"left\"},\"hovermode\":\"closest\",\"mapbox\":{\"style\":\"light\"},\"paper_bgcolor\":\"white\",\"plot_bgcolor\":\"#E5ECF6\",\"polar\":{\"angularaxis\":{\"gridcolor\":\"white\",\"linecolor\":\"white\",\"ticks\":\"\"},\"bgcolor\":\"#E5ECF6\",\"radialaxis\":{\"gridcolor\":\"white\",\"linecolor\":\"white\",\"ticks\":\"\"}},\"scene\":{\"xaxis\":{\"backgroundcolor\":\"#E5ECF6\",\"gridcolor\":\"white\",\"gridwidth\":2,\"linecolor\":\"white\",\"showbackground\":true,\"ticks\":\"\",\"zerolinecolor\":\"white\"},\"yaxis\":{\"backgroundcolor\":\"#E5ECF6\",\"gridcolor\":\"white\",\"gridwidth\":2,\"linecolor\":\"white\",\"showbackground\":true,\"ticks\":\"\",\"zerolinecolor\":\"white\"},\"zaxis\":{\"backgroundcolor\":\"#E5ECF6\",\"gridcolor\":\"white\",\"gridwidth\":2,\"linecolor\":\"white\",\"showbackground\":true,\"ticks\":\"\",\"zerolinecolor\":\"white\"}},\"shapedefaults\":{\"line\":{\"color\":\"#2a3f5f\"}},\"ternary\":{\"aaxis\":{\"gridcolor\":\"white\",\"linecolor\":\"white\",\"ticks\":\"\"},\"baxis\":{\"gridcolor\":\"white\",\"linecolor\":\"white\",\"ticks\":\"\"},\"bgcolor\":\"#E5ECF6\",\"caxis\":{\"gridcolor\":\"white\",\"linecolor\":\"white\",\"ticks\":\"\"}},\"title\":{\"x\":0.05},\"xaxis\":{\"automargin\":true,\"gridcolor\":\"white\",\"linecolor\":\"white\",\"ticks\":\"\",\"title\":{\"standoff\":15},\"zerolinecolor\":\"white\",\"zerolinewidth\":2},\"yaxis\":{\"automargin\":true,\"gridcolor\":\"white\",\"linecolor\":\"white\",\"ticks\":\"\",\"title\":{\"standoff\":15},\"zerolinecolor\":\"white\",\"zerolinewidth\":2}}},\"title\":{\"text\":\"N\\u00famero suic\\u00eddios por sexo no Brasil durante o per\\u00edodo de 2010 a 2019\"},\"updatemenus\":[{\"buttons\":[{\"args\":[null,{\"frame\":{\"duration\":500,\"redraw\":true},\"fromcurrent\":true,\"mode\":\"immediate\",\"transition\":{\"duration\":500,\"easing\":\"linear\"}}],\"label\":\"&#9654;\",\"method\":\"animate\"},{\"args\":[[null],{\"frame\":{\"duration\":0,\"redraw\":true},\"fromcurrent\":true,\"mode\":\"immediate\",\"transition\":{\"duration\":0,\"easing\":\"linear\"}}],\"label\":\"&#9724;\",\"method\":\"animate\"}],\"direction\":\"left\",\"pad\":{\"r\":10,\"t\":70},\"showactive\":false,\"type\":\"buttons\",\"x\":0.1,\"xanchor\":\"right\",\"y\":0,\"yanchor\":\"top\"}],\"xaxis\":{\"anchor\":\"y\",\"categoryarray\":[\"Feminino\",\"Masculino\"],\"categoryorder\":\"array\",\"domain\":[0.0,1.0],\"title\":{\"text\":\"SEXO\"}},\"yaxis\":{\"anchor\":\"x\",\"domain\":[0.0,1.0],\"range\":[0,14000],\"title\":{\"text\":\"size\"}}},                        {\"responsive\": true}                    ).then(function(){\n",
       "                            Plotly.addFrames('9e8b256a-1c92-46f9-96b9-03fd99051fad', [{\"data\":[{\"alignmentgroup\":\"True\",\"hovertemplate\":\"SEXO=%{x}<br>ano=2010<br>size=%{y}<extra></extra>\",\"ids\":[\"Feminino\"],\"legendgroup\":\"Feminino\",\"marker\":{\"color\":\"#66a182\",\"pattern\":{\"shape\":\"\"}},\"name\":\"Feminino\",\"offsetgroup\":\"Feminino\",\"orientation\":\"v\",\"showlegend\":true,\"textposition\":\"auto\",\"type\":\"bar\",\"x\":[\"Feminino\"],\"xaxis\":\"x\",\"y\":[2084],\"yaxis\":\"y\"},{\"alignmentgroup\":\"True\",\"hovertemplate\":\"SEXO=%{x}<br>ano=2010<br>size=%{y}<extra></extra>\",\"ids\":[\"Masculino\"],\"legendgroup\":\"Masculino\",\"marker\":{\"color\":\"#ffd700\",\"pattern\":{\"shape\":\"\"}},\"name\":\"Masculino\",\"offsetgroup\":\"Masculino\",\"orientation\":\"v\",\"showlegend\":true,\"textposition\":\"auto\",\"type\":\"bar\",\"x\":[\"Masculino\"],\"xaxis\":\"x\",\"y\":[7392],\"yaxis\":\"y\"}],\"name\":\"2010\"},{\"data\":[{\"alignmentgroup\":\"True\",\"hovertemplate\":\"SEXO=%{x}<br>ano=2011<br>size=%{y}<extra></extra>\",\"ids\":[\"Feminino\"],\"legendgroup\":\"Feminino\",\"marker\":{\"color\":\"#66a182\",\"pattern\":{\"shape\":\"\"}},\"name\":\"Feminino\",\"offsetgroup\":\"Feminino\",\"orientation\":\"v\",\"showlegend\":true,\"textposition\":\"auto\",\"type\":\"bar\",\"x\":[\"Feminino\"],\"xaxis\":\"x\",\"y\":[2101],\"yaxis\":\"y\"},{\"alignmentgroup\":\"True\",\"hovertemplate\":\"SEXO=%{x}<br>ano=2011<br>size=%{y}<extra></extra>\",\"ids\":[\"Masculino\"],\"legendgroup\":\"Masculino\",\"marker\":{\"color\":\"#ffd700\",\"pattern\":{\"shape\":\"\"}},\"name\":\"Masculino\",\"offsetgroup\":\"Masculino\",\"orientation\":\"v\",\"showlegend\":true,\"textposition\":\"auto\",\"type\":\"bar\",\"x\":[\"Masculino\"],\"xaxis\":\"x\",\"y\":[7780],\"yaxis\":\"y\"}],\"name\":\"2011\"},{\"data\":[{\"alignmentgroup\":\"True\",\"hovertemplate\":\"SEXO=%{x}<br>ano=2012<br>size=%{y}<extra></extra>\",\"ids\":[\"Feminino\"],\"legendgroup\":\"Feminino\",\"marker\":{\"color\":\"#66a182\",\"pattern\":{\"shape\":\"\"}},\"name\":\"Feminino\",\"offsetgroup\":\"Feminino\",\"orientation\":\"v\",\"showlegend\":true,\"textposition\":\"auto\",\"type\":\"bar\",\"x\":[\"Feminino\"],\"xaxis\":\"x\",\"y\":[2273],\"yaxis\":\"y\"},{\"alignmentgroup\":\"True\",\"hovertemplate\":\"SEXO=%{x}<br>ano=2012<br>size=%{y}<extra></extra>\",\"ids\":[\"Masculino\"],\"legendgroup\":\"Masculino\",\"marker\":{\"color\":\"#ffd700\",\"pattern\":{\"shape\":\"\"}},\"name\":\"Masculino\",\"offsetgroup\":\"Masculino\",\"orientation\":\"v\",\"showlegend\":true,\"textposition\":\"auto\",\"type\":\"bar\",\"x\":[\"Masculino\"],\"xaxis\":\"x\",\"y\":[8090],\"yaxis\":\"y\"}],\"name\":\"2012\"},{\"data\":[{\"alignmentgroup\":\"True\",\"hovertemplate\":\"SEXO=%{x}<br>ano=2013<br>size=%{y}<extra></extra>\",\"ids\":[\"Feminino\"],\"legendgroup\":\"Feminino\",\"marker\":{\"color\":\"#66a182\",\"pattern\":{\"shape\":\"\"}},\"name\":\"Feminino\",\"offsetgroup\":\"Feminino\",\"orientation\":\"v\",\"showlegend\":true,\"textposition\":\"auto\",\"type\":\"bar\",\"x\":[\"Feminino\"],\"xaxis\":\"x\",\"y\":[2235],\"yaxis\":\"y\"},{\"alignmentgroup\":\"True\",\"hovertemplate\":\"SEXO=%{x}<br>ano=2013<br>size=%{y}<extra></extra>\",\"ids\":[\"Masculino\"],\"legendgroup\":\"Masculino\",\"marker\":{\"color\":\"#ffd700\",\"pattern\":{\"shape\":\"\"}},\"name\":\"Masculino\",\"offsetgroup\":\"Masculino\",\"orientation\":\"v\",\"showlegend\":true,\"textposition\":\"auto\",\"type\":\"bar\",\"x\":[\"Masculino\"],\"xaxis\":\"x\",\"y\":[8343],\"yaxis\":\"y\"}],\"name\":\"2013\"},{\"data\":[{\"alignmentgroup\":\"True\",\"hovertemplate\":\"SEXO=%{x}<br>ano=2014<br>size=%{y}<extra></extra>\",\"ids\":[\"Feminino\"],\"legendgroup\":\"Feminino\",\"marker\":{\"color\":\"#66a182\",\"pattern\":{\"shape\":\"\"}},\"name\":\"Feminino\",\"offsetgroup\":\"Feminino\",\"orientation\":\"v\",\"showlegend\":true,\"textposition\":\"auto\",\"type\":\"bar\",\"x\":[\"Feminino\"],\"xaxis\":\"x\",\"y\":[2244],\"yaxis\":\"y\"},{\"alignmentgroup\":\"True\",\"hovertemplate\":\"SEXO=%{x}<br>ano=2014<br>size=%{y}<extra></extra>\",\"ids\":[\"Masculino\"],\"legendgroup\":\"Masculino\",\"marker\":{\"color\":\"#ffd700\",\"pattern\":{\"shape\":\"\"}},\"name\":\"Masculino\",\"offsetgroup\":\"Masculino\",\"orientation\":\"v\",\"showlegend\":true,\"textposition\":\"auto\",\"type\":\"bar\",\"x\":[\"Masculino\"],\"xaxis\":\"x\",\"y\":[8438],\"yaxis\":\"y\"}],\"name\":\"2014\"},{\"data\":[{\"alignmentgroup\":\"True\",\"hovertemplate\":\"SEXO=%{x}<br>ano=2015<br>size=%{y}<extra></extra>\",\"ids\":[\"Feminino\"],\"legendgroup\":\"Feminino\",\"marker\":{\"color\":\"#66a182\",\"pattern\":{\"shape\":\"\"}},\"name\":\"Feminino\",\"offsetgroup\":\"Feminino\",\"orientation\":\"v\",\"showlegend\":true,\"textposition\":\"auto\",\"type\":\"bar\",\"x\":[\"Feminino\"],\"xaxis\":\"x\",\"y\":[2405],\"yaxis\":\"y\"},{\"alignmentgroup\":\"True\",\"hovertemplate\":\"SEXO=%{x}<br>ano=2015<br>size=%{y}<extra></extra>\",\"ids\":[\"Masculino\"],\"legendgroup\":\"Masculino\",\"marker\":{\"color\":\"#ffd700\",\"pattern\":{\"shape\":\"\"}},\"name\":\"Masculino\",\"offsetgroup\":\"Masculino\",\"orientation\":\"v\",\"showlegend\":true,\"textposition\":\"auto\",\"type\":\"bar\",\"x\":[\"Masculino\"],\"xaxis\":\"x\",\"y\":[8804],\"yaxis\":\"y\"}],\"name\":\"2015\"},{\"data\":[{\"alignmentgroup\":\"True\",\"hovertemplate\":\"SEXO=%{x}<br>ano=2016<br>size=%{y}<extra></extra>\",\"ids\":[\"Feminino\"],\"legendgroup\":\"Feminino\",\"marker\":{\"color\":\"#66a182\",\"pattern\":{\"shape\":\"\"}},\"name\":\"Feminino\",\"offsetgroup\":\"Feminino\",\"orientation\":\"v\",\"showlegend\":true,\"textposition\":\"auto\",\"type\":\"bar\",\"x\":[\"Feminino\"],\"xaxis\":\"x\",\"y\":[2386],\"yaxis\":\"y\"},{\"alignmentgroup\":\"True\",\"hovertemplate\":\"SEXO=%{x}<br>ano=2016<br>size=%{y}<extra></extra>\",\"ids\":[\"Masculino\"],\"legendgroup\":\"Masculino\",\"marker\":{\"color\":\"#ffd700\",\"pattern\":{\"shape\":\"\"}},\"name\":\"Masculino\",\"offsetgroup\":\"Masculino\",\"orientation\":\"v\",\"showlegend\":true,\"textposition\":\"auto\",\"type\":\"bar\",\"x\":[\"Masculino\"],\"xaxis\":\"x\",\"y\":[9067],\"yaxis\":\"y\"}],\"name\":\"2016\"},{\"data\":[{\"alignmentgroup\":\"True\",\"hovertemplate\":\"SEXO=%{x}<br>ano=2017<br>size=%{y}<extra></extra>\",\"ids\":[\"Feminino\"],\"legendgroup\":\"Feminino\",\"marker\":{\"color\":\"#66a182\",\"pattern\":{\"shape\":\"\"}},\"name\":\"Feminino\",\"offsetgroup\":\"Feminino\",\"orientation\":\"v\",\"showlegend\":true,\"textposition\":\"auto\",\"type\":\"bar\",\"x\":[\"Feminino\"],\"xaxis\":\"x\",\"y\":[2676],\"yaxis\":\"y\"},{\"alignmentgroup\":\"True\",\"hovertemplate\":\"SEXO=%{x}<br>ano=2017<br>size=%{y}<extra></extra>\",\"ids\":[\"Masculino\"],\"legendgroup\":\"Masculino\",\"marker\":{\"color\":\"#ffd700\",\"pattern\":{\"shape\":\"\"}},\"name\":\"Masculino\",\"offsetgroup\":\"Masculino\",\"orientation\":\"v\",\"showlegend\":true,\"textposition\":\"auto\",\"type\":\"bar\",\"x\":[\"Masculino\"],\"xaxis\":\"x\",\"y\":[9840],\"yaxis\":\"y\"}],\"name\":\"2017\"},{\"data\":[{\"alignmentgroup\":\"True\",\"hovertemplate\":\"SEXO=%{x}<br>ano=2018<br>size=%{y}<extra></extra>\",\"ids\":[\"Feminino\"],\"legendgroup\":\"Feminino\",\"marker\":{\"color\":\"#66a182\",\"pattern\":{\"shape\":\"\"}},\"name\":\"Feminino\",\"offsetgroup\":\"Feminino\",\"orientation\":\"v\",\"showlegend\":true,\"textposition\":\"auto\",\"type\":\"bar\",\"x\":[\"Feminino\"],\"xaxis\":\"x\",\"y\":[2739],\"yaxis\":\"y\"},{\"alignmentgroup\":\"True\",\"hovertemplate\":\"SEXO=%{x}<br>ano=2018<br>size=%{y}<extra></extra>\",\"ids\":[\"Masculino\"],\"legendgroup\":\"Masculino\",\"marker\":{\"color\":\"#ffd700\",\"pattern\":{\"shape\":\"\"}},\"name\":\"Masculino\",\"offsetgroup\":\"Masculino\",\"orientation\":\"v\",\"showlegend\":true,\"textposition\":\"auto\",\"type\":\"bar\",\"x\":[\"Masculino\"],\"xaxis\":\"x\",\"y\":[10020],\"yaxis\":\"y\"}],\"name\":\"2018\"},{\"data\":[{\"alignmentgroup\":\"True\",\"hovertemplate\":\"SEXO=%{x}<br>ano=2019<br>size=%{y}<extra></extra>\",\"ids\":[\"Feminino\"],\"legendgroup\":\"Feminino\",\"marker\":{\"color\":\"#66a182\",\"pattern\":{\"shape\":\"\"}},\"name\":\"Feminino\",\"offsetgroup\":\"Feminino\",\"orientation\":\"v\",\"showlegend\":true,\"textposition\":\"auto\",\"type\":\"bar\",\"x\":[\"Feminino\"],\"xaxis\":\"x\",\"y\":[2932],\"yaxis\":\"y\"},{\"alignmentgroup\":\"True\",\"hovertemplate\":\"SEXO=%{x}<br>ano=2019<br>size=%{y}<extra></extra>\",\"ids\":[\"Masculino\"],\"legendgroup\":\"Masculino\",\"marker\":{\"color\":\"#ffd700\",\"pattern\":{\"shape\":\"\"}},\"name\":\"Masculino\",\"offsetgroup\":\"Masculino\",\"orientation\":\"v\",\"showlegend\":true,\"textposition\":\"auto\",\"type\":\"bar\",\"x\":[\"Masculino\"],\"xaxis\":\"x\",\"y\":[10620],\"yaxis\":\"y\"}],\"name\":\"2019\"}]);\n",
       "                        }).then(function(){\n",
       "                            \n",
       "var gd = document.getElementById('9e8b256a-1c92-46f9-96b9-03fd99051fad');\n",
       "var x = new MutationObserver(function (mutations, observer) {{\n",
       "        var display = window.getComputedStyle(gd).display;\n",
       "        if (!display || display === 'none') {{\n",
       "            console.log([gd, 'removed!']);\n",
       "            Plotly.purge(gd);\n",
       "            observer.disconnect();\n",
       "        }}\n",
       "}});\n",
       "\n",
       "// Listen for the removal of the full notebook cells\n",
       "var notebookContainer = gd.closest('#notebook-container');\n",
       "if (notebookContainer) {{\n",
       "    x.observe(notebookContainer, {childList: true});\n",
       "}}\n",
       "\n",
       "// Listen for the clearing of the current output cell\n",
       "var outputEl = gd.closest('.output');\n",
       "if (outputEl) {{\n",
       "    x.observe(outputEl, {childList: true});\n",
       "}}\n",
       "\n",
       "                        })                };                });            </script>        </div>"
      ]
     },
     "metadata": {},
     "output_type": "display_data"
    }
   ],
   "source": [
    "fig = px.bar(df_sex, x=\"SEXO\", y=\"size\", \n",
    "             color=\"SEXO\",\n",
    "             animation_frame=\"ano\", \n",
    "             animation_group=\"SEXO\", \n",
    "             title='Número suicídios por sexo no Brasil durante o período de 2010 a 2019',\n",
    "             range_y=[0,14000],\n",
    "            color_discrete_map={'Feminino': '#66a182','Masculino': '#ffd700'})\n",
    "fig.show()"
   ]
  },
  {
   "cell_type": "markdown",
   "id": "6d34a234",
   "metadata": {},
   "source": [
    "# Número de suícidio por RAÇA / COR no período de 2010 a 2019"
   ]
  },
  {
   "cell_type": "code",
   "execution_count": 79,
   "id": "d7911480",
   "metadata": {},
   "outputs": [
    {
     "data": {
      "text/plain": [
       "array(['Parda', 'Preta', nan, 'Branca', 'Amarela', 'Indígena'],\n",
       "      dtype=object)"
      ]
     },
     "execution_count": 79,
     "metadata": {},
     "output_type": "execute_result"
    }
   ],
   "source": [
    "df['RACACOR'].unique()"
   ]
  },
  {
   "cell_type": "code",
   "execution_count": 80,
   "id": "b5b3e0f0",
   "metadata": {},
   "outputs": [],
   "source": [
    "df['RACACOR'].fillna('Não Informado', inplace=True)\n",
    "df['RACACOR'].replace('Amarela','Parda', inplace=True)"
   ]
  },
  {
   "cell_type": "code",
   "execution_count": 81,
   "id": "d1fca874",
   "metadata": {},
   "outputs": [],
   "source": [
    "df_raca = df.groupby(['ano','RACACOR']).agg('size').reset_index()"
   ]
  },
  {
   "cell_type": "code",
   "execution_count": 82,
   "id": "04e2aea0",
   "metadata": {},
   "outputs": [],
   "source": [
    "df_raca.columns = ['ano','RACACOR', 'size']"
   ]
  },
  {
   "cell_type": "code",
   "execution_count": 83,
   "id": "1df6748b",
   "metadata": {},
   "outputs": [
    {
     "data": {
      "application/vnd.plotly.v1+json": {
       "config": {
        "plotlyServerURL": "https://plot.ly"
       },
       "data": [
        {
         "alignmentgroup": "True",
         "hovertemplate": "RACACOR=%{x}<br>ano=2010<br>size=%{y}<extra></extra>",
         "ids": [
          "Branca"
         ],
         "legendgroup": "Branca",
         "marker": {
          "color": "rgb(217, 175, 107)",
          "pattern": {
           "shape": ""
          }
         },
         "name": "Branca",
         "offsetgroup": "Branca",
         "orientation": "v",
         "showlegend": true,
         "textposition": "auto",
         "type": "bar",
         "x": [
          "Branca"
         ],
         "xaxis": "x",
         "y": [
          4850
         ],
         "yaxis": "y"
        },
        {
         "alignmentgroup": "True",
         "hovertemplate": "RACACOR=%{x}<br>ano=2010<br>size=%{y}<extra></extra>",
         "ids": [
          "Indígena"
         ],
         "legendgroup": "Indígena",
         "marker": {
          "color": "rgb(133, 92, 117)",
          "pattern": {
           "shape": ""
          }
         },
         "name": "Indígena",
         "offsetgroup": "Indígena",
         "orientation": "v",
         "showlegend": true,
         "textposition": "auto",
         "type": "bar",
         "x": [
          "Indígena"
         ],
         "xaxis": "x",
         "y": [
          93
         ],
         "yaxis": "y"
        },
        {
         "alignmentgroup": "True",
         "hovertemplate": "RACACOR=%{x}<br>ano=2010<br>size=%{y}<extra></extra>",
         "ids": [
          "Não Informado"
         ],
         "legendgroup": "Não Informado",
         "marker": {
          "color": "rgb(175, 100, 88)",
          "pattern": {
           "shape": ""
          }
         },
         "name": "Não Informado",
         "offsetgroup": "Não Informado",
         "orientation": "v",
         "showlegend": true,
         "textposition": "auto",
         "type": "bar",
         "x": [
          "Não Informado"
         ],
         "xaxis": "x",
         "y": [
          433
         ],
         "yaxis": "y"
        },
        {
         "alignmentgroup": "True",
         "hovertemplate": "RACACOR=%{x}<br>ano=2010<br>size=%{y}<extra></extra>",
         "ids": [
          "Parda"
         ],
         "legendgroup": "Parda",
         "marker": {
          "color": "rgb(82, 106, 131)",
          "pattern": {
           "shape": ""
          }
         },
         "name": "Parda",
         "offsetgroup": "Parda",
         "orientation": "v",
         "showlegend": true,
         "textposition": "auto",
         "type": "bar",
         "x": [
          "Parda"
         ],
         "xaxis": "x",
         "y": [
          3581
         ],
         "yaxis": "y"
        },
        {
         "alignmentgroup": "True",
         "hovertemplate": "RACACOR=%{x}<br>ano=2010<br>size=%{y}<extra></extra>",
         "ids": [
          "Preta"
         ],
         "legendgroup": "Preta",
         "marker": {
          "color": "rgb(115, 111, 76)",
          "pattern": {
           "shape": ""
          }
         },
         "name": "Preta",
         "offsetgroup": "Preta",
         "orientation": "v",
         "showlegend": true,
         "textposition": "auto",
         "type": "bar",
         "x": [
          "Preta"
         ],
         "xaxis": "x",
         "y": [
          519
         ],
         "yaxis": "y"
        }
       ],
       "frames": [
        {
         "data": [
          {
           "alignmentgroup": "True",
           "hovertemplate": "RACACOR=%{x}<br>ano=2010<br>size=%{y}<extra></extra>",
           "ids": [
            "Branca"
           ],
           "legendgroup": "Branca",
           "marker": {
            "color": "rgb(217, 175, 107)",
            "pattern": {
             "shape": ""
            }
           },
           "name": "Branca",
           "offsetgroup": "Branca",
           "orientation": "v",
           "showlegend": true,
           "textposition": "auto",
           "type": "bar",
           "x": [
            "Branca"
           ],
           "xaxis": "x",
           "y": [
            4850
           ],
           "yaxis": "y"
          },
          {
           "alignmentgroup": "True",
           "hovertemplate": "RACACOR=%{x}<br>ano=2010<br>size=%{y}<extra></extra>",
           "ids": [
            "Indígena"
           ],
           "legendgroup": "Indígena",
           "marker": {
            "color": "rgb(133, 92, 117)",
            "pattern": {
             "shape": ""
            }
           },
           "name": "Indígena",
           "offsetgroup": "Indígena",
           "orientation": "v",
           "showlegend": true,
           "textposition": "auto",
           "type": "bar",
           "x": [
            "Indígena"
           ],
           "xaxis": "x",
           "y": [
            93
           ],
           "yaxis": "y"
          },
          {
           "alignmentgroup": "True",
           "hovertemplate": "RACACOR=%{x}<br>ano=2010<br>size=%{y}<extra></extra>",
           "ids": [
            "Não Informado"
           ],
           "legendgroup": "Não Informado",
           "marker": {
            "color": "rgb(175, 100, 88)",
            "pattern": {
             "shape": ""
            }
           },
           "name": "Não Informado",
           "offsetgroup": "Não Informado",
           "orientation": "v",
           "showlegend": true,
           "textposition": "auto",
           "type": "bar",
           "x": [
            "Não Informado"
           ],
           "xaxis": "x",
           "y": [
            433
           ],
           "yaxis": "y"
          },
          {
           "alignmentgroup": "True",
           "hovertemplate": "RACACOR=%{x}<br>ano=2010<br>size=%{y}<extra></extra>",
           "ids": [
            "Parda"
           ],
           "legendgroup": "Parda",
           "marker": {
            "color": "rgb(82, 106, 131)",
            "pattern": {
             "shape": ""
            }
           },
           "name": "Parda",
           "offsetgroup": "Parda",
           "orientation": "v",
           "showlegend": true,
           "textposition": "auto",
           "type": "bar",
           "x": [
            "Parda"
           ],
           "xaxis": "x",
           "y": [
            3581
           ],
           "yaxis": "y"
          },
          {
           "alignmentgroup": "True",
           "hovertemplate": "RACACOR=%{x}<br>ano=2010<br>size=%{y}<extra></extra>",
           "ids": [
            "Preta"
           ],
           "legendgroup": "Preta",
           "marker": {
            "color": "rgb(115, 111, 76)",
            "pattern": {
             "shape": ""
            }
           },
           "name": "Preta",
           "offsetgroup": "Preta",
           "orientation": "v",
           "showlegend": true,
           "textposition": "auto",
           "type": "bar",
           "x": [
            "Preta"
           ],
           "xaxis": "x",
           "y": [
            519
           ],
           "yaxis": "y"
          }
         ],
         "name": "2010"
        },
        {
         "data": [
          {
           "alignmentgroup": "True",
           "hovertemplate": "RACACOR=%{x}<br>ano=2011<br>size=%{y}<extra></extra>",
           "ids": [
            "Branca"
           ],
           "legendgroup": "Branca",
           "marker": {
            "color": "rgb(217, 175, 107)",
            "pattern": {
             "shape": ""
            }
           },
           "name": "Branca",
           "offsetgroup": "Branca",
           "orientation": "v",
           "showlegend": true,
           "textposition": "auto",
           "type": "bar",
           "x": [
            "Branca"
           ],
           "xaxis": "x",
           "y": [
            4975
           ],
           "yaxis": "y"
          },
          {
           "alignmentgroup": "True",
           "hovertemplate": "RACACOR=%{x}<br>ano=2011<br>size=%{y}<extra></extra>",
           "ids": [
            "Indígena"
           ],
           "legendgroup": "Indígena",
           "marker": {
            "color": "rgb(133, 92, 117)",
            "pattern": {
             "shape": ""
            }
           },
           "name": "Indígena",
           "offsetgroup": "Indígena",
           "orientation": "v",
           "showlegend": true,
           "textposition": "auto",
           "type": "bar",
           "x": [
            "Indígena"
           ],
           "xaxis": "x",
           "y": [
            97
           ],
           "yaxis": "y"
          },
          {
           "alignmentgroup": "True",
           "hovertemplate": "RACACOR=%{x}<br>ano=2011<br>size=%{y}<extra></extra>",
           "ids": [
            "Não Informado"
           ],
           "legendgroup": "Não Informado",
           "marker": {
            "color": "rgb(175, 100, 88)",
            "pattern": {
             "shape": ""
            }
           },
           "name": "Não Informado",
           "offsetgroup": "Não Informado",
           "orientation": "v",
           "showlegend": true,
           "textposition": "auto",
           "type": "bar",
           "x": [
            "Não Informado"
           ],
           "xaxis": "x",
           "y": [
            419
           ],
           "yaxis": "y"
          },
          {
           "alignmentgroup": "True",
           "hovertemplate": "RACACOR=%{x}<br>ano=2011<br>size=%{y}<extra></extra>",
           "ids": [
            "Parda"
           ],
           "legendgroup": "Parda",
           "marker": {
            "color": "rgb(82, 106, 131)",
            "pattern": {
             "shape": ""
            }
           },
           "name": "Parda",
           "offsetgroup": "Parda",
           "orientation": "v",
           "showlegend": true,
           "textposition": "auto",
           "type": "bar",
           "x": [
            "Parda"
           ],
           "xaxis": "x",
           "y": [
            3814
           ],
           "yaxis": "y"
          },
          {
           "alignmentgroup": "True",
           "hovertemplate": "RACACOR=%{x}<br>ano=2011<br>size=%{y}<extra></extra>",
           "ids": [
            "Preta"
           ],
           "legendgroup": "Preta",
           "marker": {
            "color": "rgb(115, 111, 76)",
            "pattern": {
             "shape": ""
            }
           },
           "name": "Preta",
           "offsetgroup": "Preta",
           "orientation": "v",
           "showlegend": true,
           "textposition": "auto",
           "type": "bar",
           "x": [
            "Preta"
           ],
           "xaxis": "x",
           "y": [
            577
           ],
           "yaxis": "y"
          }
         ],
         "name": "2011"
        },
        {
         "data": [
          {
           "alignmentgroup": "True",
           "hovertemplate": "RACACOR=%{x}<br>ano=2012<br>size=%{y}<extra></extra>",
           "ids": [
            "Branca"
           ],
           "legendgroup": "Branca",
           "marker": {
            "color": "rgb(217, 175, 107)",
            "pattern": {
             "shape": ""
            }
           },
           "name": "Branca",
           "offsetgroup": "Branca",
           "orientation": "v",
           "showlegend": true,
           "textposition": "auto",
           "type": "bar",
           "x": [
            "Branca"
           ],
           "xaxis": "x",
           "y": [
            5183
           ],
           "yaxis": "y"
          },
          {
           "alignmentgroup": "True",
           "hovertemplate": "RACACOR=%{x}<br>ano=2012<br>size=%{y}<extra></extra>",
           "ids": [
            "Indígena"
           ],
           "legendgroup": "Indígena",
           "marker": {
            "color": "rgb(133, 92, 117)",
            "pattern": {
             "shape": ""
            }
           },
           "name": "Indígena",
           "offsetgroup": "Indígena",
           "orientation": "v",
           "showlegend": true,
           "textposition": "auto",
           "type": "bar",
           "x": [
            "Indígena"
           ],
           "xaxis": "x",
           "y": [
            90
           ],
           "yaxis": "y"
          },
          {
           "alignmentgroup": "True",
           "hovertemplate": "RACACOR=%{x}<br>ano=2012<br>size=%{y}<extra></extra>",
           "ids": [
            "Não Informado"
           ],
           "legendgroup": "Não Informado",
           "marker": {
            "color": "rgb(175, 100, 88)",
            "pattern": {
             "shape": ""
            }
           },
           "name": "Não Informado",
           "offsetgroup": "Não Informado",
           "orientation": "v",
           "showlegend": true,
           "textposition": "auto",
           "type": "bar",
           "x": [
            "Não Informado"
           ],
           "xaxis": "x",
           "y": [
            400
           ],
           "yaxis": "y"
          },
          {
           "alignmentgroup": "True",
           "hovertemplate": "RACACOR=%{x}<br>ano=2012<br>size=%{y}<extra></extra>",
           "ids": [
            "Parda"
           ],
           "legendgroup": "Parda",
           "marker": {
            "color": "rgb(82, 106, 131)",
            "pattern": {
             "shape": ""
            }
           },
           "name": "Parda",
           "offsetgroup": "Parda",
           "orientation": "v",
           "showlegend": true,
           "textposition": "auto",
           "type": "bar",
           "x": [
            "Parda"
           ],
           "xaxis": "x",
           "y": [
            4130
           ],
           "yaxis": "y"
          },
          {
           "alignmentgroup": "True",
           "hovertemplate": "RACACOR=%{x}<br>ano=2012<br>size=%{y}<extra></extra>",
           "ids": [
            "Preta"
           ],
           "legendgroup": "Preta",
           "marker": {
            "color": "rgb(115, 111, 76)",
            "pattern": {
             "shape": ""
            }
           },
           "name": "Preta",
           "offsetgroup": "Preta",
           "orientation": "v",
           "showlegend": true,
           "textposition": "auto",
           "type": "bar",
           "x": [
            "Preta"
           ],
           "xaxis": "x",
           "y": [
            563
           ],
           "yaxis": "y"
          }
         ],
         "name": "2012"
        },
        {
         "data": [
          {
           "alignmentgroup": "True",
           "hovertemplate": "RACACOR=%{x}<br>ano=2013<br>size=%{y}<extra></extra>",
           "ids": [
            "Branca"
           ],
           "legendgroup": "Branca",
           "marker": {
            "color": "rgb(217, 175, 107)",
            "pattern": {
             "shape": ""
            }
           },
           "name": "Branca",
           "offsetgroup": "Branca",
           "orientation": "v",
           "showlegend": true,
           "textposition": "auto",
           "type": "bar",
           "x": [
            "Branca"
           ],
           "xaxis": "x",
           "y": [
            5262
           ],
           "yaxis": "y"
          },
          {
           "alignmentgroup": "True",
           "hovertemplate": "RACACOR=%{x}<br>ano=2013<br>size=%{y}<extra></extra>",
           "ids": [
            "Indígena"
           ],
           "legendgroup": "Indígena",
           "marker": {
            "color": "rgb(133, 92, 117)",
            "pattern": {
             "shape": ""
            }
           },
           "name": "Indígena",
           "offsetgroup": "Indígena",
           "orientation": "v",
           "showlegend": true,
           "textposition": "auto",
           "type": "bar",
           "x": [
            "Indígena"
           ],
           "xaxis": "x",
           "y": [
            113
           ],
           "yaxis": "y"
          },
          {
           "alignmentgroup": "True",
           "hovertemplate": "RACACOR=%{x}<br>ano=2013<br>size=%{y}<extra></extra>",
           "ids": [
            "Não Informado"
           ],
           "legendgroup": "Não Informado",
           "marker": {
            "color": "rgb(175, 100, 88)",
            "pattern": {
             "shape": ""
            }
           },
           "name": "Não Informado",
           "offsetgroup": "Não Informado",
           "orientation": "v",
           "showlegend": true,
           "textposition": "auto",
           "type": "bar",
           "x": [
            "Não Informado"
           ],
           "xaxis": "x",
           "y": [
            405
           ],
           "yaxis": "y"
          },
          {
           "alignmentgroup": "True",
           "hovertemplate": "RACACOR=%{x}<br>ano=2013<br>size=%{y}<extra></extra>",
           "ids": [
            "Parda"
           ],
           "legendgroup": "Parda",
           "marker": {
            "color": "rgb(82, 106, 131)",
            "pattern": {
             "shape": ""
            }
           },
           "name": "Parda",
           "offsetgroup": "Parda",
           "orientation": "v",
           "showlegend": true,
           "textposition": "auto",
           "type": "bar",
           "x": [
            "Parda"
           ],
           "xaxis": "x",
           "y": [
            4265
           ],
           "yaxis": "y"
          },
          {
           "alignmentgroup": "True",
           "hovertemplate": "RACACOR=%{x}<br>ano=2013<br>size=%{y}<extra></extra>",
           "ids": [
            "Preta"
           ],
           "legendgroup": "Preta",
           "marker": {
            "color": "rgb(115, 111, 76)",
            "pattern": {
             "shape": ""
            }
           },
           "name": "Preta",
           "offsetgroup": "Preta",
           "orientation": "v",
           "showlegend": true,
           "textposition": "auto",
           "type": "bar",
           "x": [
            "Preta"
           ],
           "xaxis": "x",
           "y": [
            534
           ],
           "yaxis": "y"
          }
         ],
         "name": "2013"
        },
        {
         "data": [
          {
           "alignmentgroup": "True",
           "hovertemplate": "RACACOR=%{x}<br>ano=2014<br>size=%{y}<extra></extra>",
           "ids": [
            "Branca"
           ],
           "legendgroup": "Branca",
           "marker": {
            "color": "rgb(217, 175, 107)",
            "pattern": {
             "shape": ""
            }
           },
           "name": "Branca",
           "offsetgroup": "Branca",
           "orientation": "v",
           "showlegend": true,
           "textposition": "auto",
           "type": "bar",
           "x": [
            "Branca"
           ],
           "xaxis": "x",
           "y": [
            5346
           ],
           "yaxis": "y"
          },
          {
           "alignmentgroup": "True",
           "hovertemplate": "RACACOR=%{x}<br>ano=2014<br>size=%{y}<extra></extra>",
           "ids": [
            "Indígena"
           ],
           "legendgroup": "Indígena",
           "marker": {
            "color": "rgb(133, 92, 117)",
            "pattern": {
             "shape": ""
            }
           },
           "name": "Indígena",
           "offsetgroup": "Indígena",
           "orientation": "v",
           "showlegend": true,
           "textposition": "auto",
           "type": "bar",
           "x": [
            "Indígena"
           ],
           "xaxis": "x",
           "y": [
            117
           ],
           "yaxis": "y"
          },
          {
           "alignmentgroup": "True",
           "hovertemplate": "RACACOR=%{x}<br>ano=2014<br>size=%{y}<extra></extra>",
           "ids": [
            "Não Informado"
           ],
           "legendgroup": "Não Informado",
           "marker": {
            "color": "rgb(175, 100, 88)",
            "pattern": {
             "shape": ""
            }
           },
           "name": "Não Informado",
           "offsetgroup": "Não Informado",
           "orientation": "v",
           "showlegend": true,
           "textposition": "auto",
           "type": "bar",
           "x": [
            "Não Informado"
           ],
           "xaxis": "x",
           "y": [
            357
           ],
           "yaxis": "y"
          },
          {
           "alignmentgroup": "True",
           "hovertemplate": "RACACOR=%{x}<br>ano=2014<br>size=%{y}<extra></extra>",
           "ids": [
            "Parda"
           ],
           "legendgroup": "Parda",
           "marker": {
            "color": "rgb(82, 106, 131)",
            "pattern": {
             "shape": ""
            }
           },
           "name": "Parda",
           "offsetgroup": "Parda",
           "orientation": "v",
           "showlegend": true,
           "textposition": "auto",
           "type": "bar",
           "x": [
            "Parda"
           ],
           "xaxis": "x",
           "y": [
            4302
           ],
           "yaxis": "y"
          },
          {
           "alignmentgroup": "True",
           "hovertemplate": "RACACOR=%{x}<br>ano=2014<br>size=%{y}<extra></extra>",
           "ids": [
            "Preta"
           ],
           "legendgroup": "Preta",
           "marker": {
            "color": "rgb(115, 111, 76)",
            "pattern": {
             "shape": ""
            }
           },
           "name": "Preta",
           "offsetgroup": "Preta",
           "orientation": "v",
           "showlegend": true,
           "textposition": "auto",
           "type": "bar",
           "x": [
            "Preta"
           ],
           "xaxis": "x",
           "y": [
            561
           ],
           "yaxis": "y"
          }
         ],
         "name": "2014"
        },
        {
         "data": [
          {
           "alignmentgroup": "True",
           "hovertemplate": "RACACOR=%{x}<br>ano=2015<br>size=%{y}<extra></extra>",
           "ids": [
            "Branca"
           ],
           "legendgroup": "Branca",
           "marker": {
            "color": "rgb(217, 175, 107)",
            "pattern": {
             "shape": ""
            }
           },
           "name": "Branca",
           "offsetgroup": "Branca",
           "orientation": "v",
           "showlegend": true,
           "textposition": "auto",
           "type": "bar",
           "x": [
            "Branca"
           ],
           "xaxis": "x",
           "y": [
            5609
           ],
           "yaxis": "y"
          },
          {
           "alignmentgroup": "True",
           "hovertemplate": "RACACOR=%{x}<br>ano=2015<br>size=%{y}<extra></extra>",
           "ids": [
            "Indígena"
           ],
           "legendgroup": "Indígena",
           "marker": {
            "color": "rgb(133, 92, 117)",
            "pattern": {
             "shape": ""
            }
           },
           "name": "Indígena",
           "offsetgroup": "Indígena",
           "orientation": "v",
           "showlegend": true,
           "textposition": "auto",
           "type": "bar",
           "x": [
            "Indígena"
           ],
           "xaxis": "x",
           "y": [
            132
           ],
           "yaxis": "y"
          },
          {
           "alignmentgroup": "True",
           "hovertemplate": "RACACOR=%{x}<br>ano=2015<br>size=%{y}<extra></extra>",
           "ids": [
            "Não Informado"
           ],
           "legendgroup": "Não Informado",
           "marker": {
            "color": "rgb(175, 100, 88)",
            "pattern": {
             "shape": ""
            }
           },
           "name": "Não Informado",
           "offsetgroup": "Não Informado",
           "orientation": "v",
           "showlegend": true,
           "textposition": "auto",
           "type": "bar",
           "x": [
            "Não Informado"
           ],
           "xaxis": "x",
           "y": [
            320
           ],
           "yaxis": "y"
          },
          {
           "alignmentgroup": "True",
           "hovertemplate": "RACACOR=%{x}<br>ano=2015<br>size=%{y}<extra></extra>",
           "ids": [
            "Parda"
           ],
           "legendgroup": "Parda",
           "marker": {
            "color": "rgb(82, 106, 131)",
            "pattern": {
             "shape": ""
            }
           },
           "name": "Parda",
           "offsetgroup": "Parda",
           "orientation": "v",
           "showlegend": true,
           "textposition": "auto",
           "type": "bar",
           "x": [
            "Parda"
           ],
           "xaxis": "x",
           "y": [
            4577
           ],
           "yaxis": "y"
          },
          {
           "alignmentgroup": "True",
           "hovertemplate": "RACACOR=%{x}<br>ano=2015<br>size=%{y}<extra></extra>",
           "ids": [
            "Preta"
           ],
           "legendgroup": "Preta",
           "marker": {
            "color": "rgb(115, 111, 76)",
            "pattern": {
             "shape": ""
            }
           },
           "name": "Preta",
           "offsetgroup": "Preta",
           "orientation": "v",
           "showlegend": true,
           "textposition": "auto",
           "type": "bar",
           "x": [
            "Preta"
           ],
           "xaxis": "x",
           "y": [
            573
           ],
           "yaxis": "y"
          }
         ],
         "name": "2015"
        },
        {
         "data": [
          {
           "alignmentgroup": "True",
           "hovertemplate": "RACACOR=%{x}<br>ano=2016<br>size=%{y}<extra></extra>",
           "ids": [
            "Branca"
           ],
           "legendgroup": "Branca",
           "marker": {
            "color": "rgb(217, 175, 107)",
            "pattern": {
             "shape": ""
            }
           },
           "name": "Branca",
           "offsetgroup": "Branca",
           "orientation": "v",
           "showlegend": true,
           "textposition": "auto",
           "type": "bar",
           "x": [
            "Branca"
           ],
           "xaxis": "x",
           "y": [
            5706
           ],
           "yaxis": "y"
          },
          {
           "alignmentgroup": "True",
           "hovertemplate": "RACACOR=%{x}<br>ano=2016<br>size=%{y}<extra></extra>",
           "ids": [
            "Indígena"
           ],
           "legendgroup": "Indígena",
           "marker": {
            "color": "rgb(133, 92, 117)",
            "pattern": {
             "shape": ""
            }
           },
           "name": "Indígena",
           "offsetgroup": "Indígena",
           "orientation": "v",
           "showlegend": true,
           "textposition": "auto",
           "type": "bar",
           "x": [
            "Indígena"
           ],
           "xaxis": "x",
           "y": [
            121
           ],
           "yaxis": "y"
          },
          {
           "alignmentgroup": "True",
           "hovertemplate": "RACACOR=%{x}<br>ano=2016<br>size=%{y}<extra></extra>",
           "ids": [
            "Não Informado"
           ],
           "legendgroup": "Não Informado",
           "marker": {
            "color": "rgb(175, 100, 88)",
            "pattern": {
             "shape": ""
            }
           },
           "name": "Não Informado",
           "offsetgroup": "Não Informado",
           "orientation": "v",
           "showlegend": true,
           "textposition": "auto",
           "type": "bar",
           "x": [
            "Não Informado"
           ],
           "xaxis": "x",
           "y": [
            303
           ],
           "yaxis": "y"
          },
          {
           "alignmentgroup": "True",
           "hovertemplate": "RACACOR=%{x}<br>ano=2016<br>size=%{y}<extra></extra>",
           "ids": [
            "Parda"
           ],
           "legendgroup": "Parda",
           "marker": {
            "color": "rgb(82, 106, 131)",
            "pattern": {
             "shape": ""
            }
           },
           "name": "Parda",
           "offsetgroup": "Parda",
           "orientation": "v",
           "showlegend": true,
           "textposition": "auto",
           "type": "bar",
           "x": [
            "Parda"
           ],
           "xaxis": "x",
           "y": [
            4730
           ],
           "yaxis": "y"
          },
          {
           "alignmentgroup": "True",
           "hovertemplate": "RACACOR=%{x}<br>ano=2016<br>size=%{y}<extra></extra>",
           "ids": [
            "Preta"
           ],
           "legendgroup": "Preta",
           "marker": {
            "color": "rgb(115, 111, 76)",
            "pattern": {
             "shape": ""
            }
           },
           "name": "Preta",
           "offsetgroup": "Preta",
           "orientation": "v",
           "showlegend": true,
           "textposition": "auto",
           "type": "bar",
           "x": [
            "Preta"
           ],
           "xaxis": "x",
           "y": [
            595
           ],
           "yaxis": "y"
          }
         ],
         "name": "2016"
        },
        {
         "data": [
          {
           "alignmentgroup": "True",
           "hovertemplate": "RACACOR=%{x}<br>ano=2017<br>size=%{y}<extra></extra>",
           "ids": [
            "Branca"
           ],
           "legendgroup": "Branca",
           "marker": {
            "color": "rgb(217, 175, 107)",
            "pattern": {
             "shape": ""
            }
           },
           "name": "Branca",
           "offsetgroup": "Branca",
           "orientation": "v",
           "showlegend": true,
           "textposition": "auto",
           "type": "bar",
           "x": [
            "Branca"
           ],
           "xaxis": "x",
           "y": [
            6252
           ],
           "yaxis": "y"
          },
          {
           "alignmentgroup": "True",
           "hovertemplate": "RACACOR=%{x}<br>ano=2017<br>size=%{y}<extra></extra>",
           "ids": [
            "Indígena"
           ],
           "legendgroup": "Indígena",
           "marker": {
            "color": "rgb(133, 92, 117)",
            "pattern": {
             "shape": ""
            }
           },
           "name": "Indígena",
           "offsetgroup": "Indígena",
           "orientation": "v",
           "showlegend": true,
           "textposition": "auto",
           "type": "bar",
           "x": [
            "Indígena"
           ],
           "xaxis": "x",
           "y": [
            150
           ],
           "yaxis": "y"
          },
          {
           "alignmentgroup": "True",
           "hovertemplate": "RACACOR=%{x}<br>ano=2017<br>size=%{y}<extra></extra>",
           "ids": [
            "Não Informado"
           ],
           "legendgroup": "Não Informado",
           "marker": {
            "color": "rgb(175, 100, 88)",
            "pattern": {
             "shape": ""
            }
           },
           "name": "Não Informado",
           "offsetgroup": "Não Informado",
           "orientation": "v",
           "showlegend": true,
           "textposition": "auto",
           "type": "bar",
           "x": [
            "Não Informado"
           ],
           "xaxis": "x",
           "y": [
            170
           ],
           "yaxis": "y"
          },
          {
           "alignmentgroup": "True",
           "hovertemplate": "RACACOR=%{x}<br>ano=2017<br>size=%{y}<extra></extra>",
           "ids": [
            "Parda"
           ],
           "legendgroup": "Parda",
           "marker": {
            "color": "rgb(82, 106, 131)",
            "pattern": {
             "shape": ""
            }
           },
           "name": "Parda",
           "offsetgroup": "Parda",
           "orientation": "v",
           "showlegend": true,
           "textposition": "auto",
           "type": "bar",
           "x": [
            "Parda"
           ],
           "xaxis": "x",
           "y": [
            5276
           ],
           "yaxis": "y"
          },
          {
           "alignmentgroup": "True",
           "hovertemplate": "RACACOR=%{x}<br>ano=2017<br>size=%{y}<extra></extra>",
           "ids": [
            "Preta"
           ],
           "legendgroup": "Preta",
           "marker": {
            "color": "rgb(115, 111, 76)",
            "pattern": {
             "shape": ""
            }
           },
           "name": "Preta",
           "offsetgroup": "Preta",
           "orientation": "v",
           "showlegend": true,
           "textposition": "auto",
           "type": "bar",
           "x": [
            "Preta"
           ],
           "xaxis": "x",
           "y": [
            673
           ],
           "yaxis": "y"
          }
         ],
         "name": "2017"
        },
        {
         "data": [
          {
           "alignmentgroup": "True",
           "hovertemplate": "RACACOR=%{x}<br>ano=2018<br>size=%{y}<extra></extra>",
           "ids": [
            "Branca"
           ],
           "legendgroup": "Branca",
           "marker": {
            "color": "rgb(217, 175, 107)",
            "pattern": {
             "shape": ""
            }
           },
           "name": "Branca",
           "offsetgroup": "Branca",
           "orientation": "v",
           "showlegend": true,
           "textposition": "auto",
           "type": "bar",
           "x": [
            "Branca"
           ],
           "xaxis": "x",
           "y": [
            6280
           ],
           "yaxis": "y"
          },
          {
           "alignmentgroup": "True",
           "hovertemplate": "RACACOR=%{x}<br>ano=2018<br>size=%{y}<extra></extra>",
           "ids": [
            "Indígena"
           ],
           "legendgroup": "Indígena",
           "marker": {
            "color": "rgb(133, 92, 117)",
            "pattern": {
             "shape": ""
            }
           },
           "name": "Indígena",
           "offsetgroup": "Indígena",
           "orientation": "v",
           "showlegend": true,
           "textposition": "auto",
           "type": "bar",
           "x": [
            "Indígena"
           ],
           "xaxis": "x",
           "y": [
            138
           ],
           "yaxis": "y"
          },
          {
           "alignmentgroup": "True",
           "hovertemplate": "RACACOR=%{x}<br>ano=2018<br>size=%{y}<extra></extra>",
           "ids": [
            "Não Informado"
           ],
           "legendgroup": "Não Informado",
           "marker": {
            "color": "rgb(175, 100, 88)",
            "pattern": {
             "shape": ""
            }
           },
           "name": "Não Informado",
           "offsetgroup": "Não Informado",
           "orientation": "v",
           "showlegend": true,
           "textposition": "auto",
           "type": "bar",
           "x": [
            "Não Informado"
           ],
           "xaxis": "x",
           "y": [
            186
           ],
           "yaxis": "y"
          },
          {
           "alignmentgroup": "True",
           "hovertemplate": "RACACOR=%{x}<br>ano=2018<br>size=%{y}<extra></extra>",
           "ids": [
            "Parda"
           ],
           "legendgroup": "Parda",
           "marker": {
            "color": "rgb(82, 106, 131)",
            "pattern": {
             "shape": ""
            }
           },
           "name": "Parda",
           "offsetgroup": "Parda",
           "orientation": "v",
           "showlegend": true,
           "textposition": "auto",
           "type": "bar",
           "x": [
            "Parda"
           ],
           "xaxis": "x",
           "y": [
            5512
           ],
           "yaxis": "y"
          },
          {
           "alignmentgroup": "True",
           "hovertemplate": "RACACOR=%{x}<br>ano=2018<br>size=%{y}<extra></extra>",
           "ids": [
            "Preta"
           ],
           "legendgroup": "Preta",
           "marker": {
            "color": "rgb(115, 111, 76)",
            "pattern": {
             "shape": ""
            }
           },
           "name": "Preta",
           "offsetgroup": "Preta",
           "orientation": "v",
           "showlegend": true,
           "textposition": "auto",
           "type": "bar",
           "x": [
            "Preta"
           ],
           "xaxis": "x",
           "y": [
            648
           ],
           "yaxis": "y"
          }
         ],
         "name": "2018"
        },
        {
         "data": [
          {
           "alignmentgroup": "True",
           "hovertemplate": "RACACOR=%{x}<br>ano=2019<br>size=%{y}<extra></extra>",
           "ids": [
            "Branca"
           ],
           "legendgroup": "Branca",
           "marker": {
            "color": "rgb(217, 175, 107)",
            "pattern": {
             "shape": ""
            }
           },
           "name": "Branca",
           "offsetgroup": "Branca",
           "orientation": "v",
           "showlegend": true,
           "textposition": "auto",
           "type": "bar",
           "x": [
            "Branca"
           ],
           "xaxis": "x",
           "y": [
            6612
           ],
           "yaxis": "y"
          },
          {
           "alignmentgroup": "True",
           "hovertemplate": "RACACOR=%{x}<br>ano=2019<br>size=%{y}<extra></extra>",
           "ids": [
            "Indígena"
           ],
           "legendgroup": "Indígena",
           "marker": {
            "color": "rgb(133, 92, 117)",
            "pattern": {
             "shape": ""
            }
           },
           "name": "Indígena",
           "offsetgroup": "Indígena",
           "orientation": "v",
           "showlegend": true,
           "textposition": "auto",
           "type": "bar",
           "x": [
            "Indígena"
           ],
           "xaxis": "x",
           "y": [
            136
           ],
           "yaxis": "y"
          },
          {
           "alignmentgroup": "True",
           "hovertemplate": "RACACOR=%{x}<br>ano=2019<br>size=%{y}<extra></extra>",
           "ids": [
            "Não Informado"
           ],
           "legendgroup": "Não Informado",
           "marker": {
            "color": "rgb(175, 100, 88)",
            "pattern": {
             "shape": ""
            }
           },
           "name": "Não Informado",
           "offsetgroup": "Não Informado",
           "orientation": "v",
           "showlegend": true,
           "textposition": "auto",
           "type": "bar",
           "x": [
            "Não Informado"
           ],
           "xaxis": "x",
           "y": [
            178
           ],
           "yaxis": "y"
          },
          {
           "alignmentgroup": "True",
           "hovertemplate": "RACACOR=%{x}<br>ano=2019<br>size=%{y}<extra></extra>",
           "ids": [
            "Parda"
           ],
           "legendgroup": "Parda",
           "marker": {
            "color": "rgb(82, 106, 131)",
            "pattern": {
             "shape": ""
            }
           },
           "name": "Parda",
           "offsetgroup": "Parda",
           "orientation": "v",
           "showlegend": true,
           "textposition": "auto",
           "type": "bar",
           "x": [
            "Parda"
           ],
           "xaxis": "x",
           "y": [
            5942
           ],
           "yaxis": "y"
          },
          {
           "alignmentgroup": "True",
           "hovertemplate": "RACACOR=%{x}<br>ano=2019<br>size=%{y}<extra></extra>",
           "ids": [
            "Preta"
           ],
           "legendgroup": "Preta",
           "marker": {
            "color": "rgb(115, 111, 76)",
            "pattern": {
             "shape": ""
            }
           },
           "name": "Preta",
           "offsetgroup": "Preta",
           "orientation": "v",
           "showlegend": true,
           "textposition": "auto",
           "type": "bar",
           "x": [
            "Preta"
           ],
           "xaxis": "x",
           "y": [
            686
           ],
           "yaxis": "y"
          }
         ],
         "name": "2019"
        }
       ],
       "layout": {
        "barmode": "relative",
        "legend": {
         "title": {
          "text": "RACACOR"
         },
         "tracegroupgap": 0
        },
        "sliders": [
         {
          "active": 0,
          "currentvalue": {
           "prefix": "ano="
          },
          "len": 0.9,
          "pad": {
           "b": 10,
           "t": 60
          },
          "steps": [
           {
            "args": [
             [
              "2010"
             ],
             {
              "frame": {
               "duration": 0,
               "redraw": true
              },
              "fromcurrent": true,
              "mode": "immediate",
              "transition": {
               "duration": 0,
               "easing": "linear"
              }
             }
            ],
            "label": "2010",
            "method": "animate"
           },
           {
            "args": [
             [
              "2011"
             ],
             {
              "frame": {
               "duration": 0,
               "redraw": true
              },
              "fromcurrent": true,
              "mode": "immediate",
              "transition": {
               "duration": 0,
               "easing": "linear"
              }
             }
            ],
            "label": "2011",
            "method": "animate"
           },
           {
            "args": [
             [
              "2012"
             ],
             {
              "frame": {
               "duration": 0,
               "redraw": true
              },
              "fromcurrent": true,
              "mode": "immediate",
              "transition": {
               "duration": 0,
               "easing": "linear"
              }
             }
            ],
            "label": "2012",
            "method": "animate"
           },
           {
            "args": [
             [
              "2013"
             ],
             {
              "frame": {
               "duration": 0,
               "redraw": true
              },
              "fromcurrent": true,
              "mode": "immediate",
              "transition": {
               "duration": 0,
               "easing": "linear"
              }
             }
            ],
            "label": "2013",
            "method": "animate"
           },
           {
            "args": [
             [
              "2014"
             ],
             {
              "frame": {
               "duration": 0,
               "redraw": true
              },
              "fromcurrent": true,
              "mode": "immediate",
              "transition": {
               "duration": 0,
               "easing": "linear"
              }
             }
            ],
            "label": "2014",
            "method": "animate"
           },
           {
            "args": [
             [
              "2015"
             ],
             {
              "frame": {
               "duration": 0,
               "redraw": true
              },
              "fromcurrent": true,
              "mode": "immediate",
              "transition": {
               "duration": 0,
               "easing": "linear"
              }
             }
            ],
            "label": "2015",
            "method": "animate"
           },
           {
            "args": [
             [
              "2016"
             ],
             {
              "frame": {
               "duration": 0,
               "redraw": true
              },
              "fromcurrent": true,
              "mode": "immediate",
              "transition": {
               "duration": 0,
               "easing": "linear"
              }
             }
            ],
            "label": "2016",
            "method": "animate"
           },
           {
            "args": [
             [
              "2017"
             ],
             {
              "frame": {
               "duration": 0,
               "redraw": true
              },
              "fromcurrent": true,
              "mode": "immediate",
              "transition": {
               "duration": 0,
               "easing": "linear"
              }
             }
            ],
            "label": "2017",
            "method": "animate"
           },
           {
            "args": [
             [
              "2018"
             ],
             {
              "frame": {
               "duration": 0,
               "redraw": true
              },
              "fromcurrent": true,
              "mode": "immediate",
              "transition": {
               "duration": 0,
               "easing": "linear"
              }
             }
            ],
            "label": "2018",
            "method": "animate"
           },
           {
            "args": [
             [
              "2019"
             ],
             {
              "frame": {
               "duration": 0,
               "redraw": true
              },
              "fromcurrent": true,
              "mode": "immediate",
              "transition": {
               "duration": 0,
               "easing": "linear"
              }
             }
            ],
            "label": "2019",
            "method": "animate"
           }
          ],
          "x": 0.1,
          "xanchor": "left",
          "y": 0,
          "yanchor": "top"
         }
        ],
        "template": {
         "data": {
          "bar": [
           {
            "error_x": {
             "color": "#2a3f5f"
            },
            "error_y": {
             "color": "#2a3f5f"
            },
            "marker": {
             "line": {
              "color": "#E5ECF6",
              "width": 0.5
             },
             "pattern": {
              "fillmode": "overlay",
              "size": 10,
              "solidity": 0.2
             }
            },
            "type": "bar"
           }
          ],
          "barpolar": [
           {
            "marker": {
             "line": {
              "color": "#E5ECF6",
              "width": 0.5
             },
             "pattern": {
              "fillmode": "overlay",
              "size": 10,
              "solidity": 0.2
             }
            },
            "type": "barpolar"
           }
          ],
          "carpet": [
           {
            "aaxis": {
             "endlinecolor": "#2a3f5f",
             "gridcolor": "white",
             "linecolor": "white",
             "minorgridcolor": "white",
             "startlinecolor": "#2a3f5f"
            },
            "baxis": {
             "endlinecolor": "#2a3f5f",
             "gridcolor": "white",
             "linecolor": "white",
             "minorgridcolor": "white",
             "startlinecolor": "#2a3f5f"
            },
            "type": "carpet"
           }
          ],
          "choropleth": [
           {
            "colorbar": {
             "outlinewidth": 0,
             "ticks": ""
            },
            "type": "choropleth"
           }
          ],
          "contour": [
           {
            "colorbar": {
             "outlinewidth": 0,
             "ticks": ""
            },
            "colorscale": [
             [
              0,
              "#0d0887"
             ],
             [
              0.1111111111111111,
              "#46039f"
             ],
             [
              0.2222222222222222,
              "#7201a8"
             ],
             [
              0.3333333333333333,
              "#9c179e"
             ],
             [
              0.4444444444444444,
              "#bd3786"
             ],
             [
              0.5555555555555556,
              "#d8576b"
             ],
             [
              0.6666666666666666,
              "#ed7953"
             ],
             [
              0.7777777777777778,
              "#fb9f3a"
             ],
             [
              0.8888888888888888,
              "#fdca26"
             ],
             [
              1,
              "#f0f921"
             ]
            ],
            "type": "contour"
           }
          ],
          "contourcarpet": [
           {
            "colorbar": {
             "outlinewidth": 0,
             "ticks": ""
            },
            "type": "contourcarpet"
           }
          ],
          "heatmap": [
           {
            "colorbar": {
             "outlinewidth": 0,
             "ticks": ""
            },
            "colorscale": [
             [
              0,
              "#0d0887"
             ],
             [
              0.1111111111111111,
              "#46039f"
             ],
             [
              0.2222222222222222,
              "#7201a8"
             ],
             [
              0.3333333333333333,
              "#9c179e"
             ],
             [
              0.4444444444444444,
              "#bd3786"
             ],
             [
              0.5555555555555556,
              "#d8576b"
             ],
             [
              0.6666666666666666,
              "#ed7953"
             ],
             [
              0.7777777777777778,
              "#fb9f3a"
             ],
             [
              0.8888888888888888,
              "#fdca26"
             ],
             [
              1,
              "#f0f921"
             ]
            ],
            "type": "heatmap"
           }
          ],
          "heatmapgl": [
           {
            "colorbar": {
             "outlinewidth": 0,
             "ticks": ""
            },
            "colorscale": [
             [
              0,
              "#0d0887"
             ],
             [
              0.1111111111111111,
              "#46039f"
             ],
             [
              0.2222222222222222,
              "#7201a8"
             ],
             [
              0.3333333333333333,
              "#9c179e"
             ],
             [
              0.4444444444444444,
              "#bd3786"
             ],
             [
              0.5555555555555556,
              "#d8576b"
             ],
             [
              0.6666666666666666,
              "#ed7953"
             ],
             [
              0.7777777777777778,
              "#fb9f3a"
             ],
             [
              0.8888888888888888,
              "#fdca26"
             ],
             [
              1,
              "#f0f921"
             ]
            ],
            "type": "heatmapgl"
           }
          ],
          "histogram": [
           {
            "marker": {
             "pattern": {
              "fillmode": "overlay",
              "size": 10,
              "solidity": 0.2
             }
            },
            "type": "histogram"
           }
          ],
          "histogram2d": [
           {
            "colorbar": {
             "outlinewidth": 0,
             "ticks": ""
            },
            "colorscale": [
             [
              0,
              "#0d0887"
             ],
             [
              0.1111111111111111,
              "#46039f"
             ],
             [
              0.2222222222222222,
              "#7201a8"
             ],
             [
              0.3333333333333333,
              "#9c179e"
             ],
             [
              0.4444444444444444,
              "#bd3786"
             ],
             [
              0.5555555555555556,
              "#d8576b"
             ],
             [
              0.6666666666666666,
              "#ed7953"
             ],
             [
              0.7777777777777778,
              "#fb9f3a"
             ],
             [
              0.8888888888888888,
              "#fdca26"
             ],
             [
              1,
              "#f0f921"
             ]
            ],
            "type": "histogram2d"
           }
          ],
          "histogram2dcontour": [
           {
            "colorbar": {
             "outlinewidth": 0,
             "ticks": ""
            },
            "colorscale": [
             [
              0,
              "#0d0887"
             ],
             [
              0.1111111111111111,
              "#46039f"
             ],
             [
              0.2222222222222222,
              "#7201a8"
             ],
             [
              0.3333333333333333,
              "#9c179e"
             ],
             [
              0.4444444444444444,
              "#bd3786"
             ],
             [
              0.5555555555555556,
              "#d8576b"
             ],
             [
              0.6666666666666666,
              "#ed7953"
             ],
             [
              0.7777777777777778,
              "#fb9f3a"
             ],
             [
              0.8888888888888888,
              "#fdca26"
             ],
             [
              1,
              "#f0f921"
             ]
            ],
            "type": "histogram2dcontour"
           }
          ],
          "mesh3d": [
           {
            "colorbar": {
             "outlinewidth": 0,
             "ticks": ""
            },
            "type": "mesh3d"
           }
          ],
          "parcoords": [
           {
            "line": {
             "colorbar": {
              "outlinewidth": 0,
              "ticks": ""
             }
            },
            "type": "parcoords"
           }
          ],
          "pie": [
           {
            "automargin": true,
            "type": "pie"
           }
          ],
          "scatter": [
           {
            "marker": {
             "colorbar": {
              "outlinewidth": 0,
              "ticks": ""
             }
            },
            "type": "scatter"
           }
          ],
          "scatter3d": [
           {
            "line": {
             "colorbar": {
              "outlinewidth": 0,
              "ticks": ""
             }
            },
            "marker": {
             "colorbar": {
              "outlinewidth": 0,
              "ticks": ""
             }
            },
            "type": "scatter3d"
           }
          ],
          "scattercarpet": [
           {
            "marker": {
             "colorbar": {
              "outlinewidth": 0,
              "ticks": ""
             }
            },
            "type": "scattercarpet"
           }
          ],
          "scattergeo": [
           {
            "marker": {
             "colorbar": {
              "outlinewidth": 0,
              "ticks": ""
             }
            },
            "type": "scattergeo"
           }
          ],
          "scattergl": [
           {
            "marker": {
             "colorbar": {
              "outlinewidth": 0,
              "ticks": ""
             }
            },
            "type": "scattergl"
           }
          ],
          "scattermapbox": [
           {
            "marker": {
             "colorbar": {
              "outlinewidth": 0,
              "ticks": ""
             }
            },
            "type": "scattermapbox"
           }
          ],
          "scatterpolar": [
           {
            "marker": {
             "colorbar": {
              "outlinewidth": 0,
              "ticks": ""
             }
            },
            "type": "scatterpolar"
           }
          ],
          "scatterpolargl": [
           {
            "marker": {
             "colorbar": {
              "outlinewidth": 0,
              "ticks": ""
             }
            },
            "type": "scatterpolargl"
           }
          ],
          "scatterternary": [
           {
            "marker": {
             "colorbar": {
              "outlinewidth": 0,
              "ticks": ""
             }
            },
            "type": "scatterternary"
           }
          ],
          "surface": [
           {
            "colorbar": {
             "outlinewidth": 0,
             "ticks": ""
            },
            "colorscale": [
             [
              0,
              "#0d0887"
             ],
             [
              0.1111111111111111,
              "#46039f"
             ],
             [
              0.2222222222222222,
              "#7201a8"
             ],
             [
              0.3333333333333333,
              "#9c179e"
             ],
             [
              0.4444444444444444,
              "#bd3786"
             ],
             [
              0.5555555555555556,
              "#d8576b"
             ],
             [
              0.6666666666666666,
              "#ed7953"
             ],
             [
              0.7777777777777778,
              "#fb9f3a"
             ],
             [
              0.8888888888888888,
              "#fdca26"
             ],
             [
              1,
              "#f0f921"
             ]
            ],
            "type": "surface"
           }
          ],
          "table": [
           {
            "cells": {
             "fill": {
              "color": "#EBF0F8"
             },
             "line": {
              "color": "white"
             }
            },
            "header": {
             "fill": {
              "color": "#C8D4E3"
             },
             "line": {
              "color": "white"
             }
            },
            "type": "table"
           }
          ]
         },
         "layout": {
          "annotationdefaults": {
           "arrowcolor": "#2a3f5f",
           "arrowhead": 0,
           "arrowwidth": 1
          },
          "autotypenumbers": "strict",
          "coloraxis": {
           "colorbar": {
            "outlinewidth": 0,
            "ticks": ""
           }
          },
          "colorscale": {
           "diverging": [
            [
             0,
             "#8e0152"
            ],
            [
             0.1,
             "#c51b7d"
            ],
            [
             0.2,
             "#de77ae"
            ],
            [
             0.3,
             "#f1b6da"
            ],
            [
             0.4,
             "#fde0ef"
            ],
            [
             0.5,
             "#f7f7f7"
            ],
            [
             0.6,
             "#e6f5d0"
            ],
            [
             0.7,
             "#b8e186"
            ],
            [
             0.8,
             "#7fbc41"
            ],
            [
             0.9,
             "#4d9221"
            ],
            [
             1,
             "#276419"
            ]
           ],
           "sequential": [
            [
             0,
             "#0d0887"
            ],
            [
             0.1111111111111111,
             "#46039f"
            ],
            [
             0.2222222222222222,
             "#7201a8"
            ],
            [
             0.3333333333333333,
             "#9c179e"
            ],
            [
             0.4444444444444444,
             "#bd3786"
            ],
            [
             0.5555555555555556,
             "#d8576b"
            ],
            [
             0.6666666666666666,
             "#ed7953"
            ],
            [
             0.7777777777777778,
             "#fb9f3a"
            ],
            [
             0.8888888888888888,
             "#fdca26"
            ],
            [
             1,
             "#f0f921"
            ]
           ],
           "sequentialminus": [
            [
             0,
             "#0d0887"
            ],
            [
             0.1111111111111111,
             "#46039f"
            ],
            [
             0.2222222222222222,
             "#7201a8"
            ],
            [
             0.3333333333333333,
             "#9c179e"
            ],
            [
             0.4444444444444444,
             "#bd3786"
            ],
            [
             0.5555555555555556,
             "#d8576b"
            ],
            [
             0.6666666666666666,
             "#ed7953"
            ],
            [
             0.7777777777777778,
             "#fb9f3a"
            ],
            [
             0.8888888888888888,
             "#fdca26"
            ],
            [
             1,
             "#f0f921"
            ]
           ]
          },
          "colorway": [
           "#636efa",
           "#EF553B",
           "#00cc96",
           "#ab63fa",
           "#FFA15A",
           "#19d3f3",
           "#FF6692",
           "#B6E880",
           "#FF97FF",
           "#FECB52"
          ],
          "font": {
           "color": "#2a3f5f"
          },
          "geo": {
           "bgcolor": "white",
           "lakecolor": "white",
           "landcolor": "#E5ECF6",
           "showlakes": true,
           "showland": true,
           "subunitcolor": "white"
          },
          "hoverlabel": {
           "align": "left"
          },
          "hovermode": "closest",
          "mapbox": {
           "style": "light"
          },
          "paper_bgcolor": "white",
          "plot_bgcolor": "#E5ECF6",
          "polar": {
           "angularaxis": {
            "gridcolor": "white",
            "linecolor": "white",
            "ticks": ""
           },
           "bgcolor": "#E5ECF6",
           "radialaxis": {
            "gridcolor": "white",
            "linecolor": "white",
            "ticks": ""
           }
          },
          "scene": {
           "xaxis": {
            "backgroundcolor": "#E5ECF6",
            "gridcolor": "white",
            "gridwidth": 2,
            "linecolor": "white",
            "showbackground": true,
            "ticks": "",
            "zerolinecolor": "white"
           },
           "yaxis": {
            "backgroundcolor": "#E5ECF6",
            "gridcolor": "white",
            "gridwidth": 2,
            "linecolor": "white",
            "showbackground": true,
            "ticks": "",
            "zerolinecolor": "white"
           },
           "zaxis": {
            "backgroundcolor": "#E5ECF6",
            "gridcolor": "white",
            "gridwidth": 2,
            "linecolor": "white",
            "showbackground": true,
            "ticks": "",
            "zerolinecolor": "white"
           }
          },
          "shapedefaults": {
           "line": {
            "color": "#2a3f5f"
           }
          },
          "ternary": {
           "aaxis": {
            "gridcolor": "white",
            "linecolor": "white",
            "ticks": ""
           },
           "baxis": {
            "gridcolor": "white",
            "linecolor": "white",
            "ticks": ""
           },
           "bgcolor": "#E5ECF6",
           "caxis": {
            "gridcolor": "white",
            "linecolor": "white",
            "ticks": ""
           }
          },
          "title": {
           "x": 0.05
          },
          "xaxis": {
           "automargin": true,
           "gridcolor": "white",
           "linecolor": "white",
           "ticks": "",
           "title": {
            "standoff": 15
           },
           "zerolinecolor": "white",
           "zerolinewidth": 2
          },
          "yaxis": {
           "automargin": true,
           "gridcolor": "white",
           "linecolor": "white",
           "ticks": "",
           "title": {
            "standoff": 15
           },
           "zerolinecolor": "white",
           "zerolinewidth": 2
          }
         }
        },
        "title": {
         "text": "Número de suícidio por RAÇA / COR no período de 2010 a 2019"
        },
        "updatemenus": [
         {
          "buttons": [
           {
            "args": [
             null,
             {
              "frame": {
               "duration": 500,
               "redraw": true
              },
              "fromcurrent": true,
              "mode": "immediate",
              "transition": {
               "duration": 500,
               "easing": "linear"
              }
             }
            ],
            "label": "&#9654;",
            "method": "animate"
           },
           {
            "args": [
             [
              null
             ],
             {
              "frame": {
               "duration": 0,
               "redraw": true
              },
              "fromcurrent": true,
              "mode": "immediate",
              "transition": {
               "duration": 0,
               "easing": "linear"
              }
             }
            ],
            "label": "&#9724;",
            "method": "animate"
           }
          ],
          "direction": "left",
          "pad": {
           "r": 10,
           "t": 70
          },
          "showactive": false,
          "type": "buttons",
          "x": 0.1,
          "xanchor": "right",
          "y": 0,
          "yanchor": "top"
         }
        ],
        "xaxis": {
         "anchor": "y",
         "categoryarray": [
          "Branca",
          "Indígena",
          "Não Informado",
          "Parda",
          "Preta"
         ],
         "categoryorder": "array",
         "domain": [
          0,
          1
         ],
         "title": {
          "text": "RACACOR"
         }
        },
        "yaxis": {
         "anchor": "x",
         "domain": [
          0,
          1
         ],
         "range": [
          0,
          8000
         ],
         "title": {
          "text": "size"
         }
        }
       }
      },
      "text/html": [
       "<div>                            <div id=\"27c7389f-dd68-472f-8a19-8c40ae495cc4\" class=\"plotly-graph-div\" style=\"height:525px; width:100%;\"></div>            <script type=\"text/javascript\">                require([\"plotly\"], function(Plotly) {                    window.PLOTLYENV=window.PLOTLYENV || {};                                    if (document.getElementById(\"27c7389f-dd68-472f-8a19-8c40ae495cc4\")) {                    Plotly.newPlot(                        \"27c7389f-dd68-472f-8a19-8c40ae495cc4\",                        [{\"alignmentgroup\":\"True\",\"hovertemplate\":\"RACACOR=%{x}<br>ano=2010<br>size=%{y}<extra></extra>\",\"ids\":[\"Branca\"],\"legendgroup\":\"Branca\",\"marker\":{\"color\":\"rgb(217, 175, 107)\",\"pattern\":{\"shape\":\"\"}},\"name\":\"Branca\",\"offsetgroup\":\"Branca\",\"orientation\":\"v\",\"showlegend\":true,\"textposition\":\"auto\",\"type\":\"bar\",\"x\":[\"Branca\"],\"xaxis\":\"x\",\"y\":[4850],\"yaxis\":\"y\"},{\"alignmentgroup\":\"True\",\"hovertemplate\":\"RACACOR=%{x}<br>ano=2010<br>size=%{y}<extra></extra>\",\"ids\":[\"Ind\\u00edgena\"],\"legendgroup\":\"Ind\\u00edgena\",\"marker\":{\"color\":\"rgb(133, 92, 117)\",\"pattern\":{\"shape\":\"\"}},\"name\":\"Ind\\u00edgena\",\"offsetgroup\":\"Ind\\u00edgena\",\"orientation\":\"v\",\"showlegend\":true,\"textposition\":\"auto\",\"type\":\"bar\",\"x\":[\"Ind\\u00edgena\"],\"xaxis\":\"x\",\"y\":[93],\"yaxis\":\"y\"},{\"alignmentgroup\":\"True\",\"hovertemplate\":\"RACACOR=%{x}<br>ano=2010<br>size=%{y}<extra></extra>\",\"ids\":[\"N\\u00e3o Informado\"],\"legendgroup\":\"N\\u00e3o Informado\",\"marker\":{\"color\":\"rgb(175, 100, 88)\",\"pattern\":{\"shape\":\"\"}},\"name\":\"N\\u00e3o Informado\",\"offsetgroup\":\"N\\u00e3o Informado\",\"orientation\":\"v\",\"showlegend\":true,\"textposition\":\"auto\",\"type\":\"bar\",\"x\":[\"N\\u00e3o Informado\"],\"xaxis\":\"x\",\"y\":[433],\"yaxis\":\"y\"},{\"alignmentgroup\":\"True\",\"hovertemplate\":\"RACACOR=%{x}<br>ano=2010<br>size=%{y}<extra></extra>\",\"ids\":[\"Parda\"],\"legendgroup\":\"Parda\",\"marker\":{\"color\":\"rgb(82, 106, 131)\",\"pattern\":{\"shape\":\"\"}},\"name\":\"Parda\",\"offsetgroup\":\"Parda\",\"orientation\":\"v\",\"showlegend\":true,\"textposition\":\"auto\",\"type\":\"bar\",\"x\":[\"Parda\"],\"xaxis\":\"x\",\"y\":[3581],\"yaxis\":\"y\"},{\"alignmentgroup\":\"True\",\"hovertemplate\":\"RACACOR=%{x}<br>ano=2010<br>size=%{y}<extra></extra>\",\"ids\":[\"Preta\"],\"legendgroup\":\"Preta\",\"marker\":{\"color\":\"rgb(115, 111, 76)\",\"pattern\":{\"shape\":\"\"}},\"name\":\"Preta\",\"offsetgroup\":\"Preta\",\"orientation\":\"v\",\"showlegend\":true,\"textposition\":\"auto\",\"type\":\"bar\",\"x\":[\"Preta\"],\"xaxis\":\"x\",\"y\":[519],\"yaxis\":\"y\"}],                        {\"barmode\":\"relative\",\"legend\":{\"title\":{\"text\":\"RACACOR\"},\"tracegroupgap\":0},\"sliders\":[{\"active\":0,\"currentvalue\":{\"prefix\":\"ano=\"},\"len\":0.9,\"pad\":{\"b\":10,\"t\":60},\"steps\":[{\"args\":[[\"2010\"],{\"frame\":{\"duration\":0,\"redraw\":true},\"fromcurrent\":true,\"mode\":\"immediate\",\"transition\":{\"duration\":0,\"easing\":\"linear\"}}],\"label\":\"2010\",\"method\":\"animate\"},{\"args\":[[\"2011\"],{\"frame\":{\"duration\":0,\"redraw\":true},\"fromcurrent\":true,\"mode\":\"immediate\",\"transition\":{\"duration\":0,\"easing\":\"linear\"}}],\"label\":\"2011\",\"method\":\"animate\"},{\"args\":[[\"2012\"],{\"frame\":{\"duration\":0,\"redraw\":true},\"fromcurrent\":true,\"mode\":\"immediate\",\"transition\":{\"duration\":0,\"easing\":\"linear\"}}],\"label\":\"2012\",\"method\":\"animate\"},{\"args\":[[\"2013\"],{\"frame\":{\"duration\":0,\"redraw\":true},\"fromcurrent\":true,\"mode\":\"immediate\",\"transition\":{\"duration\":0,\"easing\":\"linear\"}}],\"label\":\"2013\",\"method\":\"animate\"},{\"args\":[[\"2014\"],{\"frame\":{\"duration\":0,\"redraw\":true},\"fromcurrent\":true,\"mode\":\"immediate\",\"transition\":{\"duration\":0,\"easing\":\"linear\"}}],\"label\":\"2014\",\"method\":\"animate\"},{\"args\":[[\"2015\"],{\"frame\":{\"duration\":0,\"redraw\":true},\"fromcurrent\":true,\"mode\":\"immediate\",\"transition\":{\"duration\":0,\"easing\":\"linear\"}}],\"label\":\"2015\",\"method\":\"animate\"},{\"args\":[[\"2016\"],{\"frame\":{\"duration\":0,\"redraw\":true},\"fromcurrent\":true,\"mode\":\"immediate\",\"transition\":{\"duration\":0,\"easing\":\"linear\"}}],\"label\":\"2016\",\"method\":\"animate\"},{\"args\":[[\"2017\"],{\"frame\":{\"duration\":0,\"redraw\":true},\"fromcurrent\":true,\"mode\":\"immediate\",\"transition\":{\"duration\":0,\"easing\":\"linear\"}}],\"label\":\"2017\",\"method\":\"animate\"},{\"args\":[[\"2018\"],{\"frame\":{\"duration\":0,\"redraw\":true},\"fromcurrent\":true,\"mode\":\"immediate\",\"transition\":{\"duration\":0,\"easing\":\"linear\"}}],\"label\":\"2018\",\"method\":\"animate\"},{\"args\":[[\"2019\"],{\"frame\":{\"duration\":0,\"redraw\":true},\"fromcurrent\":true,\"mode\":\"immediate\",\"transition\":{\"duration\":0,\"easing\":\"linear\"}}],\"label\":\"2019\",\"method\":\"animate\"}],\"x\":0.1,\"xanchor\":\"left\",\"y\":0,\"yanchor\":\"top\"}],\"template\":{\"data\":{\"bar\":[{\"error_x\":{\"color\":\"#2a3f5f\"},\"error_y\":{\"color\":\"#2a3f5f\"},\"marker\":{\"line\":{\"color\":\"#E5ECF6\",\"width\":0.5},\"pattern\":{\"fillmode\":\"overlay\",\"size\":10,\"solidity\":0.2}},\"type\":\"bar\"}],\"barpolar\":[{\"marker\":{\"line\":{\"color\":\"#E5ECF6\",\"width\":0.5},\"pattern\":{\"fillmode\":\"overlay\",\"size\":10,\"solidity\":0.2}},\"type\":\"barpolar\"}],\"carpet\":[{\"aaxis\":{\"endlinecolor\":\"#2a3f5f\",\"gridcolor\":\"white\",\"linecolor\":\"white\",\"minorgridcolor\":\"white\",\"startlinecolor\":\"#2a3f5f\"},\"baxis\":{\"endlinecolor\":\"#2a3f5f\",\"gridcolor\":\"white\",\"linecolor\":\"white\",\"minorgridcolor\":\"white\",\"startlinecolor\":\"#2a3f5f\"},\"type\":\"carpet\"}],\"choropleth\":[{\"colorbar\":{\"outlinewidth\":0,\"ticks\":\"\"},\"type\":\"choropleth\"}],\"contour\":[{\"colorbar\":{\"outlinewidth\":0,\"ticks\":\"\"},\"colorscale\":[[0.0,\"#0d0887\"],[0.1111111111111111,\"#46039f\"],[0.2222222222222222,\"#7201a8\"],[0.3333333333333333,\"#9c179e\"],[0.4444444444444444,\"#bd3786\"],[0.5555555555555556,\"#d8576b\"],[0.6666666666666666,\"#ed7953\"],[0.7777777777777778,\"#fb9f3a\"],[0.8888888888888888,\"#fdca26\"],[1.0,\"#f0f921\"]],\"type\":\"contour\"}],\"contourcarpet\":[{\"colorbar\":{\"outlinewidth\":0,\"ticks\":\"\"},\"type\":\"contourcarpet\"}],\"heatmap\":[{\"colorbar\":{\"outlinewidth\":0,\"ticks\":\"\"},\"colorscale\":[[0.0,\"#0d0887\"],[0.1111111111111111,\"#46039f\"],[0.2222222222222222,\"#7201a8\"],[0.3333333333333333,\"#9c179e\"],[0.4444444444444444,\"#bd3786\"],[0.5555555555555556,\"#d8576b\"],[0.6666666666666666,\"#ed7953\"],[0.7777777777777778,\"#fb9f3a\"],[0.8888888888888888,\"#fdca26\"],[1.0,\"#f0f921\"]],\"type\":\"heatmap\"}],\"heatmapgl\":[{\"colorbar\":{\"outlinewidth\":0,\"ticks\":\"\"},\"colorscale\":[[0.0,\"#0d0887\"],[0.1111111111111111,\"#46039f\"],[0.2222222222222222,\"#7201a8\"],[0.3333333333333333,\"#9c179e\"],[0.4444444444444444,\"#bd3786\"],[0.5555555555555556,\"#d8576b\"],[0.6666666666666666,\"#ed7953\"],[0.7777777777777778,\"#fb9f3a\"],[0.8888888888888888,\"#fdca26\"],[1.0,\"#f0f921\"]],\"type\":\"heatmapgl\"}],\"histogram\":[{\"marker\":{\"pattern\":{\"fillmode\":\"overlay\",\"size\":10,\"solidity\":0.2}},\"type\":\"histogram\"}],\"histogram2d\":[{\"colorbar\":{\"outlinewidth\":0,\"ticks\":\"\"},\"colorscale\":[[0.0,\"#0d0887\"],[0.1111111111111111,\"#46039f\"],[0.2222222222222222,\"#7201a8\"],[0.3333333333333333,\"#9c179e\"],[0.4444444444444444,\"#bd3786\"],[0.5555555555555556,\"#d8576b\"],[0.6666666666666666,\"#ed7953\"],[0.7777777777777778,\"#fb9f3a\"],[0.8888888888888888,\"#fdca26\"],[1.0,\"#f0f921\"]],\"type\":\"histogram2d\"}],\"histogram2dcontour\":[{\"colorbar\":{\"outlinewidth\":0,\"ticks\":\"\"},\"colorscale\":[[0.0,\"#0d0887\"],[0.1111111111111111,\"#46039f\"],[0.2222222222222222,\"#7201a8\"],[0.3333333333333333,\"#9c179e\"],[0.4444444444444444,\"#bd3786\"],[0.5555555555555556,\"#d8576b\"],[0.6666666666666666,\"#ed7953\"],[0.7777777777777778,\"#fb9f3a\"],[0.8888888888888888,\"#fdca26\"],[1.0,\"#f0f921\"]],\"type\":\"histogram2dcontour\"}],\"mesh3d\":[{\"colorbar\":{\"outlinewidth\":0,\"ticks\":\"\"},\"type\":\"mesh3d\"}],\"parcoords\":[{\"line\":{\"colorbar\":{\"outlinewidth\":0,\"ticks\":\"\"}},\"type\":\"parcoords\"}],\"pie\":[{\"automargin\":true,\"type\":\"pie\"}],\"scatter\":[{\"marker\":{\"colorbar\":{\"outlinewidth\":0,\"ticks\":\"\"}},\"type\":\"scatter\"}],\"scatter3d\":[{\"line\":{\"colorbar\":{\"outlinewidth\":0,\"ticks\":\"\"}},\"marker\":{\"colorbar\":{\"outlinewidth\":0,\"ticks\":\"\"}},\"type\":\"scatter3d\"}],\"scattercarpet\":[{\"marker\":{\"colorbar\":{\"outlinewidth\":0,\"ticks\":\"\"}},\"type\":\"scattercarpet\"}],\"scattergeo\":[{\"marker\":{\"colorbar\":{\"outlinewidth\":0,\"ticks\":\"\"}},\"type\":\"scattergeo\"}],\"scattergl\":[{\"marker\":{\"colorbar\":{\"outlinewidth\":0,\"ticks\":\"\"}},\"type\":\"scattergl\"}],\"scattermapbox\":[{\"marker\":{\"colorbar\":{\"outlinewidth\":0,\"ticks\":\"\"}},\"type\":\"scattermapbox\"}],\"scatterpolar\":[{\"marker\":{\"colorbar\":{\"outlinewidth\":0,\"ticks\":\"\"}},\"type\":\"scatterpolar\"}],\"scatterpolargl\":[{\"marker\":{\"colorbar\":{\"outlinewidth\":0,\"ticks\":\"\"}},\"type\":\"scatterpolargl\"}],\"scatterternary\":[{\"marker\":{\"colorbar\":{\"outlinewidth\":0,\"ticks\":\"\"}},\"type\":\"scatterternary\"}],\"surface\":[{\"colorbar\":{\"outlinewidth\":0,\"ticks\":\"\"},\"colorscale\":[[0.0,\"#0d0887\"],[0.1111111111111111,\"#46039f\"],[0.2222222222222222,\"#7201a8\"],[0.3333333333333333,\"#9c179e\"],[0.4444444444444444,\"#bd3786\"],[0.5555555555555556,\"#d8576b\"],[0.6666666666666666,\"#ed7953\"],[0.7777777777777778,\"#fb9f3a\"],[0.8888888888888888,\"#fdca26\"],[1.0,\"#f0f921\"]],\"type\":\"surface\"}],\"table\":[{\"cells\":{\"fill\":{\"color\":\"#EBF0F8\"},\"line\":{\"color\":\"white\"}},\"header\":{\"fill\":{\"color\":\"#C8D4E3\"},\"line\":{\"color\":\"white\"}},\"type\":\"table\"}]},\"layout\":{\"annotationdefaults\":{\"arrowcolor\":\"#2a3f5f\",\"arrowhead\":0,\"arrowwidth\":1},\"autotypenumbers\":\"strict\",\"coloraxis\":{\"colorbar\":{\"outlinewidth\":0,\"ticks\":\"\"}},\"colorscale\":{\"diverging\":[[0,\"#8e0152\"],[0.1,\"#c51b7d\"],[0.2,\"#de77ae\"],[0.3,\"#f1b6da\"],[0.4,\"#fde0ef\"],[0.5,\"#f7f7f7\"],[0.6,\"#e6f5d0\"],[0.7,\"#b8e186\"],[0.8,\"#7fbc41\"],[0.9,\"#4d9221\"],[1,\"#276419\"]],\"sequential\":[[0.0,\"#0d0887\"],[0.1111111111111111,\"#46039f\"],[0.2222222222222222,\"#7201a8\"],[0.3333333333333333,\"#9c179e\"],[0.4444444444444444,\"#bd3786\"],[0.5555555555555556,\"#d8576b\"],[0.6666666666666666,\"#ed7953\"],[0.7777777777777778,\"#fb9f3a\"],[0.8888888888888888,\"#fdca26\"],[1.0,\"#f0f921\"]],\"sequentialminus\":[[0.0,\"#0d0887\"],[0.1111111111111111,\"#46039f\"],[0.2222222222222222,\"#7201a8\"],[0.3333333333333333,\"#9c179e\"],[0.4444444444444444,\"#bd3786\"],[0.5555555555555556,\"#d8576b\"],[0.6666666666666666,\"#ed7953\"],[0.7777777777777778,\"#fb9f3a\"],[0.8888888888888888,\"#fdca26\"],[1.0,\"#f0f921\"]]},\"colorway\":[\"#636efa\",\"#EF553B\",\"#00cc96\",\"#ab63fa\",\"#FFA15A\",\"#19d3f3\",\"#FF6692\",\"#B6E880\",\"#FF97FF\",\"#FECB52\"],\"font\":{\"color\":\"#2a3f5f\"},\"geo\":{\"bgcolor\":\"white\",\"lakecolor\":\"white\",\"landcolor\":\"#E5ECF6\",\"showlakes\":true,\"showland\":true,\"subunitcolor\":\"white\"},\"hoverlabel\":{\"align\":\"left\"},\"hovermode\":\"closest\",\"mapbox\":{\"style\":\"light\"},\"paper_bgcolor\":\"white\",\"plot_bgcolor\":\"#E5ECF6\",\"polar\":{\"angularaxis\":{\"gridcolor\":\"white\",\"linecolor\":\"white\",\"ticks\":\"\"},\"bgcolor\":\"#E5ECF6\",\"radialaxis\":{\"gridcolor\":\"white\",\"linecolor\":\"white\",\"ticks\":\"\"}},\"scene\":{\"xaxis\":{\"backgroundcolor\":\"#E5ECF6\",\"gridcolor\":\"white\",\"gridwidth\":2,\"linecolor\":\"white\",\"showbackground\":true,\"ticks\":\"\",\"zerolinecolor\":\"white\"},\"yaxis\":{\"backgroundcolor\":\"#E5ECF6\",\"gridcolor\":\"white\",\"gridwidth\":2,\"linecolor\":\"white\",\"showbackground\":true,\"ticks\":\"\",\"zerolinecolor\":\"white\"},\"zaxis\":{\"backgroundcolor\":\"#E5ECF6\",\"gridcolor\":\"white\",\"gridwidth\":2,\"linecolor\":\"white\",\"showbackground\":true,\"ticks\":\"\",\"zerolinecolor\":\"white\"}},\"shapedefaults\":{\"line\":{\"color\":\"#2a3f5f\"}},\"ternary\":{\"aaxis\":{\"gridcolor\":\"white\",\"linecolor\":\"white\",\"ticks\":\"\"},\"baxis\":{\"gridcolor\":\"white\",\"linecolor\":\"white\",\"ticks\":\"\"},\"bgcolor\":\"#E5ECF6\",\"caxis\":{\"gridcolor\":\"white\",\"linecolor\":\"white\",\"ticks\":\"\"}},\"title\":{\"x\":0.05},\"xaxis\":{\"automargin\":true,\"gridcolor\":\"white\",\"linecolor\":\"white\",\"ticks\":\"\",\"title\":{\"standoff\":15},\"zerolinecolor\":\"white\",\"zerolinewidth\":2},\"yaxis\":{\"automargin\":true,\"gridcolor\":\"white\",\"linecolor\":\"white\",\"ticks\":\"\",\"title\":{\"standoff\":15},\"zerolinecolor\":\"white\",\"zerolinewidth\":2}}},\"title\":{\"text\":\"N\\u00famero de su\\u00edcidio por RA\\u00c7A / COR no per\\u00edodo de 2010 a 2019\"},\"updatemenus\":[{\"buttons\":[{\"args\":[null,{\"frame\":{\"duration\":500,\"redraw\":true},\"fromcurrent\":true,\"mode\":\"immediate\",\"transition\":{\"duration\":500,\"easing\":\"linear\"}}],\"label\":\"&#9654;\",\"method\":\"animate\"},{\"args\":[[null],{\"frame\":{\"duration\":0,\"redraw\":true},\"fromcurrent\":true,\"mode\":\"immediate\",\"transition\":{\"duration\":0,\"easing\":\"linear\"}}],\"label\":\"&#9724;\",\"method\":\"animate\"}],\"direction\":\"left\",\"pad\":{\"r\":10,\"t\":70},\"showactive\":false,\"type\":\"buttons\",\"x\":0.1,\"xanchor\":\"right\",\"y\":0,\"yanchor\":\"top\"}],\"xaxis\":{\"anchor\":\"y\",\"categoryarray\":[\"Branca\",\"Ind\\u00edgena\",\"N\\u00e3o Informado\",\"Parda\",\"Preta\"],\"categoryorder\":\"array\",\"domain\":[0.0,1.0],\"title\":{\"text\":\"RACACOR\"}},\"yaxis\":{\"anchor\":\"x\",\"domain\":[0.0,1.0],\"range\":[0,8000],\"title\":{\"text\":\"size\"}}},                        {\"responsive\": true}                    ).then(function(){\n",
       "                            Plotly.addFrames('27c7389f-dd68-472f-8a19-8c40ae495cc4', [{\"data\":[{\"alignmentgroup\":\"True\",\"hovertemplate\":\"RACACOR=%{x}<br>ano=2010<br>size=%{y}<extra></extra>\",\"ids\":[\"Branca\"],\"legendgroup\":\"Branca\",\"marker\":{\"color\":\"rgb(217, 175, 107)\",\"pattern\":{\"shape\":\"\"}},\"name\":\"Branca\",\"offsetgroup\":\"Branca\",\"orientation\":\"v\",\"showlegend\":true,\"textposition\":\"auto\",\"type\":\"bar\",\"x\":[\"Branca\"],\"xaxis\":\"x\",\"y\":[4850],\"yaxis\":\"y\"},{\"alignmentgroup\":\"True\",\"hovertemplate\":\"RACACOR=%{x}<br>ano=2010<br>size=%{y}<extra></extra>\",\"ids\":[\"Ind\\u00edgena\"],\"legendgroup\":\"Ind\\u00edgena\",\"marker\":{\"color\":\"rgb(133, 92, 117)\",\"pattern\":{\"shape\":\"\"}},\"name\":\"Ind\\u00edgena\",\"offsetgroup\":\"Ind\\u00edgena\",\"orientation\":\"v\",\"showlegend\":true,\"textposition\":\"auto\",\"type\":\"bar\",\"x\":[\"Ind\\u00edgena\"],\"xaxis\":\"x\",\"y\":[93],\"yaxis\":\"y\"},{\"alignmentgroup\":\"True\",\"hovertemplate\":\"RACACOR=%{x}<br>ano=2010<br>size=%{y}<extra></extra>\",\"ids\":[\"N\\u00e3o Informado\"],\"legendgroup\":\"N\\u00e3o Informado\",\"marker\":{\"color\":\"rgb(175, 100, 88)\",\"pattern\":{\"shape\":\"\"}},\"name\":\"N\\u00e3o Informado\",\"offsetgroup\":\"N\\u00e3o Informado\",\"orientation\":\"v\",\"showlegend\":true,\"textposition\":\"auto\",\"type\":\"bar\",\"x\":[\"N\\u00e3o Informado\"],\"xaxis\":\"x\",\"y\":[433],\"yaxis\":\"y\"},{\"alignmentgroup\":\"True\",\"hovertemplate\":\"RACACOR=%{x}<br>ano=2010<br>size=%{y}<extra></extra>\",\"ids\":[\"Parda\"],\"legendgroup\":\"Parda\",\"marker\":{\"color\":\"rgb(82, 106, 131)\",\"pattern\":{\"shape\":\"\"}},\"name\":\"Parda\",\"offsetgroup\":\"Parda\",\"orientation\":\"v\",\"showlegend\":true,\"textposition\":\"auto\",\"type\":\"bar\",\"x\":[\"Parda\"],\"xaxis\":\"x\",\"y\":[3581],\"yaxis\":\"y\"},{\"alignmentgroup\":\"True\",\"hovertemplate\":\"RACACOR=%{x}<br>ano=2010<br>size=%{y}<extra></extra>\",\"ids\":[\"Preta\"],\"legendgroup\":\"Preta\",\"marker\":{\"color\":\"rgb(115, 111, 76)\",\"pattern\":{\"shape\":\"\"}},\"name\":\"Preta\",\"offsetgroup\":\"Preta\",\"orientation\":\"v\",\"showlegend\":true,\"textposition\":\"auto\",\"type\":\"bar\",\"x\":[\"Preta\"],\"xaxis\":\"x\",\"y\":[519],\"yaxis\":\"y\"}],\"name\":\"2010\"},{\"data\":[{\"alignmentgroup\":\"True\",\"hovertemplate\":\"RACACOR=%{x}<br>ano=2011<br>size=%{y}<extra></extra>\",\"ids\":[\"Branca\"],\"legendgroup\":\"Branca\",\"marker\":{\"color\":\"rgb(217, 175, 107)\",\"pattern\":{\"shape\":\"\"}},\"name\":\"Branca\",\"offsetgroup\":\"Branca\",\"orientation\":\"v\",\"showlegend\":true,\"textposition\":\"auto\",\"type\":\"bar\",\"x\":[\"Branca\"],\"xaxis\":\"x\",\"y\":[4975],\"yaxis\":\"y\"},{\"alignmentgroup\":\"True\",\"hovertemplate\":\"RACACOR=%{x}<br>ano=2011<br>size=%{y}<extra></extra>\",\"ids\":[\"Ind\\u00edgena\"],\"legendgroup\":\"Ind\\u00edgena\",\"marker\":{\"color\":\"rgb(133, 92, 117)\",\"pattern\":{\"shape\":\"\"}},\"name\":\"Ind\\u00edgena\",\"offsetgroup\":\"Ind\\u00edgena\",\"orientation\":\"v\",\"showlegend\":true,\"textposition\":\"auto\",\"type\":\"bar\",\"x\":[\"Ind\\u00edgena\"],\"xaxis\":\"x\",\"y\":[97],\"yaxis\":\"y\"},{\"alignmentgroup\":\"True\",\"hovertemplate\":\"RACACOR=%{x}<br>ano=2011<br>size=%{y}<extra></extra>\",\"ids\":[\"N\\u00e3o Informado\"],\"legendgroup\":\"N\\u00e3o Informado\",\"marker\":{\"color\":\"rgb(175, 100, 88)\",\"pattern\":{\"shape\":\"\"}},\"name\":\"N\\u00e3o Informado\",\"offsetgroup\":\"N\\u00e3o Informado\",\"orientation\":\"v\",\"showlegend\":true,\"textposition\":\"auto\",\"type\":\"bar\",\"x\":[\"N\\u00e3o Informado\"],\"xaxis\":\"x\",\"y\":[419],\"yaxis\":\"y\"},{\"alignmentgroup\":\"True\",\"hovertemplate\":\"RACACOR=%{x}<br>ano=2011<br>size=%{y}<extra></extra>\",\"ids\":[\"Parda\"],\"legendgroup\":\"Parda\",\"marker\":{\"color\":\"rgb(82, 106, 131)\",\"pattern\":{\"shape\":\"\"}},\"name\":\"Parda\",\"offsetgroup\":\"Parda\",\"orientation\":\"v\",\"showlegend\":true,\"textposition\":\"auto\",\"type\":\"bar\",\"x\":[\"Parda\"],\"xaxis\":\"x\",\"y\":[3814],\"yaxis\":\"y\"},{\"alignmentgroup\":\"True\",\"hovertemplate\":\"RACACOR=%{x}<br>ano=2011<br>size=%{y}<extra></extra>\",\"ids\":[\"Preta\"],\"legendgroup\":\"Preta\",\"marker\":{\"color\":\"rgb(115, 111, 76)\",\"pattern\":{\"shape\":\"\"}},\"name\":\"Preta\",\"offsetgroup\":\"Preta\",\"orientation\":\"v\",\"showlegend\":true,\"textposition\":\"auto\",\"type\":\"bar\",\"x\":[\"Preta\"],\"xaxis\":\"x\",\"y\":[577],\"yaxis\":\"y\"}],\"name\":\"2011\"},{\"data\":[{\"alignmentgroup\":\"True\",\"hovertemplate\":\"RACACOR=%{x}<br>ano=2012<br>size=%{y}<extra></extra>\",\"ids\":[\"Branca\"],\"legendgroup\":\"Branca\",\"marker\":{\"color\":\"rgb(217, 175, 107)\",\"pattern\":{\"shape\":\"\"}},\"name\":\"Branca\",\"offsetgroup\":\"Branca\",\"orientation\":\"v\",\"showlegend\":true,\"textposition\":\"auto\",\"type\":\"bar\",\"x\":[\"Branca\"],\"xaxis\":\"x\",\"y\":[5183],\"yaxis\":\"y\"},{\"alignmentgroup\":\"True\",\"hovertemplate\":\"RACACOR=%{x}<br>ano=2012<br>size=%{y}<extra></extra>\",\"ids\":[\"Ind\\u00edgena\"],\"legendgroup\":\"Ind\\u00edgena\",\"marker\":{\"color\":\"rgb(133, 92, 117)\",\"pattern\":{\"shape\":\"\"}},\"name\":\"Ind\\u00edgena\",\"offsetgroup\":\"Ind\\u00edgena\",\"orientation\":\"v\",\"showlegend\":true,\"textposition\":\"auto\",\"type\":\"bar\",\"x\":[\"Ind\\u00edgena\"],\"xaxis\":\"x\",\"y\":[90],\"yaxis\":\"y\"},{\"alignmentgroup\":\"True\",\"hovertemplate\":\"RACACOR=%{x}<br>ano=2012<br>size=%{y}<extra></extra>\",\"ids\":[\"N\\u00e3o Informado\"],\"legendgroup\":\"N\\u00e3o Informado\",\"marker\":{\"color\":\"rgb(175, 100, 88)\",\"pattern\":{\"shape\":\"\"}},\"name\":\"N\\u00e3o Informado\",\"offsetgroup\":\"N\\u00e3o Informado\",\"orientation\":\"v\",\"showlegend\":true,\"textposition\":\"auto\",\"type\":\"bar\",\"x\":[\"N\\u00e3o Informado\"],\"xaxis\":\"x\",\"y\":[400],\"yaxis\":\"y\"},{\"alignmentgroup\":\"True\",\"hovertemplate\":\"RACACOR=%{x}<br>ano=2012<br>size=%{y}<extra></extra>\",\"ids\":[\"Parda\"],\"legendgroup\":\"Parda\",\"marker\":{\"color\":\"rgb(82, 106, 131)\",\"pattern\":{\"shape\":\"\"}},\"name\":\"Parda\",\"offsetgroup\":\"Parda\",\"orientation\":\"v\",\"showlegend\":true,\"textposition\":\"auto\",\"type\":\"bar\",\"x\":[\"Parda\"],\"xaxis\":\"x\",\"y\":[4130],\"yaxis\":\"y\"},{\"alignmentgroup\":\"True\",\"hovertemplate\":\"RACACOR=%{x}<br>ano=2012<br>size=%{y}<extra></extra>\",\"ids\":[\"Preta\"],\"legendgroup\":\"Preta\",\"marker\":{\"color\":\"rgb(115, 111, 76)\",\"pattern\":{\"shape\":\"\"}},\"name\":\"Preta\",\"offsetgroup\":\"Preta\",\"orientation\":\"v\",\"showlegend\":true,\"textposition\":\"auto\",\"type\":\"bar\",\"x\":[\"Preta\"],\"xaxis\":\"x\",\"y\":[563],\"yaxis\":\"y\"}],\"name\":\"2012\"},{\"data\":[{\"alignmentgroup\":\"True\",\"hovertemplate\":\"RACACOR=%{x}<br>ano=2013<br>size=%{y}<extra></extra>\",\"ids\":[\"Branca\"],\"legendgroup\":\"Branca\",\"marker\":{\"color\":\"rgb(217, 175, 107)\",\"pattern\":{\"shape\":\"\"}},\"name\":\"Branca\",\"offsetgroup\":\"Branca\",\"orientation\":\"v\",\"showlegend\":true,\"textposition\":\"auto\",\"type\":\"bar\",\"x\":[\"Branca\"],\"xaxis\":\"x\",\"y\":[5262],\"yaxis\":\"y\"},{\"alignmentgroup\":\"True\",\"hovertemplate\":\"RACACOR=%{x}<br>ano=2013<br>size=%{y}<extra></extra>\",\"ids\":[\"Ind\\u00edgena\"],\"legendgroup\":\"Ind\\u00edgena\",\"marker\":{\"color\":\"rgb(133, 92, 117)\",\"pattern\":{\"shape\":\"\"}},\"name\":\"Ind\\u00edgena\",\"offsetgroup\":\"Ind\\u00edgena\",\"orientation\":\"v\",\"showlegend\":true,\"textposition\":\"auto\",\"type\":\"bar\",\"x\":[\"Ind\\u00edgena\"],\"xaxis\":\"x\",\"y\":[113],\"yaxis\":\"y\"},{\"alignmentgroup\":\"True\",\"hovertemplate\":\"RACACOR=%{x}<br>ano=2013<br>size=%{y}<extra></extra>\",\"ids\":[\"N\\u00e3o Informado\"],\"legendgroup\":\"N\\u00e3o Informado\",\"marker\":{\"color\":\"rgb(175, 100, 88)\",\"pattern\":{\"shape\":\"\"}},\"name\":\"N\\u00e3o Informado\",\"offsetgroup\":\"N\\u00e3o Informado\",\"orientation\":\"v\",\"showlegend\":true,\"textposition\":\"auto\",\"type\":\"bar\",\"x\":[\"N\\u00e3o Informado\"],\"xaxis\":\"x\",\"y\":[405],\"yaxis\":\"y\"},{\"alignmentgroup\":\"True\",\"hovertemplate\":\"RACACOR=%{x}<br>ano=2013<br>size=%{y}<extra></extra>\",\"ids\":[\"Parda\"],\"legendgroup\":\"Parda\",\"marker\":{\"color\":\"rgb(82, 106, 131)\",\"pattern\":{\"shape\":\"\"}},\"name\":\"Parda\",\"offsetgroup\":\"Parda\",\"orientation\":\"v\",\"showlegend\":true,\"textposition\":\"auto\",\"type\":\"bar\",\"x\":[\"Parda\"],\"xaxis\":\"x\",\"y\":[4265],\"yaxis\":\"y\"},{\"alignmentgroup\":\"True\",\"hovertemplate\":\"RACACOR=%{x}<br>ano=2013<br>size=%{y}<extra></extra>\",\"ids\":[\"Preta\"],\"legendgroup\":\"Preta\",\"marker\":{\"color\":\"rgb(115, 111, 76)\",\"pattern\":{\"shape\":\"\"}},\"name\":\"Preta\",\"offsetgroup\":\"Preta\",\"orientation\":\"v\",\"showlegend\":true,\"textposition\":\"auto\",\"type\":\"bar\",\"x\":[\"Preta\"],\"xaxis\":\"x\",\"y\":[534],\"yaxis\":\"y\"}],\"name\":\"2013\"},{\"data\":[{\"alignmentgroup\":\"True\",\"hovertemplate\":\"RACACOR=%{x}<br>ano=2014<br>size=%{y}<extra></extra>\",\"ids\":[\"Branca\"],\"legendgroup\":\"Branca\",\"marker\":{\"color\":\"rgb(217, 175, 107)\",\"pattern\":{\"shape\":\"\"}},\"name\":\"Branca\",\"offsetgroup\":\"Branca\",\"orientation\":\"v\",\"showlegend\":true,\"textposition\":\"auto\",\"type\":\"bar\",\"x\":[\"Branca\"],\"xaxis\":\"x\",\"y\":[5346],\"yaxis\":\"y\"},{\"alignmentgroup\":\"True\",\"hovertemplate\":\"RACACOR=%{x}<br>ano=2014<br>size=%{y}<extra></extra>\",\"ids\":[\"Ind\\u00edgena\"],\"legendgroup\":\"Ind\\u00edgena\",\"marker\":{\"color\":\"rgb(133, 92, 117)\",\"pattern\":{\"shape\":\"\"}},\"name\":\"Ind\\u00edgena\",\"offsetgroup\":\"Ind\\u00edgena\",\"orientation\":\"v\",\"showlegend\":true,\"textposition\":\"auto\",\"type\":\"bar\",\"x\":[\"Ind\\u00edgena\"],\"xaxis\":\"x\",\"y\":[117],\"yaxis\":\"y\"},{\"alignmentgroup\":\"True\",\"hovertemplate\":\"RACACOR=%{x}<br>ano=2014<br>size=%{y}<extra></extra>\",\"ids\":[\"N\\u00e3o Informado\"],\"legendgroup\":\"N\\u00e3o Informado\",\"marker\":{\"color\":\"rgb(175, 100, 88)\",\"pattern\":{\"shape\":\"\"}},\"name\":\"N\\u00e3o Informado\",\"offsetgroup\":\"N\\u00e3o Informado\",\"orientation\":\"v\",\"showlegend\":true,\"textposition\":\"auto\",\"type\":\"bar\",\"x\":[\"N\\u00e3o Informado\"],\"xaxis\":\"x\",\"y\":[357],\"yaxis\":\"y\"},{\"alignmentgroup\":\"True\",\"hovertemplate\":\"RACACOR=%{x}<br>ano=2014<br>size=%{y}<extra></extra>\",\"ids\":[\"Parda\"],\"legendgroup\":\"Parda\",\"marker\":{\"color\":\"rgb(82, 106, 131)\",\"pattern\":{\"shape\":\"\"}},\"name\":\"Parda\",\"offsetgroup\":\"Parda\",\"orientation\":\"v\",\"showlegend\":true,\"textposition\":\"auto\",\"type\":\"bar\",\"x\":[\"Parda\"],\"xaxis\":\"x\",\"y\":[4302],\"yaxis\":\"y\"},{\"alignmentgroup\":\"True\",\"hovertemplate\":\"RACACOR=%{x}<br>ano=2014<br>size=%{y}<extra></extra>\",\"ids\":[\"Preta\"],\"legendgroup\":\"Preta\",\"marker\":{\"color\":\"rgb(115, 111, 76)\",\"pattern\":{\"shape\":\"\"}},\"name\":\"Preta\",\"offsetgroup\":\"Preta\",\"orientation\":\"v\",\"showlegend\":true,\"textposition\":\"auto\",\"type\":\"bar\",\"x\":[\"Preta\"],\"xaxis\":\"x\",\"y\":[561],\"yaxis\":\"y\"}],\"name\":\"2014\"},{\"data\":[{\"alignmentgroup\":\"True\",\"hovertemplate\":\"RACACOR=%{x}<br>ano=2015<br>size=%{y}<extra></extra>\",\"ids\":[\"Branca\"],\"legendgroup\":\"Branca\",\"marker\":{\"color\":\"rgb(217, 175, 107)\",\"pattern\":{\"shape\":\"\"}},\"name\":\"Branca\",\"offsetgroup\":\"Branca\",\"orientation\":\"v\",\"showlegend\":true,\"textposition\":\"auto\",\"type\":\"bar\",\"x\":[\"Branca\"],\"xaxis\":\"x\",\"y\":[5609],\"yaxis\":\"y\"},{\"alignmentgroup\":\"True\",\"hovertemplate\":\"RACACOR=%{x}<br>ano=2015<br>size=%{y}<extra></extra>\",\"ids\":[\"Ind\\u00edgena\"],\"legendgroup\":\"Ind\\u00edgena\",\"marker\":{\"color\":\"rgb(133, 92, 117)\",\"pattern\":{\"shape\":\"\"}},\"name\":\"Ind\\u00edgena\",\"offsetgroup\":\"Ind\\u00edgena\",\"orientation\":\"v\",\"showlegend\":true,\"textposition\":\"auto\",\"type\":\"bar\",\"x\":[\"Ind\\u00edgena\"],\"xaxis\":\"x\",\"y\":[132],\"yaxis\":\"y\"},{\"alignmentgroup\":\"True\",\"hovertemplate\":\"RACACOR=%{x}<br>ano=2015<br>size=%{y}<extra></extra>\",\"ids\":[\"N\\u00e3o Informado\"],\"legendgroup\":\"N\\u00e3o Informado\",\"marker\":{\"color\":\"rgb(175, 100, 88)\",\"pattern\":{\"shape\":\"\"}},\"name\":\"N\\u00e3o Informado\",\"offsetgroup\":\"N\\u00e3o Informado\",\"orientation\":\"v\",\"showlegend\":true,\"textposition\":\"auto\",\"type\":\"bar\",\"x\":[\"N\\u00e3o Informado\"],\"xaxis\":\"x\",\"y\":[320],\"yaxis\":\"y\"},{\"alignmentgroup\":\"True\",\"hovertemplate\":\"RACACOR=%{x}<br>ano=2015<br>size=%{y}<extra></extra>\",\"ids\":[\"Parda\"],\"legendgroup\":\"Parda\",\"marker\":{\"color\":\"rgb(82, 106, 131)\",\"pattern\":{\"shape\":\"\"}},\"name\":\"Parda\",\"offsetgroup\":\"Parda\",\"orientation\":\"v\",\"showlegend\":true,\"textposition\":\"auto\",\"type\":\"bar\",\"x\":[\"Parda\"],\"xaxis\":\"x\",\"y\":[4577],\"yaxis\":\"y\"},{\"alignmentgroup\":\"True\",\"hovertemplate\":\"RACACOR=%{x}<br>ano=2015<br>size=%{y}<extra></extra>\",\"ids\":[\"Preta\"],\"legendgroup\":\"Preta\",\"marker\":{\"color\":\"rgb(115, 111, 76)\",\"pattern\":{\"shape\":\"\"}},\"name\":\"Preta\",\"offsetgroup\":\"Preta\",\"orientation\":\"v\",\"showlegend\":true,\"textposition\":\"auto\",\"type\":\"bar\",\"x\":[\"Preta\"],\"xaxis\":\"x\",\"y\":[573],\"yaxis\":\"y\"}],\"name\":\"2015\"},{\"data\":[{\"alignmentgroup\":\"True\",\"hovertemplate\":\"RACACOR=%{x}<br>ano=2016<br>size=%{y}<extra></extra>\",\"ids\":[\"Branca\"],\"legendgroup\":\"Branca\",\"marker\":{\"color\":\"rgb(217, 175, 107)\",\"pattern\":{\"shape\":\"\"}},\"name\":\"Branca\",\"offsetgroup\":\"Branca\",\"orientation\":\"v\",\"showlegend\":true,\"textposition\":\"auto\",\"type\":\"bar\",\"x\":[\"Branca\"],\"xaxis\":\"x\",\"y\":[5706],\"yaxis\":\"y\"},{\"alignmentgroup\":\"True\",\"hovertemplate\":\"RACACOR=%{x}<br>ano=2016<br>size=%{y}<extra></extra>\",\"ids\":[\"Ind\\u00edgena\"],\"legendgroup\":\"Ind\\u00edgena\",\"marker\":{\"color\":\"rgb(133, 92, 117)\",\"pattern\":{\"shape\":\"\"}},\"name\":\"Ind\\u00edgena\",\"offsetgroup\":\"Ind\\u00edgena\",\"orientation\":\"v\",\"showlegend\":true,\"textposition\":\"auto\",\"type\":\"bar\",\"x\":[\"Ind\\u00edgena\"],\"xaxis\":\"x\",\"y\":[121],\"yaxis\":\"y\"},{\"alignmentgroup\":\"True\",\"hovertemplate\":\"RACACOR=%{x}<br>ano=2016<br>size=%{y}<extra></extra>\",\"ids\":[\"N\\u00e3o Informado\"],\"legendgroup\":\"N\\u00e3o Informado\",\"marker\":{\"color\":\"rgb(175, 100, 88)\",\"pattern\":{\"shape\":\"\"}},\"name\":\"N\\u00e3o Informado\",\"offsetgroup\":\"N\\u00e3o Informado\",\"orientation\":\"v\",\"showlegend\":true,\"textposition\":\"auto\",\"type\":\"bar\",\"x\":[\"N\\u00e3o Informado\"],\"xaxis\":\"x\",\"y\":[303],\"yaxis\":\"y\"},{\"alignmentgroup\":\"True\",\"hovertemplate\":\"RACACOR=%{x}<br>ano=2016<br>size=%{y}<extra></extra>\",\"ids\":[\"Parda\"],\"legendgroup\":\"Parda\",\"marker\":{\"color\":\"rgb(82, 106, 131)\",\"pattern\":{\"shape\":\"\"}},\"name\":\"Parda\",\"offsetgroup\":\"Parda\",\"orientation\":\"v\",\"showlegend\":true,\"textposition\":\"auto\",\"type\":\"bar\",\"x\":[\"Parda\"],\"xaxis\":\"x\",\"y\":[4730],\"yaxis\":\"y\"},{\"alignmentgroup\":\"True\",\"hovertemplate\":\"RACACOR=%{x}<br>ano=2016<br>size=%{y}<extra></extra>\",\"ids\":[\"Preta\"],\"legendgroup\":\"Preta\",\"marker\":{\"color\":\"rgb(115, 111, 76)\",\"pattern\":{\"shape\":\"\"}},\"name\":\"Preta\",\"offsetgroup\":\"Preta\",\"orientation\":\"v\",\"showlegend\":true,\"textposition\":\"auto\",\"type\":\"bar\",\"x\":[\"Preta\"],\"xaxis\":\"x\",\"y\":[595],\"yaxis\":\"y\"}],\"name\":\"2016\"},{\"data\":[{\"alignmentgroup\":\"True\",\"hovertemplate\":\"RACACOR=%{x}<br>ano=2017<br>size=%{y}<extra></extra>\",\"ids\":[\"Branca\"],\"legendgroup\":\"Branca\",\"marker\":{\"color\":\"rgb(217, 175, 107)\",\"pattern\":{\"shape\":\"\"}},\"name\":\"Branca\",\"offsetgroup\":\"Branca\",\"orientation\":\"v\",\"showlegend\":true,\"textposition\":\"auto\",\"type\":\"bar\",\"x\":[\"Branca\"],\"xaxis\":\"x\",\"y\":[6252],\"yaxis\":\"y\"},{\"alignmentgroup\":\"True\",\"hovertemplate\":\"RACACOR=%{x}<br>ano=2017<br>size=%{y}<extra></extra>\",\"ids\":[\"Ind\\u00edgena\"],\"legendgroup\":\"Ind\\u00edgena\",\"marker\":{\"color\":\"rgb(133, 92, 117)\",\"pattern\":{\"shape\":\"\"}},\"name\":\"Ind\\u00edgena\",\"offsetgroup\":\"Ind\\u00edgena\",\"orientation\":\"v\",\"showlegend\":true,\"textposition\":\"auto\",\"type\":\"bar\",\"x\":[\"Ind\\u00edgena\"],\"xaxis\":\"x\",\"y\":[150],\"yaxis\":\"y\"},{\"alignmentgroup\":\"True\",\"hovertemplate\":\"RACACOR=%{x}<br>ano=2017<br>size=%{y}<extra></extra>\",\"ids\":[\"N\\u00e3o Informado\"],\"legendgroup\":\"N\\u00e3o Informado\",\"marker\":{\"color\":\"rgb(175, 100, 88)\",\"pattern\":{\"shape\":\"\"}},\"name\":\"N\\u00e3o Informado\",\"offsetgroup\":\"N\\u00e3o Informado\",\"orientation\":\"v\",\"showlegend\":true,\"textposition\":\"auto\",\"type\":\"bar\",\"x\":[\"N\\u00e3o Informado\"],\"xaxis\":\"x\",\"y\":[170],\"yaxis\":\"y\"},{\"alignmentgroup\":\"True\",\"hovertemplate\":\"RACACOR=%{x}<br>ano=2017<br>size=%{y}<extra></extra>\",\"ids\":[\"Parda\"],\"legendgroup\":\"Parda\",\"marker\":{\"color\":\"rgb(82, 106, 131)\",\"pattern\":{\"shape\":\"\"}},\"name\":\"Parda\",\"offsetgroup\":\"Parda\",\"orientation\":\"v\",\"showlegend\":true,\"textposition\":\"auto\",\"type\":\"bar\",\"x\":[\"Parda\"],\"xaxis\":\"x\",\"y\":[5276],\"yaxis\":\"y\"},{\"alignmentgroup\":\"True\",\"hovertemplate\":\"RACACOR=%{x}<br>ano=2017<br>size=%{y}<extra></extra>\",\"ids\":[\"Preta\"],\"legendgroup\":\"Preta\",\"marker\":{\"color\":\"rgb(115, 111, 76)\",\"pattern\":{\"shape\":\"\"}},\"name\":\"Preta\",\"offsetgroup\":\"Preta\",\"orientation\":\"v\",\"showlegend\":true,\"textposition\":\"auto\",\"type\":\"bar\",\"x\":[\"Preta\"],\"xaxis\":\"x\",\"y\":[673],\"yaxis\":\"y\"}],\"name\":\"2017\"},{\"data\":[{\"alignmentgroup\":\"True\",\"hovertemplate\":\"RACACOR=%{x}<br>ano=2018<br>size=%{y}<extra></extra>\",\"ids\":[\"Branca\"],\"legendgroup\":\"Branca\",\"marker\":{\"color\":\"rgb(217, 175, 107)\",\"pattern\":{\"shape\":\"\"}},\"name\":\"Branca\",\"offsetgroup\":\"Branca\",\"orientation\":\"v\",\"showlegend\":true,\"textposition\":\"auto\",\"type\":\"bar\",\"x\":[\"Branca\"],\"xaxis\":\"x\",\"y\":[6280],\"yaxis\":\"y\"},{\"alignmentgroup\":\"True\",\"hovertemplate\":\"RACACOR=%{x}<br>ano=2018<br>size=%{y}<extra></extra>\",\"ids\":[\"Ind\\u00edgena\"],\"legendgroup\":\"Ind\\u00edgena\",\"marker\":{\"color\":\"rgb(133, 92, 117)\",\"pattern\":{\"shape\":\"\"}},\"name\":\"Ind\\u00edgena\",\"offsetgroup\":\"Ind\\u00edgena\",\"orientation\":\"v\",\"showlegend\":true,\"textposition\":\"auto\",\"type\":\"bar\",\"x\":[\"Ind\\u00edgena\"],\"xaxis\":\"x\",\"y\":[138],\"yaxis\":\"y\"},{\"alignmentgroup\":\"True\",\"hovertemplate\":\"RACACOR=%{x}<br>ano=2018<br>size=%{y}<extra></extra>\",\"ids\":[\"N\\u00e3o Informado\"],\"legendgroup\":\"N\\u00e3o Informado\",\"marker\":{\"color\":\"rgb(175, 100, 88)\",\"pattern\":{\"shape\":\"\"}},\"name\":\"N\\u00e3o Informado\",\"offsetgroup\":\"N\\u00e3o Informado\",\"orientation\":\"v\",\"showlegend\":true,\"textposition\":\"auto\",\"type\":\"bar\",\"x\":[\"N\\u00e3o Informado\"],\"xaxis\":\"x\",\"y\":[186],\"yaxis\":\"y\"},{\"alignmentgroup\":\"True\",\"hovertemplate\":\"RACACOR=%{x}<br>ano=2018<br>size=%{y}<extra></extra>\",\"ids\":[\"Parda\"],\"legendgroup\":\"Parda\",\"marker\":{\"color\":\"rgb(82, 106, 131)\",\"pattern\":{\"shape\":\"\"}},\"name\":\"Parda\",\"offsetgroup\":\"Parda\",\"orientation\":\"v\",\"showlegend\":true,\"textposition\":\"auto\",\"type\":\"bar\",\"x\":[\"Parda\"],\"xaxis\":\"x\",\"y\":[5512],\"yaxis\":\"y\"},{\"alignmentgroup\":\"True\",\"hovertemplate\":\"RACACOR=%{x}<br>ano=2018<br>size=%{y}<extra></extra>\",\"ids\":[\"Preta\"],\"legendgroup\":\"Preta\",\"marker\":{\"color\":\"rgb(115, 111, 76)\",\"pattern\":{\"shape\":\"\"}},\"name\":\"Preta\",\"offsetgroup\":\"Preta\",\"orientation\":\"v\",\"showlegend\":true,\"textposition\":\"auto\",\"type\":\"bar\",\"x\":[\"Preta\"],\"xaxis\":\"x\",\"y\":[648],\"yaxis\":\"y\"}],\"name\":\"2018\"},{\"data\":[{\"alignmentgroup\":\"True\",\"hovertemplate\":\"RACACOR=%{x}<br>ano=2019<br>size=%{y}<extra></extra>\",\"ids\":[\"Branca\"],\"legendgroup\":\"Branca\",\"marker\":{\"color\":\"rgb(217, 175, 107)\",\"pattern\":{\"shape\":\"\"}},\"name\":\"Branca\",\"offsetgroup\":\"Branca\",\"orientation\":\"v\",\"showlegend\":true,\"textposition\":\"auto\",\"type\":\"bar\",\"x\":[\"Branca\"],\"xaxis\":\"x\",\"y\":[6612],\"yaxis\":\"y\"},{\"alignmentgroup\":\"True\",\"hovertemplate\":\"RACACOR=%{x}<br>ano=2019<br>size=%{y}<extra></extra>\",\"ids\":[\"Ind\\u00edgena\"],\"legendgroup\":\"Ind\\u00edgena\",\"marker\":{\"color\":\"rgb(133, 92, 117)\",\"pattern\":{\"shape\":\"\"}},\"name\":\"Ind\\u00edgena\",\"offsetgroup\":\"Ind\\u00edgena\",\"orientation\":\"v\",\"showlegend\":true,\"textposition\":\"auto\",\"type\":\"bar\",\"x\":[\"Ind\\u00edgena\"],\"xaxis\":\"x\",\"y\":[136],\"yaxis\":\"y\"},{\"alignmentgroup\":\"True\",\"hovertemplate\":\"RACACOR=%{x}<br>ano=2019<br>size=%{y}<extra></extra>\",\"ids\":[\"N\\u00e3o Informado\"],\"legendgroup\":\"N\\u00e3o Informado\",\"marker\":{\"color\":\"rgb(175, 100, 88)\",\"pattern\":{\"shape\":\"\"}},\"name\":\"N\\u00e3o Informado\",\"offsetgroup\":\"N\\u00e3o Informado\",\"orientation\":\"v\",\"showlegend\":true,\"textposition\":\"auto\",\"type\":\"bar\",\"x\":[\"N\\u00e3o Informado\"],\"xaxis\":\"x\",\"y\":[178],\"yaxis\":\"y\"},{\"alignmentgroup\":\"True\",\"hovertemplate\":\"RACACOR=%{x}<br>ano=2019<br>size=%{y}<extra></extra>\",\"ids\":[\"Parda\"],\"legendgroup\":\"Parda\",\"marker\":{\"color\":\"rgb(82, 106, 131)\",\"pattern\":{\"shape\":\"\"}},\"name\":\"Parda\",\"offsetgroup\":\"Parda\",\"orientation\":\"v\",\"showlegend\":true,\"textposition\":\"auto\",\"type\":\"bar\",\"x\":[\"Parda\"],\"xaxis\":\"x\",\"y\":[5942],\"yaxis\":\"y\"},{\"alignmentgroup\":\"True\",\"hovertemplate\":\"RACACOR=%{x}<br>ano=2019<br>size=%{y}<extra></extra>\",\"ids\":[\"Preta\"],\"legendgroup\":\"Preta\",\"marker\":{\"color\":\"rgb(115, 111, 76)\",\"pattern\":{\"shape\":\"\"}},\"name\":\"Preta\",\"offsetgroup\":\"Preta\",\"orientation\":\"v\",\"showlegend\":true,\"textposition\":\"auto\",\"type\":\"bar\",\"x\":[\"Preta\"],\"xaxis\":\"x\",\"y\":[686],\"yaxis\":\"y\"}],\"name\":\"2019\"}]);\n",
       "                        }).then(function(){\n",
       "                            \n",
       "var gd = document.getElementById('27c7389f-dd68-472f-8a19-8c40ae495cc4');\n",
       "var x = new MutationObserver(function (mutations, observer) {{\n",
       "        var display = window.getComputedStyle(gd).display;\n",
       "        if (!display || display === 'none') {{\n",
       "            console.log([gd, 'removed!']);\n",
       "            Plotly.purge(gd);\n",
       "            observer.disconnect();\n",
       "        }}\n",
       "}});\n",
       "\n",
       "// Listen for the removal of the full notebook cells\n",
       "var notebookContainer = gd.closest('#notebook-container');\n",
       "if (notebookContainer) {{\n",
       "    x.observe(notebookContainer, {childList: true});\n",
       "}}\n",
       "\n",
       "// Listen for the clearing of the current output cell\n",
       "var outputEl = gd.closest('.output');\n",
       "if (outputEl) {{\n",
       "    x.observe(outputEl, {childList: true});\n",
       "}}\n",
       "\n",
       "                        })                };                });            </script>        </div>"
      ]
     },
     "metadata": {},
     "output_type": "display_data"
    }
   ],
   "source": [
    "fig = px.bar(df_raca, x=\"RACACOR\", y=\"size\", \n",
    "             color=\"RACACOR\",\n",
    "             animation_frame=\"ano\", \n",
    "             animation_group=\"RACACOR\", \n",
    "             title='Número de suícidio por RAÇA / COR no período de 2010 a 2019',\n",
    "             range_y=[0,8000],\n",
    "            color_discrete_map={'Parda':'rgb(82, 106, 131)' ,'Preta':'rgb(115, 111, 76)' ,'Não Informado':'rgb(175, 100, 88)', 'Branca':'rgb(217, 175, 107)','Indígena':'rgb(133, 92, 117)'})\n",
    "fig.show()"
   ]
  },
  {
   "cell_type": "markdown",
   "id": "fdae6d86",
   "metadata": {},
   "source": [
    "# Número de suícidio por estado civil no período de 2010 a 2019"
   ]
  },
  {
   "cell_type": "code",
   "execution_count": 84,
   "id": "d57d9c08",
   "metadata": {},
   "outputs": [
    {
     "data": {
      "text/plain": [
       "array(['Solteiro/a', 'Casado/a', nan, 'Viúvo/a',\n",
       "       'Separado/a judicialmente', 'União consensual'], dtype=object)"
      ]
     },
     "execution_count": 84,
     "metadata": {},
     "output_type": "execute_result"
    }
   ],
   "source": [
    "df['ESTCIV'].unique()"
   ]
  },
  {
   "cell_type": "code",
   "execution_count": 85,
   "id": "a70c31b3",
   "metadata": {},
   "outputs": [
    {
     "data": {
      "text/plain": [
       "8700"
      ]
     },
     "execution_count": 85,
     "metadata": {},
     "output_type": "execute_result"
    }
   ],
   "source": [
    "df['ESTCIV'].isnull().sum()"
   ]
  },
  {
   "cell_type": "code",
   "execution_count": 86,
   "id": "4d7e699d",
   "metadata": {},
   "outputs": [],
   "source": [
    "df['ESTCIV'].fillna('Não Informado', inplace=True)"
   ]
  },
  {
   "cell_type": "code",
   "execution_count": 87,
   "id": "364dfa93",
   "metadata": {},
   "outputs": [],
   "source": [
    "df_estciv = df.groupby('ESTCIV').agg('size').reset_index()"
   ]
  },
  {
   "cell_type": "code",
   "execution_count": 88,
   "id": "995c4e1f",
   "metadata": {},
   "outputs": [],
   "source": [
    "df_estciv.columns = ['estciv', 'size']"
   ]
  },
  {
   "cell_type": "code",
   "execution_count": 89,
   "id": "97bccc2e",
   "metadata": {},
   "outputs": [
    {
     "data": {
      "application/vnd.plotly.v1+json": {
       "config": {
        "plotlyServerURL": "https://plot.ly"
       },
       "data": [
        {
         "alignmentgroup": "True",
         "hovertemplate": "estciv=%{x}<br>size=%{y}<extra></extra>",
         "legendgroup": "Casado/a",
         "marker": {
          "color": "rgb(136, 204, 238)",
          "pattern": {
           "shape": ""
          }
         },
         "name": "Casado/a",
         "offsetgroup": "Casado/a",
         "orientation": "v",
         "showlegend": true,
         "textposition": "auto",
         "type": "bar",
         "x": [
          "Casado/a"
         ],
         "xaxis": "x",
         "y": [
          30001
         ],
         "yaxis": "y"
        },
        {
         "alignmentgroup": "True",
         "hovertemplate": "estciv=%{x}<br>size=%{y}<extra></extra>",
         "legendgroup": "Não Informado",
         "marker": {
          "color": "rgb(204, 102, 119)",
          "pattern": {
           "shape": ""
          }
         },
         "name": "Não Informado",
         "offsetgroup": "Não Informado",
         "orientation": "v",
         "showlegend": true,
         "textposition": "auto",
         "type": "bar",
         "x": [
          "Não Informado"
         ],
         "xaxis": "x",
         "y": [
          8700
         ],
         "yaxis": "y"
        },
        {
         "alignmentgroup": "True",
         "hovertemplate": "estciv=%{x}<br>size=%{y}<extra></extra>",
         "legendgroup": "Separado/a judicialmente",
         "marker": {
          "color": "rgb(221, 204, 119)",
          "pattern": {
           "shape": ""
          }
         },
         "name": "Separado/a judicialmente",
         "offsetgroup": "Separado/a judicialmente",
         "orientation": "v",
         "showlegend": true,
         "textposition": "auto",
         "type": "bar",
         "x": [
          "Separado/a judicialmente"
         ],
         "xaxis": "x",
         "y": [
          7771
         ],
         "yaxis": "y"
        },
        {
         "alignmentgroup": "True",
         "hovertemplate": "estciv=%{x}<br>size=%{y}<extra></extra>",
         "legendgroup": "Solteiro/a",
         "marker": {
          "color": "rgb(17, 119, 51)",
          "pattern": {
           "shape": ""
          }
         },
         "name": "Solteiro/a",
         "offsetgroup": "Solteiro/a",
         "orientation": "v",
         "showlegend": true,
         "textposition": "auto",
         "type": "bar",
         "x": [
          "Solteiro/a"
         ],
         "xaxis": "x",
         "y": [
          56523
         ],
         "yaxis": "y"
        },
        {
         "alignmentgroup": "True",
         "hovertemplate": "estciv=%{x}<br>size=%{y}<extra></extra>",
         "legendgroup": "União consensual",
         "marker": {
          "color": "rgb(51, 34, 136)",
          "pattern": {
           "shape": ""
          }
         },
         "name": "União consensual",
         "offsetgroup": "União consensual",
         "orientation": "v",
         "showlegend": true,
         "textposition": "auto",
         "type": "bar",
         "x": [
          "União consensual"
         ],
         "xaxis": "x",
         "y": [
          5280
         ],
         "yaxis": "y"
        },
        {
         "alignmentgroup": "True",
         "hovertemplate": "estciv=%{x}<br>size=%{y}<extra></extra>",
         "legendgroup": "Viúvo/a",
         "marker": {
          "color": "rgb(170, 68, 153)",
          "pattern": {
           "shape": ""
          }
         },
         "name": "Viúvo/a",
         "offsetgroup": "Viúvo/a",
         "orientation": "v",
         "showlegend": true,
         "textposition": "auto",
         "type": "bar",
         "x": [
          "Viúvo/a"
         ],
         "xaxis": "x",
         "y": [
          4216
         ],
         "yaxis": "y"
        }
       ],
       "layout": {
        "barmode": "relative",
        "legend": {
         "title": {
          "text": "estciv"
         },
         "tracegroupgap": 0
        },
        "template": {
         "data": {
          "bar": [
           {
            "error_x": {
             "color": "#2a3f5f"
            },
            "error_y": {
             "color": "#2a3f5f"
            },
            "marker": {
             "line": {
              "color": "#E5ECF6",
              "width": 0.5
             },
             "pattern": {
              "fillmode": "overlay",
              "size": 10,
              "solidity": 0.2
             }
            },
            "type": "bar"
           }
          ],
          "barpolar": [
           {
            "marker": {
             "line": {
              "color": "#E5ECF6",
              "width": 0.5
             },
             "pattern": {
              "fillmode": "overlay",
              "size": 10,
              "solidity": 0.2
             }
            },
            "type": "barpolar"
           }
          ],
          "carpet": [
           {
            "aaxis": {
             "endlinecolor": "#2a3f5f",
             "gridcolor": "white",
             "linecolor": "white",
             "minorgridcolor": "white",
             "startlinecolor": "#2a3f5f"
            },
            "baxis": {
             "endlinecolor": "#2a3f5f",
             "gridcolor": "white",
             "linecolor": "white",
             "minorgridcolor": "white",
             "startlinecolor": "#2a3f5f"
            },
            "type": "carpet"
           }
          ],
          "choropleth": [
           {
            "colorbar": {
             "outlinewidth": 0,
             "ticks": ""
            },
            "type": "choropleth"
           }
          ],
          "contour": [
           {
            "colorbar": {
             "outlinewidth": 0,
             "ticks": ""
            },
            "colorscale": [
             [
              0,
              "#0d0887"
             ],
             [
              0.1111111111111111,
              "#46039f"
             ],
             [
              0.2222222222222222,
              "#7201a8"
             ],
             [
              0.3333333333333333,
              "#9c179e"
             ],
             [
              0.4444444444444444,
              "#bd3786"
             ],
             [
              0.5555555555555556,
              "#d8576b"
             ],
             [
              0.6666666666666666,
              "#ed7953"
             ],
             [
              0.7777777777777778,
              "#fb9f3a"
             ],
             [
              0.8888888888888888,
              "#fdca26"
             ],
             [
              1,
              "#f0f921"
             ]
            ],
            "type": "contour"
           }
          ],
          "contourcarpet": [
           {
            "colorbar": {
             "outlinewidth": 0,
             "ticks": ""
            },
            "type": "contourcarpet"
           }
          ],
          "heatmap": [
           {
            "colorbar": {
             "outlinewidth": 0,
             "ticks": ""
            },
            "colorscale": [
             [
              0,
              "#0d0887"
             ],
             [
              0.1111111111111111,
              "#46039f"
             ],
             [
              0.2222222222222222,
              "#7201a8"
             ],
             [
              0.3333333333333333,
              "#9c179e"
             ],
             [
              0.4444444444444444,
              "#bd3786"
             ],
             [
              0.5555555555555556,
              "#d8576b"
             ],
             [
              0.6666666666666666,
              "#ed7953"
             ],
             [
              0.7777777777777778,
              "#fb9f3a"
             ],
             [
              0.8888888888888888,
              "#fdca26"
             ],
             [
              1,
              "#f0f921"
             ]
            ],
            "type": "heatmap"
           }
          ],
          "heatmapgl": [
           {
            "colorbar": {
             "outlinewidth": 0,
             "ticks": ""
            },
            "colorscale": [
             [
              0,
              "#0d0887"
             ],
             [
              0.1111111111111111,
              "#46039f"
             ],
             [
              0.2222222222222222,
              "#7201a8"
             ],
             [
              0.3333333333333333,
              "#9c179e"
             ],
             [
              0.4444444444444444,
              "#bd3786"
             ],
             [
              0.5555555555555556,
              "#d8576b"
             ],
             [
              0.6666666666666666,
              "#ed7953"
             ],
             [
              0.7777777777777778,
              "#fb9f3a"
             ],
             [
              0.8888888888888888,
              "#fdca26"
             ],
             [
              1,
              "#f0f921"
             ]
            ],
            "type": "heatmapgl"
           }
          ],
          "histogram": [
           {
            "marker": {
             "pattern": {
              "fillmode": "overlay",
              "size": 10,
              "solidity": 0.2
             }
            },
            "type": "histogram"
           }
          ],
          "histogram2d": [
           {
            "colorbar": {
             "outlinewidth": 0,
             "ticks": ""
            },
            "colorscale": [
             [
              0,
              "#0d0887"
             ],
             [
              0.1111111111111111,
              "#46039f"
             ],
             [
              0.2222222222222222,
              "#7201a8"
             ],
             [
              0.3333333333333333,
              "#9c179e"
             ],
             [
              0.4444444444444444,
              "#bd3786"
             ],
             [
              0.5555555555555556,
              "#d8576b"
             ],
             [
              0.6666666666666666,
              "#ed7953"
             ],
             [
              0.7777777777777778,
              "#fb9f3a"
             ],
             [
              0.8888888888888888,
              "#fdca26"
             ],
             [
              1,
              "#f0f921"
             ]
            ],
            "type": "histogram2d"
           }
          ],
          "histogram2dcontour": [
           {
            "colorbar": {
             "outlinewidth": 0,
             "ticks": ""
            },
            "colorscale": [
             [
              0,
              "#0d0887"
             ],
             [
              0.1111111111111111,
              "#46039f"
             ],
             [
              0.2222222222222222,
              "#7201a8"
             ],
             [
              0.3333333333333333,
              "#9c179e"
             ],
             [
              0.4444444444444444,
              "#bd3786"
             ],
             [
              0.5555555555555556,
              "#d8576b"
             ],
             [
              0.6666666666666666,
              "#ed7953"
             ],
             [
              0.7777777777777778,
              "#fb9f3a"
             ],
             [
              0.8888888888888888,
              "#fdca26"
             ],
             [
              1,
              "#f0f921"
             ]
            ],
            "type": "histogram2dcontour"
           }
          ],
          "mesh3d": [
           {
            "colorbar": {
             "outlinewidth": 0,
             "ticks": ""
            },
            "type": "mesh3d"
           }
          ],
          "parcoords": [
           {
            "line": {
             "colorbar": {
              "outlinewidth": 0,
              "ticks": ""
             }
            },
            "type": "parcoords"
           }
          ],
          "pie": [
           {
            "automargin": true,
            "type": "pie"
           }
          ],
          "scatter": [
           {
            "marker": {
             "colorbar": {
              "outlinewidth": 0,
              "ticks": ""
             }
            },
            "type": "scatter"
           }
          ],
          "scatter3d": [
           {
            "line": {
             "colorbar": {
              "outlinewidth": 0,
              "ticks": ""
             }
            },
            "marker": {
             "colorbar": {
              "outlinewidth": 0,
              "ticks": ""
             }
            },
            "type": "scatter3d"
           }
          ],
          "scattercarpet": [
           {
            "marker": {
             "colorbar": {
              "outlinewidth": 0,
              "ticks": ""
             }
            },
            "type": "scattercarpet"
           }
          ],
          "scattergeo": [
           {
            "marker": {
             "colorbar": {
              "outlinewidth": 0,
              "ticks": ""
             }
            },
            "type": "scattergeo"
           }
          ],
          "scattergl": [
           {
            "marker": {
             "colorbar": {
              "outlinewidth": 0,
              "ticks": ""
             }
            },
            "type": "scattergl"
           }
          ],
          "scattermapbox": [
           {
            "marker": {
             "colorbar": {
              "outlinewidth": 0,
              "ticks": ""
             }
            },
            "type": "scattermapbox"
           }
          ],
          "scatterpolar": [
           {
            "marker": {
             "colorbar": {
              "outlinewidth": 0,
              "ticks": ""
             }
            },
            "type": "scatterpolar"
           }
          ],
          "scatterpolargl": [
           {
            "marker": {
             "colorbar": {
              "outlinewidth": 0,
              "ticks": ""
             }
            },
            "type": "scatterpolargl"
           }
          ],
          "scatterternary": [
           {
            "marker": {
             "colorbar": {
              "outlinewidth": 0,
              "ticks": ""
             }
            },
            "type": "scatterternary"
           }
          ],
          "surface": [
           {
            "colorbar": {
             "outlinewidth": 0,
             "ticks": ""
            },
            "colorscale": [
             [
              0,
              "#0d0887"
             ],
             [
              0.1111111111111111,
              "#46039f"
             ],
             [
              0.2222222222222222,
              "#7201a8"
             ],
             [
              0.3333333333333333,
              "#9c179e"
             ],
             [
              0.4444444444444444,
              "#bd3786"
             ],
             [
              0.5555555555555556,
              "#d8576b"
             ],
             [
              0.6666666666666666,
              "#ed7953"
             ],
             [
              0.7777777777777778,
              "#fb9f3a"
             ],
             [
              0.8888888888888888,
              "#fdca26"
             ],
             [
              1,
              "#f0f921"
             ]
            ],
            "type": "surface"
           }
          ],
          "table": [
           {
            "cells": {
             "fill": {
              "color": "#EBF0F8"
             },
             "line": {
              "color": "white"
             }
            },
            "header": {
             "fill": {
              "color": "#C8D4E3"
             },
             "line": {
              "color": "white"
             }
            },
            "type": "table"
           }
          ]
         },
         "layout": {
          "annotationdefaults": {
           "arrowcolor": "#2a3f5f",
           "arrowhead": 0,
           "arrowwidth": 1
          },
          "autotypenumbers": "strict",
          "coloraxis": {
           "colorbar": {
            "outlinewidth": 0,
            "ticks": ""
           }
          },
          "colorscale": {
           "diverging": [
            [
             0,
             "#8e0152"
            ],
            [
             0.1,
             "#c51b7d"
            ],
            [
             0.2,
             "#de77ae"
            ],
            [
             0.3,
             "#f1b6da"
            ],
            [
             0.4,
             "#fde0ef"
            ],
            [
             0.5,
             "#f7f7f7"
            ],
            [
             0.6,
             "#e6f5d0"
            ],
            [
             0.7,
             "#b8e186"
            ],
            [
             0.8,
             "#7fbc41"
            ],
            [
             0.9,
             "#4d9221"
            ],
            [
             1,
             "#276419"
            ]
           ],
           "sequential": [
            [
             0,
             "#0d0887"
            ],
            [
             0.1111111111111111,
             "#46039f"
            ],
            [
             0.2222222222222222,
             "#7201a8"
            ],
            [
             0.3333333333333333,
             "#9c179e"
            ],
            [
             0.4444444444444444,
             "#bd3786"
            ],
            [
             0.5555555555555556,
             "#d8576b"
            ],
            [
             0.6666666666666666,
             "#ed7953"
            ],
            [
             0.7777777777777778,
             "#fb9f3a"
            ],
            [
             0.8888888888888888,
             "#fdca26"
            ],
            [
             1,
             "#f0f921"
            ]
           ],
           "sequentialminus": [
            [
             0,
             "#0d0887"
            ],
            [
             0.1111111111111111,
             "#46039f"
            ],
            [
             0.2222222222222222,
             "#7201a8"
            ],
            [
             0.3333333333333333,
             "#9c179e"
            ],
            [
             0.4444444444444444,
             "#bd3786"
            ],
            [
             0.5555555555555556,
             "#d8576b"
            ],
            [
             0.6666666666666666,
             "#ed7953"
            ],
            [
             0.7777777777777778,
             "#fb9f3a"
            ],
            [
             0.8888888888888888,
             "#fdca26"
            ],
            [
             1,
             "#f0f921"
            ]
           ]
          },
          "colorway": [
           "#636efa",
           "#EF553B",
           "#00cc96",
           "#ab63fa",
           "#FFA15A",
           "#19d3f3",
           "#FF6692",
           "#B6E880",
           "#FF97FF",
           "#FECB52"
          ],
          "font": {
           "color": "#2a3f5f"
          },
          "geo": {
           "bgcolor": "white",
           "lakecolor": "white",
           "landcolor": "#E5ECF6",
           "showlakes": true,
           "showland": true,
           "subunitcolor": "white"
          },
          "hoverlabel": {
           "align": "left"
          },
          "hovermode": "closest",
          "mapbox": {
           "style": "light"
          },
          "paper_bgcolor": "white",
          "plot_bgcolor": "#E5ECF6",
          "polar": {
           "angularaxis": {
            "gridcolor": "white",
            "linecolor": "white",
            "ticks": ""
           },
           "bgcolor": "#E5ECF6",
           "radialaxis": {
            "gridcolor": "white",
            "linecolor": "white",
            "ticks": ""
           }
          },
          "scene": {
           "xaxis": {
            "backgroundcolor": "#E5ECF6",
            "gridcolor": "white",
            "gridwidth": 2,
            "linecolor": "white",
            "showbackground": true,
            "ticks": "",
            "zerolinecolor": "white"
           },
           "yaxis": {
            "backgroundcolor": "#E5ECF6",
            "gridcolor": "white",
            "gridwidth": 2,
            "linecolor": "white",
            "showbackground": true,
            "ticks": "",
            "zerolinecolor": "white"
           },
           "zaxis": {
            "backgroundcolor": "#E5ECF6",
            "gridcolor": "white",
            "gridwidth": 2,
            "linecolor": "white",
            "showbackground": true,
            "ticks": "",
            "zerolinecolor": "white"
           }
          },
          "shapedefaults": {
           "line": {
            "color": "#2a3f5f"
           }
          },
          "ternary": {
           "aaxis": {
            "gridcolor": "white",
            "linecolor": "white",
            "ticks": ""
           },
           "baxis": {
            "gridcolor": "white",
            "linecolor": "white",
            "ticks": ""
           },
           "bgcolor": "#E5ECF6",
           "caxis": {
            "gridcolor": "white",
            "linecolor": "white",
            "ticks": ""
           }
          },
          "title": {
           "x": 0.05
          },
          "xaxis": {
           "automargin": true,
           "gridcolor": "white",
           "linecolor": "white",
           "ticks": "",
           "title": {
            "standoff": 15
           },
           "zerolinecolor": "white",
           "zerolinewidth": 2
          },
          "yaxis": {
           "automargin": true,
           "gridcolor": "white",
           "linecolor": "white",
           "ticks": "",
           "title": {
            "standoff": 15
           },
           "zerolinecolor": "white",
           "zerolinewidth": 2
          }
         }
        },
        "title": {
         "text": "Número de suícidio por estado civil no período de 2010 a 2019"
        },
        "xaxis": {
         "anchor": "y",
         "categoryarray": [
          "Casado/a",
          "Não Informado",
          "Separado/a judicialmente",
          "Solteiro/a",
          "União consensual",
          "Viúvo/a"
         ],
         "categoryorder": "array",
         "domain": [
          0,
          1
         ],
         "title": {
          "text": "estciv"
         }
        },
        "yaxis": {
         "anchor": "x",
         "domain": [
          0,
          1
         ],
         "title": {
          "text": "size"
         }
        }
       }
      },
      "text/html": [
       "<div>                            <div id=\"bb3adcc4-9366-4096-a215-b77dbfcaec3e\" class=\"plotly-graph-div\" style=\"height:525px; width:100%;\"></div>            <script type=\"text/javascript\">                require([\"plotly\"], function(Plotly) {                    window.PLOTLYENV=window.PLOTLYENV || {};                                    if (document.getElementById(\"bb3adcc4-9366-4096-a215-b77dbfcaec3e\")) {                    Plotly.newPlot(                        \"bb3adcc4-9366-4096-a215-b77dbfcaec3e\",                        [{\"alignmentgroup\":\"True\",\"hovertemplate\":\"estciv=%{x}<br>size=%{y}<extra></extra>\",\"legendgroup\":\"Casado/a\",\"marker\":{\"color\":\"rgb(136, 204, 238)\",\"pattern\":{\"shape\":\"\"}},\"name\":\"Casado/a\",\"offsetgroup\":\"Casado/a\",\"orientation\":\"v\",\"showlegend\":true,\"textposition\":\"auto\",\"type\":\"bar\",\"x\":[\"Casado/a\"],\"xaxis\":\"x\",\"y\":[30001],\"yaxis\":\"y\"},{\"alignmentgroup\":\"True\",\"hovertemplate\":\"estciv=%{x}<br>size=%{y}<extra></extra>\",\"legendgroup\":\"N\\u00e3o Informado\",\"marker\":{\"color\":\"rgb(204, 102, 119)\",\"pattern\":{\"shape\":\"\"}},\"name\":\"N\\u00e3o Informado\",\"offsetgroup\":\"N\\u00e3o Informado\",\"orientation\":\"v\",\"showlegend\":true,\"textposition\":\"auto\",\"type\":\"bar\",\"x\":[\"N\\u00e3o Informado\"],\"xaxis\":\"x\",\"y\":[8700],\"yaxis\":\"y\"},{\"alignmentgroup\":\"True\",\"hovertemplate\":\"estciv=%{x}<br>size=%{y}<extra></extra>\",\"legendgroup\":\"Separado/a judicialmente\",\"marker\":{\"color\":\"rgb(221, 204, 119)\",\"pattern\":{\"shape\":\"\"}},\"name\":\"Separado/a judicialmente\",\"offsetgroup\":\"Separado/a judicialmente\",\"orientation\":\"v\",\"showlegend\":true,\"textposition\":\"auto\",\"type\":\"bar\",\"x\":[\"Separado/a judicialmente\"],\"xaxis\":\"x\",\"y\":[7771],\"yaxis\":\"y\"},{\"alignmentgroup\":\"True\",\"hovertemplate\":\"estciv=%{x}<br>size=%{y}<extra></extra>\",\"legendgroup\":\"Solteiro/a\",\"marker\":{\"color\":\"rgb(17, 119, 51)\",\"pattern\":{\"shape\":\"\"}},\"name\":\"Solteiro/a\",\"offsetgroup\":\"Solteiro/a\",\"orientation\":\"v\",\"showlegend\":true,\"textposition\":\"auto\",\"type\":\"bar\",\"x\":[\"Solteiro/a\"],\"xaxis\":\"x\",\"y\":[56523],\"yaxis\":\"y\"},{\"alignmentgroup\":\"True\",\"hovertemplate\":\"estciv=%{x}<br>size=%{y}<extra></extra>\",\"legendgroup\":\"Uni\\u00e3o consensual\",\"marker\":{\"color\":\"rgb(51, 34, 136)\",\"pattern\":{\"shape\":\"\"}},\"name\":\"Uni\\u00e3o consensual\",\"offsetgroup\":\"Uni\\u00e3o consensual\",\"orientation\":\"v\",\"showlegend\":true,\"textposition\":\"auto\",\"type\":\"bar\",\"x\":[\"Uni\\u00e3o consensual\"],\"xaxis\":\"x\",\"y\":[5280],\"yaxis\":\"y\"},{\"alignmentgroup\":\"True\",\"hovertemplate\":\"estciv=%{x}<br>size=%{y}<extra></extra>\",\"legendgroup\":\"Vi\\u00favo/a\",\"marker\":{\"color\":\"rgb(170, 68, 153)\",\"pattern\":{\"shape\":\"\"}},\"name\":\"Vi\\u00favo/a\",\"offsetgroup\":\"Vi\\u00favo/a\",\"orientation\":\"v\",\"showlegend\":true,\"textposition\":\"auto\",\"type\":\"bar\",\"x\":[\"Vi\\u00favo/a\"],\"xaxis\":\"x\",\"y\":[4216],\"yaxis\":\"y\"}],                        {\"barmode\":\"relative\",\"legend\":{\"title\":{\"text\":\"estciv\"},\"tracegroupgap\":0},\"template\":{\"data\":{\"bar\":[{\"error_x\":{\"color\":\"#2a3f5f\"},\"error_y\":{\"color\":\"#2a3f5f\"},\"marker\":{\"line\":{\"color\":\"#E5ECF6\",\"width\":0.5},\"pattern\":{\"fillmode\":\"overlay\",\"size\":10,\"solidity\":0.2}},\"type\":\"bar\"}],\"barpolar\":[{\"marker\":{\"line\":{\"color\":\"#E5ECF6\",\"width\":0.5},\"pattern\":{\"fillmode\":\"overlay\",\"size\":10,\"solidity\":0.2}},\"type\":\"barpolar\"}],\"carpet\":[{\"aaxis\":{\"endlinecolor\":\"#2a3f5f\",\"gridcolor\":\"white\",\"linecolor\":\"white\",\"minorgridcolor\":\"white\",\"startlinecolor\":\"#2a3f5f\"},\"baxis\":{\"endlinecolor\":\"#2a3f5f\",\"gridcolor\":\"white\",\"linecolor\":\"white\",\"minorgridcolor\":\"white\",\"startlinecolor\":\"#2a3f5f\"},\"type\":\"carpet\"}],\"choropleth\":[{\"colorbar\":{\"outlinewidth\":0,\"ticks\":\"\"},\"type\":\"choropleth\"}],\"contour\":[{\"colorbar\":{\"outlinewidth\":0,\"ticks\":\"\"},\"colorscale\":[[0.0,\"#0d0887\"],[0.1111111111111111,\"#46039f\"],[0.2222222222222222,\"#7201a8\"],[0.3333333333333333,\"#9c179e\"],[0.4444444444444444,\"#bd3786\"],[0.5555555555555556,\"#d8576b\"],[0.6666666666666666,\"#ed7953\"],[0.7777777777777778,\"#fb9f3a\"],[0.8888888888888888,\"#fdca26\"],[1.0,\"#f0f921\"]],\"type\":\"contour\"}],\"contourcarpet\":[{\"colorbar\":{\"outlinewidth\":0,\"ticks\":\"\"},\"type\":\"contourcarpet\"}],\"heatmap\":[{\"colorbar\":{\"outlinewidth\":0,\"ticks\":\"\"},\"colorscale\":[[0.0,\"#0d0887\"],[0.1111111111111111,\"#46039f\"],[0.2222222222222222,\"#7201a8\"],[0.3333333333333333,\"#9c179e\"],[0.4444444444444444,\"#bd3786\"],[0.5555555555555556,\"#d8576b\"],[0.6666666666666666,\"#ed7953\"],[0.7777777777777778,\"#fb9f3a\"],[0.8888888888888888,\"#fdca26\"],[1.0,\"#f0f921\"]],\"type\":\"heatmap\"}],\"heatmapgl\":[{\"colorbar\":{\"outlinewidth\":0,\"ticks\":\"\"},\"colorscale\":[[0.0,\"#0d0887\"],[0.1111111111111111,\"#46039f\"],[0.2222222222222222,\"#7201a8\"],[0.3333333333333333,\"#9c179e\"],[0.4444444444444444,\"#bd3786\"],[0.5555555555555556,\"#d8576b\"],[0.6666666666666666,\"#ed7953\"],[0.7777777777777778,\"#fb9f3a\"],[0.8888888888888888,\"#fdca26\"],[1.0,\"#f0f921\"]],\"type\":\"heatmapgl\"}],\"histogram\":[{\"marker\":{\"pattern\":{\"fillmode\":\"overlay\",\"size\":10,\"solidity\":0.2}},\"type\":\"histogram\"}],\"histogram2d\":[{\"colorbar\":{\"outlinewidth\":0,\"ticks\":\"\"},\"colorscale\":[[0.0,\"#0d0887\"],[0.1111111111111111,\"#46039f\"],[0.2222222222222222,\"#7201a8\"],[0.3333333333333333,\"#9c179e\"],[0.4444444444444444,\"#bd3786\"],[0.5555555555555556,\"#d8576b\"],[0.6666666666666666,\"#ed7953\"],[0.7777777777777778,\"#fb9f3a\"],[0.8888888888888888,\"#fdca26\"],[1.0,\"#f0f921\"]],\"type\":\"histogram2d\"}],\"histogram2dcontour\":[{\"colorbar\":{\"outlinewidth\":0,\"ticks\":\"\"},\"colorscale\":[[0.0,\"#0d0887\"],[0.1111111111111111,\"#46039f\"],[0.2222222222222222,\"#7201a8\"],[0.3333333333333333,\"#9c179e\"],[0.4444444444444444,\"#bd3786\"],[0.5555555555555556,\"#d8576b\"],[0.6666666666666666,\"#ed7953\"],[0.7777777777777778,\"#fb9f3a\"],[0.8888888888888888,\"#fdca26\"],[1.0,\"#f0f921\"]],\"type\":\"histogram2dcontour\"}],\"mesh3d\":[{\"colorbar\":{\"outlinewidth\":0,\"ticks\":\"\"},\"type\":\"mesh3d\"}],\"parcoords\":[{\"line\":{\"colorbar\":{\"outlinewidth\":0,\"ticks\":\"\"}},\"type\":\"parcoords\"}],\"pie\":[{\"automargin\":true,\"type\":\"pie\"}],\"scatter\":[{\"marker\":{\"colorbar\":{\"outlinewidth\":0,\"ticks\":\"\"}},\"type\":\"scatter\"}],\"scatter3d\":[{\"line\":{\"colorbar\":{\"outlinewidth\":0,\"ticks\":\"\"}},\"marker\":{\"colorbar\":{\"outlinewidth\":0,\"ticks\":\"\"}},\"type\":\"scatter3d\"}],\"scattercarpet\":[{\"marker\":{\"colorbar\":{\"outlinewidth\":0,\"ticks\":\"\"}},\"type\":\"scattercarpet\"}],\"scattergeo\":[{\"marker\":{\"colorbar\":{\"outlinewidth\":0,\"ticks\":\"\"}},\"type\":\"scattergeo\"}],\"scattergl\":[{\"marker\":{\"colorbar\":{\"outlinewidth\":0,\"ticks\":\"\"}},\"type\":\"scattergl\"}],\"scattermapbox\":[{\"marker\":{\"colorbar\":{\"outlinewidth\":0,\"ticks\":\"\"}},\"type\":\"scattermapbox\"}],\"scatterpolar\":[{\"marker\":{\"colorbar\":{\"outlinewidth\":0,\"ticks\":\"\"}},\"type\":\"scatterpolar\"}],\"scatterpolargl\":[{\"marker\":{\"colorbar\":{\"outlinewidth\":0,\"ticks\":\"\"}},\"type\":\"scatterpolargl\"}],\"scatterternary\":[{\"marker\":{\"colorbar\":{\"outlinewidth\":0,\"ticks\":\"\"}},\"type\":\"scatterternary\"}],\"surface\":[{\"colorbar\":{\"outlinewidth\":0,\"ticks\":\"\"},\"colorscale\":[[0.0,\"#0d0887\"],[0.1111111111111111,\"#46039f\"],[0.2222222222222222,\"#7201a8\"],[0.3333333333333333,\"#9c179e\"],[0.4444444444444444,\"#bd3786\"],[0.5555555555555556,\"#d8576b\"],[0.6666666666666666,\"#ed7953\"],[0.7777777777777778,\"#fb9f3a\"],[0.8888888888888888,\"#fdca26\"],[1.0,\"#f0f921\"]],\"type\":\"surface\"}],\"table\":[{\"cells\":{\"fill\":{\"color\":\"#EBF0F8\"},\"line\":{\"color\":\"white\"}},\"header\":{\"fill\":{\"color\":\"#C8D4E3\"},\"line\":{\"color\":\"white\"}},\"type\":\"table\"}]},\"layout\":{\"annotationdefaults\":{\"arrowcolor\":\"#2a3f5f\",\"arrowhead\":0,\"arrowwidth\":1},\"autotypenumbers\":\"strict\",\"coloraxis\":{\"colorbar\":{\"outlinewidth\":0,\"ticks\":\"\"}},\"colorscale\":{\"diverging\":[[0,\"#8e0152\"],[0.1,\"#c51b7d\"],[0.2,\"#de77ae\"],[0.3,\"#f1b6da\"],[0.4,\"#fde0ef\"],[0.5,\"#f7f7f7\"],[0.6,\"#e6f5d0\"],[0.7,\"#b8e186\"],[0.8,\"#7fbc41\"],[0.9,\"#4d9221\"],[1,\"#276419\"]],\"sequential\":[[0.0,\"#0d0887\"],[0.1111111111111111,\"#46039f\"],[0.2222222222222222,\"#7201a8\"],[0.3333333333333333,\"#9c179e\"],[0.4444444444444444,\"#bd3786\"],[0.5555555555555556,\"#d8576b\"],[0.6666666666666666,\"#ed7953\"],[0.7777777777777778,\"#fb9f3a\"],[0.8888888888888888,\"#fdca26\"],[1.0,\"#f0f921\"]],\"sequentialminus\":[[0.0,\"#0d0887\"],[0.1111111111111111,\"#46039f\"],[0.2222222222222222,\"#7201a8\"],[0.3333333333333333,\"#9c179e\"],[0.4444444444444444,\"#bd3786\"],[0.5555555555555556,\"#d8576b\"],[0.6666666666666666,\"#ed7953\"],[0.7777777777777778,\"#fb9f3a\"],[0.8888888888888888,\"#fdca26\"],[1.0,\"#f0f921\"]]},\"colorway\":[\"#636efa\",\"#EF553B\",\"#00cc96\",\"#ab63fa\",\"#FFA15A\",\"#19d3f3\",\"#FF6692\",\"#B6E880\",\"#FF97FF\",\"#FECB52\"],\"font\":{\"color\":\"#2a3f5f\"},\"geo\":{\"bgcolor\":\"white\",\"lakecolor\":\"white\",\"landcolor\":\"#E5ECF6\",\"showlakes\":true,\"showland\":true,\"subunitcolor\":\"white\"},\"hoverlabel\":{\"align\":\"left\"},\"hovermode\":\"closest\",\"mapbox\":{\"style\":\"light\"},\"paper_bgcolor\":\"white\",\"plot_bgcolor\":\"#E5ECF6\",\"polar\":{\"angularaxis\":{\"gridcolor\":\"white\",\"linecolor\":\"white\",\"ticks\":\"\"},\"bgcolor\":\"#E5ECF6\",\"radialaxis\":{\"gridcolor\":\"white\",\"linecolor\":\"white\",\"ticks\":\"\"}},\"scene\":{\"xaxis\":{\"backgroundcolor\":\"#E5ECF6\",\"gridcolor\":\"white\",\"gridwidth\":2,\"linecolor\":\"white\",\"showbackground\":true,\"ticks\":\"\",\"zerolinecolor\":\"white\"},\"yaxis\":{\"backgroundcolor\":\"#E5ECF6\",\"gridcolor\":\"white\",\"gridwidth\":2,\"linecolor\":\"white\",\"showbackground\":true,\"ticks\":\"\",\"zerolinecolor\":\"white\"},\"zaxis\":{\"backgroundcolor\":\"#E5ECF6\",\"gridcolor\":\"white\",\"gridwidth\":2,\"linecolor\":\"white\",\"showbackground\":true,\"ticks\":\"\",\"zerolinecolor\":\"white\"}},\"shapedefaults\":{\"line\":{\"color\":\"#2a3f5f\"}},\"ternary\":{\"aaxis\":{\"gridcolor\":\"white\",\"linecolor\":\"white\",\"ticks\":\"\"},\"baxis\":{\"gridcolor\":\"white\",\"linecolor\":\"white\",\"ticks\":\"\"},\"bgcolor\":\"#E5ECF6\",\"caxis\":{\"gridcolor\":\"white\",\"linecolor\":\"white\",\"ticks\":\"\"}},\"title\":{\"x\":0.05},\"xaxis\":{\"automargin\":true,\"gridcolor\":\"white\",\"linecolor\":\"white\",\"ticks\":\"\",\"title\":{\"standoff\":15},\"zerolinecolor\":\"white\",\"zerolinewidth\":2},\"yaxis\":{\"automargin\":true,\"gridcolor\":\"white\",\"linecolor\":\"white\",\"ticks\":\"\",\"title\":{\"standoff\":15},\"zerolinecolor\":\"white\",\"zerolinewidth\":2}}},\"title\":{\"text\":\"N\\u00famero de su\\u00edcidio por estado civil no per\\u00edodo de 2010 a 2019\"},\"xaxis\":{\"anchor\":\"y\",\"categoryarray\":[\"Casado/a\",\"N\\u00e3o Informado\",\"Separado/a judicialmente\",\"Solteiro/a\",\"Uni\\u00e3o consensual\",\"Vi\\u00favo/a\"],\"categoryorder\":\"array\",\"domain\":[0.0,1.0],\"title\":{\"text\":\"estciv\"}},\"yaxis\":{\"anchor\":\"x\",\"domain\":[0.0,1.0],\"title\":{\"text\":\"size\"}}},                        {\"responsive\": true}                    ).then(function(){\n",
       "                            \n",
       "var gd = document.getElementById('bb3adcc4-9366-4096-a215-b77dbfcaec3e');\n",
       "var x = new MutationObserver(function (mutations, observer) {{\n",
       "        var display = window.getComputedStyle(gd).display;\n",
       "        if (!display || display === 'none') {{\n",
       "            console.log([gd, 'removed!']);\n",
       "            Plotly.purge(gd);\n",
       "            observer.disconnect();\n",
       "        }}\n",
       "}});\n",
       "\n",
       "// Listen for the removal of the full notebook cells\n",
       "var notebookContainer = gd.closest('#notebook-container');\n",
       "if (notebookContainer) {{\n",
       "    x.observe(notebookContainer, {childList: true});\n",
       "}}\n",
       "\n",
       "// Listen for the clearing of the current output cell\n",
       "var outputEl = gd.closest('.output');\n",
       "if (outputEl) {{\n",
       "    x.observe(outputEl, {childList: true});\n",
       "}}\n",
       "\n",
       "                        })                };                });            </script>        </div>"
      ]
     },
     "metadata": {},
     "output_type": "display_data"
    }
   ],
   "source": [
    "fig = px.bar(df_estciv, y=\"size\", x=\"estciv\",\n",
    "             color='estciv',\n",
    "             title='Número de suícidio por estado civil no período de 2010 a 2019',\n",
    "             color_discrete_sequence=px.colors.qualitative.Safe)\n",
    "fig.show()"
   ]
  },
  {
   "cell_type": "markdown",
   "id": "6ed34684",
   "metadata": {},
   "source": [
    "# Setembro Amarelo"
   ]
  },
  {
   "cell_type": "code",
   "execution_count": 91,
   "id": "f1356b85",
   "metadata": {},
   "outputs": [
    {
     "data": {
      "image/png": "[encoded data removed]",
      "text/plain": [
       "<Figure size 1440x1080 with 1 Axes>"
      ]
     },
     "metadata": {
      "needs_background": "light"
     },
     "output_type": "display_data"
    }
   ],
   "source": [
    "setembro_mask = np.array(Image.open(\"mask.png\")) # máscara\n",
    "\n",
    "stopwords = set(STOPWORDS) # stop words\n",
    "stopwords.update([\"DA\", \"DE\", \"EM\", \"DE\", \"NO\", \"AO\", \"NOS\"])\n",
    "\n",
    "ocup = df.dropna(subset=['OCUP'], axis=0)['OCUP'] #retirar Nan values\n",
    "all_ocup = \" \".join(s for s in ocup) # juntar palavras\n",
    "wordcloud = WordCloud(stopwords=stopwords,\n",
    "                      background_color=\"white\",\n",
    "                      width=1000, height=1000, max_words=200,\n",
    "                      mask=setembro_mask, max_font_size=200,\n",
    "                      relative_scaling =0,\n",
    "                      colormap=\"Wistia\"\n",
    "                     ).generate(all_ocup)\n",
    "\n",
    "\n",
    "fig, ax = plt.subplots(figsize=(20,15))\n",
    "ax.imshow(wordcloud, interpolation='bilinear')\n",
    "ax.set_axis_off()"
   ]
  }
 ],
 "metadata": {
  "kernelspec": {
   "display_name": "Python 3 (ipykernel)",
   "language": "python",
   "name": "python3"
  },
  "language_info": {
   "codemirror_mode": {
    "name": "ipython",
    "version": 3
   },
   "file_extension": ".py",
   "mimetype": "text/x-python",
   "name": "python",
   "nbconvert_exporter": "python",
   "pygments_lexer": "ipython3",
   "version": "3.9.7"
  }
 },
 "nbformat": 4,
 "nbformat_minor": 5
}
