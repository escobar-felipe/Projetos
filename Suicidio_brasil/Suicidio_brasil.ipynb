{
 "cells": [
  {
   "cell_type": "markdown",
   "id": "f2cbc14e",
   "metadata": {},
   "source": [
    "# Série histórica de suicídios no Brasil entre 2010 e 2019\n",
    "\n",
    "\"Diversos dados sobre suicídios foram reunidos em uma série histórica baseando-se nos dados provenientes do DATASUS. Mais especificamente, a base de dados do Sistema de Informação sobre Mortalidade (SIM) foi utilizada para extração de dados a partir do pacote PySUS.\n",
    "\n",
    "Para selecionar apenas os casos de suicídio, a variável CAUSABAS ou CAUSABAS_O (ambas retratando causa básica da morte) deveriam possuir valores da Classificação Internacional de Doenças (CID) entre X600 e X850. Essa faixa de casos do CID englobaria lesões autoprovocadas.\"<a href=\"https://www.kaggle.com/psicodata/dados-de-suicidios-entre-2010-e-2019\">PsicoData</a>\n",
    "\n",
    "\n",
    "### Variáveis\n",
    "* <b>DTOBITO:</b> data do óbito.\n",
    "* <b>DTNASC:</b> data de nascimento.\n",
    "* <b>SEXO:</b> sexo. 1 : Masculino, 2 : Feminino.\n",
    "* <b>RACACOR:</b> raça. 1 : Branca, 2 : Preta, 3 : Amarela, 4 : Parda, 5 : Indígena.\n",
    "* <b>ESTCIV:</b> estado civil. 1 : Solteiro, 2 : Casado, 3 : Viúvo, 4 : Separado judicialmente, 5 : União consensual.\n",
    "* <b>ESC:</b> escolaridade. 1 : Nenhuma, 2: 1 a 3 anos, 3 : 4 a 7 anos, 4 : 8 a 11 anos, 5 : 12 e mais, 8 : De 9 a 11 anos.\n",
    "* <b>OCUP:</b> ocupação. Para óbitos a partir de 2006, segue-se a tabela CBO2002.\n",
    "* <b>CODMUNRES:</b> município de residência do falecido (codificado).\n",
    "* <b>LOCOCOR:</b> Local de ocorrência do óbito. 1 : Hospital, 2 : Outro estabelecimento de saúde, 3 : Domicílio, 4 : Via pública, 5 :</b> Outros, 9 : NA.\n",
    "* <b>ASSISTMED:</b> Assistência médica. 1 : Sim, 2 : Não, 9 : NA.\n",
    "* <b>CAUSABAS:</b> Causa básica do óbito. Código CID-10.\n",
    "* <b>CAUSABAS_O:</b> Causa básica do óbito. Código CID-10."
   ]
  },
  {
   "cell_type": "code",
   "execution_count": null,
   "id": "48def476",
   "metadata": {},
   "outputs": [],
   "source": [
    "# bibliotecas \n",
    "import pandas as pd\n",
    "\n",
    "\n",
    "import plotly.express as px\n",
    "\n",
    "import matplotlib.pyplot as plt\n",
    "import matplotlib.dates\n",
    "\n",
    "from pywaffle import Waffle\n",
    "\n",
    "import json\n",
    "\n",
    "from wordcloud import WordCloud, STOPWORDS\n",
    "from PIL import Image\n",
    "\n",
    "import numpy as np\n",
    "import warnings; warnings.simplefilter('ignore')"
   ]
  },
  {
   "cell_type": "code",
   "execution_count": null,
   "id": "22274d89",
   "metadata": {},
   "outputs": [],
   "source": [
    "def make_text(rows, # number of rows\n",
    "              cols, # number of cols\n",
    "              texts, # number of texts to display\n",
    "              result, # featured text\n",
    "              label = '', # detailed text\n",
    "              font1_size = 80, # featured text font size\n",
    "              font2_size = 20, # detailed text font size\n",
    "              ha = 'center', # horizontal alignment\n",
    "              va = 'center', # vertical alignment\n",
    "              font1_color = '#A43428', # featured text font color\n",
    "              font2_color = '#5F6A6A', # detailed text font color\n",
    "              font1_weight = 'bold', # featured text font weight\n",
    "              font2_weight = 'normal', # detailed text font weight\n",
    "              sup_title = '', # suptitle\n",
    "              font_suptitle = 30, # font size suptitle\n",
    "              title1 = '', # title left figure\n",
    "              title2 = '', # title right figure\n",
    "              loc = 'center', # loc\n",
    "              font_title = 20, # font size of titles\n",
    "              a = 0.5, # percentage for va featured text\n",
    "              b = 0.5, # percentage for ha featured text\n",
    "              c = 0.5, # percentage for va detailed text\n",
    "              d = 0.1, # percentage for ha detailed text\n",
    "              figsize = (6, 2) # figure size\n",
    "             ): \n",
    "    \n",
    "    # axes coordenates\n",
    "\n",
    "    left, width = 0.25, 0.5\n",
    "    bottom, height = 0.25, 0.5\n",
    "    right = left + width\n",
    "    top = bottom + height\n",
    "    \n",
    "    # text fonts\n",
    "    \n",
    "    fonttitle = {'family': 'monospace', 'weight': 'normal', 'size': font_title, 'horizontalalignment': loc}\n",
    "    font1 = {'family': 'sans-serif', 'color': font1_color, 'weight': font1_weight, 'size': font1_size}\n",
    "    font2 = {'family': 'sans-serif', 'color':font2_color, 'weight': font2_weight, 'size': font2_size} \n",
    "        \n",
    "    # creating texts\n",
    "    \n",
    "    if texts > 1:\n",
    "        \n",
    "        # creating the figure for texts\n",
    "        \n",
    "        fig, ax = plt.subplots(rows, cols, figsize = figsize)\n",
    "        \n",
    "        ax = ax.ravel()\n",
    "        \n",
    "        for i in range(len(result)):\n",
    "            \n",
    "            if i == 0:\n",
    "                ax[i].set_title(title1, fontdict = fonttitle)\n",
    "            elif i == 1:\n",
    "                ax[i].set_title(title2, fontdict = fonttitle)\n",
    "                           \n",
    "            ax[i].set(xlim = (0, 1), ylim = (0, 1))\n",
    "                \n",
    "            ax[i].text(a * (left + right), b * (bottom + top), result[i],\n",
    "                    ha = ha,\n",
    "                    va = va,\n",
    "                    fontdict = font1,\n",
    "                    transform = ax[i].transAxes)\n",
    "            if label != '':\n",
    "                ax[i].text(c * (left + right), d * (bottom + top), label[i],\n",
    "                        ha = ha,\n",
    "                        va = va,\n",
    "                        fontdict = font2,\n",
    "                        transform = ax[i].transAxes)\n",
    "   \n",
    "            ax[i].axis('off')\n",
    "            \n",
    "        plt.suptitle(sup_title, fontsize = font_suptitle)\n",
    "                      \n",
    "    else:\n",
    "        \n",
    "        fig, ax = plt.subplots(rows, cols, figsize = figsize)\n",
    "        \n",
    "        ax.set_title(title1, fontdict = fonttitle)\n",
    "        \n",
    "        ax.set(xlim = (0, 1), ylim = (0, 1))\n",
    "                \n",
    "        ax.text(a * (left + right), b * (bottom + top), result,\n",
    "                ha = ha,\n",
    "                va = va,\n",
    "                fontdict = font1,\n",
    "                transform = ax.transAxes)\n",
    "        ax.text(c * (left + right), d * (bottom + top), label,\n",
    "                ha = ha,\n",
    "                va = va,\n",
    "                fontdict = font2,\n",
    "                transform = ax.transAxes)\n",
    "                \n",
    "        ax.axis('off')\n",
    "        \n",
    "    plt.suptitle(sup_title, fontsize = font_suptitle) #by:ghermsen"
   ]
  },
  {
   "cell_type": "code",
   "execution_count": null,
   "id": "78b0cc44",
   "metadata": {},
   "outputs": [],
   "source": [
    "df = pd.read_csv(\"csv/suicidios_2010_a_2019.csv\")\n",
    "df_censo=pd.read_csv('csv/IBGE2010.csv')\n",
    "df_pop = pd.read_csv('csv/popbrasil.csv')"
   ]
  },
  {
   "cell_type": "code",
   "execution_count": null,
   "id": "1fdd030d",
   "metadata": {},
   "outputs": [],
   "source": [
    "df_pop"
   ]
  },
  {
   "cell_type": "code",
   "execution_count": null,
   "id": "f8863fa9",
   "metadata": {},
   "outputs": [],
   "source": [
    "df.drop('Unnamed: 0', axis=1, inplace=True) #retirando coluna unnmamed"
   ]
  },
  {
   "cell_type": "code",
   "execution_count": null,
   "id": "714541d0",
   "metadata": {},
   "outputs": [],
   "source": [
    "df_censo"
   ]
  },
  {
   "cell_type": "code",
   "execution_count": null,
   "id": "1f5d4c71",
   "metadata": {},
   "outputs": [],
   "source": [
    "df.head()"
   ]
  },
  {
   "cell_type": "code",
   "execution_count": null,
   "id": "31099e4b",
   "metadata": {},
   "outputs": [],
   "source": [
    "df.shape"
   ]
  },
  {
   "cell_type": "code",
   "execution_count": null,
   "id": "52457ee3",
   "metadata": {},
   "outputs": [],
   "source": [
    "df.columns"
   ]
  },
  {
   "cell_type": "code",
   "execution_count": null,
   "id": "8ee8a641",
   "metadata": {},
   "outputs": [],
   "source": [
    "df.dtypes"
   ]
  },
  {
   "cell_type": "code",
   "execution_count": null,
   "id": "a6342060",
   "metadata": {},
   "outputs": [],
   "source": [
    "df.isnull().sum() # valores que estão faltando"
   ]
  },
  {
   "cell_type": "code",
   "execution_count": null,
   "id": "37e396c0",
   "metadata": {},
   "outputs": [],
   "source": [
    "df.drop([\"CIRURGIA\",'ESCMAE' ], axis=1, inplace=True) #drop columns(miss values)"
   ]
  },
  {
   "cell_type": "code",
   "execution_count": null,
   "id": "15edb5d2",
   "metadata": {},
   "outputs": [],
   "source": [
    "df.head()"
   ]
  },
  {
   "cell_type": "markdown",
   "id": "02983874",
   "metadata": {},
   "source": [
    "# Transformando datas"
   ]
  },
  {
   "cell_type": "code",
   "execution_count": null,
   "id": "4b2dd680",
   "metadata": {},
   "outputs": [],
   "source": [
    "df['DTOBITO'] = pd.to_datetime( df['DTOBITO'] ,format=\"%Y/%m/%d\")\n",
    "df['DTNASC']=  pd.to_datetime( df['DTNASC'] ,format=\"%Y/%m/%d\",errors = 'coerce')\n",
    "df['ano_tri'] =df['DTOBITO'].dt.to_period(\"Q\")\n",
    "df['ano_mes'] =df['DTOBITO'].dt.strftime('%Y-%m')\n",
    "df['ano_nasc'] =df['DTNASC'].dt.strftime('%Y')"
   ]
  },
  {
   "cell_type": "code",
   "execution_count": null,
   "id": "c598c0c8",
   "metadata": {},
   "outputs": [],
   "source": [
    "df.head()"
   ]
  },
  {
   "cell_type": "code",
   "execution_count": null,
   "id": "017ea05f",
   "metadata": {},
   "outputs": [],
   "source": [
    "df.isnull().sum()"
   ]
  },
  {
   "cell_type": "code",
   "execution_count": null,
   "id": "048030b3",
   "metadata": {},
   "outputs": [],
   "source": [
    "df.dtypes"
   ]
  },
  {
   "cell_type": "markdown",
   "id": "8cf5b8e8",
   "metadata": {},
   "source": [
    "# Analisando os dados "
   ]
  },
  {
   "cell_type": "markdown",
   "id": "e0379393",
   "metadata": {},
   "source": [
    "## Número suicídios no Brasil durante o período de 2010 a 2019"
   ]
  },
  {
   "cell_type": "code",
   "execution_count": null,
   "id": "5ea961b0",
   "metadata": {},
   "outputs": [],
   "source": [
    "df_data = df.groupby('ano_mes').agg('size').reset_index()"
   ]
  },
  {
   "cell_type": "code",
   "execution_count": null,
   "id": "39b141c0",
   "metadata": {},
   "outputs": [],
   "source": [
    "df_data.columns = ['ano_mes', 'size']"
   ]
  },
  {
   "cell_type": "code",
   "execution_count": null,
   "id": "3de3a83d",
   "metadata": {
    "scrolled": false
   },
   "outputs": [],
   "source": [
    "fig = px.line(df_data, \n",
    "              x=df_data['ano_mes'], \n",
    "              y=df_data['size'],\n",
    "              labels=dict(y=\"Número de casos\"),\n",
    "              color_discrete_sequence=['#E74C3C'],\n",
    "              height=600,\n",
    "             width=1200,\n",
    "             template='ggplot2')\n",
    "fig.update_layout(yaxis_title='Número de suicídios',\n",
    "                  xaxis_title='Ano / Mês',\n",
    "                  title={\n",
    "                  'text': \"<b>Série Histórica dos suicídios no Brasil durante o período de 2010 a 2019</b><br><sup>Crescimento no número de casos de suicídio</sup>\",\n",
    "                  'xanchor': 'auto',\n",
    "                  'yanchor': 'top'},\n",
    "                  title_font_family=\"monospace\",\n",
    "                 title_font_size=25,\n",
    "                  font_size=18)\n",
    "fig.add_annotation( x='2019-05', \n",
    "                    y=1100,\n",
    "                    text=\"\",\n",
    "                    showarrow=True,\n",
    "                    arrowhead=2,\n",
    "                    arrowsize = 2,\n",
    "                    arrowcolor = 'black',\n",
    "                    ax = '2010-06',\n",
    "                    ay = 800,\n",
    "                    axref=\"x\",\n",
    "                    ayref='y',)\n",
    "fig.add_annotation( x='2015',\n",
    "                    y=1000,\n",
    "                    text=\"Aumento de 43.03%\",\n",
    "                    showarrow=True,\n",
    "                    font=dict(\n",
    "                    family=\"Courier New, monospace\",\n",
    "                    size=16,\n",
    "                    color=\"#ffffff\"),\n",
    "                    align=\"center\",\n",
    "                    bordercolor=\"#c7c7c7\",\n",
    "                    borderwidth=2,\n",
    "                    borderpad=4,\n",
    "                    bgcolor=\"grey\")\n",
    "fig.show('png')"
   ]
  },
  {
   "cell_type": "code",
   "execution_count": null,
   "id": "0631c0a5",
   "metadata": {},
   "outputs": [],
   "source": [
    "df_ano = df.groupby('ano').agg('size').reset_index()"
   ]
  },
  {
   "cell_type": "code",
   "execution_count": null,
   "id": "3d5941d1",
   "metadata": {},
   "outputs": [],
   "source": [
    "df_ano.columns = ['year', 'size']"
   ]
  },
  {
   "cell_type": "code",
   "execution_count": null,
   "id": "e94ea63a",
   "metadata": {},
   "outputs": [],
   "source": [
    "df_pop_brasil = pd.merge(df_ano, df_pop,how='inner', on=\"year\")"
   ]
  },
  {
   "cell_type": "code",
   "execution_count": null,
   "id": "8a5be1a3",
   "metadata": {},
   "outputs": [],
   "source": [
    "df_pop_brasil['taxa']= (df_pop_brasil['size']/df_pop_brasil['Brazil'])*100000"
   ]
  },
  {
   "cell_type": "code",
   "execution_count": null,
   "id": "f83f0e32",
   "metadata": {},
   "outputs": [],
   "source": [
    "((df_pop_brasil['taxa'][9]-df_pop_brasil['taxa'][0])/df_pop_brasil['taxa'][0])*100"
   ]
  },
  {
   "cell_type": "code",
   "execution_count": null,
   "id": "6658449d",
   "metadata": {},
   "outputs": [],
   "source": [
    "fig = px.line(df_pop_brasil, \n",
    "              x=df_pop_brasil['year'], \n",
    "              y=df_pop_brasil['taxa'],\n",
    "              labels=dict(y=\"Número de casos\"),\n",
    "              color_discrete_sequence=['#E74C3C'],\n",
    "              height=600,\n",
    "             width=1200,\n",
    "             template='ggplot2')\n",
    "fig.update_layout(yaxis_title='Taxa de suicídio por 100 mil Habitantes',\n",
    "                  xaxis_title='Ano',\n",
    "                  title={\n",
    "                  'text': \"<b>Taxa de suicídio por 100 mil habitantes no Brasil</b><br><sup>Período de 2010 a 2019</sup>\",\n",
    "                  'xanchor': 'auto',\n",
    "                  'yanchor': 'top'},\n",
    "                  title_font_family=\"monospace\",\n",
    "                  title_font_size=25,\n",
    "                  font_size=20)\n",
    "fig.add_annotation( x='2018.5', \n",
    "                    y=6.2,\n",
    "                    text=\"\",\n",
    "                    showarrow=True,\n",
    "                    arrowhead=2,\n",
    "                    arrowsize = 2,\n",
    "                    arrowcolor = 'black',\n",
    "                    ax = '2010.5',\n",
    "                    ay = 4.9,\n",
    "                    axref=\"x\",\n",
    "                    ayref='y',)\n",
    "fig.add_annotation( x='2014.5',\n",
    "                    y=5.7,\n",
    "                    text=\"Aumento de 32.64%\",\n",
    "                    showarrow=True,\n",
    "                    font=dict(\n",
    "                    family=\"Courier New, monospace\",\n",
    "                    size=16,\n",
    "                    color=\"#ffffff\"),\n",
    "                    align=\"center\",\n",
    "                    bordercolor=\"#c7c7c7\",\n",
    "                    borderwidth=2,\n",
    "                    borderpad=4,\n",
    "                    bgcolor=\"grey\")\n",
    "fig.show('png')"
   ]
  },
  {
   "cell_type": "code",
   "execution_count": null,
   "id": "1648f6bf",
   "metadata": {},
   "outputs": [],
   "source": [
    "df_ano =  df.groupby('ano').agg('size').reset_index()"
   ]
  },
  {
   "cell_type": "code",
   "execution_count": null,
   "id": "078a72f1",
   "metadata": {},
   "outputs": [],
   "source": [
    "df_ano.columns = ['ano', 'size']"
   ]
  },
  {
   "cell_type": "code",
   "execution_count": null,
   "id": "9458bbf3",
   "metadata": {},
   "outputs": [],
   "source": [
    "df_ano"
   ]
  },
  {
   "cell_type": "code",
   "execution_count": null,
   "id": "6e6096a5",
   "metadata": {},
   "outputs": [],
   "source": [
    "((df_ano['size'][9]- df_ano['size'][0])/df_ano['size'][0])*100"
   ]
  },
  {
   "cell_type": "markdown",
   "id": "796b1310",
   "metadata": {},
   "source": [
    "# Número de suicídio por Estado durante o período de 2010 a 2019"
   ]
  },
  {
   "cell_type": "code",
   "execution_count": null,
   "id": "64a36de0",
   "metadata": {},
   "outputs": [],
   "source": [
    "df_estado = df.groupby('estado').agg('size').reset_index()"
   ]
  },
  {
   "cell_type": "code",
   "execution_count": null,
   "id": "54af8b9c",
   "metadata": {},
   "outputs": [],
   "source": [
    "df_estado.columns = ['estados', 'size']"
   ]
  },
  {
   "cell_type": "code",
   "execution_count": null,
   "id": "b5e81862",
   "metadata": {},
   "outputs": [],
   "source": [
    "df_sui_pop = pd.merge(df_estado, df_censo,how='inner', on=\"estados\")"
   ]
  },
  {
   "cell_type": "code",
   "execution_count": null,
   "id": "701fb5aa",
   "metadata": {},
   "outputs": [],
   "source": [
    "df_sui_pop['taxa']= (df_sui_pop['size']/df_sui_pop['censo2010'])*100000"
   ]
  },
  {
   "cell_type": "code",
   "execution_count": null,
   "id": "63041062",
   "metadata": {},
   "outputs": [],
   "source": [
    "df_sui_pop.sort_values(by='taxa',ascending=False)[:3]"
   ]
  },
  {
   "cell_type": "code",
   "execution_count": null,
   "id": "37397d41",
   "metadata": {},
   "outputs": [],
   "source": [
    "df_sui_pop.sort_values(by='taxa',ascending=False)[-3:]"
   ]
  },
  {
   "cell_type": "code",
   "execution_count": null,
   "id": "4c8ef5e9",
   "metadata": {},
   "outputs": [],
   "source": [
    "df_estado_ano = pd.DataFrame(df.groupby(['ano','estado']).agg('size'))"
   ]
  },
  {
   "cell_type": "code",
   "execution_count": null,
   "id": "fa2c58e5",
   "metadata": {},
   "outputs": [],
   "source": [
    "df_estado_ano.columns = [ 'size']"
   ]
  },
  {
   "cell_type": "code",
   "execution_count": null,
   "id": "0836e13f",
   "metadata": {},
   "outputs": [],
   "source": [
    "geojson = json.load(open('csv/brasil_estados.json'))"
   ]
  },
  {
   "cell_type": "code",
   "execution_count": null,
   "id": "ae46c3de",
   "metadata": {
    "scrolled": false
   },
   "outputs": [],
   "source": [
    "mapa = px.choropleth_mapbox(df_sui_pop, geojson=geojson, locations='estados', color='taxa',\n",
    "                           color_continuous_scale=\"reds\",\n",
    "                           mapbox_style=\"white-bg\",\n",
    "                           zoom=3.3, center =  {\"lat\":-15 ,\"lon\":  -51},\n",
    "                           opacity=0.9,\n",
    "                           height=800, width=1000)\n",
    "\n",
    "mapa.update_geos(fitbounds=\"locations\", visible=False)\n",
    "mapa.update_layout(title={\n",
    "                'text': \"<b>Taxa de Suicídio por 100 mil habitantes dos estados</b><br><sup>Período de 2010 a 2019</sup>\",\n",
    "                'xanchor': 'left',\n",
    "                'yanchor': 'top'},\n",
    "                 title_font_family=\"monospace\",\n",
    "                  title_font_size=25)\n",
    "\n",
    "mapa.show('png')"
   ]
  },
  {
   "cell_type": "markdown",
   "id": "54f45902",
   "metadata": {},
   "source": [
    "## Número de suicídio por sexo"
   ]
  },
  {
   "cell_type": "code",
   "execution_count": null,
   "id": "13977e44",
   "metadata": {},
   "outputs": [],
   "source": [
    "x = df.groupby(['SEXO'])['SEXO'].count()\n",
    "y=len(df)\n",
    "r=((x/y)).round(2)\n",
    "sex_ratio = pd.DataFrame(r).T"
   ]
  },
  {
   "cell_type": "code",
   "execution_count": null,
   "id": "104df64f",
   "metadata": {},
   "outputs": [],
   "source": [
    "k = df.groupby(['ano','SEXO'])['SEXO'].count()\n",
    "k_df = pd.DataFrame(k)\n",
    "k_df"
   ]
  },
  {
   "cell_type": "code",
   "execution_count": null,
   "id": "cbea1853",
   "metadata": {},
   "outputs": [],
   "source": [
    "df['ano'].unique()"
   ]
  },
  {
   "cell_type": "code",
   "execution_count": null,
   "id": "ff130a90",
   "metadata": {},
   "outputs": [],
   "source": [
    "for ano in df['ano'].unique():\n",
    "    divisor = k_df.loc[(ano)].sum()\n",
    "    k_df.loc[(ano, \"Feminino\")]=(k_df.loc[(ano, \"Feminino\")]/divisor).round(2)\n",
    "    k_df.loc[(ano, \"Masculino\")]=(k_df.loc[(ano, \"Masculino\")]/divisor).round(2)\n",
    "k_df"
   ]
  },
  {
   "cell_type": "code",
   "execution_count": null,
   "id": "777b3818",
   "metadata": {},
   "outputs": [],
   "source": [
    "k_df.loc[(ano)].T.index"
   ]
  },
  {
   "cell_type": "code",
   "execution_count": null,
   "id": "01564a28",
   "metadata": {},
   "outputs": [],
   "source": [
    "sex_ratio"
   ]
  },
  {
   "cell_type": "code",
   "execution_count": null,
   "id": "40023a86",
   "metadata": {},
   "outputs": [],
   "source": [
    "fig, ax = plt.subplots(1,1,figsize=(12, 2.5))\n",
    "\n",
    "ax.barh(sex_ratio.index, sex_ratio['Masculino'], \n",
    "        color='#7B241C', alpha=1, label='Masculino')\n",
    "ax.barh(sex_ratio.index, sex_ratio['Feminino'], left=sex_ratio['Masculino'], \n",
    "        color='#C0392B', alpha=1, label='Feminino')\n",
    "\n",
    "ax.set_xlim(0, 1)\n",
    "ax.set_xticks([])\n",
    "ax.set_yticks([])\n",
    "\n",
    "# male percentage\n",
    "for i in sex_ratio.index:\n",
    "    ax.annotate(f\"{int(sex_ratio['Masculino'][i]*100)}%\", \n",
    "                   xy=(sex_ratio['Masculino'][i]/2, i),\n",
    "                   va = 'center', ha='center',fontsize=60, fontweight='light', fontfamily='serif',\n",
    "                   color='white')\n",
    "\n",
    "    ax.annotate(\"Masculino\", \n",
    "                   xy=(sex_ratio['Masculino'][i]/2, -0.25),\n",
    "                   va = 'center', ha='center',fontsize=12, fontweight='light', fontfamily='serif',\n",
    "                   color='white')\n",
    "    \n",
    "    \n",
    "for i in sex_ratio.index:\n",
    "    ax.annotate(f\"{int(sex_ratio['Feminino'][i]*100)}%\", \n",
    "                   xy=(sex_ratio['Masculino'][i]+sex_ratio['Feminino'][i]/2, i),\n",
    "                   va = 'center', ha='center',fontsize=60, fontweight='light', fontfamily='serif',\n",
    "                   color='white')\n",
    "    ax.annotate(\"Feminino\", \n",
    "                   xy=(sex_ratio['Masculino'][i]+sex_ratio['Feminino'][i]/2, -0.25),\n",
    "                   va = 'center', ha='center',fontsize=12, fontweight='light', fontfamily='serif',\n",
    "                   color='white')\n",
    "\n",
    "\n",
    "# Title & Subtitle\n",
    "fig.text(0.125,1.03,'Distribuição dos suicídios por Sexo ', fontfamily='serif',fontsize=20, fontweight='bold')\n",
    "fig.text(0.125,0.92,'No período de 2010 a 2019',fontfamily='serif',fontsize=12)  \n",
    "\n",
    "for s in ['top', 'left', 'right', 'bottom']:\n",
    "    ax.spines[s].set_visible(False)\n",
    "\n",
    "# Removing legend due to labelled plot\n",
    "ax.legend().set_visible(False)\n",
    "plt.show()"
   ]
  },
  {
   "cell_type": "code",
   "execution_count": null,
   "id": "f022876a",
   "metadata": {},
   "outputs": [],
   "source": [
    "data = {'Masculino':round((sex_ratio['Masculino']['SEXO']*100), 2),\n",
    "       'Feminino':round((sex_ratio['Feminino']['SEXO']*100), 2)}"
   ]
  },
  {
   "cell_type": "code",
   "execution_count": null,
   "id": "30445843",
   "metadata": {},
   "outputs": [],
   "source": [
    "data = {'Masculino':round((sex_ratio['Masculino']['SEXO']*100), 2),\n",
    "       'Feminino':round((sex_ratio['Feminino']['SEXO']*100), 2)}\n",
    "font_title = {'family': 'sans-serif', 'color':'#424949','weight': 'normal','size': 25}\n",
    "\n",
    "fig = plt.figure(\n",
    "      FigureClass = Waffle,\n",
    "      rows = 5,\n",
    "      columns = 20,\n",
    "      colors = ('#7B241C', '#515A5A'),\n",
    "      values = data, icons = ['male', 'female'], icon_size = 23,\n",
    "      title = {'label':'Porcentagem de vítimas Masculinas e Femininas',\n",
    "               'loc': 'center', 'fontdict':font_title},\n",
    "      labels = [f\"{k} ({round(v / sum(data.values()) * 100)}%)\" for k, v in data.items()],\n",
    "      legend = {        \n",
    "        'loc': 'lower left',\n",
    "        'bbox_to_anchor': (0, -0.25),\n",
    "        'ncol': len(data),\n",
    "        'framealpha': 0,\n",
    "        'fontsize': 15\n",
    "    },\n",
    "      icon_legend = True,\n",
    "      figsize=(15,6)\n",
    ")\n",
    "fig.set_tight_layout(False)\n",
    "plt.show();"
   ]
  },
  {
   "cell_type": "markdown",
   "id": "6d34a234",
   "metadata": {},
   "source": [
    "# Número de suicídio por RAÇA / COR no período de 2010 a 2019"
   ]
  },
  {
   "cell_type": "code",
   "execution_count": null,
   "id": "d7911480",
   "metadata": {},
   "outputs": [],
   "source": [
    "df['RACACOR'].unique()"
   ]
  },
  {
   "cell_type": "code",
   "execution_count": null,
   "id": "b5b3e0f0",
   "metadata": {},
   "outputs": [],
   "source": [
    "df['RACACOR'].fillna('Não Informado', inplace=True)"
   ]
  },
  {
   "cell_type": "code",
   "execution_count": null,
   "id": "d1fca874",
   "metadata": {},
   "outputs": [],
   "source": [
    "df_raca = df.groupby(['RACACOR']).agg('size').reset_index()"
   ]
  },
  {
   "cell_type": "code",
   "execution_count": null,
   "id": "04e2aea0",
   "metadata": {},
   "outputs": [],
   "source": [
    "df_raca.columns = ['RACACOR', 'size']"
   ]
  },
  {
   "cell_type": "code",
   "execution_count": null,
   "id": "fa5b65f8",
   "metadata": {},
   "outputs": [],
   "source": [
    "df_raca.sort_values(by='size', ascending=False,inplace=True)"
   ]
  },
  {
   "cell_type": "code",
   "execution_count": null,
   "id": "c4953994",
   "metadata": {},
   "outputs": [],
   "source": [
    "df_raca.reset_index(drop=True , inplace=True)"
   ]
  },
  {
   "cell_type": "code",
   "execution_count": null,
   "id": "e5231e03",
   "metadata": {},
   "outputs": [],
   "source": [
    "df_raca['size'][0]*100/df_raca['size'].sum()"
   ]
  },
  {
   "cell_type": "code",
   "execution_count": null,
   "id": "2bbd26c4",
   "metadata": {},
   "outputs": [],
   "source": [
    "df_raca['size'][1]*100/df_raca['size'].sum()"
   ]
  },
  {
   "cell_type": "code",
   "execution_count": null,
   "id": "f1638168",
   "metadata": {},
   "outputs": [],
   "source": [
    "df_raca_ano = pd.DataFrame(df.groupby(['ano','RACACOR']).agg('size'))"
   ]
  },
  {
   "cell_type": "code",
   "execution_count": null,
   "id": "485e1503",
   "metadata": {},
   "outputs": [],
   "source": [
    "df_raca_ano.columns=['size']"
   ]
  },
  {
   "cell_type": "code",
   "execution_count": null,
   "id": "2612c37a",
   "metadata": {},
   "outputs": [],
   "source": [
    "df_raca_ano.loc[(2010)].sort_values(by='size', ascending=False).index"
   ]
  },
  {
   "cell_type": "code",
   "execution_count": null,
   "id": "1df6748b",
   "metadata": {},
   "outputs": [],
   "source": [
    "fig = px.bar(df_raca, y=\"size\", x=\"RACACOR\",\n",
    "             color='RACACOR',\n",
    "            title='Número de suicídio por RAÇA / COR no período de 2010 a 2019',\n",
    "            color_discrete_sequence=['#7B241C','#C0392B','#CD6155','#D98880','#F2D7D5','#F9EBEA'],\n",
    "            height=600,\n",
    "             width=1000,text='size',\n",
    "            template ='ggplot2')\n",
    "fig.update_layout(yaxis_title='Número de Suicídios',\n",
    "                 xaxis_title='RAÇA / COR',\n",
    "                 font=dict(\n",
    "                family=\"Courier New, monospace\",\n",
    "                size=18),\n",
    "                  title={\n",
    "                  'text': \"<b>Número de suicídio por RAÇA / COR no período de 2010 a 2019</b><br><sup>Brancos e pardos representam o maior número de suicídios</sup>\",\n",
    "                  'xanchor': 'auto',\n",
    "                  'yanchor': 'top'},\n",
    "                  title_font_family=\"monospace\",\n",
    "                  title_font_size=20)\n",
    "fig.update_traces(texttemplate='%{text:.2s}', textposition='inside')\n",
    "fig.update_layout(uniformtext_minsize=40, uniformtext_mode='hide')\n",
    "fig.show(\"png\")"
   ]
  },
  {
   "cell_type": "markdown",
   "id": "fdae6d86",
   "metadata": {},
   "source": [
    "# Número de suicídio por estado civil no período de 2010 a 2019"
   ]
  },
  {
   "cell_type": "code",
   "execution_count": null,
   "id": "d57d9c08",
   "metadata": {},
   "outputs": [],
   "source": [
    "df['ESTCIV'].unique()"
   ]
  },
  {
   "cell_type": "code",
   "execution_count": null,
   "id": "a70c31b3",
   "metadata": {},
   "outputs": [],
   "source": [
    "df['ESTCIV'].isnull().sum()"
   ]
  },
  {
   "cell_type": "code",
   "execution_count": null,
   "id": "4d7e699d",
   "metadata": {},
   "outputs": [],
   "source": [
    "df['ESTCIV'].fillna('Não Informado', inplace=True)"
   ]
  },
  {
   "cell_type": "code",
   "execution_count": null,
   "id": "364dfa93",
   "metadata": {},
   "outputs": [],
   "source": [
    "df_estciv = df.groupby('ESTCIV').agg('size').reset_index()"
   ]
  },
  {
   "cell_type": "code",
   "execution_count": null,
   "id": "88192103",
   "metadata": {},
   "outputs": [],
   "source": [
    "df_estciv_ano = pd.DataFrame(df.groupby(['ano','ESTCIV']).agg('size'))"
   ]
  },
  {
   "cell_type": "code",
   "execution_count": null,
   "id": "fdff9182",
   "metadata": {},
   "outputs": [],
   "source": [
    "df_estciv_ano"
   ]
  },
  {
   "cell_type": "code",
   "execution_count": null,
   "id": "54690648",
   "metadata": {},
   "outputs": [],
   "source": [
    "df_estciv_ano.columns = ['size']"
   ]
  },
  {
   "cell_type": "code",
   "execution_count": null,
   "id": "d0e9232c",
   "metadata": {},
   "outputs": [],
   "source": [
    "df_estciv_ano"
   ]
  },
  {
   "cell_type": "code",
   "execution_count": null,
   "id": "995c4e1f",
   "metadata": {},
   "outputs": [],
   "source": [
    "df_estciv.columns = ['estciv', 'size']"
   ]
  },
  {
   "cell_type": "code",
   "execution_count": null,
   "id": "e13c3619",
   "metadata": {},
   "outputs": [],
   "source": [
    "df_estciv.sort_values(by='size',ascending=False, inplace=True)"
   ]
  },
  {
   "cell_type": "code",
   "execution_count": null,
   "id": "b70bab50",
   "metadata": {},
   "outputs": [],
   "source": [
    "df_estciv['size'][3]*100/df_estciv['size'].sum() #%"
   ]
  },
  {
   "cell_type": "code",
   "execution_count": null,
   "id": "d691c437",
   "metadata": {},
   "outputs": [],
   "source": [
    "df_estciv['estciv']"
   ]
  },
  {
   "cell_type": "code",
   "execution_count": null,
   "id": "97bccc2e",
   "metadata": {},
   "outputs": [],
   "source": [
    "fig = px.bar(df_estciv, x=\"size\",y=\"estciv\",\n",
    "             color='estciv',\n",
    "             title='Número de suicídio por estado civil no período de 2010 a 2019',\n",
    "             color_discrete_sequence=['#7B241C','#C0392B','#CD6155','#D98880','#E6B0AA','#FADBD8'],\n",
    "             height=600,\n",
    "             width=1000,\n",
    "             text='estciv',\n",
    "             template='ggplot2')\n",
    "fig.update_traces( textposition='outside',textfont_size=20)\n",
    "fig.update_yaxes(showticklabels=False)\n",
    "fig.update_layout(xaxis_range=[0,65000],\n",
    "                  xaxis_title='Suicídios',\n",
    "                  yaxis_title='Estado Civil',\n",
    "                  title={\n",
    "                  'text': \"<b>Número de suicídio por estado civil no período de 2010 a 2019</b><br><sup>Os solteiros cometem mais suicídio que os casados</sup>\",\n",
    "                  'xanchor': 'auto',\n",
    "                  'yanchor': 'top'},\n",
    "                  title_font_family=\"monospace\",\n",
    "                  title_font_size=20)\n",
    "fig.show(\"png\")"
   ]
  },
  {
   "cell_type": "markdown",
   "id": "43d6eb48",
   "metadata": {},
   "source": [
    "# Faixa etária"
   ]
  },
  {
   "cell_type": "code",
   "execution_count": null,
   "id": "41643f12",
   "metadata": {},
   "outputs": [],
   "source": [
    "df_idade = df.dropna(subset = ['DTNASC'])"
   ]
  },
  {
   "cell_type": "code",
   "execution_count": null,
   "id": "fcec17e7",
   "metadata": {},
   "outputs": [],
   "source": [
    "df_idade.dtypes"
   ]
  },
  {
   "cell_type": "code",
   "execution_count": null,
   "id": "67b73d6d",
   "metadata": {},
   "outputs": [],
   "source": [
    "fig = px.box(df, y=df['ano_nasc'].astype(float),title='Outliers')\n",
    "fig.show(\"png\")"
   ]
  },
  {
   "cell_type": "code",
   "execution_count": null,
   "id": "125596be",
   "metadata": {},
   "outputs": [],
   "source": [
    "df_idade = df[df['ano_nasc'].astype(float).between(1925, 2019)]"
   ]
  },
  {
   "cell_type": "code",
   "execution_count": null,
   "id": "20353c6c",
   "metadata": {},
   "outputs": [],
   "source": [
    "df_idade['idade'] = ((df_idade.DTOBITO - df_idade.DTNASC)/np.timedelta64(1, 'Y')).astype('int')"
   ]
  },
  {
   "cell_type": "code",
   "execution_count": null,
   "id": "75e0c45d",
   "metadata": {},
   "outputs": [],
   "source": [
    "bins= [0,10,20,30,40,50,60,70,80,90,110]\n",
    "labels = ['0-10','10-20','20-30','30-40','40-50','50-60','60-70','70-80','80-90','90-110']"
   ]
  },
  {
   "cell_type": "code",
   "execution_count": null,
   "id": "cfc476b0",
   "metadata": {},
   "outputs": [],
   "source": [
    "df_idade['grupos'] = pd.cut(df_idade['idade'], bins=bins, labels=labels, right=False)"
   ]
  },
  {
   "cell_type": "code",
   "execution_count": null,
   "id": "38b337cf",
   "metadata": {},
   "outputs": [],
   "source": [
    "df_idade['idade'].median()"
   ]
  },
  {
   "cell_type": "code",
   "execution_count": null,
   "id": "fb1dcd54",
   "metadata": {},
   "outputs": [],
   "source": [
    "df_idade['idade'].mean()"
   ]
  },
  {
   "cell_type": "code",
   "execution_count": null,
   "id": "3c347035",
   "metadata": {},
   "outputs": [],
   "source": [
    "df_idade_gp = df_idade.groupby('grupos').agg('size').reset_index()"
   ]
  },
  {
   "cell_type": "code",
   "execution_count": null,
   "id": "08047ecd",
   "metadata": {},
   "outputs": [],
   "source": [
    "df_idade_gp.columns = ['grupos','size']"
   ]
  },
  {
   "cell_type": "code",
   "execution_count": null,
   "id": "f46ce88b",
   "metadata": {},
   "outputs": [],
   "source": [
    "df_idade_gp['size'][2:4].sum() *100/df_idade_gp['size'].sum()#%"
   ]
  },
  {
   "cell_type": "code",
   "execution_count": null,
   "id": "282c0df5",
   "metadata": {},
   "outputs": [],
   "source": [
    "df_idade"
   ]
  },
  {
   "cell_type": "code",
   "execution_count": null,
   "id": "3ad9c62b",
   "metadata": {},
   "outputs": [],
   "source": [
    "df_idade_gp"
   ]
  },
  {
   "cell_type": "code",
   "execution_count": null,
   "id": "c5b9ec7c",
   "metadata": {
    "scrolled": false
   },
   "outputs": [],
   "source": [
    "color_map = ['#EAECEE' for _ in range(9)]\n",
    "color_map[3] = color_map[2] = '#A93226' \n",
    "\n",
    "fig, ax = plt.subplots(1,1, figsize=(12, 10),dpi=600)\n",
    "ax.bar(df_idade_gp['grupos'], df_idade_gp['size'], width=0.7, \n",
    "       edgecolor='darkgray',\n",
    "       linewidth=0.6,color=color_map)\n",
    "\n",
    "\n",
    "# anotações\n",
    "for i in range(0,len(df_idade_gp['grupos'])):\n",
    "    ax.annotate(f\"{df_idade_gp['size'][i]}\", \n",
    "                   xy=(i, df_idade_gp['size'][i] + 3),\n",
    "                   va = 'bottom', ha='center',fontweight='light', fontfamily='serif')\n",
    "for s in ['top', 'left', 'right']:\n",
    "    ax.spines[s].set_visible(False)\n",
    "    \n",
    "ax.set_xticklabels(df_idade_gp['grupos'], fontfamily='serif', rotation=0)\n",
    "\n",
    "# titulos \n",
    "\n",
    "fig.text(0.09, 1, 'Suicídio no Brasil por faixa etária no período de 2010 a 2019', fontsize=16, fontweight='bold', fontfamily='monospace')\n",
    "fig.text(0.09, 0.95, 'As faixas etárias que mais cometem suicídio estão destacadas', fontsize=12, fontweight='light', fontfamily='monospace')\n",
    "\n",
    "\n",
    "ax.grid(axis='y', linestyle='-', alpha=0.4) \n",
    "ax.set_axisbelow(True)\n",
    "\n",
    "#Axis labels\n",
    "\n",
    "plt.xlabel(\"Faixa Etária\", fontsize=12, fontweight='light', fontfamily='serif',loc='center',y=-2)\n"
   ]
  },
  {
   "cell_type": "markdown",
   "id": "29615faf",
   "metadata": {},
   "source": [
    "# Local da Ocorrência"
   ]
  },
  {
   "cell_type": "code",
   "execution_count": null,
   "id": "972cc975",
   "metadata": {},
   "outputs": [],
   "source": [
    "df['LOCOCOR'].fillna('Não Informado', inplace=True)"
   ]
  },
  {
   "cell_type": "code",
   "execution_count": null,
   "id": "396b26e8",
   "metadata": {},
   "outputs": [],
   "source": [
    "df['LOCOCOR'].unique()"
   ]
  },
  {
   "cell_type": "code",
   "execution_count": null,
   "id": "f80a53db",
   "metadata": {},
   "outputs": [],
   "source": [
    "df['LOCOCOR'].replace('Outro estabelecimento de saúde','Departamentos de Saúde', inplace=True)\n",
    "df['LOCOCOR'].replace('Hospital','Departamentos de Saúde', inplace=True)"
   ]
  },
  {
   "cell_type": "code",
   "execution_count": null,
   "id": "6d299935",
   "metadata": {},
   "outputs": [],
   "source": [
    "df['LOCOCOR'].unique()"
   ]
  },
  {
   "cell_type": "code",
   "execution_count": null,
   "id": "ba9e38f9",
   "metadata": {},
   "outputs": [],
   "source": [
    "df_lococor = df.groupby('LOCOCOR').agg('size').reset_index()"
   ]
  },
  {
   "cell_type": "code",
   "execution_count": null,
   "id": "168ff855",
   "metadata": {},
   "outputs": [],
   "source": [
    "df_lococor"
   ]
  },
  {
   "cell_type": "code",
   "execution_count": null,
   "id": "0f1bf4cd",
   "metadata": {},
   "outputs": [],
   "source": [
    "df_lococor.columns = ['lococor','size']"
   ]
  },
  {
   "cell_type": "code",
   "execution_count": null,
   "id": "e6c4595a",
   "metadata": {},
   "outputs": [],
   "source": [
    "df_lococor.sort_values(by='size',ascending=False,inplace=True)"
   ]
  },
  {
   "cell_type": "code",
   "execution_count": null,
   "id": "d3b4e0b0",
   "metadata": {},
   "outputs": [],
   "source": [
    "df_lococor.reset_index(drop=True, inplace=True)"
   ]
  },
  {
   "cell_type": "code",
   "execution_count": null,
   "id": "23cd61e7",
   "metadata": {
    "scrolled": false
   },
   "outputs": [],
   "source": [
    "(df_lococor['size'][0]/df_lococor['size'].sum())*100"
   ]
  },
  {
   "cell_type": "code",
   "execution_count": null,
   "id": "66298713",
   "metadata": {},
   "outputs": [],
   "source": [
    "(df_lococor['size'][1]/df_lococor['size'].sum())*100"
   ]
  },
  {
   "cell_type": "code",
   "execution_count": null,
   "id": "b894e3ff",
   "metadata": {},
   "outputs": [],
   "source": [
    "df_lococor['size'][0] -df_lococor['size'][1]"
   ]
  },
  {
   "cell_type": "code",
   "execution_count": null,
   "id": "ebc03e0a",
   "metadata": {},
   "outputs": [],
   "source": [
    "fig = px.bar(df_lococor, y=\"size\", x=\"lococor\",\n",
    "             color='lococor',\n",
    "             color_discrete_sequence=['#7B241C','#C0392B','#CD6155','#D98880','#F2D7D5'],\n",
    "             height=600,\n",
    "             width=1000,\n",
    "             text = 'size',\n",
    "             template='ggplot2')\n",
    "fig.update_layout(yaxis_title='Número de Suicídios',\n",
    "                  xaxis_title='Local da ocorrência',\n",
    "                  title={\n",
    "                  'text': \"<b>Locais onde ocerram os suicídios no período de 2010 a 2019</b><br><sup>Domicílio é o principal local</sup>\",\n",
    "                  'xanchor': 'auto',\n",
    "                  'yanchor': 'top'},\n",
    "                  title_font_family=\"monospace\",\n",
    "                  title_font_size=25)\n",
    "fig.update_traces(texttemplate='%{text:.2s}', textposition='inside')\n",
    "fig.update_layout(uniformtext_minsize=40, uniformtext_mode='hide')\n",
    "fig.add_annotation( x='Departamentos de Saúde', \n",
    "                    y=65000,\n",
    "                    text=\"\",\n",
    "                    showarrow=True,\n",
    "                    arrowhead=2,\n",
    "                    arrowsize = 2,\n",
    "                    arrowcolor = 'black',\n",
    "                    ax = 'Departamentos de Saúde',\n",
    "                    ay = 20000,\n",
    "                    axref=\"x\",\n",
    "                    ayref='y',)\n",
    "fig.add_annotation( x='Outros',\n",
    "                    y=40000,\n",
    "                    text=\"Diferença de 48909 casos\",\n",
    "                    showarrow=True,\n",
    "                    font=dict(\n",
    "                    family=\"Courier New, monospace\",\n",
    "                    size=16,\n",
    "                    color=\"#ffffff\"),\n",
    "                    align=\"center\",\n",
    "                    bordercolor=\"#c7c7c7\",\n",
    "                    borderwidth=2,\n",
    "                    borderpad=4,\n",
    "                    bgcolor=\"grey\")\n",
    "fig.show(\"png\")"
   ]
  },
  {
   "cell_type": "markdown",
   "id": "2448f762",
   "metadata": {},
   "source": [
    "# Escolaridade"
   ]
  },
  {
   "cell_type": "code",
   "execution_count": null,
   "id": "6efa595e",
   "metadata": {},
   "outputs": [],
   "source": [
    "df_esc = df.groupby('ESC').agg('size').reset_index()"
   ]
  },
  {
   "cell_type": "code",
   "execution_count": null,
   "id": "da748081",
   "metadata": {},
   "outputs": [],
   "source": [
    "df_esc"
   ]
  },
  {
   "cell_type": "code",
   "execution_count": null,
   "id": "b2e065ad",
   "metadata": {},
   "outputs": [],
   "source": [
    "df_esc.columns = ['Escolaridade', 'size']"
   ]
  },
  {
   "cell_type": "code",
   "execution_count": null,
   "id": "42af9d38",
   "metadata": {},
   "outputs": [],
   "source": [
    "df_esc.sort_values(by=['Escolaridade'], ascending=True)"
   ]
  },
  {
   "cell_type": "code",
   "execution_count": null,
   "id": "0e47aeb3",
   "metadata": {},
   "outputs": [],
   "source": [
    "df2 = pd.DataFrame({\n",
    "    'Escolaridade': ['1 a 3 anos', '4 a 7 anos', '8 a 11 anos', '12 e mais', 'Nenhuma'],\n",
    "    'num': [0, 1, 2, 3, 4]})"
   ]
  },
  {
   "cell_type": "code",
   "execution_count": null,
   "id": "1f9b3578",
   "metadata": {},
   "outputs": [],
   "source": [
    "df_esc = pd.merge(df_esc, df2, on='Escolaridade')"
   ]
  },
  {
   "cell_type": "code",
   "execution_count": null,
   "id": "bbe37438",
   "metadata": {},
   "outputs": [],
   "source": [
    "df_esc.sort_values(by='num', ascending=True,inplace=True)"
   ]
  },
  {
   "cell_type": "code",
   "execution_count": null,
   "id": "73670108",
   "metadata": {},
   "outputs": [],
   "source": [
    "df_esc.reset_index(drop=True,inplace=True)"
   ]
  },
  {
   "cell_type": "code",
   "execution_count": null,
   "id": "a97aab63",
   "metadata": {},
   "outputs": [],
   "source": [
    "color_map = ['#EAECEE' for _ in range(9)]\n",
    "color_map[2] = color_map[1] = '#A93226' \n",
    "\n",
    "fig, ax = plt.subplots(1,1, figsize=(12, 10),dpi=600)\n",
    "ax.bar(df_esc['Escolaridade'], df_esc['size'], width=0.7, \n",
    "       edgecolor='darkgray',\n",
    "       linewidth=0.6,color=color_map)\n",
    "\n",
    "\n",
    "#anotações\n",
    "for i in df_esc['Escolaridade'].index:\n",
    "    ax.annotate(f\"{df_esc['size'][i]}\", \n",
    "                   xy=(i, df_esc['size'][i] + 3),\n",
    "                   va = 'bottom', ha='center',fontweight='light', fontfamily='serif')\n",
    "for s in ['top', 'left', 'right']:\n",
    "    ax.spines[s].set_visible(False)\n",
    "    \n",
    "ax.set_xticklabels(df_esc['Escolaridade'], fontfamily='serif', rotation=0)\n",
    "\n",
    "# Titulos\n",
    "\n",
    "fig.text(0.09, 1, 'Nível de escolaridade X Número de suicídios', fontsize=16, fontweight='bold', fontfamily='monospace')\n",
    "fig.text(0.09, 0.96, '1 a 3 anos : Fundamental 1 incompleto', fontsize=12, fontweight='light', fontfamily='monospace')\n",
    "fig.text(0.09, 0.94, '4 a 7 anos : Fundamental 1 completo / Fundamental 2 incompleto', fontsize=12, fontweight='light', fontfamily='monospace')\n",
    "fig.text(0.09, 0.92, '8 a 11 anos :  Ensino médio completo ou incompleto', fontsize=12, fontweight='light', fontfamily='monospace')\n",
    "fig.text(0.09, 0.90, '12 e mais : Ensino superior completo ou incompleto', fontsize=12, fontweight='light', fontfamily='monospace')\n",
    "ax.grid(axis='y', linestyle='-', alpha=0.4) \n",
    "ax.set_axisbelow(True)\n",
    "\n",
    "#Axis labels\n",
    "\n",
    "plt.xlabel(\"Escolaridade\", fontsize=12, fontweight='light', fontfamily='serif',loc='center',y=-2)\n"
   ]
  },
  {
   "cell_type": "markdown",
   "id": "c348c13a",
   "metadata": {},
   "source": [
    "# Ocupação / Profissão "
   ]
  },
  {
   "cell_type": "code",
   "execution_count": null,
   "id": "80479a46",
   "metadata": {},
   "outputs": [],
   "source": [
    "df_ocup = df.groupby(['SEXO','OCUP']).agg('size').reset_index()\n",
    "df_ocup_total = df.groupby('OCUP').agg('size').reset_index()"
   ]
  },
  {
   "cell_type": "code",
   "execution_count": null,
   "id": "6931a553",
   "metadata": {},
   "outputs": [],
   "source": [
    "df_ocup_ano = df.groupby(['ano','SEXO','OCUP']).agg('size')"
   ]
  },
  {
   "cell_type": "code",
   "execution_count": null,
   "id": "0337d904",
   "metadata": {},
   "outputs": [],
   "source": [
    "df_ocup_ano"
   ]
  },
  {
   "cell_type": "code",
   "execution_count": null,
   "id": "2f2c3dff",
   "metadata": {},
   "outputs": [],
   "source": [
    "df_ocup.columns = ['SEXO','ocupacao', 'size']\n",
    "df_ocup_total.columns = ['ocupacao', 'size']"
   ]
  },
  {
   "cell_type": "code",
   "execution_count": null,
   "id": "79eaaed3",
   "metadata": {},
   "outputs": [],
   "source": [
    "df_ocup_total.sort_values(by='size',ascending= False)[:3]"
   ]
  },
  {
   "cell_type": "code",
   "execution_count": null,
   "id": "79824e9d",
   "metadata": {},
   "outputs": [],
   "source": [
    "df_ocup_masc = df_ocup[df_ocup['SEXO']=='Masculino']\n",
    "df_ocup_fem = df_ocup[df_ocup['SEXO']=='Feminino']"
   ]
  },
  {
   "cell_type": "code",
   "execution_count": null,
   "id": "a1798c41",
   "metadata": {},
   "outputs": [],
   "source": [
    "df_ocup_fem = df_ocup_fem.sort_values(by='size',ascending= False)[:3]"
   ]
  },
  {
   "cell_type": "code",
   "execution_count": null,
   "id": "f4acb763",
   "metadata": {},
   "outputs": [],
   "source": [
    "df_ocup_masc = df_ocup_masc.sort_values(by='size',ascending= False)[:3]"
   ]
  },
  {
   "cell_type": "code",
   "execution_count": null,
   "id": "4130a477",
   "metadata": {},
   "outputs": [],
   "source": [
    "df_ocup_masc.reset_index(drop=True,inplace=True)\n",
    "df_ocup_fem.reset_index(drop=True,inplace=True)"
   ]
  },
  {
   "cell_type": "code",
   "execution_count": null,
   "id": "6a60e1b4",
   "metadata": {},
   "outputs": [],
   "source": [
    "list_ocup_masc = []\n",
    "list_ocup_fem = []\n",
    "label_masc = []\n",
    "label_fem = []\n",
    "for i in range(0,3):\n",
    "    list_ocup_masc.append(df_ocup_masc['size'][i])\n",
    "    list_ocup_fem.append(df_ocup_fem['size'][i])\n",
    "    label_masc.append(df_ocup_masc['ocupacao'][i])\n",
    "    label_fem.append(df_ocup_fem['ocupacao'][i])"
   ]
  },
  {
   "cell_type": "code",
   "execution_count": null,
   "id": "c7131d27",
   "metadata": {},
   "outputs": [],
   "source": [
    "# Masculino \n",
    "make_text(1,\n",
    "          3,\n",
    "          2,\n",
    "          list_ocup_masc,\n",
    "          label_masc,\n",
    "          figsize = (20,2), \n",
    "          title2 = 'Ocupação das vítimas do sexo Masculino',\n",
    "          font_title = 40)"
   ]
  },
  {
   "cell_type": "code",
   "execution_count": null,
   "id": "c53c24e5",
   "metadata": {},
   "outputs": [],
   "source": [
    "# Feminino\n",
    "make_text(1,\n",
    "          3,\n",
    "          2,\n",
    "          list_ocup_fem,\n",
    "          label_fem,\n",
    "          figsize = (20,2), \n",
    "          title2 = 'Ocupação das vítimas do sexo Feminino',\n",
    "          font_title = 40)"
   ]
  },
  {
   "cell_type": "markdown",
   "id": "36569226",
   "metadata": {},
   "source": [
    "# Perfil das vítimas"
   ]
  },
  {
   "cell_type": "code",
   "execution_count": null,
   "id": "3a1e3355",
   "metadata": {},
   "outputs": [],
   "source": [
    "df_masc = df_idade[df_idade['SEXO']=='Masculino']\n",
    "df_masc =df_masc.groupby(['SEXO','RACACOR','ESTCIV','ESC','grupos']).size().to_frame().reset_index()\n",
    "df_masc.columns = ['SEXO','RACACOR', 'ESTCIV', 'ESC','grupo/idade','total vitimas']"
   ]
  },
  {
   "cell_type": "code",
   "execution_count": null,
   "id": "0e3a1463",
   "metadata": {},
   "outputs": [],
   "source": [
    "df_fem = df_idade[df_idade['SEXO']=='Feminino']\n",
    "df_fem =df_fem.groupby(['SEXO','RACACOR','ESTCIV','ESC','grupos']).size().to_frame().reset_index()\n",
    "df_fem.columns = ['SEXO','RACACOR', 'ESTCIV', 'ESC','grupo/idade','total vitimas']"
   ]
  },
  {
   "cell_type": "code",
   "execution_count": null,
   "id": "8db5f7f1",
   "metadata": {},
   "outputs": [],
   "source": [
    "df_masc = df_masc.sort_values('total vitimas', ascending = False).reset_index(drop=True)\n",
    "df_fem = df_fem.sort_values('total vitimas', ascending = False).reset_index(drop=True)"
   ]
  },
  {
   "cell_type": "code",
   "execution_count": null,
   "id": "f4b18396",
   "metadata": {},
   "outputs": [],
   "source": [
    "df_masc.loc[1][0]"
   ]
  },
  {
   "cell_type": "code",
   "execution_count": null,
   "id": "c8916290",
   "metadata": {},
   "outputs": [],
   "source": [
    "df_fem.head(5)"
   ]
  },
  {
   "cell_type": "code",
   "execution_count": null,
   "id": "716dc6e2",
   "metadata": {},
   "outputs": [],
   "source": [
    "list_perfil_masc = []\n",
    "label_perfil_masc = []\n",
    "\n",
    "for i in range(0,5):\n",
    "    list_perfil_masc.append(f'{df_masc[\"total vitimas\"][i]} vitimas')\n",
    "    label_perfil_masc.append(f'{i+1}°- {df_masc.loc[i][0]} , {df_masc.loc[i][1]} , {df_masc.loc[i][2]} ,Escolaridade: {df_masc.loc[i][3]} ,Entre {df_masc.loc[i][4]} Anos')\n",
    "make_text(5,\n",
    "          1,\n",
    "          10,\n",
    "          label_perfil_masc,\n",
    "          label =  list_perfil_masc,\n",
    "          font1_size = 15,\n",
    "          font2_size = 15,\n",
    "          ha = 'left',\n",
    "          font1_color = '#5F6A6A',\n",
    "          font2_color = '#A93226',\n",
    "          font1_weight = 'heavy',\n",
    "          font2_weight = 'bold',\n",
    "          title1 = \"Perfil das vítimas do sexo masculino\",\n",
    "          loc= 'center',\n",
    "          a = 0,\n",
    "          c = 0,\n",
    "          figsize = (12, 5))"
   ]
  },
  {
   "cell_type": "code",
   "execution_count": null,
   "id": "c9871bc2",
   "metadata": {},
   "outputs": [],
   "source": [
    "list_perfil_fem = []\n",
    "label_perfil_fem = []\n",
    "\n",
    "for i in range(0,5):\n",
    "    list_perfil_fem.append(f'{df_fem[\"total vitimas\"][i]} vitimas')\n",
    "    label_perfil_fem.append(f'{i+1}°- {df_fem.loc[i][0]} , {df_fem.loc[i][1]} , {df_fem.loc[i][2]} ,Escolaridade: {df_fem.loc[i][3]} ,Entre {df_fem.loc[i][4]} Anos')\n",
    "make_text(5,\n",
    "          1,\n",
    "          10,\n",
    "          label_perfil_fem,\n",
    "          label =  list_perfil_fem,\n",
    "          font1_size = 15,\n",
    "          font2_size = 15,\n",
    "          ha = 'left',\n",
    "          font1_color = '#5F6A6A',\n",
    "          font2_color = '#A93226',\n",
    "          font1_weight = 'heavy',\n",
    "          font2_weight = 'bold',\n",
    "          title1 = \"Perfil das vítimas do sexo feminino\",\n",
    "          loc= 'center',\n",
    "          a = 0,\n",
    "          c = 0,\n",
    "          figsize = (12, 5))"
   ]
  },
  {
   "cell_type": "markdown",
   "id": "6ed34684",
   "metadata": {},
   "source": [
    "# Setembro Amarelo"
   ]
  },
  {
   "cell_type": "code",
   "execution_count": null,
   "id": "f1356b85",
   "metadata": {},
   "outputs": [],
   "source": [
    "setembro_mask = np.array(Image.open(\"mask.png\")) # máscara\n",
    "\n",
    "stopwords = set(STOPWORDS) # stop words\n",
    "stopwords.update([\"DA\", \"DE\", \"EM\", \"DE\", \"NO\", \"AO\", \"NOS\"])\n",
    "\n",
    "ocup = df.dropna(subset=['OCUP'], axis=0)['OCUP'] #retirar Nan values\n",
    "all_ocup = \" \".join(s for s in ocup) # juntar palavras\n",
    "wordcloud = WordCloud(stopwords=stopwords,\n",
    "                      background_color=\"white\",\n",
    "                      width=1000, height=1000, max_words=200,\n",
    "                      mask=setembro_mask, max_font_size=200,\n",
    "                      relative_scaling =0,\n",
    "                      colormap=\"autumn\"\n",
    "                     ).generate(all_ocup)\n",
    "\n",
    "\n",
    "fig, ax = plt.subplots(figsize=(20,15))\n",
    "ax.imshow(wordcloud, interpolation='bilinear')\n",
    "ax.set_axis_off()"
   ]
  }
 ],
 "metadata": {
  "kernelspec": {
   "display_name": "Python 3 (ipykernel)",
   "language": "python",
   "name": "python3"
  },
  "language_info": {
   "codemirror_mode": {
    "name": "ipython",
    "version": 3
   },
   "file_extension": ".py",
   "mimetype": "text/x-python",
   "name": "python",
   "nbconvert_exporter": "python",
   "pygments_lexer": "ipython3",
   "version": "3.9.7"
  }
 },
 "nbformat": 4,
 "nbformat_minor": 5
}
