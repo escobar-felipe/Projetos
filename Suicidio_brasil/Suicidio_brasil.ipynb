{
 "cells": [
  {
   "cell_type": "markdown",
   "id": "f2cbc14e",
   "metadata": {},
   "source": [
    "# Série histórica de suicídios no Brasil entre 2010 e 2019\n",
    "\n",
    "\"Diversos dados sobre suicídios foram reunidos em uma série histórica baseando-se nos dados provenientes do DATASUS. Mais especificamente, a base de dados do Sistema de Informação sobre Mortalidade (SIM) foi utilizada para extração de dados a partir do pacote PySUS.\n",
    "\n",
    "Para selecionar apenas os casos de suicídio, a variável CAUSABAS ou CAUSABAS_O (ambas retratando causa básica da morte) deveriam possuir valores da Classificação Internacional de Doenças (CID) entre X600 e X850. Essa faixa de casos do CID englobaria lesões autoprovocadas.\"<a href=\"https://www.kaggle.com/psicodata/dados-de-suicidios-entre-2010-e-2019\">PsicoData</a>\n",
    "\n",
    "\n",
    "### Variáveis\n",
    "* <b>DTOBITO:</b> data do óbito.\n",
    "* <b>DTNASC:</b> data de nascimento.\n",
    "* <b>SEXO:</b> sexo. 1 : Masculino, 2 : Feminino.\n",
    "* <b>RACACOR:</b> raça. 1 : Branca, 2 : Preta, 3 : Amarela, 4 : Parda, 5 : Indígena.\n",
    "* <b>ESTCIV:</b> estado civil. 1 : Solteiro, 2 : Casado, 3 : Viúvo, 4 : Separado judicialmente, 5 : União consensual.\n",
    "* <b>ESC:</b> escolaridade. 1 : Nenhuma, 2: 1 a 3 anos, 3 : 4 a 7 anos, 4 : 8 a 11 anos, 5 : 12 e mais, 8 : De 9 a 11 anos.\n",
    "* <b>OCUP:</b> ocupação. Para óbitos a partir de 2006, segue-se a tabela CBO2002.\n",
    "* <b>CODMUNRES:</b> município de residência do falecido (codificado).\n",
    "* <b>LOCOCOR:</b> Local de ocorrência do óbito. 1 : Hospital, 2 : Outro estabelecimento de saúde, 3 : Domicílio, 4 : Via pública, 5 :</b> Outros, 9 : NA.\n",
    "* <b>ASSISTMED:</b> Assistência médica. 1 : Sim, 2 : Não, 9 : NA.\n",
    "* <b>CAUSABAS:</b> Causa básica do óbito. Código CID-10.\n",
    "* <b>CAUSABAS_O:</b> Causa básica do óbito. Código CID-10."
   ]
  },
  {
   "cell_type": "code",
   "execution_count": 1,
   "id": "48def476",
   "metadata": {},
   "outputs": [],
   "source": [
    "# bibliotecas \n",
    "import pandas as pd\n",
    "\n",
    "\n",
    "import plotly.express as px\n",
    "\n",
    "import matplotlib.pyplot as plt\n",
    "import matplotlib.dates\n",
    "\n",
    "from pywaffle import Waffle\n",
    "\n",
    "import json\n",
    "\n",
    "from wordcloud import WordCloud, STOPWORDS\n",
    "from PIL import Image\n",
    "\n",
    "import numpy as np\n",
    "import warnings; warnings.simplefilter('ignore')"
   ]
  },
  {
   "cell_type": "code",
   "execution_count": 2,
   "id": "22274d89",
   "metadata": {},
   "outputs": [],
   "source": [
    "def make_text(rows, # number of rows\n",
    "              cols, # number of cols\n",
    "              texts, # number of texts to display\n",
    "              result, # featured text\n",
    "              label = '', # detailed text\n",
    "              font1_size = 80, # featured text font size\n",
    "              font2_size = 20, # detailed text font size\n",
    "              ha = 'center', # horizontal alignment\n",
    "              va = 'center', # vertical alignment\n",
    "              font1_color = '#A43428', # featured text font color\n",
    "              font2_color = '#5F6A6A', # detailed text font color\n",
    "              font1_weight = 'bold', # featured text font weight\n",
    "              font2_weight = 'normal', # detailed text font weight\n",
    "              sup_title = '', # suptitle\n",
    "              font_suptitle = 30, # font size suptitle\n",
    "              title1 = '', # title left figure\n",
    "              title2 = '', # title right figure\n",
    "              loc = 'center', # loc\n",
    "              font_title = 20, # font size of titles\n",
    "              a = 0.5, # percentage for va featured text\n",
    "              b = 0.5, # percentage for ha featured text\n",
    "              c = 0.5, # percentage for va detailed text\n",
    "              d = 0.1, # percentage for ha detailed text\n",
    "              figsize = (6, 2) # figure size\n",
    "             ): \n",
    "    \n",
    "    # axes coordenates\n",
    "\n",
    "    left, width = 0.25, 0.5\n",
    "    bottom, height = 0.25, 0.5\n",
    "    right = left + width\n",
    "    top = bottom + height\n",
    "    \n",
    "    # text fonts\n",
    "    \n",
    "    fonttitle = {'family': 'monospace', 'weight': 'normal', 'size': font_title, 'horizontalalignment': loc}\n",
    "    font1 = {'family': 'sans-serif', 'color': font1_color, 'weight': font1_weight, 'size': font1_size}\n",
    "    font2 = {'family': 'sans-serif', 'color':font2_color, 'weight': font2_weight, 'size': font2_size} \n",
    "        \n",
    "    # creating texts\n",
    "    \n",
    "    if texts > 1:\n",
    "        \n",
    "        # creating the figure for texts\n",
    "        \n",
    "        fig, ax = plt.subplots(rows, cols, figsize = figsize)\n",
    "        \n",
    "        ax = ax.ravel()\n",
    "        \n",
    "        for i in range(len(result)):\n",
    "            \n",
    "            if i == 0:\n",
    "                ax[i].set_title(title1, fontdict = fonttitle)\n",
    "            elif i == 1:\n",
    "                ax[i].set_title(title2, fontdict = fonttitle)\n",
    "                           \n",
    "            ax[i].set(xlim = (0, 1), ylim = (0, 1))\n",
    "                \n",
    "            ax[i].text(a * (left + right), b * (bottom + top), result[i],\n",
    "                    ha = ha,\n",
    "                    va = va,\n",
    "                    fontdict = font1,\n",
    "                    transform = ax[i].transAxes)\n",
    "            if label != '':\n",
    "                ax[i].text(c * (left + right), d * (bottom + top), label[i],\n",
    "                        ha = ha,\n",
    "                        va = va,\n",
    "                        fontdict = font2,\n",
    "                        transform = ax[i].transAxes)\n",
    "   \n",
    "            ax[i].axis('off')\n",
    "            \n",
    "        plt.suptitle(sup_title, fontsize = font_suptitle)\n",
    "                      \n",
    "    else:\n",
    "        \n",
    "        fig, ax = plt.subplots(rows, cols, figsize = figsize)\n",
    "        \n",
    "        ax.set_title(title1, fontdict = fonttitle)\n",
    "        \n",
    "        ax.set(xlim = (0, 1), ylim = (0, 1))\n",
    "                \n",
    "        ax.text(a * (left + right), b * (bottom + top), result,\n",
    "                ha = ha,\n",
    "                va = va,\n",
    "                fontdict = font1,\n",
    "                transform = ax.transAxes)\n",
    "        ax.text(c * (left + right), d * (bottom + top), label,\n",
    "                ha = ha,\n",
    "                va = va,\n",
    "                fontdict = font2,\n",
    "                transform = ax.transAxes)\n",
    "                \n",
    "        ax.axis('off')\n",
    "        \n",
    "    plt.suptitle(sup_title, fontsize = font_suptitle) #by:ghermsen"
   ]
  },
  {
   "cell_type": "code",
   "execution_count": 3,
   "id": "78b0cc44",
   "metadata": {},
   "outputs": [],
   "source": [
    "df = pd.read_csv(\"suicidios_2010_a_2019.csv\")\n",
    "df_pip = pd.read_csv(\"pibbrasil.csv\")\n",
    "df_censo=pd.read_csv('IBGE2010.csv')\n",
    "df_pop = pd.read_csv('popbrasil.csv')"
   ]
  },
  {
   "cell_type": "code",
   "execution_count": 4,
   "id": "1fdd030d",
   "metadata": {},
   "outputs": [
    {
     "data": {
      "text/html": [
       "<div>\n",
       "<style scoped>\n",
       "    .dataframe tbody tr th:only-of-type {\n",
       "        vertical-align: middle;\n",
       "    }\n",
       "\n",
       "    .dataframe tbody tr th {\n",
       "        vertical-align: top;\n",
       "    }\n",
       "\n",
       "    .dataframe thead th {\n",
       "        text-align: right;\n",
       "    }\n",
       "</style>\n",
       "<table border=\"1\" class=\"dataframe\">\n",
       "  <thead>\n",
       "    <tr style=\"text-align: right;\">\n",
       "      <th></th>\n",
       "      <th>Brazil</th>\n",
       "      <th>year</th>\n",
       "    </tr>\n",
       "  </thead>\n",
       "  <tbody>\n",
       "    <tr>\n",
       "      <th>0</th>\n",
       "      <td>195713637</td>\n",
       "      <td>2010</td>\n",
       "    </tr>\n",
       "    <tr>\n",
       "      <th>1</th>\n",
       "      <td>197514541</td>\n",
       "      <td>2011</td>\n",
       "    </tr>\n",
       "    <tr>\n",
       "      <th>2</th>\n",
       "      <td>199287292</td>\n",
       "      <td>2012</td>\n",
       "    </tr>\n",
       "    <tr>\n",
       "      <th>3</th>\n",
       "      <td>201035904</td>\n",
       "      <td>2013</td>\n",
       "    </tr>\n",
       "    <tr>\n",
       "      <th>4</th>\n",
       "      <td>202763744</td>\n",
       "      <td>2014</td>\n",
       "    </tr>\n",
       "    <tr>\n",
       "      <th>5</th>\n",
       "      <td>204471759</td>\n",
       "      <td>2015</td>\n",
       "    </tr>\n",
       "    <tr>\n",
       "      <th>6</th>\n",
       "      <td>206163056</td>\n",
       "      <td>2016</td>\n",
       "    </tr>\n",
       "    <tr>\n",
       "      <th>7</th>\n",
       "      <td>207833825</td>\n",
       "      <td>2017</td>\n",
       "    </tr>\n",
       "    <tr>\n",
       "      <th>8</th>\n",
       "      <td>209469320</td>\n",
       "      <td>2018</td>\n",
       "    </tr>\n",
       "    <tr>\n",
       "      <th>9</th>\n",
       "      <td>211049519</td>\n",
       "      <td>2019</td>\n",
       "    </tr>\n",
       "    <tr>\n",
       "      <th>10</th>\n",
       "      <td>212559409</td>\n",
       "      <td>2020</td>\n",
       "    </tr>\n",
       "  </tbody>\n",
       "</table>\n",
       "</div>"
      ],
      "text/plain": [
       "       Brazil  year\n",
       "0   195713637  2010\n",
       "1   197514541  2011\n",
       "2   199287292  2012\n",
       "3   201035904  2013\n",
       "4   202763744  2014\n",
       "5   204471759  2015\n",
       "6   206163056  2016\n",
       "7   207833825  2017\n",
       "8   209469320  2018\n",
       "9   211049519  2019\n",
       "10  212559409  2020"
      ]
     },
     "execution_count": 4,
     "metadata": {},
     "output_type": "execute_result"
    }
   ],
   "source": [
    "df_pop"
   ]
  },
  {
   "cell_type": "code",
   "execution_count": 5,
   "id": "e461d4d0",
   "metadata": {},
   "outputs": [
    {
     "data": {
      "text/html": [
       "<div>\n",
       "<style scoped>\n",
       "    .dataframe tbody tr th:only-of-type {\n",
       "        vertical-align: middle;\n",
       "    }\n",
       "\n",
       "    .dataframe tbody tr th {\n",
       "        vertical-align: top;\n",
       "    }\n",
       "\n",
       "    .dataframe thead th {\n",
       "        text-align: right;\n",
       "    }\n",
       "</style>\n",
       "<table border=\"1\" class=\"dataframe\">\n",
       "  <thead>\n",
       "    <tr style=\"text-align: right;\">\n",
       "      <th></th>\n",
       "      <th>Trimestre/ano</th>\n",
       "      <th>PIP</th>\n",
       "    </tr>\n",
       "  </thead>\n",
       "  <tbody>\n",
       "    <tr>\n",
       "      <th>0</th>\n",
       "      <td>1º trimestre 2010</td>\n",
       "      <td>2.6</td>\n",
       "    </tr>\n",
       "    <tr>\n",
       "      <th>1</th>\n",
       "      <td>2º trimestre 2010</td>\n",
       "      <td>5.3</td>\n",
       "    </tr>\n",
       "    <tr>\n",
       "      <th>2</th>\n",
       "      <td>3º trimestre 2010</td>\n",
       "      <td>7.5</td>\n",
       "    </tr>\n",
       "    <tr>\n",
       "      <th>3</th>\n",
       "      <td>4º trimestre 2010</td>\n",
       "      <td>7.5</td>\n",
       "    </tr>\n",
       "    <tr>\n",
       "      <th>4</th>\n",
       "      <td>1º trimestre 2011</td>\n",
       "      <td>6.6</td>\n",
       "    </tr>\n",
       "    <tr>\n",
       "      <th>5</th>\n",
       "      <td>2º trimestre 2011</td>\n",
       "      <td>5.6</td>\n",
       "    </tr>\n",
       "    <tr>\n",
       "      <th>6</th>\n",
       "      <td>3º trimestre 2011</td>\n",
       "      <td>4.8</td>\n",
       "    </tr>\n",
       "    <tr>\n",
       "      <th>7</th>\n",
       "      <td>4º trimestre 2011</td>\n",
       "      <td>4.0</td>\n",
       "    </tr>\n",
       "    <tr>\n",
       "      <th>8</th>\n",
       "      <td>1º trimestre 2012</td>\n",
       "      <td>3.1</td>\n",
       "    </tr>\n",
       "    <tr>\n",
       "      <th>9</th>\n",
       "      <td>2º trimestre 2012</td>\n",
       "      <td>2.2</td>\n",
       "    </tr>\n",
       "    <tr>\n",
       "      <th>10</th>\n",
       "      <td>3º trimestre 2012</td>\n",
       "      <td>1.9</td>\n",
       "    </tr>\n",
       "    <tr>\n",
       "      <th>11</th>\n",
       "      <td>4º trimestre 2012</td>\n",
       "      <td>1.9</td>\n",
       "    </tr>\n",
       "    <tr>\n",
       "      <th>12</th>\n",
       "      <td>1º trimestre 2013</td>\n",
       "      <td>2.2</td>\n",
       "    </tr>\n",
       "    <tr>\n",
       "      <th>13</th>\n",
       "      <td>2º trimestre 2013</td>\n",
       "      <td>2.9</td>\n",
       "    </tr>\n",
       "    <tr>\n",
       "      <th>14</th>\n",
       "      <td>3º trimestre 2013</td>\n",
       "      <td>3.0</td>\n",
       "    </tr>\n",
       "    <tr>\n",
       "      <th>15</th>\n",
       "      <td>4º trimestre 2013</td>\n",
       "      <td>3.0</td>\n",
       "    </tr>\n",
       "    <tr>\n",
       "      <th>16</th>\n",
       "      <td>1º trimestre 2014</td>\n",
       "      <td>3.2</td>\n",
       "    </tr>\n",
       "    <tr>\n",
       "      <th>17</th>\n",
       "      <td>2º trimestre 2014</td>\n",
       "      <td>2.1</td>\n",
       "    </tr>\n",
       "    <tr>\n",
       "      <th>18</th>\n",
       "      <td>3º trimestre 2014</td>\n",
       "      <td>1.2</td>\n",
       "    </tr>\n",
       "    <tr>\n",
       "      <th>19</th>\n",
       "      <td>4º trimestre 2014</td>\n",
       "      <td>0.5</td>\n",
       "    </tr>\n",
       "    <tr>\n",
       "      <th>20</th>\n",
       "      <td>1º trimestre 2015</td>\n",
       "      <td>-0.7</td>\n",
       "    </tr>\n",
       "    <tr>\n",
       "      <th>21</th>\n",
       "      <td>2º trimestre 2015</td>\n",
       "      <td>-1.3</td>\n",
       "    </tr>\n",
       "    <tr>\n",
       "      <th>22</th>\n",
       "      <td>3º trimestre 2015</td>\n",
       "      <td>-2.2</td>\n",
       "    </tr>\n",
       "    <tr>\n",
       "      <th>23</th>\n",
       "      <td>4º trimestre 2015</td>\n",
       "      <td>-3.5</td>\n",
       "    </tr>\n",
       "    <tr>\n",
       "      <th>24</th>\n",
       "      <td>1º trimestre 2016</td>\n",
       "      <td>-4.4</td>\n",
       "    </tr>\n",
       "    <tr>\n",
       "      <th>25</th>\n",
       "      <td>2º trimestre 2016</td>\n",
       "      <td>-4.6</td>\n",
       "    </tr>\n",
       "    <tr>\n",
       "      <th>26</th>\n",
       "      <td>3º trimestre 2016</td>\n",
       "      <td>-4.1</td>\n",
       "    </tr>\n",
       "    <tr>\n",
       "      <th>27</th>\n",
       "      <td>4º trimestre 2016</td>\n",
       "      <td>-3.3</td>\n",
       "    </tr>\n",
       "    <tr>\n",
       "      <th>28</th>\n",
       "      <td>1º trimestre 2017</td>\n",
       "      <td>-1.9</td>\n",
       "    </tr>\n",
       "    <tr>\n",
       "      <th>29</th>\n",
       "      <td>2º trimestre 2017</td>\n",
       "      <td>-0.9</td>\n",
       "    </tr>\n",
       "    <tr>\n",
       "      <th>30</th>\n",
       "      <td>3º trimestre 2017</td>\n",
       "      <td>0.2</td>\n",
       "    </tr>\n",
       "    <tr>\n",
       "      <th>31</th>\n",
       "      <td>4º trimestre 2017</td>\n",
       "      <td>1.3</td>\n",
       "    </tr>\n",
       "    <tr>\n",
       "      <th>32</th>\n",
       "      <td>1º trimestre 2018</td>\n",
       "      <td>1.6</td>\n",
       "    </tr>\n",
       "    <tr>\n",
       "      <th>33</th>\n",
       "      <td>2º trimestre 2018</td>\n",
       "      <td>1.6</td>\n",
       "    </tr>\n",
       "    <tr>\n",
       "      <th>34</th>\n",
       "      <td>3º trimestre 2018</td>\n",
       "      <td>1.6</td>\n",
       "    </tr>\n",
       "    <tr>\n",
       "      <th>35</th>\n",
       "      <td>4º trimestre 2018</td>\n",
       "      <td>1.3</td>\n",
       "    </tr>\n",
       "    <tr>\n",
       "      <th>36</th>\n",
       "      <td>1º trimestre 2019</td>\n",
       "      <td>1.1</td>\n",
       "    </tr>\n",
       "    <tr>\n",
       "      <th>37</th>\n",
       "      <td>2º trimestre 2019</td>\n",
       "      <td>1.1</td>\n",
       "    </tr>\n",
       "    <tr>\n",
       "      <th>38</th>\n",
       "      <td>3º trimestre 2019</td>\n",
       "      <td>1.0</td>\n",
       "    </tr>\n",
       "    <tr>\n",
       "      <th>39</th>\n",
       "      <td>4º trimestre 2019</td>\n",
       "      <td>1.1</td>\n",
       "    </tr>\n",
       "  </tbody>\n",
       "</table>\n",
       "</div>"
      ],
      "text/plain": [
       "        Trimestre/ano  PIP\n",
       "0   1º trimestre 2010  2.6\n",
       "1   2º trimestre 2010  5.3\n",
       "2   3º trimestre 2010  7.5\n",
       "3   4º trimestre 2010  7.5\n",
       "4   1º trimestre 2011  6.6\n",
       "5   2º trimestre 2011  5.6\n",
       "6   3º trimestre 2011  4.8\n",
       "7   4º trimestre 2011  4.0\n",
       "8   1º trimestre 2012  3.1\n",
       "9   2º trimestre 2012  2.2\n",
       "10  3º trimestre 2012  1.9\n",
       "11  4º trimestre 2012  1.9\n",
       "12  1º trimestre 2013  2.2\n",
       "13  2º trimestre 2013  2.9\n",
       "14  3º trimestre 2013  3.0\n",
       "15  4º trimestre 2013  3.0\n",
       "16  1º trimestre 2014  3.2\n",
       "17  2º trimestre 2014  2.1\n",
       "18  3º trimestre 2014  1.2\n",
       "19  4º trimestre 2014  0.5\n",
       "20  1º trimestre 2015 -0.7\n",
       "21  2º trimestre 2015 -1.3\n",
       "22  3º trimestre 2015 -2.2\n",
       "23  4º trimestre 2015 -3.5\n",
       "24  1º trimestre 2016 -4.4\n",
       "25  2º trimestre 2016 -4.6\n",
       "26  3º trimestre 2016 -4.1\n",
       "27  4º trimestre 2016 -3.3\n",
       "28  1º trimestre 2017 -1.9\n",
       "29  2º trimestre 2017 -0.9\n",
       "30  3º trimestre 2017  0.2\n",
       "31  4º trimestre 2017  1.3\n",
       "32  1º trimestre 2018  1.6\n",
       "33  2º trimestre 2018  1.6\n",
       "34  3º trimestre 2018  1.6\n",
       "35  4º trimestre 2018  1.3\n",
       "36  1º trimestre 2019  1.1\n",
       "37  2º trimestre 2019  1.1\n",
       "38  3º trimestre 2019  1.0\n",
       "39  4º trimestre 2019  1.1"
      ]
     },
     "execution_count": 5,
     "metadata": {},
     "output_type": "execute_result"
    }
   ],
   "source": [
    "df_pip"
   ]
  },
  {
   "cell_type": "code",
   "execution_count": 6,
   "id": "f8863fa9",
   "metadata": {},
   "outputs": [],
   "source": [
    "df.drop('Unnamed: 0', axis=1, inplace=True) #retirando coluna unnmamed"
   ]
  },
  {
   "cell_type": "code",
   "execution_count": 7,
   "id": "714541d0",
   "metadata": {},
   "outputs": [
    {
     "data": {
      "text/html": [
       "<div>\n",
       "<style scoped>\n",
       "    .dataframe tbody tr th:only-of-type {\n",
       "        vertical-align: middle;\n",
       "    }\n",
       "\n",
       "    .dataframe tbody tr th {\n",
       "        vertical-align: top;\n",
       "    }\n",
       "\n",
       "    .dataframe thead th {\n",
       "        text-align: right;\n",
       "    }\n",
       "</style>\n",
       "<table border=\"1\" class=\"dataframe\">\n",
       "  <thead>\n",
       "    <tr style=\"text-align: right;\">\n",
       "      <th></th>\n",
       "      <th>estados</th>\n",
       "      <th>censo2010</th>\n",
       "    </tr>\n",
       "  </thead>\n",
       "  <tbody>\n",
       "    <tr>\n",
       "      <th>0</th>\n",
       "      <td>AC</td>\n",
       "      <td>733559</td>\n",
       "    </tr>\n",
       "    <tr>\n",
       "      <th>1</th>\n",
       "      <td>AL</td>\n",
       "      <td>3120494</td>\n",
       "    </tr>\n",
       "    <tr>\n",
       "      <th>2</th>\n",
       "      <td>AM</td>\n",
       "      <td>3483985</td>\n",
       "    </tr>\n",
       "    <tr>\n",
       "      <th>3</th>\n",
       "      <td>AP</td>\n",
       "      <td>669526</td>\n",
       "    </tr>\n",
       "    <tr>\n",
       "      <th>4</th>\n",
       "      <td>BA</td>\n",
       "      <td>14016906</td>\n",
       "    </tr>\n",
       "    <tr>\n",
       "      <th>5</th>\n",
       "      <td>CE</td>\n",
       "      <td>8452381</td>\n",
       "    </tr>\n",
       "    <tr>\n",
       "      <th>6</th>\n",
       "      <td>DF</td>\n",
       "      <td>2570160</td>\n",
       "    </tr>\n",
       "    <tr>\n",
       "      <th>7</th>\n",
       "      <td>ES</td>\n",
       "      <td>3514952</td>\n",
       "    </tr>\n",
       "    <tr>\n",
       "      <th>8</th>\n",
       "      <td>GO</td>\n",
       "      <td>6003788</td>\n",
       "    </tr>\n",
       "    <tr>\n",
       "      <th>9</th>\n",
       "      <td>MA</td>\n",
       "      <td>6574789</td>\n",
       "    </tr>\n",
       "    <tr>\n",
       "      <th>10</th>\n",
       "      <td>MG</td>\n",
       "      <td>19597330</td>\n",
       "    </tr>\n",
       "    <tr>\n",
       "      <th>11</th>\n",
       "      <td>MS</td>\n",
       "      <td>2449024</td>\n",
       "    </tr>\n",
       "    <tr>\n",
       "      <th>12</th>\n",
       "      <td>MT</td>\n",
       "      <td>3035122</td>\n",
       "    </tr>\n",
       "    <tr>\n",
       "      <th>13</th>\n",
       "      <td>PA</td>\n",
       "      <td>7581051</td>\n",
       "    </tr>\n",
       "    <tr>\n",
       "      <th>14</th>\n",
       "      <td>PB</td>\n",
       "      <td>3766528</td>\n",
       "    </tr>\n",
       "    <tr>\n",
       "      <th>15</th>\n",
       "      <td>PE</td>\n",
       "      <td>8796448</td>\n",
       "    </tr>\n",
       "    <tr>\n",
       "      <th>16</th>\n",
       "      <td>PI</td>\n",
       "      <td>3118360</td>\n",
       "    </tr>\n",
       "    <tr>\n",
       "      <th>17</th>\n",
       "      <td>PR</td>\n",
       "      <td>10444526</td>\n",
       "    </tr>\n",
       "    <tr>\n",
       "      <th>18</th>\n",
       "      <td>RJ</td>\n",
       "      <td>15989929</td>\n",
       "    </tr>\n",
       "    <tr>\n",
       "      <th>19</th>\n",
       "      <td>RN</td>\n",
       "      <td>3168027</td>\n",
       "    </tr>\n",
       "    <tr>\n",
       "      <th>20</th>\n",
       "      <td>RO</td>\n",
       "      <td>1562409</td>\n",
       "    </tr>\n",
       "    <tr>\n",
       "      <th>21</th>\n",
       "      <td>RR</td>\n",
       "      <td>450479</td>\n",
       "    </tr>\n",
       "    <tr>\n",
       "      <th>22</th>\n",
       "      <td>RS</td>\n",
       "      <td>10693929</td>\n",
       "    </tr>\n",
       "    <tr>\n",
       "      <th>23</th>\n",
       "      <td>SC</td>\n",
       "      <td>6248436</td>\n",
       "    </tr>\n",
       "    <tr>\n",
       "      <th>24</th>\n",
       "      <td>SE</td>\n",
       "      <td>2068017</td>\n",
       "    </tr>\n",
       "    <tr>\n",
       "      <th>25</th>\n",
       "      <td>SP</td>\n",
       "      <td>41262199</td>\n",
       "    </tr>\n",
       "    <tr>\n",
       "      <th>26</th>\n",
       "      <td>TO</td>\n",
       "      <td>1383445</td>\n",
       "    </tr>\n",
       "  </tbody>\n",
       "</table>\n",
       "</div>"
      ],
      "text/plain": [
       "   estados  censo2010\n",
       "0       AC     733559\n",
       "1       AL    3120494\n",
       "2       AM    3483985\n",
       "3       AP     669526\n",
       "4       BA   14016906\n",
       "5       CE    8452381\n",
       "6       DF    2570160\n",
       "7       ES    3514952\n",
       "8       GO    6003788\n",
       "9       MA    6574789\n",
       "10      MG   19597330\n",
       "11      MS    2449024\n",
       "12      MT    3035122\n",
       "13      PA    7581051\n",
       "14      PB    3766528\n",
       "15      PE    8796448\n",
       "16      PI    3118360\n",
       "17      PR   10444526\n",
       "18      RJ   15989929\n",
       "19      RN    3168027\n",
       "20      RO    1562409\n",
       "21      RR     450479\n",
       "22      RS   10693929\n",
       "23      SC    6248436\n",
       "24      SE    2068017\n",
       "25      SP   41262199\n",
       "26      TO    1383445"
      ]
     },
     "execution_count": 7,
     "metadata": {},
     "output_type": "execute_result"
    }
   ],
   "source": [
    "df_censo"
   ]
  },
  {
   "cell_type": "code",
   "execution_count": 8,
   "id": "1f5d4c71",
   "metadata": {},
   "outputs": [
    {
     "data": {
      "text/html": [
       "<div>\n",
       "<style scoped>\n",
       "    .dataframe tbody tr th:only-of-type {\n",
       "        vertical-align: middle;\n",
       "    }\n",
       "\n",
       "    .dataframe tbody tr th {\n",
       "        vertical-align: top;\n",
       "    }\n",
       "\n",
       "    .dataframe thead th {\n",
       "        text-align: right;\n",
       "    }\n",
       "</style>\n",
       "<table border=\"1\" class=\"dataframe\">\n",
       "  <thead>\n",
       "    <tr style=\"text-align: right;\">\n",
       "      <th></th>\n",
       "      <th>estado</th>\n",
       "      <th>ano</th>\n",
       "      <th>mes</th>\n",
       "      <th>DTOBITO</th>\n",
       "      <th>DTNASC</th>\n",
       "      <th>SEXO</th>\n",
       "      <th>RACACOR</th>\n",
       "      <th>ASSISTMED</th>\n",
       "      <th>ESCMAE</th>\n",
       "      <th>ESTCIV</th>\n",
       "      <th>ESC</th>\n",
       "      <th>OCUP</th>\n",
       "      <th>CODMUNRES</th>\n",
       "      <th>CAUSABAS</th>\n",
       "      <th>CAUSABAS_O</th>\n",
       "      <th>LOCOCOR</th>\n",
       "      <th>CIRURGIA</th>\n",
       "    </tr>\n",
       "  </thead>\n",
       "  <tbody>\n",
       "    <tr>\n",
       "      <th>0</th>\n",
       "      <td>AC</td>\n",
       "      <td>2010</td>\n",
       "      <td>1</td>\n",
       "      <td>2010-01-31</td>\n",
       "      <td>1999-11-09</td>\n",
       "      <td>Masculino</td>\n",
       "      <td>Parda</td>\n",
       "      <td>NaN</td>\n",
       "      <td>NaN</td>\n",
       "      <td>Solteiro/a</td>\n",
       "      <td>1 a 3 anos</td>\n",
       "      <td>ESTUDANTE</td>\n",
       "      <td>Tarauacá</td>\n",
       "      <td>X780</td>\n",
       "      <td>X780</td>\n",
       "      <td>Via pública</td>\n",
       "      <td>Não</td>\n",
       "    </tr>\n",
       "    <tr>\n",
       "      <th>1</th>\n",
       "      <td>AC</td>\n",
       "      <td>2010</td>\n",
       "      <td>2</td>\n",
       "      <td>2010-02-07</td>\n",
       "      <td>1985-09-23</td>\n",
       "      <td>Masculino</td>\n",
       "      <td>Parda</td>\n",
       "      <td>NaN</td>\n",
       "      <td>NaN</td>\n",
       "      <td>Solteiro/a</td>\n",
       "      <td>1 a 3 anos</td>\n",
       "      <td>ESTUDANTE</td>\n",
       "      <td>Tarauacá</td>\n",
       "      <td>X780</td>\n",
       "      <td>X780</td>\n",
       "      <td>Hospital</td>\n",
       "      <td>Não</td>\n",
       "    </tr>\n",
       "    <tr>\n",
       "      <th>2</th>\n",
       "      <td>AC</td>\n",
       "      <td>2010</td>\n",
       "      <td>2</td>\n",
       "      <td>2010-02-19</td>\n",
       "      <td>1995-08-06</td>\n",
       "      <td>Masculino</td>\n",
       "      <td>Parda</td>\n",
       "      <td>NaN</td>\n",
       "      <td>NaN</td>\n",
       "      <td>Solteiro/a</td>\n",
       "      <td>1 a 3 anos</td>\n",
       "      <td>ESTUDANTE</td>\n",
       "      <td>Tarauacá</td>\n",
       "      <td>X780</td>\n",
       "      <td>X780</td>\n",
       "      <td>Hospital</td>\n",
       "      <td>Não</td>\n",
       "    </tr>\n",
       "    <tr>\n",
       "      <th>3</th>\n",
       "      <td>AC</td>\n",
       "      <td>2010</td>\n",
       "      <td>4</td>\n",
       "      <td>2010-04-20</td>\n",
       "      <td>1983-12-25</td>\n",
       "      <td>Feminino</td>\n",
       "      <td>Parda</td>\n",
       "      <td>NaN</td>\n",
       "      <td>NaN</td>\n",
       "      <td>Casado/a</td>\n",
       "      <td>1 a 3 anos</td>\n",
       "      <td>DONA DE CASA</td>\n",
       "      <td>Tarauacá</td>\n",
       "      <td>X780</td>\n",
       "      <td>X780</td>\n",
       "      <td>Domicílio</td>\n",
       "      <td>Não</td>\n",
       "    </tr>\n",
       "    <tr>\n",
       "      <th>4</th>\n",
       "      <td>AC</td>\n",
       "      <td>2010</td>\n",
       "      <td>7</td>\n",
       "      <td>2010-07-24</td>\n",
       "      <td>1982-05-13</td>\n",
       "      <td>Masculino</td>\n",
       "      <td>Parda</td>\n",
       "      <td>NaN</td>\n",
       "      <td>NaN</td>\n",
       "      <td>Casado/a</td>\n",
       "      <td>NaN</td>\n",
       "      <td>DONA DE CASA</td>\n",
       "      <td>Tarauacá</td>\n",
       "      <td>X720</td>\n",
       "      <td>X720</td>\n",
       "      <td>Domicílio</td>\n",
       "      <td>Não</td>\n",
       "    </tr>\n",
       "  </tbody>\n",
       "</table>\n",
       "</div>"
      ],
      "text/plain": [
       "  estado   ano  mes     DTOBITO      DTNASC       SEXO RACACOR ASSISTMED  \\\n",
       "0     AC  2010    1  2010-01-31  1999-11-09  Masculino   Parda       NaN   \n",
       "1     AC  2010    2  2010-02-07  1985-09-23  Masculino   Parda       NaN   \n",
       "2     AC  2010    2  2010-02-19  1995-08-06  Masculino   Parda       NaN   \n",
       "3     AC  2010    4  2010-04-20  1983-12-25   Feminino   Parda       NaN   \n",
       "4     AC  2010    7  2010-07-24  1982-05-13  Masculino   Parda       NaN   \n",
       "\n",
       "  ESCMAE      ESTCIV         ESC          OCUP CODMUNRES CAUSABAS CAUSABAS_O  \\\n",
       "0    NaN  Solteiro/a  1 a 3 anos     ESTUDANTE  Tarauacá     X780       X780   \n",
       "1    NaN  Solteiro/a  1 a 3 anos     ESTUDANTE  Tarauacá     X780       X780   \n",
       "2    NaN  Solteiro/a  1 a 3 anos     ESTUDANTE  Tarauacá     X780       X780   \n",
       "3    NaN    Casado/a  1 a 3 anos  DONA DE CASA  Tarauacá     X780       X780   \n",
       "4    NaN    Casado/a         NaN  DONA DE CASA  Tarauacá     X720       X720   \n",
       "\n",
       "       LOCOCOR CIRURGIA  \n",
       "0  Via pública      Não  \n",
       "1     Hospital      Não  \n",
       "2     Hospital      Não  \n",
       "3    Domicílio      Não  \n",
       "4    Domicílio      Não  "
      ]
     },
     "execution_count": 8,
     "metadata": {},
     "output_type": "execute_result"
    }
   ],
   "source": [
    "df.head()"
   ]
  },
  {
   "cell_type": "code",
   "execution_count": 9,
   "id": "31099e4b",
   "metadata": {},
   "outputs": [
    {
     "data": {
      "text/plain": [
       "(112491, 17)"
      ]
     },
     "execution_count": 9,
     "metadata": {},
     "output_type": "execute_result"
    }
   ],
   "source": [
    "df.shape"
   ]
  },
  {
   "cell_type": "code",
   "execution_count": 10,
   "id": "52457ee3",
   "metadata": {},
   "outputs": [
    {
     "data": {
      "text/plain": [
       "Index(['estado', 'ano', 'mes', 'DTOBITO', 'DTNASC', 'SEXO', 'RACACOR',\n",
       "       'ASSISTMED', 'ESCMAE', 'ESTCIV', 'ESC', 'OCUP', 'CODMUNRES', 'CAUSABAS',\n",
       "       'CAUSABAS_O', 'LOCOCOR', 'CIRURGIA'],\n",
       "      dtype='object')"
      ]
     },
     "execution_count": 10,
     "metadata": {},
     "output_type": "execute_result"
    }
   ],
   "source": [
    "df.columns"
   ]
  },
  {
   "cell_type": "code",
   "execution_count": 11,
   "id": "8ee8a641",
   "metadata": {},
   "outputs": [
    {
     "data": {
      "text/plain": [
       "estado        object\n",
       "ano            int64\n",
       "mes            int64\n",
       "DTOBITO       object\n",
       "DTNASC        object\n",
       "SEXO          object\n",
       "RACACOR       object\n",
       "ASSISTMED     object\n",
       "ESCMAE        object\n",
       "ESTCIV        object\n",
       "ESC           object\n",
       "OCUP          object\n",
       "CODMUNRES     object\n",
       "CAUSABAS      object\n",
       "CAUSABAS_O    object\n",
       "LOCOCOR       object\n",
       "CIRURGIA      object\n",
       "dtype: object"
      ]
     },
     "execution_count": 11,
     "metadata": {},
     "output_type": "execute_result"
    }
   ],
   "source": [
    "df.dtypes"
   ]
  },
  {
   "cell_type": "code",
   "execution_count": 12,
   "id": "a6342060",
   "metadata": {},
   "outputs": [
    {
     "data": {
      "text/plain": [
       "estado             0\n",
       "ano                0\n",
       "mes                0\n",
       "DTOBITO            0\n",
       "DTNASC         10858\n",
       "SEXO              22\n",
       "RACACOR         3171\n",
       "ASSISTMED      41804\n",
       "ESCMAE        112476\n",
       "ESTCIV          8700\n",
       "ESC            28164\n",
       "OCUP           52217\n",
       "CODMUNRES          0\n",
       "CAUSABAS           0\n",
       "CAUSABAS_O       287\n",
       "LOCOCOR          460\n",
       "CIRURGIA      103942\n",
       "dtype: int64"
      ]
     },
     "execution_count": 12,
     "metadata": {},
     "output_type": "execute_result"
    }
   ],
   "source": [
    "df.isnull().sum() # valores que estão faltando"
   ]
  },
  {
   "cell_type": "code",
   "execution_count": 13,
   "id": "37e396c0",
   "metadata": {},
   "outputs": [],
   "source": [
    "df.drop([\"CIRURGIA\",'ESCMAE' ], axis=1, inplace=True) #drop columns(miss values)"
   ]
  },
  {
   "cell_type": "code",
   "execution_count": 14,
   "id": "15edb5d2",
   "metadata": {},
   "outputs": [
    {
     "data": {
      "text/html": [
       "<div>\n",
       "<style scoped>\n",
       "    .dataframe tbody tr th:only-of-type {\n",
       "        vertical-align: middle;\n",
       "    }\n",
       "\n",
       "    .dataframe tbody tr th {\n",
       "        vertical-align: top;\n",
       "    }\n",
       "\n",
       "    .dataframe thead th {\n",
       "        text-align: right;\n",
       "    }\n",
       "</style>\n",
       "<table border=\"1\" class=\"dataframe\">\n",
       "  <thead>\n",
       "    <tr style=\"text-align: right;\">\n",
       "      <th></th>\n",
       "      <th>estado</th>\n",
       "      <th>ano</th>\n",
       "      <th>mes</th>\n",
       "      <th>DTOBITO</th>\n",
       "      <th>DTNASC</th>\n",
       "      <th>SEXO</th>\n",
       "      <th>RACACOR</th>\n",
       "      <th>ASSISTMED</th>\n",
       "      <th>ESTCIV</th>\n",
       "      <th>ESC</th>\n",
       "      <th>OCUP</th>\n",
       "      <th>CODMUNRES</th>\n",
       "      <th>CAUSABAS</th>\n",
       "      <th>CAUSABAS_O</th>\n",
       "      <th>LOCOCOR</th>\n",
       "    </tr>\n",
       "  </thead>\n",
       "  <tbody>\n",
       "    <tr>\n",
       "      <th>0</th>\n",
       "      <td>AC</td>\n",
       "      <td>2010</td>\n",
       "      <td>1</td>\n",
       "      <td>2010-01-31</td>\n",
       "      <td>1999-11-09</td>\n",
       "      <td>Masculino</td>\n",
       "      <td>Parda</td>\n",
       "      <td>NaN</td>\n",
       "      <td>Solteiro/a</td>\n",
       "      <td>1 a 3 anos</td>\n",
       "      <td>ESTUDANTE</td>\n",
       "      <td>Tarauacá</td>\n",
       "      <td>X780</td>\n",
       "      <td>X780</td>\n",
       "      <td>Via pública</td>\n",
       "    </tr>\n",
       "    <tr>\n",
       "      <th>1</th>\n",
       "      <td>AC</td>\n",
       "      <td>2010</td>\n",
       "      <td>2</td>\n",
       "      <td>2010-02-07</td>\n",
       "      <td>1985-09-23</td>\n",
       "      <td>Masculino</td>\n",
       "      <td>Parda</td>\n",
       "      <td>NaN</td>\n",
       "      <td>Solteiro/a</td>\n",
       "      <td>1 a 3 anos</td>\n",
       "      <td>ESTUDANTE</td>\n",
       "      <td>Tarauacá</td>\n",
       "      <td>X780</td>\n",
       "      <td>X780</td>\n",
       "      <td>Hospital</td>\n",
       "    </tr>\n",
       "    <tr>\n",
       "      <th>2</th>\n",
       "      <td>AC</td>\n",
       "      <td>2010</td>\n",
       "      <td>2</td>\n",
       "      <td>2010-02-19</td>\n",
       "      <td>1995-08-06</td>\n",
       "      <td>Masculino</td>\n",
       "      <td>Parda</td>\n",
       "      <td>NaN</td>\n",
       "      <td>Solteiro/a</td>\n",
       "      <td>1 a 3 anos</td>\n",
       "      <td>ESTUDANTE</td>\n",
       "      <td>Tarauacá</td>\n",
       "      <td>X780</td>\n",
       "      <td>X780</td>\n",
       "      <td>Hospital</td>\n",
       "    </tr>\n",
       "    <tr>\n",
       "      <th>3</th>\n",
       "      <td>AC</td>\n",
       "      <td>2010</td>\n",
       "      <td>4</td>\n",
       "      <td>2010-04-20</td>\n",
       "      <td>1983-12-25</td>\n",
       "      <td>Feminino</td>\n",
       "      <td>Parda</td>\n",
       "      <td>NaN</td>\n",
       "      <td>Casado/a</td>\n",
       "      <td>1 a 3 anos</td>\n",
       "      <td>DONA DE CASA</td>\n",
       "      <td>Tarauacá</td>\n",
       "      <td>X780</td>\n",
       "      <td>X780</td>\n",
       "      <td>Domicílio</td>\n",
       "    </tr>\n",
       "    <tr>\n",
       "      <th>4</th>\n",
       "      <td>AC</td>\n",
       "      <td>2010</td>\n",
       "      <td>7</td>\n",
       "      <td>2010-07-24</td>\n",
       "      <td>1982-05-13</td>\n",
       "      <td>Masculino</td>\n",
       "      <td>Parda</td>\n",
       "      <td>NaN</td>\n",
       "      <td>Casado/a</td>\n",
       "      <td>NaN</td>\n",
       "      <td>DONA DE CASA</td>\n",
       "      <td>Tarauacá</td>\n",
       "      <td>X720</td>\n",
       "      <td>X720</td>\n",
       "      <td>Domicílio</td>\n",
       "    </tr>\n",
       "  </tbody>\n",
       "</table>\n",
       "</div>"
      ],
      "text/plain": [
       "  estado   ano  mes     DTOBITO      DTNASC       SEXO RACACOR ASSISTMED  \\\n",
       "0     AC  2010    1  2010-01-31  1999-11-09  Masculino   Parda       NaN   \n",
       "1     AC  2010    2  2010-02-07  1985-09-23  Masculino   Parda       NaN   \n",
       "2     AC  2010    2  2010-02-19  1995-08-06  Masculino   Parda       NaN   \n",
       "3     AC  2010    4  2010-04-20  1983-12-25   Feminino   Parda       NaN   \n",
       "4     AC  2010    7  2010-07-24  1982-05-13  Masculino   Parda       NaN   \n",
       "\n",
       "       ESTCIV         ESC          OCUP CODMUNRES CAUSABAS CAUSABAS_O  \\\n",
       "0  Solteiro/a  1 a 3 anos     ESTUDANTE  Tarauacá     X780       X780   \n",
       "1  Solteiro/a  1 a 3 anos     ESTUDANTE  Tarauacá     X780       X780   \n",
       "2  Solteiro/a  1 a 3 anos     ESTUDANTE  Tarauacá     X780       X780   \n",
       "3    Casado/a  1 a 3 anos  DONA DE CASA  Tarauacá     X780       X780   \n",
       "4    Casado/a         NaN  DONA DE CASA  Tarauacá     X720       X720   \n",
       "\n",
       "       LOCOCOR  \n",
       "0  Via pública  \n",
       "1     Hospital  \n",
       "2     Hospital  \n",
       "3    Domicílio  \n",
       "4    Domicílio  "
      ]
     },
     "execution_count": 14,
     "metadata": {},
     "output_type": "execute_result"
    }
   ],
   "source": [
    "df.head()"
   ]
  },
  {
   "cell_type": "markdown",
   "id": "02983874",
   "metadata": {},
   "source": [
    "# Transformando datas"
   ]
  },
  {
   "cell_type": "code",
   "execution_count": 15,
   "id": "4b2dd680",
   "metadata": {},
   "outputs": [],
   "source": [
    "df['DTOBITO'] = pd.to_datetime( df['DTOBITO'] ,format=\"%Y/%m/%d\")\n",
    "df['DTNASC']=  pd.to_datetime( df['DTNASC'] ,format=\"%Y/%m/%d\",errors = 'coerce')\n",
    "df['ano_tri'] =df['DTOBITO'].dt.to_period(\"Q\")\n",
    "df['ano_mes'] =df['DTOBITO'].dt.strftime('%Y-%m')\n",
    "df['ano_nasc'] =df['DTNASC'].dt.strftime('%Y')"
   ]
  },
  {
   "cell_type": "code",
   "execution_count": 16,
   "id": "c598c0c8",
   "metadata": {},
   "outputs": [
    {
     "data": {
      "text/html": [
       "<div>\n",
       "<style scoped>\n",
       "    .dataframe tbody tr th:only-of-type {\n",
       "        vertical-align: middle;\n",
       "    }\n",
       "\n",
       "    .dataframe tbody tr th {\n",
       "        vertical-align: top;\n",
       "    }\n",
       "\n",
       "    .dataframe thead th {\n",
       "        text-align: right;\n",
       "    }\n",
       "</style>\n",
       "<table border=\"1\" class=\"dataframe\">\n",
       "  <thead>\n",
       "    <tr style=\"text-align: right;\">\n",
       "      <th></th>\n",
       "      <th>estado</th>\n",
       "      <th>ano</th>\n",
       "      <th>mes</th>\n",
       "      <th>DTOBITO</th>\n",
       "      <th>DTNASC</th>\n",
       "      <th>SEXO</th>\n",
       "      <th>RACACOR</th>\n",
       "      <th>ASSISTMED</th>\n",
       "      <th>ESTCIV</th>\n",
       "      <th>ESC</th>\n",
       "      <th>OCUP</th>\n",
       "      <th>CODMUNRES</th>\n",
       "      <th>CAUSABAS</th>\n",
       "      <th>CAUSABAS_O</th>\n",
       "      <th>LOCOCOR</th>\n",
       "      <th>ano_tri</th>\n",
       "      <th>ano_mes</th>\n",
       "      <th>ano_nasc</th>\n",
       "    </tr>\n",
       "  </thead>\n",
       "  <tbody>\n",
       "    <tr>\n",
       "      <th>0</th>\n",
       "      <td>AC</td>\n",
       "      <td>2010</td>\n",
       "      <td>1</td>\n",
       "      <td>2010-01-31</td>\n",
       "      <td>1999-11-09</td>\n",
       "      <td>Masculino</td>\n",
       "      <td>Parda</td>\n",
       "      <td>NaN</td>\n",
       "      <td>Solteiro/a</td>\n",
       "      <td>1 a 3 anos</td>\n",
       "      <td>ESTUDANTE</td>\n",
       "      <td>Tarauacá</td>\n",
       "      <td>X780</td>\n",
       "      <td>X780</td>\n",
       "      <td>Via pública</td>\n",
       "      <td>2010Q1</td>\n",
       "      <td>2010-01</td>\n",
       "      <td>1999</td>\n",
       "    </tr>\n",
       "    <tr>\n",
       "      <th>1</th>\n",
       "      <td>AC</td>\n",
       "      <td>2010</td>\n",
       "      <td>2</td>\n",
       "      <td>2010-02-07</td>\n",
       "      <td>1985-09-23</td>\n",
       "      <td>Masculino</td>\n",
       "      <td>Parda</td>\n",
       "      <td>NaN</td>\n",
       "      <td>Solteiro/a</td>\n",
       "      <td>1 a 3 anos</td>\n",
       "      <td>ESTUDANTE</td>\n",
       "      <td>Tarauacá</td>\n",
       "      <td>X780</td>\n",
       "      <td>X780</td>\n",
       "      <td>Hospital</td>\n",
       "      <td>2010Q1</td>\n",
       "      <td>2010-02</td>\n",
       "      <td>1985</td>\n",
       "    </tr>\n",
       "    <tr>\n",
       "      <th>2</th>\n",
       "      <td>AC</td>\n",
       "      <td>2010</td>\n",
       "      <td>2</td>\n",
       "      <td>2010-02-19</td>\n",
       "      <td>1995-08-06</td>\n",
       "      <td>Masculino</td>\n",
       "      <td>Parda</td>\n",
       "      <td>NaN</td>\n",
       "      <td>Solteiro/a</td>\n",
       "      <td>1 a 3 anos</td>\n",
       "      <td>ESTUDANTE</td>\n",
       "      <td>Tarauacá</td>\n",
       "      <td>X780</td>\n",
       "      <td>X780</td>\n",
       "      <td>Hospital</td>\n",
       "      <td>2010Q1</td>\n",
       "      <td>2010-02</td>\n",
       "      <td>1995</td>\n",
       "    </tr>\n",
       "    <tr>\n",
       "      <th>3</th>\n",
       "      <td>AC</td>\n",
       "      <td>2010</td>\n",
       "      <td>4</td>\n",
       "      <td>2010-04-20</td>\n",
       "      <td>1983-12-25</td>\n",
       "      <td>Feminino</td>\n",
       "      <td>Parda</td>\n",
       "      <td>NaN</td>\n",
       "      <td>Casado/a</td>\n",
       "      <td>1 a 3 anos</td>\n",
       "      <td>DONA DE CASA</td>\n",
       "      <td>Tarauacá</td>\n",
       "      <td>X780</td>\n",
       "      <td>X780</td>\n",
       "      <td>Domicílio</td>\n",
       "      <td>2010Q2</td>\n",
       "      <td>2010-04</td>\n",
       "      <td>1983</td>\n",
       "    </tr>\n",
       "    <tr>\n",
       "      <th>4</th>\n",
       "      <td>AC</td>\n",
       "      <td>2010</td>\n",
       "      <td>7</td>\n",
       "      <td>2010-07-24</td>\n",
       "      <td>1982-05-13</td>\n",
       "      <td>Masculino</td>\n",
       "      <td>Parda</td>\n",
       "      <td>NaN</td>\n",
       "      <td>Casado/a</td>\n",
       "      <td>NaN</td>\n",
       "      <td>DONA DE CASA</td>\n",
       "      <td>Tarauacá</td>\n",
       "      <td>X720</td>\n",
       "      <td>X720</td>\n",
       "      <td>Domicílio</td>\n",
       "      <td>2010Q3</td>\n",
       "      <td>2010-07</td>\n",
       "      <td>1982</td>\n",
       "    </tr>\n",
       "  </tbody>\n",
       "</table>\n",
       "</div>"
      ],
      "text/plain": [
       "  estado   ano  mes    DTOBITO     DTNASC       SEXO RACACOR ASSISTMED  \\\n",
       "0     AC  2010    1 2010-01-31 1999-11-09  Masculino   Parda       NaN   \n",
       "1     AC  2010    2 2010-02-07 1985-09-23  Masculino   Parda       NaN   \n",
       "2     AC  2010    2 2010-02-19 1995-08-06  Masculino   Parda       NaN   \n",
       "3     AC  2010    4 2010-04-20 1983-12-25   Feminino   Parda       NaN   \n",
       "4     AC  2010    7 2010-07-24 1982-05-13  Masculino   Parda       NaN   \n",
       "\n",
       "       ESTCIV         ESC          OCUP CODMUNRES CAUSABAS CAUSABAS_O  \\\n",
       "0  Solteiro/a  1 a 3 anos     ESTUDANTE  Tarauacá     X780       X780   \n",
       "1  Solteiro/a  1 a 3 anos     ESTUDANTE  Tarauacá     X780       X780   \n",
       "2  Solteiro/a  1 a 3 anos     ESTUDANTE  Tarauacá     X780       X780   \n",
       "3    Casado/a  1 a 3 anos  DONA DE CASA  Tarauacá     X780       X780   \n",
       "4    Casado/a         NaN  DONA DE CASA  Tarauacá     X720       X720   \n",
       "\n",
       "       LOCOCOR ano_tri  ano_mes ano_nasc  \n",
       "0  Via pública  2010Q1  2010-01     1999  \n",
       "1     Hospital  2010Q1  2010-02     1985  \n",
       "2     Hospital  2010Q1  2010-02     1995  \n",
       "3    Domicílio  2010Q2  2010-04     1983  \n",
       "4    Domicílio  2010Q3  2010-07     1982  "
      ]
     },
     "execution_count": 16,
     "metadata": {},
     "output_type": "execute_result"
    }
   ],
   "source": [
    "df.head()"
   ]
  },
  {
   "cell_type": "code",
   "execution_count": 17,
   "id": "017ea05f",
   "metadata": {},
   "outputs": [
    {
     "data": {
      "text/plain": [
       "estado            0\n",
       "ano               0\n",
       "mes               0\n",
       "DTOBITO           0\n",
       "DTNASC        11742\n",
       "SEXO             22\n",
       "RACACOR        3171\n",
       "ASSISTMED     41804\n",
       "ESTCIV         8700\n",
       "ESC           28164\n",
       "OCUP          52217\n",
       "CODMUNRES         0\n",
       "CAUSABAS          0\n",
       "CAUSABAS_O      287\n",
       "LOCOCOR         460\n",
       "ano_tri           0\n",
       "ano_mes           0\n",
       "ano_nasc      11742\n",
       "dtype: int64"
      ]
     },
     "execution_count": 17,
     "metadata": {},
     "output_type": "execute_result"
    }
   ],
   "source": [
    "df.isnull().sum()"
   ]
  },
  {
   "cell_type": "code",
   "execution_count": 18,
   "id": "048030b3",
   "metadata": {},
   "outputs": [
    {
     "data": {
      "text/plain": [
       "estado                object\n",
       "ano                    int64\n",
       "mes                    int64\n",
       "DTOBITO       datetime64[ns]\n",
       "DTNASC        datetime64[ns]\n",
       "SEXO                  object\n",
       "RACACOR               object\n",
       "ASSISTMED             object\n",
       "ESTCIV                object\n",
       "ESC                   object\n",
       "OCUP                  object\n",
       "CODMUNRES             object\n",
       "CAUSABAS              object\n",
       "CAUSABAS_O            object\n",
       "LOCOCOR               object\n",
       "ano_tri        period[Q-DEC]\n",
       "ano_mes               object\n",
       "ano_nasc              object\n",
       "dtype: object"
      ]
     },
     "execution_count": 18,
     "metadata": {},
     "output_type": "execute_result"
    }
   ],
   "source": [
    "df.dtypes"
   ]
  },
  {
   "cell_type": "markdown",
   "id": "8cf5b8e8",
   "metadata": {},
   "source": [
    "# Analisando os dados "
   ]
  },
  {
   "cell_type": "markdown",
   "id": "e0379393",
   "metadata": {},
   "source": [
    "## Número suicídios no Brasil durante o período de 2010 a 2019"
   ]
  },
  {
   "cell_type": "code",
   "execution_count": 19,
   "id": "5ea961b0",
   "metadata": {},
   "outputs": [],
   "source": [
    "df_data = df.groupby('ano_mes').agg('size').reset_index()"
   ]
  },
  {
   "cell_type": "code",
   "execution_count": 20,
   "id": "39b141c0",
   "metadata": {},
   "outputs": [],
   "source": [
    "df_data.columns = ['ano_mes', 'size']"
   ]
  },
  {
   "cell_type": "code",
   "execution_count": 21,
   "id": "3de3a83d",
   "metadata": {
    "scrolled": false
   },
   "outputs": [
    {
     "data": {
      "image/png": "[encoded data removed]"
     },
     "metadata": {},
     "output_type": "display_data"
    }
   ],
   "source": [
    "fig = px.line(df_data, \n",
    "              x=df_data['ano_mes'], \n",
    "              y=df_data['size'],\n",
    "              labels=dict(y=\"Número de casos\"),\n",
    "              color_discrete_sequence=['#E74C3C'],\n",
    "              height=600,\n",
    "             width=1200,\n",
    "             template='ggplot2')\n",
    "fig.update_layout(yaxis_title='Número de suicídios',\n",
    "                  xaxis_title='Ano / Mês',\n",
    "                  title={\n",
    "                  'text': \"<b>Série Histórica dos suicídios no Brasil durante o período de 2010 a 2019</b><br><sup>Crescimento no número de casos de suicídio</sup>\",\n",
    "                  'xanchor': 'auto',\n",
    "                  'yanchor': 'top'},\n",
    "                  title_font_family=\"monospace\",\n",
    "                 title_font_size=25,\n",
    "                  font_size=18)\n",
    "fig.add_annotation( x='2019-05', \n",
    "                    y=1100,\n",
    "                    text=\"\",\n",
    "                    showarrow=True,\n",
    "                    arrowhead=2,\n",
    "                    arrowsize = 2,\n",
    "                    arrowcolor = 'black',\n",
    "                    ax = '2010-06',\n",
    "                    ay = 800,\n",
    "                    axref=\"x\",\n",
    "                    ayref='y',)\n",
    "fig.add_annotation( x='2015',\n",
    "                    y=1000,\n",
    "                    text=\"Aumento de 43.03%\",\n",
    "                    showarrow=True,\n",
    "                    font=dict(\n",
    "                    family=\"Courier New, monospace\",\n",
    "                    size=16,\n",
    "                    color=\"#ffffff\"),\n",
    "                    align=\"center\",\n",
    "                    bordercolor=\"#c7c7c7\",\n",
    "                    borderwidth=2,\n",
    "                    borderpad=4,\n",
    "                    bgcolor=\"grey\")\n",
    "fig.show('png')"
   ]
  },
  {
   "cell_type": "code",
   "execution_count": 22,
   "id": "0631c0a5",
   "metadata": {},
   "outputs": [],
   "source": [
    "df_ano = df.groupby('ano').agg('size').reset_index()"
   ]
  },
  {
   "cell_type": "code",
   "execution_count": 23,
   "id": "3d5941d1",
   "metadata": {},
   "outputs": [],
   "source": [
    "df_ano.columns = ['year', 'size']"
   ]
  },
  {
   "cell_type": "code",
   "execution_count": 24,
   "id": "e94ea63a",
   "metadata": {},
   "outputs": [],
   "source": [
    "df_pop_brasil = pd.merge(df_ano, df_pop,how='inner', on=\"year\")"
   ]
  },
  {
   "cell_type": "code",
   "execution_count": 25,
   "id": "8a5be1a3",
   "metadata": {},
   "outputs": [],
   "source": [
    "df_pop_brasil['taxa']= (df_pop_brasil['size']/df_pop_brasil['Brazil'])*100000"
   ]
  },
  {
   "cell_type": "code",
   "execution_count": 26,
   "id": "f83f0e32",
   "metadata": {},
   "outputs": [
    {
     "data": {
      "text/plain": [
       "32.641416209640475"
      ]
     },
     "execution_count": 26,
     "metadata": {},
     "output_type": "execute_result"
    }
   ],
   "source": [
    "((df_pop_brasil['taxa'][9]-df_pop_brasil['taxa'][0])/df_pop_brasil['taxa'][0])*100"
   ]
  },
  {
   "cell_type": "code",
   "execution_count": 27,
   "id": "6658449d",
   "metadata": {},
   "outputs": [
    {
     "data": {
      "image/png": "[encoded data removed]"
     },
     "metadata": {},
     "output_type": "display_data"
    }
   ],
   "source": [
    "fig = px.line(df_pop_brasil, \n",
    "              x=df_pop_brasil['year'], \n",
    "              y=df_pop_brasil['taxa'],\n",
    "              labels=dict(y=\"Número de casos\"),\n",
    "              color_discrete_sequence=['#E74C3C'],\n",
    "              height=600,\n",
    "             width=1200,\n",
    "             template='ggplot2')\n",
    "fig.update_layout(yaxis_title='Taxa de suicídio por 100 mil Habitantes',\n",
    "                  xaxis_title='Ano',\n",
    "                  title={\n",
    "                  'text': \"<b>Taxa de suicídio por 100 mil habitantes no Brasil</b><br><sup>Período de 2010 a 2019</sup>\",\n",
    "                  'xanchor': 'auto',\n",
    "                  'yanchor': 'top'},\n",
    "                  title_font_family=\"monospace\",\n",
    "                  title_font_size=25,\n",
    "                  font_size=20)\n",
    "fig.add_annotation( x='2018.5', \n",
    "                    y=6.2,\n",
    "                    text=\"\",\n",
    "                    showarrow=True,\n",
    "                    arrowhead=2,\n",
    "                    arrowsize = 2,\n",
    "                    arrowcolor = 'black',\n",
    "                    ax = '2010.5',\n",
    "                    ay = 4.9,\n",
    "                    axref=\"x\",\n",
    "                    ayref='y',)\n",
    "fig.add_annotation( x='2014.5',\n",
    "                    y=5.7,\n",
    "                    text=\"Aumento de 32.64%\",\n",
    "                    showarrow=True,\n",
    "                    font=dict(\n",
    "                    family=\"Courier New, monospace\",\n",
    "                    size=16,\n",
    "                    color=\"#ffffff\"),\n",
    "                    align=\"center\",\n",
    "                    bordercolor=\"#c7c7c7\",\n",
    "                    borderwidth=2,\n",
    "                    borderpad=4,\n",
    "                    bgcolor=\"grey\")\n",
    "fig.show('png')"
   ]
  },
  {
   "cell_type": "code",
   "execution_count": 28,
   "id": "1648f6bf",
   "metadata": {},
   "outputs": [],
   "source": [
    "df_ano =  df.groupby('ano').agg('size').reset_index()"
   ]
  },
  {
   "cell_type": "code",
   "execution_count": 29,
   "id": "078a72f1",
   "metadata": {},
   "outputs": [],
   "source": [
    "df_ano.columns = ['ano', 'size']"
   ]
  },
  {
   "cell_type": "code",
   "execution_count": 30,
   "id": "9458bbf3",
   "metadata": {},
   "outputs": [
    {
     "data": {
      "text/html": [
       "<div>\n",
       "<style scoped>\n",
       "    .dataframe tbody tr th:only-of-type {\n",
       "        vertical-align: middle;\n",
       "    }\n",
       "\n",
       "    .dataframe tbody tr th {\n",
       "        vertical-align: top;\n",
       "    }\n",
       "\n",
       "    .dataframe thead th {\n",
       "        text-align: right;\n",
       "    }\n",
       "</style>\n",
       "<table border=\"1\" class=\"dataframe\">\n",
       "  <thead>\n",
       "    <tr style=\"text-align: right;\">\n",
       "      <th></th>\n",
       "      <th>ano</th>\n",
       "      <th>size</th>\n",
       "    </tr>\n",
       "  </thead>\n",
       "  <tbody>\n",
       "    <tr>\n",
       "      <th>0</th>\n",
       "      <td>2010</td>\n",
       "      <td>9476</td>\n",
       "    </tr>\n",
       "    <tr>\n",
       "      <th>1</th>\n",
       "      <td>2011</td>\n",
       "      <td>9882</td>\n",
       "    </tr>\n",
       "    <tr>\n",
       "      <th>2</th>\n",
       "      <td>2012</td>\n",
       "      <td>10366</td>\n",
       "    </tr>\n",
       "    <tr>\n",
       "      <th>3</th>\n",
       "      <td>2013</td>\n",
       "      <td>10579</td>\n",
       "    </tr>\n",
       "    <tr>\n",
       "      <th>4</th>\n",
       "      <td>2014</td>\n",
       "      <td>10683</td>\n",
       "    </tr>\n",
       "    <tr>\n",
       "      <th>5</th>\n",
       "      <td>2015</td>\n",
       "      <td>11211</td>\n",
       "    </tr>\n",
       "    <tr>\n",
       "      <th>6</th>\n",
       "      <td>2016</td>\n",
       "      <td>11455</td>\n",
       "    </tr>\n",
       "    <tr>\n",
       "      <th>7</th>\n",
       "      <td>2017</td>\n",
       "      <td>12521</td>\n",
       "    </tr>\n",
       "    <tr>\n",
       "      <th>8</th>\n",
       "      <td>2018</td>\n",
       "      <td>12764</td>\n",
       "    </tr>\n",
       "    <tr>\n",
       "      <th>9</th>\n",
       "      <td>2019</td>\n",
       "      <td>13554</td>\n",
       "    </tr>\n",
       "  </tbody>\n",
       "</table>\n",
       "</div>"
      ],
      "text/plain": [
       "    ano   size\n",
       "0  2010   9476\n",
       "1  2011   9882\n",
       "2  2012  10366\n",
       "3  2013  10579\n",
       "4  2014  10683\n",
       "5  2015  11211\n",
       "6  2016  11455\n",
       "7  2017  12521\n",
       "8  2018  12764\n",
       "9  2019  13554"
      ]
     },
     "execution_count": 30,
     "metadata": {},
     "output_type": "execute_result"
    }
   ],
   "source": [
    "df_ano"
   ]
  },
  {
   "cell_type": "code",
   "execution_count": 31,
   "id": "6e6096a5",
   "metadata": {},
   "outputs": [
    {
     "data": {
      "text/plain": [
       "43.035035880118194"
      ]
     },
     "execution_count": 31,
     "metadata": {},
     "output_type": "execute_result"
    }
   ],
   "source": [
    "((df_ano['size'][9]- df_ano['size'][0])/df_ano['size'][0])*100"
   ]
  },
  {
   "cell_type": "markdown",
   "id": "c1dda0ac",
   "metadata": {},
   "source": [
    "# Comparação do Número de suicídios com o PIB Brasil\n",
    "### Correlação não implica casualidade"
   ]
  },
  {
   "cell_type": "code",
   "execution_count": 32,
   "id": "52ac62a5",
   "metadata": {},
   "outputs": [],
   "source": [
    "df_tri= df.groupby('ano_tri').agg('size').reset_index()"
   ]
  },
  {
   "cell_type": "code",
   "execution_count": 33,
   "id": "d8ecf5d4",
   "metadata": {},
   "outputs": [],
   "source": [
    "df_tri.columns=['ano/trimestre','size']"
   ]
  },
  {
   "cell_type": "code",
   "execution_count": 34,
   "id": "f973b257",
   "metadata": {},
   "outputs": [],
   "source": [
    "df_concat = pd.concat([df_pip,df_tri['size']] ,axis=1)"
   ]
  },
  {
   "cell_type": "code",
   "execution_count": 35,
   "id": "b4cdf5a2",
   "metadata": {},
   "outputs": [],
   "source": [
    "from sklearn.preprocessing import StandardScaler"
   ]
  },
  {
   "cell_type": "code",
   "execution_count": 36,
   "id": "066a2b47",
   "metadata": {},
   "outputs": [],
   "source": [
    "scaler = StandardScaler()"
   ]
  },
  {
   "cell_type": "code",
   "execution_count": 37,
   "id": "c2156c23",
   "metadata": {},
   "outputs": [],
   "source": [
    "df_scaler = pd.DataFrame(scaler.fit_transform(df_concat.loc[:,'PIP':'size']), columns=['PIP','size'])"
   ]
  },
  {
   "cell_type": "code",
   "execution_count": 38,
   "id": "a3f27cbe",
   "metadata": {},
   "outputs": [],
   "source": [
    "df_concat_scaler = pd.concat([df_concat['Trimestre/ano'],df_scaler], axis=1)"
   ]
  },
  {
   "cell_type": "code",
   "execution_count": 39,
   "id": "b42c9264",
   "metadata": {
    "scrolled": false
   },
   "outputs": [
    {
     "data": {
      "image/png": "[encoded data removed]"
     },
     "metadata": {},
     "output_type": "display_data"
    }
   ],
   "source": [
    "import plotly.graph_objects as go\n",
    "fig = go.Figure()\n",
    "fig.add_trace(go.Scatter(y=df_concat_scaler['size'], x=df_concat_scaler['Trimestre/ano'],\n",
    "                    mode='lines',\n",
    "                    name='Suicídios'))\n",
    "fig.add_trace(go.Scatter(y=df_concat_scaler['PIP'], x=df_concat_scaler['Trimestre/ano'],\n",
    "                    mode='lines',\n",
    "                    name='PIP'))\n",
    "fig.update_layout(title='Comparação do número de suicídios com a Taxa do PIP por trimestre no período de 2010 a 2019',\n",
    "                   xaxis_title='Trimestre / Ano',\n",
    "                  yaxis_title='Valor na mesma ordem de grandeza',\n",
    "                  height=600,\n",
    "                     width=1000,)\n",
    "fig.show('png')"
   ]
  },
  {
   "cell_type": "markdown",
   "id": "796b1310",
   "metadata": {},
   "source": [
    "# Número de suicídio por Estado durante o período de 2010 a 2019"
   ]
  },
  {
   "cell_type": "code",
   "execution_count": 40,
   "id": "64a36de0",
   "metadata": {},
   "outputs": [],
   "source": [
    "df_estado = df.groupby('estado').agg('size').reset_index()"
   ]
  },
  {
   "cell_type": "code",
   "execution_count": 41,
   "id": "54af8b9c",
   "metadata": {},
   "outputs": [],
   "source": [
    "df_estado.columns = ['estados', 'size']"
   ]
  },
  {
   "cell_type": "code",
   "execution_count": 42,
   "id": "b5e81862",
   "metadata": {},
   "outputs": [],
   "source": [
    "df_sui_pop = pd.merge(df_estado, df_censo,how='inner', on=\"estados\")"
   ]
  },
  {
   "cell_type": "code",
   "execution_count": 43,
   "id": "701fb5aa",
   "metadata": {},
   "outputs": [],
   "source": [
    "df_sui_pop['taxa']= (df_sui_pop['size']/df_sui_pop['censo2010'])*100000"
   ]
  },
  {
   "cell_type": "code",
   "execution_count": 44,
   "id": "63041062",
   "metadata": {},
   "outputs": [
    {
     "data": {
      "text/html": [
       "<div>\n",
       "<style scoped>\n",
       "    .dataframe tbody tr th:only-of-type {\n",
       "        vertical-align: middle;\n",
       "    }\n",
       "\n",
       "    .dataframe tbody tr th {\n",
       "        vertical-align: top;\n",
       "    }\n",
       "\n",
       "    .dataframe thead th {\n",
       "        text-align: right;\n",
       "    }\n",
       "</style>\n",
       "<table border=\"1\" class=\"dataframe\">\n",
       "  <thead>\n",
       "    <tr style=\"text-align: right;\">\n",
       "      <th></th>\n",
       "      <th>estados</th>\n",
       "      <th>size</th>\n",
       "      <th>censo2010</th>\n",
       "      <th>taxa</th>\n",
       "    </tr>\n",
       "  </thead>\n",
       "  <tbody>\n",
       "    <tr>\n",
       "      <th>22</th>\n",
       "      <td>RS</td>\n",
       "      <td>11860</td>\n",
       "      <td>10693929</td>\n",
       "      <td>110.904047</td>\n",
       "    </tr>\n",
       "    <tr>\n",
       "      <th>23</th>\n",
       "      <td>SC</td>\n",
       "      <td>6349</td>\n",
       "      <td>6248436</td>\n",
       "      <td>101.609427</td>\n",
       "    </tr>\n",
       "    <tr>\n",
       "      <th>11</th>\n",
       "      <td>MS</td>\n",
       "      <td>2290</td>\n",
       "      <td>2449024</td>\n",
       "      <td>93.506638</td>\n",
       "    </tr>\n",
       "  </tbody>\n",
       "</table>\n",
       "</div>"
      ],
      "text/plain": [
       "   estados   size  censo2010        taxa\n",
       "22      RS  11860   10693929  110.904047\n",
       "23      SC   6349    6248436  101.609427\n",
       "11      MS   2290    2449024   93.506638"
      ]
     },
     "execution_count": 44,
     "metadata": {},
     "output_type": "execute_result"
    }
   ],
   "source": [
    "df_sui_pop.sort_values(by='taxa',ascending=False)[:3]"
   ]
  },
  {
   "cell_type": "code",
   "execution_count": 45,
   "id": "37397d41",
   "metadata": {},
   "outputs": [
    {
     "data": {
      "text/html": [
       "<div>\n",
       "<style scoped>\n",
       "    .dataframe tbody tr th:only-of-type {\n",
       "        vertical-align: middle;\n",
       "    }\n",
       "\n",
       "    .dataframe tbody tr th {\n",
       "        vertical-align: top;\n",
       "    }\n",
       "\n",
       "    .dataframe thead th {\n",
       "        text-align: right;\n",
       "    }\n",
       "</style>\n",
       "<table border=\"1\" class=\"dataframe\">\n",
       "  <thead>\n",
       "    <tr style=\"text-align: right;\">\n",
       "      <th></th>\n",
       "      <th>estados</th>\n",
       "      <th>size</th>\n",
       "      <th>censo2010</th>\n",
       "      <th>taxa</th>\n",
       "    </tr>\n",
       "  </thead>\n",
       "  <tbody>\n",
       "    <tr>\n",
       "      <th>4</th>\n",
       "      <td>BA</td>\n",
       "      <td>5142</td>\n",
       "      <td>14016906</td>\n",
       "      <td>36.684273</td>\n",
       "    </tr>\n",
       "    <tr>\n",
       "      <th>13</th>\n",
       "      <td>PA</td>\n",
       "      <td>2640</td>\n",
       "      <td>7581051</td>\n",
       "      <td>34.823668</td>\n",
       "    </tr>\n",
       "    <tr>\n",
       "      <th>18</th>\n",
       "      <td>RJ</td>\n",
       "      <td>5373</td>\n",
       "      <td>15989929</td>\n",
       "      <td>33.602401</td>\n",
       "    </tr>\n",
       "  </tbody>\n",
       "</table>\n",
       "</div>"
      ],
      "text/plain": [
       "   estados  size  censo2010       taxa\n",
       "4       BA  5142   14016906  36.684273\n",
       "13      PA  2640    7581051  34.823668\n",
       "18      RJ  5373   15989929  33.602401"
      ]
     },
     "execution_count": 45,
     "metadata": {},
     "output_type": "execute_result"
    }
   ],
   "source": [
    "df_sui_pop.sort_values(by='taxa',ascending=False)[-3:]"
   ]
  },
  {
   "cell_type": "code",
   "execution_count": 46,
   "id": "4c8ef5e9",
   "metadata": {},
   "outputs": [],
   "source": [
    "df_estado_ano = pd.DataFrame(df.groupby(['ano','estado']).agg('size'))"
   ]
  },
  {
   "cell_type": "code",
   "execution_count": 47,
   "id": "fa2c58e5",
   "metadata": {},
   "outputs": [],
   "source": [
    "df_estado_ano.columns = [ 'size']"
   ]
  },
  {
   "cell_type": "code",
   "execution_count": 48,
   "id": "0836e13f",
   "metadata": {},
   "outputs": [],
   "source": [
    "geojson = json.load(open('brasil_estados.json'))"
   ]
  },
  {
   "cell_type": "code",
   "execution_count": 49,
   "id": "ae46c3de",
   "metadata": {
    "scrolled": false
   },
   "outputs": [
    {
     "data": {
      "image/png": "[encoded data removed]"
     },
     "metadata": {},
     "output_type": "display_data"
    }
   ],
   "source": [
    "mapa = px.choropleth_mapbox(df_sui_pop, geojson=geojson, locations='estados', color='taxa',\n",
    "                           color_continuous_scale=\"reds\",\n",
    "                           mapbox_style=\"white-bg\",\n",
    "                           zoom=3.3, center =  {\"lat\":-15 ,\"lon\":  -51},\n",
    "                           opacity=0.9,\n",
    "                           height=800, width=1000)\n",
    "\n",
    "mapa.update_geos(fitbounds=\"locations\", visible=False)\n",
    "mapa.update_layout(title={\n",
    "                'text': \"<b>Taxa de Suicídio por 100 mil habitantes dos estados</b><br><sup>Período de 2010 a 2019</sup>\",\n",
    "                'xanchor': 'left',\n",
    "                'yanchor': 'top'},\n",
    "                 title_font_family=\"monospace\",\n",
    "                  title_font_size=25)\n",
    "\n",
    "mapa.show('png')"
   ]
  },
  {
   "cell_type": "markdown",
   "id": "54f45902",
   "metadata": {},
   "source": [
    "## Número de suicídio por sexo"
   ]
  },
  {
   "cell_type": "code",
   "execution_count": 50,
   "id": "13977e44",
   "metadata": {},
   "outputs": [],
   "source": [
    "x = df.groupby(['SEXO'])['SEXO'].count()\n",
    "y=len(df)\n",
    "r=((x/y)).round(2)\n",
    "sex_ratio = pd.DataFrame(r).T"
   ]
  },
  {
   "cell_type": "code",
   "execution_count": 51,
   "id": "104df64f",
   "metadata": {},
   "outputs": [
    {
     "data": {
      "text/html": [
       "<div>\n",
       "<style scoped>\n",
       "    .dataframe tbody tr th:only-of-type {\n",
       "        vertical-align: middle;\n",
       "    }\n",
       "\n",
       "    .dataframe tbody tr th {\n",
       "        vertical-align: top;\n",
       "    }\n",
       "\n",
       "    .dataframe thead th {\n",
       "        text-align: right;\n",
       "    }\n",
       "</style>\n",
       "<table border=\"1\" class=\"dataframe\">\n",
       "  <thead>\n",
       "    <tr style=\"text-align: right;\">\n",
       "      <th></th>\n",
       "      <th></th>\n",
       "      <th>SEXO</th>\n",
       "    </tr>\n",
       "    <tr>\n",
       "      <th>ano</th>\n",
       "      <th>SEXO</th>\n",
       "      <th></th>\n",
       "    </tr>\n",
       "  </thead>\n",
       "  <tbody>\n",
       "    <tr>\n",
       "      <th rowspan=\"2\" valign=\"top\">2010</th>\n",
       "      <th>Feminino</th>\n",
       "      <td>2084</td>\n",
       "    </tr>\n",
       "    <tr>\n",
       "      <th>Masculino</th>\n",
       "      <td>7392</td>\n",
       "    </tr>\n",
       "    <tr>\n",
       "      <th rowspan=\"2\" valign=\"top\">2011</th>\n",
       "      <th>Feminino</th>\n",
       "      <td>2101</td>\n",
       "    </tr>\n",
       "    <tr>\n",
       "      <th>Masculino</th>\n",
       "      <td>7780</td>\n",
       "    </tr>\n",
       "    <tr>\n",
       "      <th rowspan=\"2\" valign=\"top\">2012</th>\n",
       "      <th>Feminino</th>\n",
       "      <td>2273</td>\n",
       "    </tr>\n",
       "    <tr>\n",
       "      <th>Masculino</th>\n",
       "      <td>8090</td>\n",
       "    </tr>\n",
       "    <tr>\n",
       "      <th rowspan=\"2\" valign=\"top\">2013</th>\n",
       "      <th>Feminino</th>\n",
       "      <td>2235</td>\n",
       "    </tr>\n",
       "    <tr>\n",
       "      <th>Masculino</th>\n",
       "      <td>8343</td>\n",
       "    </tr>\n",
       "    <tr>\n",
       "      <th rowspan=\"2\" valign=\"top\">2014</th>\n",
       "      <th>Feminino</th>\n",
       "      <td>2244</td>\n",
       "    </tr>\n",
       "    <tr>\n",
       "      <th>Masculino</th>\n",
       "      <td>8438</td>\n",
       "    </tr>\n",
       "    <tr>\n",
       "      <th rowspan=\"2\" valign=\"top\">2015</th>\n",
       "      <th>Feminino</th>\n",
       "      <td>2405</td>\n",
       "    </tr>\n",
       "    <tr>\n",
       "      <th>Masculino</th>\n",
       "      <td>8804</td>\n",
       "    </tr>\n",
       "    <tr>\n",
       "      <th rowspan=\"2\" valign=\"top\">2016</th>\n",
       "      <th>Feminino</th>\n",
       "      <td>2386</td>\n",
       "    </tr>\n",
       "    <tr>\n",
       "      <th>Masculino</th>\n",
       "      <td>9067</td>\n",
       "    </tr>\n",
       "    <tr>\n",
       "      <th rowspan=\"2\" valign=\"top\">2017</th>\n",
       "      <th>Feminino</th>\n",
       "      <td>2676</td>\n",
       "    </tr>\n",
       "    <tr>\n",
       "      <th>Masculino</th>\n",
       "      <td>9840</td>\n",
       "    </tr>\n",
       "    <tr>\n",
       "      <th rowspan=\"2\" valign=\"top\">2018</th>\n",
       "      <th>Feminino</th>\n",
       "      <td>2739</td>\n",
       "    </tr>\n",
       "    <tr>\n",
       "      <th>Masculino</th>\n",
       "      <td>10020</td>\n",
       "    </tr>\n",
       "    <tr>\n",
       "      <th rowspan=\"2\" valign=\"top\">2019</th>\n",
       "      <th>Feminino</th>\n",
       "      <td>2932</td>\n",
       "    </tr>\n",
       "    <tr>\n",
       "      <th>Masculino</th>\n",
       "      <td>10620</td>\n",
       "    </tr>\n",
       "  </tbody>\n",
       "</table>\n",
       "</div>"
      ],
      "text/plain": [
       "                 SEXO\n",
       "ano  SEXO            \n",
       "2010 Feminino    2084\n",
       "     Masculino   7392\n",
       "2011 Feminino    2101\n",
       "     Masculino   7780\n",
       "2012 Feminino    2273\n",
       "     Masculino   8090\n",
       "2013 Feminino    2235\n",
       "     Masculino   8343\n",
       "2014 Feminino    2244\n",
       "     Masculino   8438\n",
       "2015 Feminino    2405\n",
       "     Masculino   8804\n",
       "2016 Feminino    2386\n",
       "     Masculino   9067\n",
       "2017 Feminino    2676\n",
       "     Masculino   9840\n",
       "2018 Feminino    2739\n",
       "     Masculino  10020\n",
       "2019 Feminino    2932\n",
       "     Masculino  10620"
      ]
     },
     "execution_count": 51,
     "metadata": {},
     "output_type": "execute_result"
    }
   ],
   "source": [
    "k = df.groupby(['ano','SEXO'])['SEXO'].count()\n",
    "k_df = pd.DataFrame(k)\n",
    "k_df"
   ]
  },
  {
   "cell_type": "code",
   "execution_count": 52,
   "id": "cbea1853",
   "metadata": {},
   "outputs": [
    {
     "data": {
      "text/plain": [
       "array([2010, 2011, 2012, 2013, 2014, 2015, 2016, 2017, 2018, 2019])"
      ]
     },
     "execution_count": 52,
     "metadata": {},
     "output_type": "execute_result"
    }
   ],
   "source": [
    "df['ano'].unique()"
   ]
  },
  {
   "cell_type": "code",
   "execution_count": 53,
   "id": "ff130a90",
   "metadata": {},
   "outputs": [
    {
     "data": {
      "text/html": [
       "<div>\n",
       "<style scoped>\n",
       "    .dataframe tbody tr th:only-of-type {\n",
       "        vertical-align: middle;\n",
       "    }\n",
       "\n",
       "    .dataframe tbody tr th {\n",
       "        vertical-align: top;\n",
       "    }\n",
       "\n",
       "    .dataframe thead th {\n",
       "        text-align: right;\n",
       "    }\n",
       "</style>\n",
       "<table border=\"1\" class=\"dataframe\">\n",
       "  <thead>\n",
       "    <tr style=\"text-align: right;\">\n",
       "      <th></th>\n",
       "      <th></th>\n",
       "      <th>SEXO</th>\n",
       "    </tr>\n",
       "    <tr>\n",
       "      <th>ano</th>\n",
       "      <th>SEXO</th>\n",
       "      <th></th>\n",
       "    </tr>\n",
       "  </thead>\n",
       "  <tbody>\n",
       "    <tr>\n",
       "      <th rowspan=\"2\" valign=\"top\">2010</th>\n",
       "      <th>Feminino</th>\n",
       "      <td>0.22</td>\n",
       "    </tr>\n",
       "    <tr>\n",
       "      <th>Masculino</th>\n",
       "      <td>0.78</td>\n",
       "    </tr>\n",
       "    <tr>\n",
       "      <th rowspan=\"2\" valign=\"top\">2011</th>\n",
       "      <th>Feminino</th>\n",
       "      <td>0.21</td>\n",
       "    </tr>\n",
       "    <tr>\n",
       "      <th>Masculino</th>\n",
       "      <td>0.79</td>\n",
       "    </tr>\n",
       "    <tr>\n",
       "      <th rowspan=\"2\" valign=\"top\">2012</th>\n",
       "      <th>Feminino</th>\n",
       "      <td>0.22</td>\n",
       "    </tr>\n",
       "    <tr>\n",
       "      <th>Masculino</th>\n",
       "      <td>0.78</td>\n",
       "    </tr>\n",
       "    <tr>\n",
       "      <th rowspan=\"2\" valign=\"top\">2013</th>\n",
       "      <th>Feminino</th>\n",
       "      <td>0.21</td>\n",
       "    </tr>\n",
       "    <tr>\n",
       "      <th>Masculino</th>\n",
       "      <td>0.79</td>\n",
       "    </tr>\n",
       "    <tr>\n",
       "      <th rowspan=\"2\" valign=\"top\">2014</th>\n",
       "      <th>Feminino</th>\n",
       "      <td>0.21</td>\n",
       "    </tr>\n",
       "    <tr>\n",
       "      <th>Masculino</th>\n",
       "      <td>0.79</td>\n",
       "    </tr>\n",
       "    <tr>\n",
       "      <th rowspan=\"2\" valign=\"top\">2015</th>\n",
       "      <th>Feminino</th>\n",
       "      <td>0.21</td>\n",
       "    </tr>\n",
       "    <tr>\n",
       "      <th>Masculino</th>\n",
       "      <td>0.79</td>\n",
       "    </tr>\n",
       "    <tr>\n",
       "      <th rowspan=\"2\" valign=\"top\">2016</th>\n",
       "      <th>Feminino</th>\n",
       "      <td>0.21</td>\n",
       "    </tr>\n",
       "    <tr>\n",
       "      <th>Masculino</th>\n",
       "      <td>0.79</td>\n",
       "    </tr>\n",
       "    <tr>\n",
       "      <th rowspan=\"2\" valign=\"top\">2017</th>\n",
       "      <th>Feminino</th>\n",
       "      <td>0.21</td>\n",
       "    </tr>\n",
       "    <tr>\n",
       "      <th>Masculino</th>\n",
       "      <td>0.79</td>\n",
       "    </tr>\n",
       "    <tr>\n",
       "      <th rowspan=\"2\" valign=\"top\">2018</th>\n",
       "      <th>Feminino</th>\n",
       "      <td>0.21</td>\n",
       "    </tr>\n",
       "    <tr>\n",
       "      <th>Masculino</th>\n",
       "      <td>0.79</td>\n",
       "    </tr>\n",
       "    <tr>\n",
       "      <th rowspan=\"2\" valign=\"top\">2019</th>\n",
       "      <th>Feminino</th>\n",
       "      <td>0.22</td>\n",
       "    </tr>\n",
       "    <tr>\n",
       "      <th>Masculino</th>\n",
       "      <td>0.78</td>\n",
       "    </tr>\n",
       "  </tbody>\n",
       "</table>\n",
       "</div>"
      ],
      "text/plain": [
       "                SEXO\n",
       "ano  SEXO           \n",
       "2010 Feminino   0.22\n",
       "     Masculino  0.78\n",
       "2011 Feminino   0.21\n",
       "     Masculino  0.79\n",
       "2012 Feminino   0.22\n",
       "     Masculino  0.78\n",
       "2013 Feminino   0.21\n",
       "     Masculino  0.79\n",
       "2014 Feminino   0.21\n",
       "     Masculino  0.79\n",
       "2015 Feminino   0.21\n",
       "     Masculino  0.79\n",
       "2016 Feminino   0.21\n",
       "     Masculino  0.79\n",
       "2017 Feminino   0.21\n",
       "     Masculino  0.79\n",
       "2018 Feminino   0.21\n",
       "     Masculino  0.79\n",
       "2019 Feminino   0.22\n",
       "     Masculino  0.78"
      ]
     },
     "execution_count": 53,
     "metadata": {},
     "output_type": "execute_result"
    }
   ],
   "source": [
    "for ano in df['ano'].unique():\n",
    "    divisor = k_df.loc[(ano)].sum()\n",
    "    k_df.loc[(ano, \"Feminino\")]=(k_df.loc[(ano, \"Feminino\")]/divisor).round(2)\n",
    "    k_df.loc[(ano, \"Masculino\")]=(k_df.loc[(ano, \"Masculino\")]/divisor).round(2)\n",
    "k_df"
   ]
  },
  {
   "cell_type": "code",
   "execution_count": 54,
   "id": "777b3818",
   "metadata": {},
   "outputs": [
    {
     "data": {
      "text/plain": [
       "Index(['SEXO'], dtype='object')"
      ]
     },
     "execution_count": 54,
     "metadata": {},
     "output_type": "execute_result"
    }
   ],
   "source": [
    "k_df.loc[(ano)].T.index"
   ]
  },
  {
   "cell_type": "code",
   "execution_count": 55,
   "id": "01564a28",
   "metadata": {},
   "outputs": [
    {
     "data": {
      "text/html": [
       "<div>\n",
       "<style scoped>\n",
       "    .dataframe tbody tr th:only-of-type {\n",
       "        vertical-align: middle;\n",
       "    }\n",
       "\n",
       "    .dataframe tbody tr th {\n",
       "        vertical-align: top;\n",
       "    }\n",
       "\n",
       "    .dataframe thead th {\n",
       "        text-align: right;\n",
       "    }\n",
       "</style>\n",
       "<table border=\"1\" class=\"dataframe\">\n",
       "  <thead>\n",
       "    <tr style=\"text-align: right;\">\n",
       "      <th>SEXO</th>\n",
       "      <th>Feminino</th>\n",
       "      <th>Masculino</th>\n",
       "    </tr>\n",
       "  </thead>\n",
       "  <tbody>\n",
       "    <tr>\n",
       "      <th>SEXO</th>\n",
       "      <td>0.21</td>\n",
       "      <td>0.79</td>\n",
       "    </tr>\n",
       "  </tbody>\n",
       "</table>\n",
       "</div>"
      ],
      "text/plain": [
       "SEXO  Feminino  Masculino\n",
       "SEXO      0.21       0.79"
      ]
     },
     "execution_count": 55,
     "metadata": {},
     "output_type": "execute_result"
    }
   ],
   "source": [
    "sex_ratio"
   ]
  },
  {
   "cell_type": "code",
   "execution_count": 56,
   "id": "40023a86",
   "metadata": {},
   "outputs": [
    {
     "data": {
      "image/png": "[encoded data removed]",
      "text/plain": [
       "<Figure size 864x180 with 1 Axes>"
      ]
     },
     "metadata": {},
     "output_type": "display_data"
    }
   ],
   "source": [
    "fig, ax = plt.subplots(1,1,figsize=(12, 2.5))\n",
    "\n",
    "ax.barh(sex_ratio.index, sex_ratio['Masculino'], \n",
    "        color='#7B241C', alpha=1, label='Masculino')\n",
    "ax.barh(sex_ratio.index, sex_ratio['Feminino'], left=sex_ratio['Masculino'], \n",
    "        color='#C0392B', alpha=1, label='Feminino')\n",
    "\n",
    "ax.set_xlim(0, 1)\n",
    "ax.set_xticks([])\n",
    "ax.set_yticks([])\n",
    "\n",
    "# male percentage\n",
    "for i in sex_ratio.index:\n",
    "    ax.annotate(f\"{int(sex_ratio['Masculino'][i]*100)}%\", \n",
    "                   xy=(sex_ratio['Masculino'][i]/2, i),\n",
    "                   va = 'center', ha='center',fontsize=60, fontweight='light', fontfamily='serif',\n",
    "                   color='white')\n",
    "\n",
    "    ax.annotate(\"Masculino\", \n",
    "                   xy=(sex_ratio['Masculino'][i]/2, -0.25),\n",
    "                   va = 'center', ha='center',fontsize=12, fontweight='light', fontfamily='serif',\n",
    "                   color='white')\n",
    "    \n",
    "    \n",
    "for i in sex_ratio.index:\n",
    "    ax.annotate(f\"{int(sex_ratio['Feminino'][i]*100)}%\", \n",
    "                   xy=(sex_ratio['Masculino'][i]+sex_ratio['Feminino'][i]/2, i),\n",
    "                   va = 'center', ha='center',fontsize=60, fontweight='light', fontfamily='serif',\n",
    "                   color='white')\n",
    "    ax.annotate(\"Feminino\", \n",
    "                   xy=(sex_ratio['Masculino'][i]+sex_ratio['Feminino'][i]/2, -0.25),\n",
    "                   va = 'center', ha='center',fontsize=12, fontweight='light', fontfamily='serif',\n",
    "                   color='white')\n",
    "\n",
    "\n",
    "# Title & Subtitle\n",
    "fig.text(0.125,1.03,'Distribuição dos suicídios por Sexo ', fontfamily='serif',fontsize=20, fontweight='bold')\n",
    "fig.text(0.125,0.92,'No período de 2010 a 2019',fontfamily='serif',fontsize=12)  \n",
    "\n",
    "for s in ['top', 'left', 'right', 'bottom']:\n",
    "    ax.spines[s].set_visible(False)\n",
    "\n",
    "# Removing legend due to labelled plot\n",
    "ax.legend().set_visible(False)\n",
    "plt.show()"
   ]
  },
  {
   "cell_type": "code",
   "execution_count": 57,
   "id": "f022876a",
   "metadata": {},
   "outputs": [],
   "source": [
    "data = {'Masculino':round((sex_ratio['Masculino']['SEXO']*100), 2),\n",
    "       'Feminino':round((sex_ratio['Feminino']['SEXO']*100), 2)}"
   ]
  },
  {
   "cell_type": "code",
   "execution_count": 58,
   "id": "30445843",
   "metadata": {},
   "outputs": [
    {
     "data": {
      "image/png": "[encoded data removed]",
      "text/plain": [
       "<Waffle size 1080x432 with 1 Axes>"
      ]
     },
     "metadata": {
      "needs_background": "light"
     },
     "output_type": "display_data"
    }
   ],
   "source": [
    "data = {'Masculino':round((sex_ratio['Masculino']['SEXO']*100), 2),\n",
    "       'Feminino':round((sex_ratio['Feminino']['SEXO']*100), 2)}\n",
    "font_title = {'family': 'sans-serif', 'color':'#424949','weight': 'normal','size': 25}\n",
    "\n",
    "fig = plt.figure(\n",
    "      FigureClass = Waffle,\n",
    "      rows = 5,\n",
    "      columns = 20,\n",
    "      colors = ('#7B241C', '#515A5A'),\n",
    "      values = data, icons = ['male', 'female'], icon_size = 23,\n",
    "      title = {'label':'Porcentagem de vítimas Masculinas e Femininas',\n",
    "               'loc': 'center', 'fontdict':font_title},\n",
    "      labels = [f\"{k} ({round(v / sum(data.values()) * 100)}%)\" for k, v in data.items()],\n",
    "      legend = {        \n",
    "        'loc': 'lower left',\n",
    "        'bbox_to_anchor': (0, -0.25),\n",
    "        'ncol': len(data),\n",
    "        'framealpha': 0,\n",
    "        'fontsize': 15\n",
    "    },\n",
    "      icon_legend = True,\n",
    "      figsize=(15,6)\n",
    ")\n",
    "fig.set_tight_layout(False)\n",
    "plt.show();"
   ]
  },
  {
   "cell_type": "markdown",
   "id": "6d34a234",
   "metadata": {},
   "source": [
    "# Número de suicídio por RAÇA / COR no período de 2010 a 2019"
   ]
  },
  {
   "cell_type": "code",
   "execution_count": 59,
   "id": "d7911480",
   "metadata": {},
   "outputs": [
    {
     "data": {
      "text/plain": [
       "array(['Parda', 'Preta', nan, 'Branca', 'Amarela', 'Indígena'],\n",
       "      dtype=object)"
      ]
     },
     "execution_count": 59,
     "metadata": {},
     "output_type": "execute_result"
    }
   ],
   "source": [
    "df['RACACOR'].unique()"
   ]
  },
  {
   "cell_type": "code",
   "execution_count": 60,
   "id": "b5b3e0f0",
   "metadata": {},
   "outputs": [],
   "source": [
    "df['RACACOR'].fillna('Não Informado', inplace=True)"
   ]
  },
  {
   "cell_type": "code",
   "execution_count": 61,
   "id": "d1fca874",
   "metadata": {},
   "outputs": [],
   "source": [
    "df_raca = df.groupby(['RACACOR']).agg('size').reset_index()"
   ]
  },
  {
   "cell_type": "code",
   "execution_count": 62,
   "id": "04e2aea0",
   "metadata": {},
   "outputs": [],
   "source": [
    "df_raca.columns = ['RACACOR', 'size']"
   ]
  },
  {
   "cell_type": "code",
   "execution_count": 63,
   "id": "fa5b65f8",
   "metadata": {},
   "outputs": [],
   "source": [
    "df_raca.sort_values(by='size', ascending=False,inplace=True)"
   ]
  },
  {
   "cell_type": "code",
   "execution_count": 64,
   "id": "c4953994",
   "metadata": {},
   "outputs": [],
   "source": [
    "df_raca.reset_index(drop=True , inplace=True)"
   ]
  },
  {
   "cell_type": "code",
   "execution_count": 65,
   "id": "e5231e03",
   "metadata": {},
   "outputs": [
    {
     "data": {
      "text/plain": [
       "49.84843231902997"
      ]
     },
     "execution_count": 65,
     "metadata": {},
     "output_type": "execute_result"
    }
   ],
   "source": [
    "df_raca['size'][0]*100/df_raca['size'].sum()"
   ]
  },
  {
   "cell_type": "code",
   "execution_count": 66,
   "id": "2bbd26c4",
   "metadata": {},
   "outputs": [
    {
     "data": {
      "text/plain": [
       "40.62102745997458"
      ]
     },
     "execution_count": 66,
     "metadata": {},
     "output_type": "execute_result"
    }
   ],
   "source": [
    "df_raca['size'][1]*100/df_raca['size'].sum()"
   ]
  },
  {
   "cell_type": "code",
   "execution_count": 87,
   "id": "f1638168",
   "metadata": {},
   "outputs": [],
   "source": [
    "df_raca_ano = pd.DataFrame(df.groupby(['ano','RACACOR']).agg('size'))"
   ]
  },
  {
   "cell_type": "code",
   "execution_count": 88,
   "id": "485e1503",
   "metadata": {},
   "outputs": [],
   "source": [
    "df_raca_ano.columns=['size']"
   ]
  },
  {
   "cell_type": "code",
   "execution_count": 93,
   "id": "2612c37a",
   "metadata": {},
   "outputs": [
    {
     "data": {
      "text/plain": [
       "Index(['Branca', 'Parda', 'Preta', 'Não Informado', 'Indígena', 'Amarela'], dtype='object', name='RACACOR')"
      ]
     },
     "execution_count": 93,
     "metadata": {},
     "output_type": "execute_result"
    }
   ],
   "source": [
    "df_raca_ano.loc[(2010)].sort_values(by='size', ascending=False).index"
   ]
  },
  {
   "cell_type": "code",
   "execution_count": 75,
   "id": "1df6748b",
   "metadata": {},
   "outputs": [
    {
     "data": {
      "image/png": "[encoded data removed]"
     },
     "metadata": {},
     "output_type": "display_data"
    }
   ],
   "source": [
    "fig = px.bar(df_raca, y=\"size\", x=\"RACACOR\",\n",
    "             color='RACACOR',\n",
    "            title='Número de suicídio por RAÇA / COR no período de 2010 a 2019',\n",
    "            color_discrete_sequence=['#7B241C','#C0392B','#CD6155','#D98880','#F2D7D5','#F9EBEA'],\n",
    "            height=600,\n",
    "             width=1000,text='size',\n",
    "            template ='ggplot2')\n",
    "fig.update_layout(yaxis_title='Número de Suicídios',\n",
    "                 xaxis_title='RAÇA / COR',\n",
    "                 font=dict(\n",
    "                family=\"Courier New, monospace\",\n",
    "                size=18),\n",
    "                  title={\n",
    "                  'text': \"<b>Número de suicídio por RAÇA / COR no período de 2010 a 2019</b><br><sup>Brancos e pardos representam o maior número de suicídios</sup>\",\n",
    "                  'xanchor': 'auto',\n",
    "                  'yanchor': 'top'},\n",
    "                  title_font_family=\"monospace\",\n",
    "                  title_font_size=20)\n",
    "fig.update_traces(texttemplate='%{text:.2s}', textposition='inside')\n",
    "fig.update_layout(uniformtext_minsize=40, uniformtext_mode='hide')\n",
    "fig.show(\"png\")"
   ]
  },
  {
   "cell_type": "markdown",
   "id": "fdae6d86",
   "metadata": {},
   "source": [
    "# Número de suicídio por estado civil no período de 2010 a 2019"
   ]
  },
  {
   "cell_type": "code",
   "execution_count": 94,
   "id": "d57d9c08",
   "metadata": {},
   "outputs": [
    {
     "data": {
      "text/plain": [
       "array(['Solteiro/a', 'Casado/a', nan, 'Viúvo/a',\n",
       "       'Separado/a judicialmente', 'União consensual'], dtype=object)"
      ]
     },
     "execution_count": 94,
     "metadata": {},
     "output_type": "execute_result"
    }
   ],
   "source": [
    "df['ESTCIV'].unique()"
   ]
  },
  {
   "cell_type": "code",
   "execution_count": 95,
   "id": "a70c31b3",
   "metadata": {},
   "outputs": [
    {
     "data": {
      "text/plain": [
       "8700"
      ]
     },
     "execution_count": 95,
     "metadata": {},
     "output_type": "execute_result"
    }
   ],
   "source": [
    "df['ESTCIV'].isnull().sum()"
   ]
  },
  {
   "cell_type": "code",
   "execution_count": 96,
   "id": "4d7e699d",
   "metadata": {},
   "outputs": [],
   "source": [
    "df['ESTCIV'].fillna('Não Informado', inplace=True)"
   ]
  },
  {
   "cell_type": "code",
   "execution_count": 97,
   "id": "364dfa93",
   "metadata": {},
   "outputs": [],
   "source": [
    "df_estciv = df.groupby('ESTCIV').agg('size').reset_index()"
   ]
  },
  {
   "cell_type": "code",
   "execution_count": 98,
   "id": "88192103",
   "metadata": {},
   "outputs": [],
   "source": [
    "df_estciv_ano = pd.DataFrame(df.groupby(['ano','ESTCIV']).agg('size'))"
   ]
  },
  {
   "cell_type": "code",
   "execution_count": 99,
   "id": "fdff9182",
   "metadata": {},
   "outputs": [
    {
     "data": {
      "text/html": [
       "<div>\n",
       "<style scoped>\n",
       "    .dataframe tbody tr th:only-of-type {\n",
       "        vertical-align: middle;\n",
       "    }\n",
       "\n",
       "    .dataframe tbody tr th {\n",
       "        vertical-align: top;\n",
       "    }\n",
       "\n",
       "    .dataframe thead th {\n",
       "        text-align: right;\n",
       "    }\n",
       "</style>\n",
       "<table border=\"1\" class=\"dataframe\">\n",
       "  <thead>\n",
       "    <tr style=\"text-align: right;\">\n",
       "      <th></th>\n",
       "      <th></th>\n",
       "      <th>0</th>\n",
       "    </tr>\n",
       "    <tr>\n",
       "      <th>ano</th>\n",
       "      <th>ESTCIV</th>\n",
       "      <th></th>\n",
       "    </tr>\n",
       "  </thead>\n",
       "  <tbody>\n",
       "    <tr>\n",
       "      <th rowspan=\"6\" valign=\"top\">2010</th>\n",
       "      <th>Casado/a</th>\n",
       "      <td>2783</td>\n",
       "    </tr>\n",
       "    <tr>\n",
       "      <th>Não Informado</th>\n",
       "      <td>670</td>\n",
       "    </tr>\n",
       "    <tr>\n",
       "      <th>Separado/a judicialmente</th>\n",
       "      <td>613</td>\n",
       "    </tr>\n",
       "    <tr>\n",
       "      <th>Solteiro/a</th>\n",
       "      <td>4966</td>\n",
       "    </tr>\n",
       "    <tr>\n",
       "      <th>União consensual</th>\n",
       "      <td>35</td>\n",
       "    </tr>\n",
       "    <tr>\n",
       "      <th>Viúvo/a</th>\n",
       "      <td>409</td>\n",
       "    </tr>\n",
       "    <tr>\n",
       "      <th rowspan=\"6\" valign=\"top\">2011</th>\n",
       "      <th>Casado/a</th>\n",
       "      <td>2769</td>\n",
       "    </tr>\n",
       "    <tr>\n",
       "      <th>Não Informado</th>\n",
       "      <td>887</td>\n",
       "    </tr>\n",
       "    <tr>\n",
       "      <th>Separado/a judicialmente</th>\n",
       "      <td>614</td>\n",
       "    </tr>\n",
       "    <tr>\n",
       "      <th>Solteiro/a</th>\n",
       "      <td>4917</td>\n",
       "    </tr>\n",
       "    <tr>\n",
       "      <th>União consensual</th>\n",
       "      <td>318</td>\n",
       "    </tr>\n",
       "    <tr>\n",
       "      <th>Viúvo/a</th>\n",
       "      <td>377</td>\n",
       "    </tr>\n",
       "    <tr>\n",
       "      <th rowspan=\"6\" valign=\"top\">2012</th>\n",
       "      <th>Casado/a</th>\n",
       "      <td>2848</td>\n",
       "    </tr>\n",
       "    <tr>\n",
       "      <th>Não Informado</th>\n",
       "      <td>868</td>\n",
       "    </tr>\n",
       "    <tr>\n",
       "      <th>Separado/a judicialmente</th>\n",
       "      <td>702</td>\n",
       "    </tr>\n",
       "    <tr>\n",
       "      <th>Solteiro/a</th>\n",
       "      <td>5017</td>\n",
       "    </tr>\n",
       "    <tr>\n",
       "      <th>União consensual</th>\n",
       "      <td>521</td>\n",
       "    </tr>\n",
       "    <tr>\n",
       "      <th>Viúvo/a</th>\n",
       "      <td>410</td>\n",
       "    </tr>\n",
       "    <tr>\n",
       "      <th rowspan=\"6\" valign=\"top\">2013</th>\n",
       "      <th>Casado/a</th>\n",
       "      <td>2791</td>\n",
       "    </tr>\n",
       "    <tr>\n",
       "      <th>Não Informado</th>\n",
       "      <td>900</td>\n",
       "    </tr>\n",
       "    <tr>\n",
       "      <th>Separado/a judicialmente</th>\n",
       "      <td>737</td>\n",
       "    </tr>\n",
       "    <tr>\n",
       "      <th>Solteiro/a</th>\n",
       "      <td>5215</td>\n",
       "    </tr>\n",
       "    <tr>\n",
       "      <th>União consensual</th>\n",
       "      <td>529</td>\n",
       "    </tr>\n",
       "    <tr>\n",
       "      <th>Viúvo/a</th>\n",
       "      <td>407</td>\n",
       "    </tr>\n",
       "    <tr>\n",
       "      <th rowspan=\"6\" valign=\"top\">2014</th>\n",
       "      <th>Casado/a</th>\n",
       "      <td>2854</td>\n",
       "    </tr>\n",
       "    <tr>\n",
       "      <th>Não Informado</th>\n",
       "      <td>826</td>\n",
       "    </tr>\n",
       "    <tr>\n",
       "      <th>Separado/a judicialmente</th>\n",
       "      <td>717</td>\n",
       "    </tr>\n",
       "    <tr>\n",
       "      <th>Solteiro/a</th>\n",
       "      <td>5331</td>\n",
       "    </tr>\n",
       "    <tr>\n",
       "      <th>União consensual</th>\n",
       "      <td>542</td>\n",
       "    </tr>\n",
       "    <tr>\n",
       "      <th>Viúvo/a</th>\n",
       "      <td>413</td>\n",
       "    </tr>\n",
       "    <tr>\n",
       "      <th rowspan=\"6\" valign=\"top\">2015</th>\n",
       "      <th>Casado/a</th>\n",
       "      <td>2963</td>\n",
       "    </tr>\n",
       "    <tr>\n",
       "      <th>Não Informado</th>\n",
       "      <td>790</td>\n",
       "    </tr>\n",
       "    <tr>\n",
       "      <th>Separado/a judicialmente</th>\n",
       "      <td>755</td>\n",
       "    </tr>\n",
       "    <tr>\n",
       "      <th>Solteiro/a</th>\n",
       "      <td>5632</td>\n",
       "    </tr>\n",
       "    <tr>\n",
       "      <th>União consensual</th>\n",
       "      <td>604</td>\n",
       "    </tr>\n",
       "    <tr>\n",
       "      <th>Viúvo/a</th>\n",
       "      <td>467</td>\n",
       "    </tr>\n",
       "    <tr>\n",
       "      <th rowspan=\"6\" valign=\"top\">2016</th>\n",
       "      <th>Casado/a</th>\n",
       "      <td>3097</td>\n",
       "    </tr>\n",
       "    <tr>\n",
       "      <th>Não Informado</th>\n",
       "      <td>838</td>\n",
       "    </tr>\n",
       "    <tr>\n",
       "      <th>Separado/a judicialmente</th>\n",
       "      <td>810</td>\n",
       "    </tr>\n",
       "    <tr>\n",
       "      <th>Solteiro/a</th>\n",
       "      <td>5678</td>\n",
       "    </tr>\n",
       "    <tr>\n",
       "      <th>União consensual</th>\n",
       "      <td>629</td>\n",
       "    </tr>\n",
       "    <tr>\n",
       "      <th>Viúvo/a</th>\n",
       "      <td>403</td>\n",
       "    </tr>\n",
       "    <tr>\n",
       "      <th rowspan=\"6\" valign=\"top\">2017</th>\n",
       "      <th>Casado/a</th>\n",
       "      <td>3281</td>\n",
       "    </tr>\n",
       "    <tr>\n",
       "      <th>Não Informado</th>\n",
       "      <td>899</td>\n",
       "    </tr>\n",
       "    <tr>\n",
       "      <th>Separado/a judicialmente</th>\n",
       "      <td>931</td>\n",
       "    </tr>\n",
       "    <tr>\n",
       "      <th>Solteiro/a</th>\n",
       "      <td>6297</td>\n",
       "    </tr>\n",
       "    <tr>\n",
       "      <th>União consensual</th>\n",
       "      <td>664</td>\n",
       "    </tr>\n",
       "    <tr>\n",
       "      <th>Viúvo/a</th>\n",
       "      <td>449</td>\n",
       "    </tr>\n",
       "    <tr>\n",
       "      <th rowspan=\"6\" valign=\"top\">2018</th>\n",
       "      <th>Casado/a</th>\n",
       "      <td>3240</td>\n",
       "    </tr>\n",
       "    <tr>\n",
       "      <th>Não Informado</th>\n",
       "      <td>976</td>\n",
       "    </tr>\n",
       "    <tr>\n",
       "      <th>Separado/a judicialmente</th>\n",
       "      <td>933</td>\n",
       "    </tr>\n",
       "    <tr>\n",
       "      <th>Solteiro/a</th>\n",
       "      <td>6470</td>\n",
       "    </tr>\n",
       "    <tr>\n",
       "      <th>União consensual</th>\n",
       "      <td>705</td>\n",
       "    </tr>\n",
       "    <tr>\n",
       "      <th>Viúvo/a</th>\n",
       "      <td>440</td>\n",
       "    </tr>\n",
       "    <tr>\n",
       "      <th rowspan=\"6\" valign=\"top\">2019</th>\n",
       "      <th>Casado/a</th>\n",
       "      <td>3375</td>\n",
       "    </tr>\n",
       "    <tr>\n",
       "      <th>Não Informado</th>\n",
       "      <td>1046</td>\n",
       "    </tr>\n",
       "    <tr>\n",
       "      <th>Separado/a judicialmente</th>\n",
       "      <td>959</td>\n",
       "    </tr>\n",
       "    <tr>\n",
       "      <th>Solteiro/a</th>\n",
       "      <td>7000</td>\n",
       "    </tr>\n",
       "    <tr>\n",
       "      <th>União consensual</th>\n",
       "      <td>733</td>\n",
       "    </tr>\n",
       "    <tr>\n",
       "      <th>Viúvo/a</th>\n",
       "      <td>441</td>\n",
       "    </tr>\n",
       "  </tbody>\n",
       "</table>\n",
       "</div>"
      ],
      "text/plain": [
       "                                  0\n",
       "ano  ESTCIV                        \n",
       "2010 Casado/a                  2783\n",
       "     Não Informado              670\n",
       "     Separado/a judicialmente   613\n",
       "     Solteiro/a                4966\n",
       "     União consensual            35\n",
       "     Viúvo/a                    409\n",
       "2011 Casado/a                  2769\n",
       "     Não Informado              887\n",
       "     Separado/a judicialmente   614\n",
       "     Solteiro/a                4917\n",
       "     União consensual           318\n",
       "     Viúvo/a                    377\n",
       "2012 Casado/a                  2848\n",
       "     Não Informado              868\n",
       "     Separado/a judicialmente   702\n",
       "     Solteiro/a                5017\n",
       "     União consensual           521\n",
       "     Viúvo/a                    410\n",
       "2013 Casado/a                  2791\n",
       "     Não Informado              900\n",
       "     Separado/a judicialmente   737\n",
       "     Solteiro/a                5215\n",
       "     União consensual           529\n",
       "     Viúvo/a                    407\n",
       "2014 Casado/a                  2854\n",
       "     Não Informado              826\n",
       "     Separado/a judicialmente   717\n",
       "     Solteiro/a                5331\n",
       "     União consensual           542\n",
       "     Viúvo/a                    413\n",
       "2015 Casado/a                  2963\n",
       "     Não Informado              790\n",
       "     Separado/a judicialmente   755\n",
       "     Solteiro/a                5632\n",
       "     União consensual           604\n",
       "     Viúvo/a                    467\n",
       "2016 Casado/a                  3097\n",
       "     Não Informado              838\n",
       "     Separado/a judicialmente   810\n",
       "     Solteiro/a                5678\n",
       "     União consensual           629\n",
       "     Viúvo/a                    403\n",
       "2017 Casado/a                  3281\n",
       "     Não Informado              899\n",
       "     Separado/a judicialmente   931\n",
       "     Solteiro/a                6297\n",
       "     União consensual           664\n",
       "     Viúvo/a                    449\n",
       "2018 Casado/a                  3240\n",
       "     Não Informado              976\n",
       "     Separado/a judicialmente   933\n",
       "     Solteiro/a                6470\n",
       "     União consensual           705\n",
       "     Viúvo/a                    440\n",
       "2019 Casado/a                  3375\n",
       "     Não Informado             1046\n",
       "     Separado/a judicialmente   959\n",
       "     Solteiro/a                7000\n",
       "     União consensual           733\n",
       "     Viúvo/a                    441"
      ]
     },
     "execution_count": 99,
     "metadata": {},
     "output_type": "execute_result"
    }
   ],
   "source": [
    "df_estciv_ano"
   ]
  },
  {
   "cell_type": "code",
   "execution_count": 100,
   "id": "54690648",
   "metadata": {},
   "outputs": [],
   "source": [
    "df_estciv_ano.columns = ['size']"
   ]
  },
  {
   "cell_type": "code",
   "execution_count": 106,
   "id": "d0e9232c",
   "metadata": {},
   "outputs": [
    {
     "data": {
      "text/html": [
       "<div>\n",
       "<style scoped>\n",
       "    .dataframe tbody tr th:only-of-type {\n",
       "        vertical-align: middle;\n",
       "    }\n",
       "\n",
       "    .dataframe tbody tr th {\n",
       "        vertical-align: top;\n",
       "    }\n",
       "\n",
       "    .dataframe thead th {\n",
       "        text-align: right;\n",
       "    }\n",
       "</style>\n",
       "<table border=\"1\" class=\"dataframe\">\n",
       "  <thead>\n",
       "    <tr style=\"text-align: right;\">\n",
       "      <th></th>\n",
       "      <th></th>\n",
       "      <th>size</th>\n",
       "    </tr>\n",
       "    <tr>\n",
       "      <th>ano</th>\n",
       "      <th>ESTCIV</th>\n",
       "      <th></th>\n",
       "    </tr>\n",
       "  </thead>\n",
       "  <tbody>\n",
       "    <tr>\n",
       "      <th rowspan=\"6\" valign=\"top\">2010</th>\n",
       "      <th>Casado/a</th>\n",
       "      <td>2783</td>\n",
       "    </tr>\n",
       "    <tr>\n",
       "      <th>Não Informado</th>\n",
       "      <td>670</td>\n",
       "    </tr>\n",
       "    <tr>\n",
       "      <th>Separado/a judicialmente</th>\n",
       "      <td>613</td>\n",
       "    </tr>\n",
       "    <tr>\n",
       "      <th>Solteiro/a</th>\n",
       "      <td>4966</td>\n",
       "    </tr>\n",
       "    <tr>\n",
       "      <th>União consensual</th>\n",
       "      <td>35</td>\n",
       "    </tr>\n",
       "    <tr>\n",
       "      <th>Viúvo/a</th>\n",
       "      <td>409</td>\n",
       "    </tr>\n",
       "    <tr>\n",
       "      <th rowspan=\"6\" valign=\"top\">2011</th>\n",
       "      <th>Casado/a</th>\n",
       "      <td>2769</td>\n",
       "    </tr>\n",
       "    <tr>\n",
       "      <th>Não Informado</th>\n",
       "      <td>887</td>\n",
       "    </tr>\n",
       "    <tr>\n",
       "      <th>Separado/a judicialmente</th>\n",
       "      <td>614</td>\n",
       "    </tr>\n",
       "    <tr>\n",
       "      <th>Solteiro/a</th>\n",
       "      <td>4917</td>\n",
       "    </tr>\n",
       "    <tr>\n",
       "      <th>União consensual</th>\n",
       "      <td>318</td>\n",
       "    </tr>\n",
       "    <tr>\n",
       "      <th>Viúvo/a</th>\n",
       "      <td>377</td>\n",
       "    </tr>\n",
       "    <tr>\n",
       "      <th rowspan=\"6\" valign=\"top\">2012</th>\n",
       "      <th>Casado/a</th>\n",
       "      <td>2848</td>\n",
       "    </tr>\n",
       "    <tr>\n",
       "      <th>Não Informado</th>\n",
       "      <td>868</td>\n",
       "    </tr>\n",
       "    <tr>\n",
       "      <th>Separado/a judicialmente</th>\n",
       "      <td>702</td>\n",
       "    </tr>\n",
       "    <tr>\n",
       "      <th>Solteiro/a</th>\n",
       "      <td>5017</td>\n",
       "    </tr>\n",
       "    <tr>\n",
       "      <th>União consensual</th>\n",
       "      <td>521</td>\n",
       "    </tr>\n",
       "    <tr>\n",
       "      <th>Viúvo/a</th>\n",
       "      <td>410</td>\n",
       "    </tr>\n",
       "    <tr>\n",
       "      <th rowspan=\"6\" valign=\"top\">2013</th>\n",
       "      <th>Casado/a</th>\n",
       "      <td>2791</td>\n",
       "    </tr>\n",
       "    <tr>\n",
       "      <th>Não Informado</th>\n",
       "      <td>900</td>\n",
       "    </tr>\n",
       "    <tr>\n",
       "      <th>Separado/a judicialmente</th>\n",
       "      <td>737</td>\n",
       "    </tr>\n",
       "    <tr>\n",
       "      <th>Solteiro/a</th>\n",
       "      <td>5215</td>\n",
       "    </tr>\n",
       "    <tr>\n",
       "      <th>União consensual</th>\n",
       "      <td>529</td>\n",
       "    </tr>\n",
       "    <tr>\n",
       "      <th>Viúvo/a</th>\n",
       "      <td>407</td>\n",
       "    </tr>\n",
       "    <tr>\n",
       "      <th rowspan=\"6\" valign=\"top\">2014</th>\n",
       "      <th>Casado/a</th>\n",
       "      <td>2854</td>\n",
       "    </tr>\n",
       "    <tr>\n",
       "      <th>Não Informado</th>\n",
       "      <td>826</td>\n",
       "    </tr>\n",
       "    <tr>\n",
       "      <th>Separado/a judicialmente</th>\n",
       "      <td>717</td>\n",
       "    </tr>\n",
       "    <tr>\n",
       "      <th>Solteiro/a</th>\n",
       "      <td>5331</td>\n",
       "    </tr>\n",
       "    <tr>\n",
       "      <th>União consensual</th>\n",
       "      <td>542</td>\n",
       "    </tr>\n",
       "    <tr>\n",
       "      <th>Viúvo/a</th>\n",
       "      <td>413</td>\n",
       "    </tr>\n",
       "    <tr>\n",
       "      <th rowspan=\"6\" valign=\"top\">2015</th>\n",
       "      <th>Casado/a</th>\n",
       "      <td>2963</td>\n",
       "    </tr>\n",
       "    <tr>\n",
       "      <th>Não Informado</th>\n",
       "      <td>790</td>\n",
       "    </tr>\n",
       "    <tr>\n",
       "      <th>Separado/a judicialmente</th>\n",
       "      <td>755</td>\n",
       "    </tr>\n",
       "    <tr>\n",
       "      <th>Solteiro/a</th>\n",
       "      <td>5632</td>\n",
       "    </tr>\n",
       "    <tr>\n",
       "      <th>União consensual</th>\n",
       "      <td>604</td>\n",
       "    </tr>\n",
       "    <tr>\n",
       "      <th>Viúvo/a</th>\n",
       "      <td>467</td>\n",
       "    </tr>\n",
       "    <tr>\n",
       "      <th rowspan=\"6\" valign=\"top\">2016</th>\n",
       "      <th>Casado/a</th>\n",
       "      <td>3097</td>\n",
       "    </tr>\n",
       "    <tr>\n",
       "      <th>Não Informado</th>\n",
       "      <td>838</td>\n",
       "    </tr>\n",
       "    <tr>\n",
       "      <th>Separado/a judicialmente</th>\n",
       "      <td>810</td>\n",
       "    </tr>\n",
       "    <tr>\n",
       "      <th>Solteiro/a</th>\n",
       "      <td>5678</td>\n",
       "    </tr>\n",
       "    <tr>\n",
       "      <th>União consensual</th>\n",
       "      <td>629</td>\n",
       "    </tr>\n",
       "    <tr>\n",
       "      <th>Viúvo/a</th>\n",
       "      <td>403</td>\n",
       "    </tr>\n",
       "    <tr>\n",
       "      <th rowspan=\"6\" valign=\"top\">2017</th>\n",
       "      <th>Casado/a</th>\n",
       "      <td>3281</td>\n",
       "    </tr>\n",
       "    <tr>\n",
       "      <th>Não Informado</th>\n",
       "      <td>899</td>\n",
       "    </tr>\n",
       "    <tr>\n",
       "      <th>Separado/a judicialmente</th>\n",
       "      <td>931</td>\n",
       "    </tr>\n",
       "    <tr>\n",
       "      <th>Solteiro/a</th>\n",
       "      <td>6297</td>\n",
       "    </tr>\n",
       "    <tr>\n",
       "      <th>União consensual</th>\n",
       "      <td>664</td>\n",
       "    </tr>\n",
       "    <tr>\n",
       "      <th>Viúvo/a</th>\n",
       "      <td>449</td>\n",
       "    </tr>\n",
       "    <tr>\n",
       "      <th rowspan=\"6\" valign=\"top\">2018</th>\n",
       "      <th>Casado/a</th>\n",
       "      <td>3240</td>\n",
       "    </tr>\n",
       "    <tr>\n",
       "      <th>Não Informado</th>\n",
       "      <td>976</td>\n",
       "    </tr>\n",
       "    <tr>\n",
       "      <th>Separado/a judicialmente</th>\n",
       "      <td>933</td>\n",
       "    </tr>\n",
       "    <tr>\n",
       "      <th>Solteiro/a</th>\n",
       "      <td>6470</td>\n",
       "    </tr>\n",
       "    <tr>\n",
       "      <th>União consensual</th>\n",
       "      <td>705</td>\n",
       "    </tr>\n",
       "    <tr>\n",
       "      <th>Viúvo/a</th>\n",
       "      <td>440</td>\n",
       "    </tr>\n",
       "    <tr>\n",
       "      <th rowspan=\"6\" valign=\"top\">2019</th>\n",
       "      <th>Casado/a</th>\n",
       "      <td>3375</td>\n",
       "    </tr>\n",
       "    <tr>\n",
       "      <th>Não Informado</th>\n",
       "      <td>1046</td>\n",
       "    </tr>\n",
       "    <tr>\n",
       "      <th>Separado/a judicialmente</th>\n",
       "      <td>959</td>\n",
       "    </tr>\n",
       "    <tr>\n",
       "      <th>Solteiro/a</th>\n",
       "      <td>7000</td>\n",
       "    </tr>\n",
       "    <tr>\n",
       "      <th>União consensual</th>\n",
       "      <td>733</td>\n",
       "    </tr>\n",
       "    <tr>\n",
       "      <th>Viúvo/a</th>\n",
       "      <td>441</td>\n",
       "    </tr>\n",
       "  </tbody>\n",
       "</table>\n",
       "</div>"
      ],
      "text/plain": [
       "                               size\n",
       "ano  ESTCIV                        \n",
       "2010 Casado/a                  2783\n",
       "     Não Informado              670\n",
       "     Separado/a judicialmente   613\n",
       "     Solteiro/a                4966\n",
       "     União consensual            35\n",
       "     Viúvo/a                    409\n",
       "2011 Casado/a                  2769\n",
       "     Não Informado              887\n",
       "     Separado/a judicialmente   614\n",
       "     Solteiro/a                4917\n",
       "     União consensual           318\n",
       "     Viúvo/a                    377\n",
       "2012 Casado/a                  2848\n",
       "     Não Informado              868\n",
       "     Separado/a judicialmente   702\n",
       "     Solteiro/a                5017\n",
       "     União consensual           521\n",
       "     Viúvo/a                    410\n",
       "2013 Casado/a                  2791\n",
       "     Não Informado              900\n",
       "     Separado/a judicialmente   737\n",
       "     Solteiro/a                5215\n",
       "     União consensual           529\n",
       "     Viúvo/a                    407\n",
       "2014 Casado/a                  2854\n",
       "     Não Informado              826\n",
       "     Separado/a judicialmente   717\n",
       "     Solteiro/a                5331\n",
       "     União consensual           542\n",
       "     Viúvo/a                    413\n",
       "2015 Casado/a                  2963\n",
       "     Não Informado              790\n",
       "     Separado/a judicialmente   755\n",
       "     Solteiro/a                5632\n",
       "     União consensual           604\n",
       "     Viúvo/a                    467\n",
       "2016 Casado/a                  3097\n",
       "     Não Informado              838\n",
       "     Separado/a judicialmente   810\n",
       "     Solteiro/a                5678\n",
       "     União consensual           629\n",
       "     Viúvo/a                    403\n",
       "2017 Casado/a                  3281\n",
       "     Não Informado              899\n",
       "     Separado/a judicialmente   931\n",
       "     Solteiro/a                6297\n",
       "     União consensual           664\n",
       "     Viúvo/a                    449\n",
       "2018 Casado/a                  3240\n",
       "     Não Informado              976\n",
       "     Separado/a judicialmente   933\n",
       "     Solteiro/a                6470\n",
       "     União consensual           705\n",
       "     Viúvo/a                    440\n",
       "2019 Casado/a                  3375\n",
       "     Não Informado             1046\n",
       "     Separado/a judicialmente   959\n",
       "     Solteiro/a                7000\n",
       "     União consensual           733\n",
       "     Viúvo/a                    441"
      ]
     },
     "execution_count": 106,
     "metadata": {},
     "output_type": "execute_result"
    }
   ],
   "source": [
    "df_estciv_ano"
   ]
  },
  {
   "cell_type": "code",
   "execution_count": 101,
   "id": "995c4e1f",
   "metadata": {},
   "outputs": [],
   "source": [
    "df_estciv.columns = ['estciv', 'size']"
   ]
  },
  {
   "cell_type": "code",
   "execution_count": 102,
   "id": "e13c3619",
   "metadata": {},
   "outputs": [],
   "source": [
    "df_estciv.sort_values(by='size',ascending=False, inplace=True)"
   ]
  },
  {
   "cell_type": "code",
   "execution_count": 103,
   "id": "b70bab50",
   "metadata": {},
   "outputs": [
    {
     "data": {
      "text/plain": [
       "50.24668640157879"
      ]
     },
     "execution_count": 103,
     "metadata": {},
     "output_type": "execute_result"
    }
   ],
   "source": [
    "df_estciv['size'][3]*100/df_estciv['size'].sum() #%"
   ]
  },
  {
   "cell_type": "code",
   "execution_count": 104,
   "id": "d691c437",
   "metadata": {},
   "outputs": [
    {
     "data": {
      "text/plain": [
       "3                  Solteiro/a\n",
       "0                    Casado/a\n",
       "1               Não Informado\n",
       "2    Separado/a judicialmente\n",
       "4            União consensual\n",
       "5                     Viúvo/a\n",
       "Name: estciv, dtype: object"
      ]
     },
     "execution_count": 104,
     "metadata": {},
     "output_type": "execute_result"
    }
   ],
   "source": [
    "df_estciv['estciv']"
   ]
  },
  {
   "cell_type": "code",
   "execution_count": 105,
   "id": "97bccc2e",
   "metadata": {},
   "outputs": [
    {
     "data": {
      "image/png": "[encoded data removed]"
     },
     "metadata": {},
     "output_type": "display_data"
    }
   ],
   "source": [
    "fig = px.bar(df_estciv, x=\"size\",y=\"estciv\",\n",
    "             color='estciv',\n",
    "             title='Número de suicídio por estado civil no período de 2010 a 2019',\n",
    "             color_discrete_sequence=['#7B241C','#C0392B','#CD6155','#D98880','#E6B0AA','#FADBD8'],\n",
    "             height=600,\n",
    "             width=1000,\n",
    "             text='estciv',\n",
    "             template='ggplot2')\n",
    "fig.update_traces( textposition='outside',textfont_size=20)\n",
    "fig.update_yaxes(showticklabels=False)\n",
    "fig.update_layout(xaxis_range=[0,65000],\n",
    "                  xaxis_title='Suicídios',\n",
    "                  yaxis_title='Estado Civil',\n",
    "                  title={\n",
    "                  'text': \"<b>Número de suicídio por estado civil no período de 2010 a 2019</b><br><sup>Os solteiros cometem mais suicídio que os casados</sup>\",\n",
    "                  'xanchor': 'auto',\n",
    "                  'yanchor': 'top'},\n",
    "                  title_font_family=\"monospace\",\n",
    "                  title_font_size=20)\n",
    "fig.show(\"png\")"
   ]
  },
  {
   "cell_type": "markdown",
   "id": "43d6eb48",
   "metadata": {},
   "source": [
    "# Faixa etária"
   ]
  },
  {
   "cell_type": "code",
   "execution_count": null,
   "id": "41643f12",
   "metadata": {},
   "outputs": [],
   "source": [
    "df_idade = df.dropna(subset = ['DTNASC'])"
   ]
  },
  {
   "cell_type": "code",
   "execution_count": null,
   "id": "fcec17e7",
   "metadata": {},
   "outputs": [],
   "source": [
    "df_idade.dtypes"
   ]
  },
  {
   "cell_type": "code",
   "execution_count": null,
   "id": "67b73d6d",
   "metadata": {},
   "outputs": [],
   "source": [
    "fig = px.box(df, y=df['ano_nasc'].astype(float),title='Outliers')\n",
    "fig.show(\"png\")"
   ]
  },
  {
   "cell_type": "code",
   "execution_count": null,
   "id": "125596be",
   "metadata": {},
   "outputs": [],
   "source": [
    "df_idade = df[df['ano_nasc'].astype(float).between(1925, 2019)]"
   ]
  },
  {
   "cell_type": "code",
   "execution_count": null,
   "id": "20353c6c",
   "metadata": {},
   "outputs": [],
   "source": [
    "df_idade['idade'] = ((df_idade.DTOBITO - df_idade.DTNASC)/np.timedelta64(1, 'Y')).astype('int')"
   ]
  },
  {
   "cell_type": "code",
   "execution_count": null,
   "id": "75e0c45d",
   "metadata": {},
   "outputs": [],
   "source": [
    "bins= [0,10,20,30,40,50,60,70,80,90,110]\n",
    "labels = ['0-10','10-20','20-30','30-40','40-50','50-60','60-70','70-80','80-90','90-110']"
   ]
  },
  {
   "cell_type": "code",
   "execution_count": null,
   "id": "cfc476b0",
   "metadata": {},
   "outputs": [],
   "source": [
    "df_idade['grupos'] = pd.cut(df_idade['idade'], bins=bins, labels=labels, right=False)"
   ]
  },
  {
   "cell_type": "code",
   "execution_count": null,
   "id": "38b337cf",
   "metadata": {},
   "outputs": [],
   "source": [
    "df_idade['idade'].median()"
   ]
  },
  {
   "cell_type": "code",
   "execution_count": null,
   "id": "fb1dcd54",
   "metadata": {},
   "outputs": [],
   "source": [
    "df_idade['idade'].mean()"
   ]
  },
  {
   "cell_type": "code",
   "execution_count": null,
   "id": "3c347035",
   "metadata": {},
   "outputs": [],
   "source": [
    "df_idade_gp = df_idade.groupby('grupos').agg('size').reset_index()"
   ]
  },
  {
   "cell_type": "code",
   "execution_count": null,
   "id": "08047ecd",
   "metadata": {},
   "outputs": [],
   "source": [
    "df_idade_gp.columns = ['grupos','size']"
   ]
  },
  {
   "cell_type": "code",
   "execution_count": null,
   "id": "f46ce88b",
   "metadata": {},
   "outputs": [],
   "source": [
    "df_idade_gp['size'][2:4].sum() *100/df_idade_gp['size'].sum()#%"
   ]
  },
  {
   "cell_type": "code",
   "execution_count": null,
   "id": "282c0df5",
   "metadata": {},
   "outputs": [],
   "source": [
    "df_idade"
   ]
  },
  {
   "cell_type": "code",
   "execution_count": null,
   "id": "3ad9c62b",
   "metadata": {},
   "outputs": [],
   "source": [
    "df_idade_gp"
   ]
  },
  {
   "cell_type": "code",
   "execution_count": null,
   "id": "c5b9ec7c",
   "metadata": {
    "scrolled": false
   },
   "outputs": [],
   "source": [
    "color_map = ['#EAECEE' for _ in range(9)]\n",
    "color_map[3] = color_map[2] = '#A93226' \n",
    "\n",
    "fig, ax = plt.subplots(1,1, figsize=(12, 10),dpi=600)\n",
    "ax.bar(df_idade_gp['grupos'], df_idade_gp['size'], width=0.7, \n",
    "       edgecolor='darkgray',\n",
    "       linewidth=0.6,color=color_map)\n",
    "\n",
    "\n",
    "# anotações\n",
    "for i in range(0,len(df_idade_gp['grupos'])):\n",
    "    ax.annotate(f\"{df_idade_gp['size'][i]}\", \n",
    "                   xy=(i, df_idade_gp['size'][i] + 3),\n",
    "                   va = 'bottom', ha='center',fontweight='light', fontfamily='serif')\n",
    "for s in ['top', 'left', 'right']:\n",
    "    ax.spines[s].set_visible(False)\n",
    "    \n",
    "ax.set_xticklabels(df_idade_gp['grupos'], fontfamily='serif', rotation=0)\n",
    "\n",
    "# titulos \n",
    "\n",
    "fig.text(0.09, 1, 'Suicídio no Brasil por faixa etária no período de 2010 a 2019', fontsize=16, fontweight='bold', fontfamily='monospace')\n",
    "fig.text(0.09, 0.95, 'As faixas etárias que mais cometem suicídio estão destacadas', fontsize=12, fontweight='light', fontfamily='monospace')\n",
    "\n",
    "\n",
    "ax.grid(axis='y', linestyle='-', alpha=0.4) \n",
    "ax.set_axisbelow(True)\n",
    "\n",
    "#Axis labels\n",
    "\n",
    "plt.xlabel(\"Faixa Etária\", fontsize=12, fontweight='light', fontfamily='serif',loc='center',y=-2)\n"
   ]
  },
  {
   "cell_type": "markdown",
   "id": "29615faf",
   "metadata": {},
   "source": [
    "# Local da Ocorrência"
   ]
  },
  {
   "cell_type": "code",
   "execution_count": null,
   "id": "972cc975",
   "metadata": {},
   "outputs": [],
   "source": [
    "df['LOCOCOR'].fillna('Não Informado', inplace=True)"
   ]
  },
  {
   "cell_type": "code",
   "execution_count": null,
   "id": "396b26e8",
   "metadata": {},
   "outputs": [],
   "source": [
    "df['LOCOCOR'].unique()"
   ]
  },
  {
   "cell_type": "code",
   "execution_count": null,
   "id": "f80a53db",
   "metadata": {},
   "outputs": [],
   "source": [
    "df['LOCOCOR'].replace('Outro estabelecimento de saúde','Departamentos de Saúde', inplace=True)\n",
    "df['LOCOCOR'].replace('Hospital','Departamentos de Saúde', inplace=True)"
   ]
  },
  {
   "cell_type": "code",
   "execution_count": null,
   "id": "6d299935",
   "metadata": {},
   "outputs": [],
   "source": [
    "df['LOCOCOR'].unique()"
   ]
  },
  {
   "cell_type": "code",
   "execution_count": null,
   "id": "ba9e38f9",
   "metadata": {},
   "outputs": [],
   "source": [
    "df_lococor = df.groupby('LOCOCOR').agg('size').reset_index()"
   ]
  },
  {
   "cell_type": "code",
   "execution_count": null,
   "id": "168ff855",
   "metadata": {},
   "outputs": [],
   "source": [
    "df_lococor"
   ]
  },
  {
   "cell_type": "code",
   "execution_count": null,
   "id": "0f1bf4cd",
   "metadata": {},
   "outputs": [],
   "source": [
    "df_lococor.columns = ['lococor','size']"
   ]
  },
  {
   "cell_type": "code",
   "execution_count": null,
   "id": "e6c4595a",
   "metadata": {},
   "outputs": [],
   "source": [
    "df_lococor.sort_values(by='size',ascending=False,inplace=True)"
   ]
  },
  {
   "cell_type": "code",
   "execution_count": null,
   "id": "d3b4e0b0",
   "metadata": {},
   "outputs": [],
   "source": [
    "df_lococor.reset_index(drop=True, inplace=True)"
   ]
  },
  {
   "cell_type": "code",
   "execution_count": null,
   "id": "23cd61e7",
   "metadata": {
    "scrolled": false
   },
   "outputs": [],
   "source": [
    "(df_lococor['size'][0]/df_lococor['size'].sum())*100"
   ]
  },
  {
   "cell_type": "code",
   "execution_count": null,
   "id": "66298713",
   "metadata": {},
   "outputs": [],
   "source": [
    "(df_lococor['size'][1]/df_lococor['size'].sum())*100"
   ]
  },
  {
   "cell_type": "code",
   "execution_count": null,
   "id": "b894e3ff",
   "metadata": {},
   "outputs": [],
   "source": [
    "df_lococor['size'][0] -df_lococor['size'][1]"
   ]
  },
  {
   "cell_type": "code",
   "execution_count": null,
   "id": "ebc03e0a",
   "metadata": {},
   "outputs": [],
   "source": [
    "fig = px.bar(df_lococor, y=\"size\", x=\"lococor\",\n",
    "             color='lococor',\n",
    "             color_discrete_sequence=['#7B241C','#C0392B','#CD6155','#D98880','#F2D7D5'],\n",
    "             height=600,\n",
    "             width=1000,\n",
    "             text = 'size',\n",
    "             template='ggplot2')\n",
    "fig.update_layout(yaxis_title='Número de Suicídios',\n",
    "                  xaxis_title='Local da ocorrência',\n",
    "                  title={\n",
    "                  'text': \"<b>Locais onde ocerram os suicídios no período de 2010 a 2019</b><br><sup>Domicílio é o principal local</sup>\",\n",
    "                  'xanchor': 'auto',\n",
    "                  'yanchor': 'top'},\n",
    "                  title_font_family=\"monospace\",\n",
    "                  title_font_size=25)\n",
    "fig.update_traces(texttemplate='%{text:.2s}', textposition='inside')\n",
    "fig.update_layout(uniformtext_minsize=40, uniformtext_mode='hide')\n",
    "fig.add_annotation( x='Departamentos de Saúde', \n",
    "                    y=65000,\n",
    "                    text=\"\",\n",
    "                    showarrow=True,\n",
    "                    arrowhead=2,\n",
    "                    arrowsize = 2,\n",
    "                    arrowcolor = 'black',\n",
    "                    ax = 'Departamentos de Saúde',\n",
    "                    ay = 20000,\n",
    "                    axref=\"x\",\n",
    "                    ayref='y',)\n",
    "fig.add_annotation( x='Outros',\n",
    "                    y=40000,\n",
    "                    text=\"Diferença de 48909 casos\",\n",
    "                    showarrow=True,\n",
    "                    font=dict(\n",
    "                    family=\"Courier New, monospace\",\n",
    "                    size=16,\n",
    "                    color=\"#ffffff\"),\n",
    "                    align=\"center\",\n",
    "                    bordercolor=\"#c7c7c7\",\n",
    "                    borderwidth=2,\n",
    "                    borderpad=4,\n",
    "                    bgcolor=\"grey\")\n",
    "fig.show(\"png\")"
   ]
  },
  {
   "cell_type": "markdown",
   "id": "2448f762",
   "metadata": {},
   "source": [
    "# Escolaridade"
   ]
  },
  {
   "cell_type": "code",
   "execution_count": null,
   "id": "6efa595e",
   "metadata": {},
   "outputs": [],
   "source": [
    "df_esc = df.groupby('ESC').agg('size').reset_index()"
   ]
  },
  {
   "cell_type": "code",
   "execution_count": null,
   "id": "da748081",
   "metadata": {},
   "outputs": [],
   "source": [
    "df_esc"
   ]
  },
  {
   "cell_type": "code",
   "execution_count": null,
   "id": "b2e065ad",
   "metadata": {},
   "outputs": [],
   "source": [
    "df_esc.columns = ['Escolaridade', 'size']"
   ]
  },
  {
   "cell_type": "code",
   "execution_count": null,
   "id": "42af9d38",
   "metadata": {},
   "outputs": [],
   "source": [
    "df_esc.sort_values(by=['Escolaridade'], ascending=True)"
   ]
  },
  {
   "cell_type": "code",
   "execution_count": null,
   "id": "0e47aeb3",
   "metadata": {},
   "outputs": [],
   "source": [
    "df2 = pd.DataFrame({\n",
    "    'Escolaridade': ['1 a 3 anos', '4 a 7 anos', '8 a 11 anos', '12 e mais', 'Nenhuma'],\n",
    "    'num': [0, 1, 2, 3, 4]})"
   ]
  },
  {
   "cell_type": "code",
   "execution_count": null,
   "id": "1f9b3578",
   "metadata": {},
   "outputs": [],
   "source": [
    "df_esc = pd.merge(df_esc, df2, on='Escolaridade')"
   ]
  },
  {
   "cell_type": "code",
   "execution_count": null,
   "id": "bbe37438",
   "metadata": {},
   "outputs": [],
   "source": [
    "df_esc.sort_values(by='num', ascending=True,inplace=True)"
   ]
  },
  {
   "cell_type": "code",
   "execution_count": null,
   "id": "73670108",
   "metadata": {},
   "outputs": [],
   "source": [
    "df_esc.reset_index(drop=True,inplace=True)"
   ]
  },
  {
   "cell_type": "code",
   "execution_count": null,
   "id": "a97aab63",
   "metadata": {},
   "outputs": [],
   "source": [
    "color_map = ['#EAECEE' for _ in range(9)]\n",
    "color_map[2] = color_map[1] = '#A93226' \n",
    "\n",
    "fig, ax = plt.subplots(1,1, figsize=(12, 10),dpi=600)\n",
    "ax.bar(df_esc['Escolaridade'], df_esc['size'], width=0.7, \n",
    "       edgecolor='darkgray',\n",
    "       linewidth=0.6,color=color_map)\n",
    "\n",
    "\n",
    "#anotações\n",
    "for i in df_esc['Escolaridade'].index:\n",
    "    ax.annotate(f\"{df_esc['size'][i]}\", \n",
    "                   xy=(i, df_esc['size'][i] + 3),\n",
    "                   va = 'bottom', ha='center',fontweight='light', fontfamily='serif')\n",
    "for s in ['top', 'left', 'right']:\n",
    "    ax.spines[s].set_visible(False)\n",
    "    \n",
    "ax.set_xticklabels(df_esc['Escolaridade'], fontfamily='serif', rotation=0)\n",
    "\n",
    "# Titulos\n",
    "\n",
    "fig.text(0.09, 1, 'Nível de escolaridade X Número de suicídios', fontsize=16, fontweight='bold', fontfamily='monospace')\n",
    "fig.text(0.09, 0.96, '1 a 3 anos : Fundamental 1 incompleto', fontsize=12, fontweight='light', fontfamily='monospace')\n",
    "fig.text(0.09, 0.94, '4 a 7 anos : Fundamental 1 completo / Fundamental 2 incompleto', fontsize=12, fontweight='light', fontfamily='monospace')\n",
    "fig.text(0.09, 0.92, '8 a 11 anos :  Ensino médio completo ou incompleto', fontsize=12, fontweight='light', fontfamily='monospace')\n",
    "fig.text(0.09, 0.90, '12 e mais : Ensino superior completo ou incompleto', fontsize=12, fontweight='light', fontfamily='monospace')\n",
    "ax.grid(axis='y', linestyle='-', alpha=0.4) \n",
    "ax.set_axisbelow(True)\n",
    "\n",
    "#Axis labels\n",
    "\n",
    "plt.xlabel(\"Escolaridade\", fontsize=12, fontweight='light', fontfamily='serif',loc='center',y=-2)\n"
   ]
  },
  {
   "cell_type": "markdown",
   "id": "c348c13a",
   "metadata": {},
   "source": [
    "# Ocupação / Profissão "
   ]
  },
  {
   "cell_type": "code",
   "execution_count": null,
   "id": "80479a46",
   "metadata": {},
   "outputs": [],
   "source": [
    "df_ocup = df.groupby(['SEXO','OCUP']).agg('size').reset_index()\n",
    "df_ocup_total = df.groupby('OCUP').agg('size').reset_index()"
   ]
  },
  {
   "cell_type": "code",
   "execution_count": null,
   "id": "6931a553",
   "metadata": {},
   "outputs": [],
   "source": [
    "df_ocup_ano = df.groupby(['ano','SEXO','OCUP']).agg('size')"
   ]
  },
  {
   "cell_type": "code",
   "execution_count": null,
   "id": "0337d904",
   "metadata": {},
   "outputs": [],
   "source": [
    "df_ocup_ano"
   ]
  },
  {
   "cell_type": "code",
   "execution_count": null,
   "id": "2f2c3dff",
   "metadata": {},
   "outputs": [],
   "source": [
    "df_ocup.columns = ['SEXO','ocupacao', 'size']\n",
    "df_ocup_total.columns = ['ocupacao', 'size']"
   ]
  },
  {
   "cell_type": "code",
   "execution_count": null,
   "id": "79eaaed3",
   "metadata": {},
   "outputs": [],
   "source": [
    "df_ocup_total.sort_values(by='size',ascending= False)[:3]"
   ]
  },
  {
   "cell_type": "code",
   "execution_count": null,
   "id": "79824e9d",
   "metadata": {},
   "outputs": [],
   "source": [
    "df_ocup_masc = df_ocup[df_ocup['SEXO']=='Masculino']\n",
    "df_ocup_fem = df_ocup[df_ocup['SEXO']=='Feminino']"
   ]
  },
  {
   "cell_type": "code",
   "execution_count": null,
   "id": "a1798c41",
   "metadata": {},
   "outputs": [],
   "source": [
    "df_ocup_fem = df_ocup_fem.sort_values(by='size',ascending= False)[:3]"
   ]
  },
  {
   "cell_type": "code",
   "execution_count": null,
   "id": "f4acb763",
   "metadata": {},
   "outputs": [],
   "source": [
    "df_ocup_masc = df_ocup_masc.sort_values(by='size',ascending= False)[:3]"
   ]
  },
  {
   "cell_type": "code",
   "execution_count": null,
   "id": "4130a477",
   "metadata": {},
   "outputs": [],
   "source": [
    "df_ocup_masc.reset_index(drop=True,inplace=True)\n",
    "df_ocup_fem.reset_index(drop=True,inplace=True)"
   ]
  },
  {
   "cell_type": "code",
   "execution_count": null,
   "id": "6a60e1b4",
   "metadata": {},
   "outputs": [],
   "source": [
    "list_ocup_masc = []\n",
    "list_ocup_fem = []\n",
    "label_masc = []\n",
    "label_fem = []\n",
    "for i in range(0,3):\n",
    "    list_ocup_masc.append(df_ocup_masc['size'][i])\n",
    "    list_ocup_fem.append(df_ocup_fem['size'][i])\n",
    "    label_masc.append(df_ocup_masc['ocupacao'][i])\n",
    "    label_fem.append(df_ocup_fem['ocupacao'][i])"
   ]
  },
  {
   "cell_type": "code",
   "execution_count": null,
   "id": "c7131d27",
   "metadata": {},
   "outputs": [],
   "source": [
    "# Masculino \n",
    "make_text(1,\n",
    "          3,\n",
    "          2,\n",
    "          list_ocup_masc,\n",
    "          label_masc,\n",
    "          figsize = (20,2), \n",
    "          title2 = 'Ocupação das vítimas do sexo Masculino',\n",
    "          font_title = 40)"
   ]
  },
  {
   "cell_type": "code",
   "execution_count": null,
   "id": "c53c24e5",
   "metadata": {},
   "outputs": [],
   "source": [
    "# Feminino\n",
    "make_text(1,\n",
    "          3,\n",
    "          2,\n",
    "          list_ocup_fem,\n",
    "          label_fem,\n",
    "          figsize = (20,2), \n",
    "          title2 = 'Ocupação das vítimas do sexo Feminino',\n",
    "          font_title = 40)"
   ]
  },
  {
   "cell_type": "markdown",
   "id": "36569226",
   "metadata": {},
   "source": [
    "# Perfil das vítimas"
   ]
  },
  {
   "cell_type": "code",
   "execution_count": null,
   "id": "3a1e3355",
   "metadata": {},
   "outputs": [],
   "source": [
    "df_masc = df_idade[df_idade['SEXO']=='Masculino']\n",
    "df_masc =df_masc.groupby(['SEXO','RACACOR','ESTCIV','ESC','grupos']).size().to_frame().reset_index()\n",
    "df_masc.columns = ['SEXO','RACACOR', 'ESTCIV', 'ESC','grupo/idade','total vitimas']"
   ]
  },
  {
   "cell_type": "code",
   "execution_count": null,
   "id": "0e3a1463",
   "metadata": {},
   "outputs": [],
   "source": [
    "df_fem = df_idade[df_idade['SEXO']=='Feminino']\n",
    "df_fem =df_fem.groupby(['SEXO','RACACOR','ESTCIV','ESC','grupos']).size().to_frame().reset_index()\n",
    "df_fem.columns = ['SEXO','RACACOR', 'ESTCIV', 'ESC','grupo/idade','total vitimas']"
   ]
  },
  {
   "cell_type": "code",
   "execution_count": null,
   "id": "8db5f7f1",
   "metadata": {},
   "outputs": [],
   "source": [
    "df_masc = df_masc.sort_values('total vitimas', ascending = False).reset_index(drop=True)\n",
    "df_fem = df_fem.sort_values('total vitimas', ascending = False).reset_index(drop=True)"
   ]
  },
  {
   "cell_type": "code",
   "execution_count": null,
   "id": "f4b18396",
   "metadata": {},
   "outputs": [],
   "source": [
    "df_masc.loc[1][0]"
   ]
  },
  {
   "cell_type": "code",
   "execution_count": null,
   "id": "c8916290",
   "metadata": {},
   "outputs": [],
   "source": [
    "df_fem.head(5)"
   ]
  },
  {
   "cell_type": "code",
   "execution_count": null,
   "id": "716dc6e2",
   "metadata": {},
   "outputs": [],
   "source": [
    "list_perfil_masc = []\n",
    "label_perfil_masc = []\n",
    "\n",
    "for i in range(0,5):\n",
    "    list_perfil_masc.append(f'{df_masc[\"total vitimas\"][i]} vitimas')\n",
    "    label_perfil_masc.append(f'{i+1}°- {df_masc.loc[i][0]} , {df_masc.loc[i][1]} , {df_masc.loc[i][2]} ,Escolaridade: {df_masc.loc[i][3]} ,Entre {df_masc.loc[i][4]} Anos')\n",
    "make_text(5,\n",
    "          1,\n",
    "          10,\n",
    "          label_perfil_masc,\n",
    "          label =  list_perfil_masc,\n",
    "          font1_size = 15,\n",
    "          font2_size = 15,\n",
    "          ha = 'left',\n",
    "          font1_color = '#5F6A6A',\n",
    "          font2_color = '#A93226',\n",
    "          font1_weight = 'heavy',\n",
    "          font2_weight = 'bold',\n",
    "          title1 = \"Perfil das vítimas do sexo masculino\",\n",
    "          loc= 'center',\n",
    "          a = 0,\n",
    "          c = 0,\n",
    "          figsize = (12, 5))"
   ]
  },
  {
   "cell_type": "code",
   "execution_count": null,
   "id": "c9871bc2",
   "metadata": {},
   "outputs": [],
   "source": [
    "list_perfil_fem = []\n",
    "label_perfil_fem = []\n",
    "\n",
    "for i in range(0,5):\n",
    "    list_perfil_fem.append(f'{df_fem[\"total vitimas\"][i]} vitimas')\n",
    "    label_perfil_fem.append(f'{i+1}°- {df_fem.loc[i][0]} , {df_fem.loc[i][1]} , {df_fem.loc[i][2]} ,Escolaridade: {df_fem.loc[i][3]} ,Entre {df_fem.loc[i][4]} Anos')\n",
    "make_text(5,\n",
    "          1,\n",
    "          10,\n",
    "          label_perfil_fem,\n",
    "          label =  list_perfil_fem,\n",
    "          font1_size = 15,\n",
    "          font2_size = 15,\n",
    "          ha = 'left',\n",
    "          font1_color = '#5F6A6A',\n",
    "          font2_color = '#A93226',\n",
    "          font1_weight = 'heavy',\n",
    "          font2_weight = 'bold',\n",
    "          title1 = \"Perfil das vítimas do sexo feminino\",\n",
    "          loc= 'center',\n",
    "          a = 0,\n",
    "          c = 0,\n",
    "          figsize = (12, 5))"
   ]
  },
  {
   "cell_type": "markdown",
   "id": "6ed34684",
   "metadata": {},
   "source": [
    "# Setembro Amarelo"
   ]
  },
  {
   "cell_type": "code",
   "execution_count": null,
   "id": "f1356b85",
   "metadata": {},
   "outputs": [],
   "source": [
    "setembro_mask = np.array(Image.open(\"mask.png\")) # máscara\n",
    "\n",
    "stopwords = set(STOPWORDS) # stop words\n",
    "stopwords.update([\"DA\", \"DE\", \"EM\", \"DE\", \"NO\", \"AO\", \"NOS\"])\n",
    "\n",
    "ocup = df.dropna(subset=['OCUP'], axis=0)['OCUP'] #retirar Nan values\n",
    "all_ocup = \" \".join(s for s in ocup) # juntar palavras\n",
    "wordcloud = WordCloud(stopwords=stopwords,\n",
    "                      background_color=\"white\",\n",
    "                      width=1000, height=1000, max_words=200,\n",
    "                      mask=setembro_mask, max_font_size=200,\n",
    "                      relative_scaling =0,\n",
    "                      colormap=\"autumn\"\n",
    "                     ).generate(all_ocup)\n",
    "\n",
    "\n",
    "fig, ax = plt.subplots(figsize=(20,15))\n",
    "ax.imshow(wordcloud, interpolation='bilinear')\n",
    "ax.set_axis_off()"
   ]
  }
 ],
 "metadata": {
  "kernelspec": {
   "display_name": "Python 3 (ipykernel)",
   "language": "python",
   "name": "python3"
  },
  "language_info": {
   "codemirror_mode": {
    "name": "ipython",
    "version": 3
   },
   "file_extension": ".py",
   "mimetype": "text/x-python",
   "name": "python",
   "nbconvert_exporter": "python",
   "pygments_lexer": "ipython3",
   "version": "3.9.7"
  }
 },
 "nbformat": 4,
 "nbformat_minor": 5
}
